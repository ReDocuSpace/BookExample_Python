{
 "cells": [
  {
   "cell_type": "code",
   "execution_count": 3,
   "metadata": {},
   "outputs": [
    {
     "ename": "SyntaxError",
     "evalue": "invalid syntax (903079800.py, line 22)",
     "output_type": "error",
     "traceback": [
      "\u001b[1;36m  Cell \u001b[1;32mIn[3], line 22\u001b[1;36m\u001b[0m\n\u001b[1;33m    numpy.var(a, axis=None, dtype=None, out=None, ddof=0, keepdims=<no value>, *, where=<no value>)[source]\u001b[0m\n\u001b[1;37m                                                                   ^\u001b[0m\n\u001b[1;31mSyntaxError\u001b[0m\u001b[1;31m:\u001b[0m invalid syntax\n"
     ]
    }
   ],
   "source": [
    "import pandas as pd\n",
    "import numpy as np\n",
    "import seaborn as sns\n",
    "import matplotlib.pyplot as plt\n",
    "\n",
    "mbti_dataset = pd.read_csv('csv/mbti.csv')\n",
    "mbti_dataset\n",
    "\n",
    "def var_row(row) :\n",
    "    l = []\n",
    "    for i in row.split(\"|||\") :     # 50개 항목의 섹션(각 항목은 \"|||\"(파이프 문자 3개)로 구분됨)\n",
    "        l.append(len(i.split()))\n",
    "    return np.var(l)\n",
    "    # numpy.var(a, axis=None, dtype=None, out=None, ddof=0, keepdims=<no value>, *, where=<no value>)[source]\n",
    "    # 지정된 축을 따라 분산을 계산\n",
    "\n",
    "# 열 생성\n",
    "mbti_dataset['words_per_comment'] = mbti_dataset['posts'].apply(lambda x : len(x.split())/50)  # 왜 50으로 나눌까 아 적은 포스트가 50개!\n",
    "mbti_dataset['variance_of_word_counts'] = mbti_dataset['posts'].apply(lambda x : var_row(x))   # 분산!\n",
    "mbti_dataset.head()\n",
    "\n"
   ]
  },
  {
   "cell_type": "code",
   "execution_count": null,
   "metadata": {},
   "outputs": [],
   "source": []
  }
 ],
 "metadata": {
  "kernelspec": {
   "display_name": "base",
   "language": "python",
   "name": "python3"
  },
  "language_info": {
   "codemirror_mode": {
    "name": "ipython",
    "version": 3
   },
   "file_extension": ".py",
   "mimetype": "text/x-python",
   "name": "python",
   "nbconvert_exporter": "python",
   "pygments_lexer": "ipython3",
   "version": "3.11.5"
  }
 },
 "nbformat": 4,
 "nbformat_minor": 2
}
