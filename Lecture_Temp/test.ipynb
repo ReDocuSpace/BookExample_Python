{
 "cells": [
  {
   "cell_type": "code",
   "execution_count": 2,
   "metadata": {},
   "outputs": [
    {
     "name": "stdout",
     "output_type": "stream",
     "text": [
      "<class 'pandas.core.frame.DataFrame'>\n",
      "RangeIndex: 1623 entries, 0 to 1622\n",
      "Data columns (total 16 columns):\n",
      " #   Column              Non-Null Count  Dtype  \n",
      "---  ------              --------------  -----  \n",
      " 0   ESNTL_ID            1623 non-null   object \n",
      " 1   WLK_COURS_FLAG_NM   1623 non-null   object \n",
      " 2   WLK_COURS_NM        1623 non-null   object \n",
      " 3   COURS_DC            1623 non-null   object \n",
      " 4   SIGNGU_NM           1623 non-null   object \n",
      " 5   COURS_LEVEL_NM      1623 non-null   object \n",
      " 6   COURS_LT_CN         1623 non-null   object \n",
      " 7   COURS_DETAIL_LT_CN  1619 non-null   object \n",
      " 8   ADIT_DC             1613 non-null   object \n",
      " 9   COURS_TIME_CN       1596 non-null   object \n",
      " 10  OPTN_DC             1358 non-null   object \n",
      " 11  TOILET_DC           1472 non-null   object \n",
      " 12  CVNTL_NM            1370 non-null   object \n",
      " 13  LNM_ADDR            1623 non-null   object \n",
      " 14  COURS_SPOT_LA       1623 non-null   float64\n",
      " 15  COURS_SPOT_LO       1623 non-null   float64\n",
      "dtypes: float64(2), object(14)\n",
      "memory usage: 203.0+ KB\n"
     ]
    }
   ],
   "source": [
    "import pandas as pd\n",
    "\n",
    "df = pd.read_csv('KC_CFR_WLK_STRET_INFO_2021.csv')\n",
    "\n",
    "df.info()\n"
   ]
  },
  {
   "cell_type": "code",
   "execution_count": null,
   "metadata": {},
   "outputs": [],
   "source": [
    "import folium\n",
    "\n",
    "lat = df['COURS_SPOT_LA'].mean()\n",
    "long = df['COURS_SPOT_LO'].mean()\n",
    "\n",
    "# map 객체 생성\n",
    "m = folium.Map([lat, long], zoom_start=12)\n",
    "\n",
    "# map에 marker를 추가\n",
    "df4_sample = df.sample(100)\n",
    "\n",
    "for i in df4_sample.index:\n",
    "    sub_lat = df4_sample.loc[i, 'COURS_SPOT_LA']\n",
    "    sub_long = df4_sample.loc[i, 'COURS_SPOT_LO']\n",
    "    #title = df4_sample.loc[i, '상호명'] + '-' + df.loc[i, '도로명주소']\n",
    "    \n",
    "    #icon_color = 'blue'\n",
    "    #if df4_sample.loc[i, '브랜드명'] == '던킨도너츠':\n",
    "    #    icon_color = 'red'\n",
    "\n",
    "    # map에 marker를 추가\n",
    "    folium.Marker([sub_lat,sub_long], popup=f'<i>테스트</i>', tooltip='테스트').add_to(m)\n",
    "\n",
    "m\n"
   ]
  },
  {
   "cell_type": "code",
   "execution_count": null,
   "metadata": {},
   "outputs": [],
   "source": [
    "import tkinter as tk\n",
    "import matplotlib.pyplot as plt\n",
    "\n",
    "\n",
    "#일주일 프롲게트\n",
    "\n"
   ]
  }
 ],
 "metadata": {
  "kernelspec": {
   "display_name": "base",
   "language": "python",
   "name": "python3"
  },
  "language_info": {
   "codemirror_mode": {
    "name": "ipython",
    "version": 3
   },
   "file_extension": ".py",
   "mimetype": "text/x-python",
   "name": "python",
   "nbconvert_exporter": "python",
   "pygments_lexer": "ipython3",
   "version": "3.11.5"
  }
 },
 "nbformat": 4,
 "nbformat_minor": 2
}
