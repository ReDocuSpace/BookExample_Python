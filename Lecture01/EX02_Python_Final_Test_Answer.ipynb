{
  "cells": [
    {
      "cell_type": "code",
      "execution_count": null,
      "id": "3db0eed6",
      "metadata": {
        "id": "3db0eed6"
      },
      "outputs": [],
      "source": [
        "# 1. 변수 a에 'hello world'를 할당한 후, a를 출력하시오\n",
        "a = 'hello world'\n",
        "print(a)"
      ]
    },
    {
      "cell_type": "code",
      "execution_count": null,
      "id": "120962b4",
      "metadata": {
        "id": "120962b4"
      },
      "outputs": [],
      "source": [
        "# 2. a에는 10, b에는 20을 입력한 후 사칙연산을 계산하시오\n",
        "a = 10\n",
        "b = 20\n",
        "\n",
        "print(a*b)\n",
        "print(a/b)\n",
        "print(a+b)\n",
        "print(a-b)\n",
        "print(a%b)"
      ]
    },
    {
      "cell_type": "code",
      "execution_count": null,
      "id": "fcfd3e84",
      "metadata": {
        "id": "fcfd3e84"
      },
      "outputs": [],
      "source": [
        "# 3. 위의 문제에서 a를 b로 나눈 나머지를 계산하시오\n",
        "a%b"
      ]
    },
    {
      "cell_type": "code",
      "execution_count": null,
      "id": "75e9f134",
      "metadata": {
        "id": "75e9f134"
      },
      "outputs": [],
      "source": [
        "# 4. a의 b승을 계산하시오..\n",
        "a**b"
      ]
    },
    {
      "cell_type": "code",
      "execution_count": null,
      "id": "04267ea8",
      "metadata": {
        "id": "04267ea8"
      },
      "outputs": [],
      "source": [
        "# 5. 위의 a의 데이터 타입을 출력하시오\n",
        "type(a)"
      ]
    },
    {
      "cell_type": "code",
      "execution_count": null,
      "id": "f182e45f",
      "metadata": {
        "id": "f182e45f"
      },
      "outputs": [],
      "source": [
        "# 6. a = '3'에서 a를 정수와 실수로 형변환하시오\n",
        "a = '3'\n",
        "a = int(a)\n",
        "a = float(b)"
      ]
    },
    {
      "cell_type": "code",
      "execution_count": null,
      "id": "24505121",
      "metadata": {
        "id": "24505121"
      },
      "outputs": [],
      "source": [
        "# 7. 원소 'a', '나','3', 4를 갖는 list를 생성하시오\n",
        "\n",
        "L = ['a', '나','3', 4]"
      ]
    },
    {
      "cell_type": "code",
      "execution_count": null,
      "id": "14d70e93",
      "metadata": {
        "id": "14d70e93",
        "colab": {
          "base_uri": "https://localhost:8080/",
          "height": 35
        },
        "outputId": "00069c2e-3038-4aec-e240-e86de8ce1d90"
      },
      "outputs": [
        {
          "output_type": "execute_result",
          "data": {
            "text/plain": [
              "\"['a', '나', '3', 4]\""
            ],
            "application/vnd.google.colaboratory.intrinsic+json": {
              "type": "string"
            }
          },
          "metadata": {},
          "execution_count": 2
        }
      ],
      "source": [
        "# 8. 위의 list를 문자열 string으로 변환하시오\n",
        "str(L)"
      ]
    },
    {
      "cell_type": "code",
      "execution_count": null,
      "id": "9c5c2b6a",
      "metadata": {
        "id": "9c5c2b6a"
      },
      "outputs": [],
      "source": [
        "# 9. 8번에서 동일한 원소를 갖는 tuple과 set을 생성하시오\n",
        "\n",
        "tuple(L)\n",
        "set(L)"
      ]
    },
    {
      "cell_type": "code",
      "execution_count": null,
      "id": "5072bd0f",
      "metadata": {
        "id": "5072bd0f",
        "colab": {
          "base_uri": "https://localhost:8080/",
          "height": 35
        },
        "outputId": "3bdb764e-c7b9-41e2-c31d-4a0a7a494797"
      },
      "outputs": [
        {
          "output_type": "execute_result",
          "data": {
            "text/plain": [
              "'54789'"
            ],
            "application/vnd.google.colaboratory.intrinsic+json": {
              "type": "string"
            }
          },
          "metadata": {},
          "execution_count": 3
        }
      ],
      "source": [
        "# 10. 정수 54789을 문자열로 변환하시오.\n",
        "str(54789)"
      ]
    },
    {
      "cell_type": "code",
      "execution_count": null,
      "id": "7afd46c3",
      "metadata": {
        "id": "7afd46c3",
        "colab": {
          "base_uri": "https://localhost:8080/"
        },
        "outputId": "8f475a69-b311-4453-9654-ecdbf3085e33"
      },
      "outputs": [
        {
          "output_type": "execute_result",
          "data": {
            "text/plain": [
              "{'가': 'A', '나': 'B', '다': 'C', '라': 'D'}"
            ]
          },
          "metadata": {},
          "execution_count": 4
        }
      ],
      "source": [
        "# 11\n",
        "# key를 '가', '나', '다','라'를 순차적으로 갖고\n",
        "# value를 'A', 'B', 'C', 'D'를 순차적으로 갖는 dictionary를 생성하시오..\n",
        "\n",
        "key = ['가', '나', '다', '라']\n",
        "value = ['A', 'B', 'C', 'D']\n",
        "\n",
        "d = {}\n",
        "for i in range(len(key)):\n",
        "  d[key[i]] = value[i]\n",
        "\n",
        "d"
      ]
    },
    {
      "cell_type": "code",
      "execution_count": null,
      "id": "d77699a6",
      "metadata": {
        "id": "d77699a6",
        "colab": {
          "base_uri": "https://localhost:8080/"
        },
        "outputId": "c8605232-a6e9-4afc-da44-a6e01c3b885d"
      },
      "outputs": [
        {
          "output_type": "stream",
          "name": "stdout",
          "text": [
            "False\n",
            "True\n"
          ]
        }
      ],
      "source": [
        "# 12\n",
        "\n",
        "a = 2\n",
        "b = 5\n",
        "\n",
        "# a가 b보다 크거나 같은지 확인하시오\n",
        "# a와 b가 같은지 확인하시오\n",
        "# a가 b보다 작은지 확인하시오\n",
        "\n",
        "print(a==b)\n",
        "print(a < b)"
      ]
    },
    {
      "cell_type": "code",
      "execution_count": null,
      "id": "90bc57ca",
      "metadata": {
        "id": "90bc57ca"
      },
      "outputs": [],
      "source": []
    },
    {
      "cell_type": "code",
      "execution_count": null,
      "id": "541f649c",
      "metadata": {
        "id": "541f649c"
      },
      "outputs": [],
      "source": [
        "txt1 = 'A tale that was not right'"
      ]
    },
    {
      "cell_type": "code",
      "execution_count": null,
      "id": "e1a2e943",
      "metadata": {
        "id": "e1a2e943",
        "colab": {
          "base_uri": "https://localhost:8080/",
          "height": 35
        },
        "outputId": "61bbbb64-8d95-4b08-eaf0-9d746f3323fc"
      },
      "outputs": [
        {
          "output_type": "execute_result",
          "data": {
            "text/plain": [
              "'ale'"
            ],
            "application/vnd.google.colaboratory.intrinsic+json": {
              "type": "string"
            }
          },
          "metadata": {},
          "execution_count": 7
        }
      ],
      "source": [
        "#13. 'ale' 이 출력..\n",
        "txt1[3:6]"
      ]
    },
    {
      "cell_type": "code",
      "execution_count": null,
      "id": "5e053ebf",
      "metadata": {
        "id": "5e053ebf",
        "colab": {
          "base_uri": "https://localhost:8080/",
          "height": 35
        },
        "outputId": "ff43a311-0b50-453a-f18c-1b55c8bdd17a"
      },
      "outputs": [
        {
          "output_type": "execute_result",
          "data": {
            "text/plain": [
              "'A tale'"
            ],
            "application/vnd.google.colaboratory.intrinsic+json": {
              "type": "string"
            }
          },
          "metadata": {},
          "execution_count": 8
        }
      ],
      "source": [
        "# 14. 'A tale' 출력\n",
        "txt1[:6]"
      ]
    },
    {
      "cell_type": "code",
      "execution_count": null,
      "id": "3c8c563f",
      "metadata": {
        "id": "3c8c563f",
        "colab": {
          "base_uri": "https://localhost:8080/",
          "height": 35
        },
        "outputId": "9b7d4b1b-df35-48a8-a069-522533350c06"
      },
      "outputs": [
        {
          "output_type": "execute_result",
          "data": {
            "text/plain": [
              "'not'"
            ],
            "application/vnd.google.colaboratory.intrinsic+json": {
              "type": "string"
            }
          },
          "metadata": {},
          "execution_count": 10
        }
      ],
      "source": [
        "# 15. 'not' 출력 – split()함수를 활용하시오\n",
        "txt1.split()[4]"
      ]
    },
    {
      "cell_type": "code",
      "execution_count": null,
      "id": "b2286b07",
      "metadata": {
        "id": "b2286b07"
      },
      "outputs": [],
      "source": [
        "# 16. txt1을 소문자 전환\n",
        "txt1.lower()"
      ]
    },
    {
      "cell_type": "code",
      "execution_count": null,
      "id": "c2da4ec6",
      "metadata": {
        "id": "c2da4ec6"
      },
      "outputs": [],
      "source": [
        "# 17. txt1을 대문자 전환\n",
        "txt1.upper()"
      ]
    },
    {
      "cell_type": "code",
      "execution_count": null,
      "id": "ee5f8e63",
      "metadata": {
        "id": "ee5f8e63"
      },
      "outputs": [],
      "source": [
        "# 18. 'o'가 몇 개 존재하는가?\n",
        "txt1.count('o')"
      ]
    },
    {
      "cell_type": "code",
      "execution_count": null,
      "id": "a327fe55",
      "metadata": {
        "id": "a327fe55"
      },
      "outputs": [],
      "source": [
        "# 19. 'o'가 몇 번 인덱스에 존재하는가?\n",
        "txt1.find('o')"
      ]
    },
    {
      "cell_type": "code",
      "execution_count": null,
      "id": "f254c534",
      "metadata": {
        "id": "f254c534"
      },
      "outputs": [],
      "source": [
        "# 20. txt1의 길이는 어떻게 되는가?\n",
        "len(txt1)"
      ]
    },
    {
      "cell_type": "code",
      "execution_count": null,
      "id": "58e1453f",
      "metadata": {
        "id": "58e1453f"
      },
      "outputs": [],
      "source": [
        "# 21. 'tale'을  'story'로 바꾸세요..\n",
        "txt1.replace('tale', 'story')"
      ]
    },
    {
      "cell_type": "code",
      "execution_count": null,
      "id": "9696de95",
      "metadata": {
        "id": "9696de95"
      },
      "outputs": [],
      "source": [
        "# 22. txt1 안에 'right'가 존재하는지 확인\n",
        "'right' in txt1"
      ]
    },
    {
      "cell_type": "code",
      "execution_count": null,
      "id": "25c6947e",
      "metadata": {
        "id": "25c6947e"
      },
      "outputs": [],
      "source": [
        "# 23. space를 기준으로 나누어서 리스트에 담으시오.\n",
        "txt1.split()"
      ]
    },
    {
      "cell_type": "code",
      "execution_count": null,
      "id": "cf6cb3ae",
      "metadata": {
        "id": "cf6cb3ae"
      },
      "outputs": [],
      "source": [
        "# 24. ~ 29.\n",
        "lang = 'python programming'\n",
        "\n",
        "# 'tho'\n",
        "# 'pro'\n",
        "# 'ming'\n",
        "# 'n p'\n",
        "# 'ing'\n",
        "# 'python'\n",
        "\n",
        "print(lang[2:5])\n",
        "print(lang.split()[1][:3])\n",
        "print(lang[-4:])\n",
        "print(lang[5:8])\n",
        "print(lang[-3:])\n",
        "print(lang.split()[0])"
      ]
    },
    {
      "cell_type": "code",
      "execution_count": null,
      "id": "bc723bdb",
      "metadata": {
        "id": "bc723bdb"
      },
      "outputs": [],
      "source": [
        "# 30. 위의 두 문자열을 연결하시오\n",
        "txt1 + lang"
      ]
    },
    {
      "cell_type": "code",
      "execution_count": null,
      "id": "42b053b2",
      "metadata": {
        "id": "42b053b2"
      },
      "outputs": [],
      "source": [
        "# 31. 'hello'를 세 번 반복하시오\n",
        "'hello' * 3"
      ]
    },
    {
      "cell_type": "code",
      "execution_count": null,
      "id": "8ff71b88",
      "metadata": {
        "id": "8ff71b88"
      },
      "outputs": [],
      "source": [
        "# 32. lang에 's'가 있는지 확인하시오\n",
        "'s' in lang"
      ]
    },
    {
      "cell_type": "code",
      "execution_count": null,
      "id": "7d3113c2",
      "metadata": {
        "id": "7d3113c2"
      },
      "outputs": [],
      "source": [
        "# 33. 이메일을 입력받은 후 id와 domain을 분리해서 출력하시오..\n",
        "\n",
        "email = input('이메일을 입력하세')\n",
        "em_id = email.split('@')[0]\n",
        "em_domain = email.split('@')[1]\n",
        "print(em_id, em_domain)"
      ]
    },
    {
      "cell_type": "code",
      "execution_count": null,
      "id": "8b8e5d45",
      "metadata": {
        "id": "8b8e5d45"
      },
      "outputs": [],
      "source": [
        "# 34. 'hello python'에서 hello 대신 다른 단어가 들어갈 수 있도록 formatting을 만드시오\n",
        "txt = 'hello {}'.format(language)"
      ]
    },
    {
      "cell_type": "code",
      "execution_count": null,
      "id": "d5d57ee0",
      "metadata": {
        "id": "d5d57ee0"
      },
      "outputs": [],
      "source": [
        "# 35. 함수를 사용해서 'hello python'에서 'hello'를 'java'로 바꾸시오\n",
        "def word_chg():\n",
        "  text = 'hello python'.replace('python', 'java')\n",
        "  return text"
      ]
    },
    {
      "cell_type": "code",
      "source": [
        "# List\n",
        "\n",
        "solarsys = ['태양', '수성', '금성', '지구', '화성', '목성', '지구']\n",
        "solarsys1 = ['토성', '천왕성', '해왕성']\n",
        "planet = '지구'\n"
      ],
      "metadata": {
        "id": "yDFDDfJGV2KI"
      },
      "id": "yDFDDfJGV2KI",
      "execution_count": null,
      "outputs": []
    },
    {
      "cell_type": "code",
      "execution_count": null,
      "id": "1cdf24fb",
      "metadata": {
        "id": "1cdf24fb"
      },
      "outputs": [],
      "source": [
        "# 36. solarsys 에서 ['수성', '금성', '지구'] 를 출력\n",
        "solarsys[1:4]"
      ]
    },
    {
      "cell_type": "code",
      "execution_count": null,
      "id": "a800a2ab",
      "metadata": {
        "id": "a800a2ab"
      },
      "outputs": [],
      "source": [
        "# 37. solarsys에서 '지구'의 위치값 출력\n",
        "solarsys.index('지구')"
      ]
    },
    {
      "cell_type": "code",
      "execution_count": null,
      "id": "97d34eed",
      "metadata": {
        "id": "97d34eed"
      },
      "outputs": [],
      "source": [
        "# 38. solarsys에서 '화성'을 '해왕성'으로 수정\n",
        "solarsys[solarsys.index('화성')] = '해왕성'\n",
        "# solarsys.replace('화성', '해왕성') -- error"
      ]
    },
    {
      "cell_type": "code",
      "execution_count": null,
      "id": "4287d845",
      "metadata": {
        "id": "4287d845"
      },
      "outputs": [],
      "source": [
        "# 39. solarsys에 '토성'을 맨 끝에 첨가\n",
        "solarsys.append('토성')"
      ]
    },
    {
      "cell_type": "code",
      "execution_count": null,
      "id": "698a5dfa",
      "metadata": {
        "id": "698a5dfa"
      },
      "outputs": [],
      "source": [
        "# 40~ 55\n",
        "\n",
        "#  solarsys에서 '수성' 자리에 '명왕성'을 삽입\n",
        "solarsys.insert(solarsys.index('수성'), '명왕성')\n",
        "#  solarsys에 맨 끝 요소를 제거하고 리턴\n",
        "solarsys.pop()\n",
        "#  solarsys에서 '금성'을 제거\n",
        "solarsys.remove('금성')\n",
        "#  solarsys에서 1번째에서 3번째까지 살제\n",
        "del solarsys[1:4]\n",
        "#  solarsys에서 인덱스값 2번 요소를 삭제\n",
        "solarsys.pop(2)\n",
        "#  solarsys와 solarsys1을 합하시요.\n",
        "solarsys + solarsys1\n",
        "#  solarsys를 오름차순으로 정력하세요.\n",
        "solarsys.sort()\n",
        "#  solarsys를 내림차순으로 정렬하세요.\n",
        "solarsys.sort(reverse=True)\n",
        "#  solarsys의 원소의 순서를 바꾸세요.\n",
        "solarsys.reverse()\n",
        "#  solarsys에 '만리장성'이 있는지 확인하세요.\n",
        "'만리장성' in solarsys\n",
        "#  solarsys를 3번 반복하세요.\n",
        "solarsys * 3\n",
        "#  solarsys의 길이를 리턴하세요.\n",
        "len(solarsys)\n",
        "#  solarsys에서 '지구'의 갯수를 출력하세요.\n",
        "solarsys.count('지구')\n",
        "#  solarsys의 모든 원소를 지워세요.\n",
        "solarsys.clear()\n",
        "#  solarsys 리스트를 삭제하세요.\n",
        "del solarsys"
      ]
    },
    {
      "cell_type": "code",
      "execution_count": null,
      "id": "b7d0f9d3",
      "metadata": {
        "id": "b7d0f9d3"
      },
      "outputs": [],
      "source": [
        "# 55문항 없음..."
      ]
    },
    {
      "cell_type": "code",
      "execution_count": null,
      "id": "e9bd8362",
      "metadata": {
        "id": "e9bd8362"
      },
      "outputs": [],
      "source": [
        "# Tuple\n",
        "\n",
        "myTuple = (\"tuple\", (1, 2, 3), [4, 5, 6])\n",
        "\n",
        "\n",
        "#56. 'tuple'을 출력하시오\n",
        "myTuple[0]\n",
        "\n",
        "#57.  3을 출력하세요\n",
        "myTuple[1][-1]\n",
        "\n",
        "#58 4, 5를 출력하세요\n",
        "myTuple[2][:2]\n",
        "\n",
        "#59. 4를 출력하세요\n",
        "myTuple[2][0]\n",
        "\n",
        "#60. (1, 2, 3)을 출력하세요\n",
        "myTuple[1]"
      ]
    },
    {
      "cell_type": "code",
      "execution_count": null,
      "id": "ab3e3674",
      "metadata": {
        "id": "ab3e3674"
      },
      "outputs": [],
      "source": [
        "my_tuple = (1, 2, 3, 3, 2, 1)\n",
        "your_tuple = (4, 5, 6)\n",
        "\n",
        "# 튜플 연산\n",
        "#61 my_tuple과 your_tuple을 연결하세요\n",
        "my_tuple + your_tuple\n",
        "#62 mytuple을 3번 반복하세요\n",
        "my_tuple * 3\n",
        "#63 mytuple에 3이 있는지 확인하세요\n",
        "3 in my_tuple\n",
        "#64 mytuple에 5가 있는지 확인하세요\n",
        "5 in my_tuple\n",
        "#65 mytuple에서 1의 갯수를 출력하세요\n",
        "my_tuple.count(1)\n",
        "#66 mytuple에서 index 2자리의 값을 출력하세요\n",
        "my_tuple[1]"
      ]
    },
    {
      "cell_type": "code",
      "execution_count": null,
      "id": "2722c270",
      "metadata": {
        "id": "2722c270"
      },
      "outputs": [],
      "source": [
        "t_float = (120.09, 9.11, 2.8)\n",
        "L_int = [1, 2, 3]\n",
        "\n",
        "\n",
        "#67 ~ 73\n",
        "# t_float의 길이를 출력하세요\n",
        "len(t_float)\n",
        "# t_float의 최대값을 출력하세요\n",
        "max(t_float)\n",
        "# t_float의 최소값을 출력하세요\n",
        "min(t_float)\n",
        "# t_float의 합을 출력하세요.\n",
        "sum(t_float)\n",
        "# t_float의 평균을 출력하세요.\n",
        "import numpy as np\n",
        "np.mean(t_float)\n",
        "# t_float를 오름차순 정렬하세요\n",
        "sorted(t_float)"
      ]
    },
    {
      "cell_type": "code",
      "execution_count": null,
      "id": "af017d5c",
      "metadata": {
        "id": "af017d5c"
      },
      "outputs": [],
      "source": []
    },
    {
      "cell_type": "code",
      "execution_count": null,
      "id": "4f13dd14",
      "metadata": {
        "id": "4f13dd14"
      },
      "outputs": [],
      "source": [
        "#74 my_set이라는 빈 집합을 만들고 'sky','sea','earth' 세 요소를 추가하시오\n",
        "s = set()\n",
        "\n",
        "s.add('sky')\n",
        "s.add('sea')\n",
        "s.add('earth')"
      ]
    },
    {
      "cell_type": "code",
      "execution_count": null,
      "id": "d6a11b6f",
      "metadata": {
        "id": "d6a11b6f",
        "colab": {
          "base_uri": "https://localhost:8080/"
        },
        "outputId": "03e10988-eece-43dd-8fad-2da1b47858c1"
      },
      "outputs": [
        {
          "output_type": "execute_result",
          "data": {
            "text/plain": [
              "{('1', '2'), 'earth', 'sea'}"
            ]
          },
          "metadata": {},
          "execution_count": 20
        }
      ],
      "source": [
        "#75 ('1', '2')를 추가하시오\n",
        "#76 sky'를 삭제하세요\n",
        "\n",
        "s.add(('1', '2'))\n",
        "s.discard('sky')\n",
        "s"
      ]
    },
    {
      "cell_type": "code",
      "execution_count": null,
      "id": "61de682f",
      "metadata": {
        "id": "61de682f"
      },
      "outputs": [],
      "source": [
        "#77  모든 원소를 삭제하세요\n",
        "s.clear()"
      ]
    },
    {
      "cell_type": "code",
      "execution_count": null,
      "id": "a212cb06",
      "metadata": {
        "id": "a212cb06"
      },
      "outputs": [],
      "source": [
        "a = {1,2,3,4,5,6}\n",
        "b = {1,3,4,7,8,9}\n",
        "\n",
        "#78 두 집합의 합집합을 구하시오\n",
        "#79 두 집합의 교집합을 구하시오\n",
        "#80 집합 a의 b에 대한 차집합을 구하시오\n",
        "#81 대칭차집합을 구하시오\n",
        "\n",
        "a.union(b)\n",
        "a.intersection(b)\n",
        "a.difference(b)\n",
        "a.symmetric_difference(b)"
      ]
    },
    {
      "cell_type": "code",
      "execution_count": null,
      "id": "2b539756",
      "metadata": {
        "id": "2b539756"
      },
      "outputs": [],
      "source": [
        "#82 a가 c를 포함하는지 확인하시오\n",
        "#83 c가 a의 부분집합인지 확인하시오\n",
        "#84 c와 b가 서로소인지 확인하시오\n",
        "\n",
        "a.issuperset(c)\n",
        "c.issubset(a)\n",
        "c.disjoint(b)"
      ]
    },
    {
      "cell_type": "code",
      "execution_count": null,
      "id": "3bb7f22a",
      "metadata": {
        "id": "3bb7f22a"
      },
      "outputs": [],
      "source": [
        "#85 집합 a의 길이를 구하시오\n",
        "#86 집합 b에 7이 포함되어 있는지 확인하시오.\n",
        "len(a)\n",
        "7 in b"
      ]
    },
    {
      "cell_type": "code",
      "source": [],
      "metadata": {
        "id": "7REmfX4L8SMT"
      },
      "id": "7REmfX4L8SMT",
      "execution_count": null,
      "outputs": []
    },
    {
      "cell_type": "code",
      "source": [],
      "metadata": {
        "id": "FGww4WS88SFF"
      },
      "id": "FGww4WS88SFF",
      "execution_count": null,
      "outputs": []
    },
    {
      "cell_type": "code",
      "execution_count": null,
      "id": "57a199fe",
      "metadata": {
        "id": "57a199fe"
      },
      "outputs": [],
      "source": [
        "# 87~ 95\n",
        "\n",
        "names = {'Mary':10999, 'Sams':2111, 'Aimy':9778, 'Tom':20245,\n",
        "'Michale':27115, 'Bob':5887, 'Kelly':7855}\n",
        "\n",
        "# Aimy의 value를 10000으로 수정하세요\n",
        "names['Aimy'] = 10000\n",
        "# 'Sams'를 삭제하세요\n",
        "names.pop('Sams')\n",
        "# value 값들의 합을 구하세요\n",
        "sum(names.values())\n",
        "# value 값들의 최대값을 구하세요\n",
        "max(names.values())\n",
        "# key값들을 출력하세요\n",
        "names.keys()\n",
        "# value값들을 출력하세요\n",
        "names.values()\n",
        "# 키는 'Jane', 값은 5688인 요소를 추가하세요..\n",
        "names['Jane'] = 5688\n",
        "# name의 key와 valule를 쌍으로 묶어서 출력\n",
        "names.items()\n",
        "# 모든 요소를 삭제하세요\n",
        "names.clear()"
      ]
    },
    {
      "cell_type": "code",
      "execution_count": null,
      "id": "1c15c734",
      "metadata": {
        "id": "1c15c734"
      },
      "outputs": [],
      "source": [
        "# 96~101\n",
        "\n",
        "names = {'Mary':10999, 'Sams':2111, 'Aimy':9778, 'Tom':20245,\n",
        "'Michale':27115, 'Bob':5887, 'Kelly':7855}\n",
        "\n",
        "# names dict의 원소의 수를 출력하시오\n",
        "len(names)\n",
        "# names의 key에 Tom이 있는지 확인하시오..\n",
        "'Tom' in names\n",
        "# names에서 Jane이 있으면 값을 출력하고, 없으면 0을 출력하시오.\n",
        "names.get('Jane')\n",
        "names.get('Jane', 0)\n",
        "# names의 값에 5887이 있는지 확인하시오.\n",
        "5877 in names.values()\n",
        "# 이름을 입력받은 이름이 names에 있으면 값을 출력하고, 없으면 값 3000으로\n",
        "#   names에 추가하시오\n",
        "nam = input('이름을 입력하세요')\n",
        "names.setdefault(nam, 3000)"
      ]
    },
    {
      "cell_type": "code",
      "execution_count": null,
      "id": "526c944b",
      "metadata": {
        "id": "526c944b"
      },
      "outputs": [],
      "source": [
        "# 102\n",
        "\n",
        "# 성적을 입력받은 후 70이상이면 '합격입니다'를 출력\n",
        "#                    70미만이면 '불합격입니다'를 출력\n",
        "\n",
        "score = int(input(\"성적을 입력하세요\"))\n",
        "\n",
        "if score > 70:\n",
        "  print('합격입니다')\n",
        "else:\n",
        "  print('불합격입니다')"
      ]
    },
    {
      "cell_type": "code",
      "execution_count": null,
      "id": "33aaced9",
      "metadata": {
        "id": "33aaced9"
      },
      "outputs": [],
      "source": []
    },
    {
      "cell_type": "code",
      "execution_count": null,
      "id": "b5cd16d2",
      "metadata": {
        "id": "b5cd16d2"
      },
      "outputs": [],
      "source": [
        "# 103\n",
        "\n",
        "pw = 7878\n",
        "\n",
        "# 패스워드를 입력 받은 후 패스워드가 일치하면 '환영합니다', 일치하지 않으면\n",
        "# '패스워드가 틀립니다'가 출력되도록 하시오.\n",
        "\n",
        "password = int(input('비밀번호를 입력하세요'))\n",
        "\n",
        "if pw == password:\n",
        "  print('환영합니다')\n",
        "else:\n",
        "  print('패스워드가 틀립니다')"
      ]
    },
    {
      "cell_type": "code",
      "execution_count": null,
      "id": "17695eb5",
      "metadata": {
        "id": "17695eb5"
      },
      "outputs": [],
      "source": [
        "# 104 임의의 정수를 입력받은 후 짝수이면 \"작수입니다\"를 출력, 홀수이면 \"홀수입니다\"를 출력\n",
        "\n",
        "num = int(input('임의의 정수를 입력하세요'))\n",
        "\n",
        "if num%2 == 0:\n",
        "  print('짝수입니다')\n",
        "else:\n",
        "  print('홀수입니다.')"
      ]
    },
    {
      "cell_type": "code",
      "execution_count": null,
      "id": "ef9a59a0",
      "metadata": {
        "id": "ef9a59a0"
      },
      "outputs": [],
      "source": [
        "# 105\n",
        "\n",
        "# 임의의 두 정수 a, b를 입력받은 후\n",
        "# a가 b보다 크면, \"a가 b보다 큽니다\"\n",
        "# a가 b보다 작으면, \"a가 b보다 작습니다\"\n",
        "# a와 b가 같으면, \"a와 b가 같습니다\"를 출력하도록 하시오\n",
        "\n",
        "a = int(input(\"임의의 정수를 입력하세요\"))\n",
        "b = int(input('임의의 정수를 입력하세요'))\n",
        "\n",
        "if a > b:\n",
        "  print('a가 b보다 큽니다')\n",
        "elif a < b:\n",
        "  print('a가 b보다 작습니다')\n",
        "else:\n",
        "  print('a와 b가 같습니다..')"
      ]
    },
    {
      "cell_type": "code",
      "execution_count": null,
      "id": "eb4666c3",
      "metadata": {
        "id": "eb4666c3"
      },
      "outputs": [],
      "source": [
        "# 106\n",
        "\n",
        "# 출생년도를 입력받은 후, (age = 현재년도 - 출생년도)\n",
        "# 60세 이상이면 \"노년이시군요\"\n",
        "# 40세 이상 60세 미만이면 \"중년이신군요\"\n",
        "# 20세 이상 40세 미만이면 \"청년이시군요\"\n",
        "# 20세 미만이면 \"유년이시군요\"를 출력\n",
        "\n",
        "birth = int(input(\"나이를 입력하세요\"))\n",
        "\n",
        "age = 2023 - birth\n",
        "\n",
        "if age >= 60:\n",
        "  print('노년이시군요')\n",
        "elif age >= 40:\n",
        "  print('중년이시군요')\n",
        "elif age >= 20:\n",
        "  print('청년이시군요')\n",
        "else:\n",
        "  print('유년이시군요...')"
      ]
    },
    {
      "cell_type": "code",
      "execution_count": null,
      "id": "1dc28a4e",
      "metadata": {
        "id": "1dc28a4e"
      },
      "outputs": [],
      "source": [
        "# 107\n",
        "\n",
        "# 점수를 입력받은 후 학점을 출력하는 코드를 작성하시오\n",
        "# 90점 이상 => 'A학점입니다'\n",
        "# 90점 미만 80점 이상 => 'B학점입니다'\n",
        "# 80점 미만 70점 이상 => 'C학점입니다'\n",
        "# 70점 미만 60점 이상 => 'D학점입니다'\n",
        "# 60점 미만 => 'E학점입니다'\n",
        "\n",
        "score = int(input(\"점수를 입력하세요\"))\n",
        "\n",
        "if score >= 90:\n",
        "  print('A학점')\n",
        "elif score >= 80:\n",
        "  print('B학점')\n",
        "elif score >= 70:\n",
        "  print('C학점')\n",
        "elif score >= 60:\n",
        "  print('D학점')\n",
        "else:\n",
        "  print('E학점...')"
      ]
    },
    {
      "cell_type": "code",
      "execution_count": null,
      "id": "efec76f1",
      "metadata": {
        "id": "efec76f1"
      },
      "outputs": [],
      "source": [
        "# 108.\n",
        "L = ['a','b','c']\n",
        "# # enumerate()을 사용하면서 L의 원소에 인덱스를 붙여서 원소를 출력한다\n",
        "\n",
        "for i, j in enumerate(L):\n",
        "  print(i, j)"
      ]
    },
    {
      "cell_type": "code",
      "execution_count": null,
      "id": "1411afc4",
      "metadata": {
        "id": "1411afc4",
        "colab": {
          "base_uri": "https://localhost:8080/"
        },
        "outputId": "c7229778-63fa-453f-8685-1098397751d2"
      },
      "outputs": [
        {
          "output_type": "stream",
          "name": "stdout",
          "text": [
            "0 번 :  철수\n",
            "1 번 :  영희\n",
            "2 번 :  민수\n",
            "3 번 :  경희\n"
          ]
        }
      ],
      "source": [
        "# 109.\n",
        "# names = ['철수', '영희', '민수', '경희']를 아래와 같이 출력하시오..\n",
        "# # 1번 : 철수\n",
        "# # 2번 : 영희\n",
        "# # 3번 : 민수\n",
        "# # 4번 : 경희\n",
        "\n",
        "names = ['철수', '영희', '민수', '경희']\n",
        "\n",
        "for i, j in enumerate(names):\n",
        "  print(i,'번 : ', j)"
      ]
    },
    {
      "cell_type": "code",
      "execution_count": null,
      "id": "ccaefa71",
      "metadata": {
        "id": "ccaefa71"
      },
      "outputs": [],
      "source": [
        "# 110.\n",
        "# # hello python을 for문을 이용해서 대문자로 바꿔서 출력하시오..\n",
        "\n",
        "for c in 'hello python':\n",
        "  print(c.upper())"
      ]
    },
    {
      "cell_type": "code",
      "execution_count": null,
      "id": "d5de899a",
      "metadata": {
        "id": "d5de899a"
      },
      "outputs": [],
      "source": [
        "# 111.\n",
        "# d = {'a':1, 'b':2, 'c':3, 'd':4}\n",
        "# # key와 value를 tuple로 묶어서 출력하시오. for문을 이용해서...\n",
        "\n",
        "for i in d.items():\n",
        "  print(i)"
      ]
    },
    {
      "cell_type": "code",
      "execution_count": null,
      "id": "25905ecd",
      "metadata": {
        "id": "25905ecd",
        "colab": {
          "base_uri": "https://localhost:8080/"
        },
        "outputId": "87095ac0-d924-4b26-d488-8503dfaedb4c"
      },
      "outputs": [
        {
          "output_type": "stream",
          "name": "stdout",
          "text": [
            "['a', 'b', 'c', 'd'] [1, 2, 3, 4]\n"
          ]
        }
      ],
      "source": [
        "# 112.\n",
        "# # key와 value를 k_list, v_list라는 별도의 리스트에 나누어 담으시오. for문을 이용해서..\n",
        "\n",
        "d = {'a':1, 'b':2, 'c':3, 'd':4}\n",
        "k_list = []\n",
        "v_list = []\n",
        "for i in d.items():\n",
        "  k_list.append(i[0])\n",
        "  v_list.append(i[1])\n",
        "\n",
        "print(k_list, v_list)"
      ]
    },
    {
      "cell_type": "code",
      "execution_count": null,
      "id": "14c4b163",
      "metadata": {
        "id": "14c4b163"
      },
      "outputs": [],
      "source": []
    },
    {
      "cell_type": "code",
      "execution_count": null,
      "id": "4d012d48",
      "metadata": {
        "id": "4d012d48",
        "colab": {
          "base_uri": "https://localhost:8080/"
        },
        "outputId": "5db0645c-0afe-41e2-8d3a-f6e0c743848c"
      },
      "outputs": [
        {
          "output_type": "execute_result",
          "data": {
            "text/plain": [
              "[6, 7, 8, 9, 12, 14, 16, 18, 18, 21, 24, 27, 24, 28, 32, 36, 30, 35, 40, 45]"
            ]
          },
          "metadata": {},
          "execution_count": 28
        }
      ],
      "source": [
        "# 113.\n",
        "L1 = [1,2,3,4,5]\n",
        "L2 = [6,7,8,9]\n",
        "# # L1과 L2의 모든 원소간의 곱을 total_list에 담으시오..\n",
        "# # 이중 for문을 사용..\n",
        "\n",
        "L = []\n",
        "\n",
        "for i in L1:\n",
        "  for j in L2:\n",
        "    L.append(i*j)\n",
        "L"
      ]
    },
    {
      "cell_type": "code",
      "execution_count": null,
      "id": "5515e62d",
      "metadata": {
        "id": "5515e62d"
      },
      "outputs": [],
      "source": [
        "# 114.\n",
        "# # 1부터 20까지 정수에서 짝수들의 합을 출력하시오.. for문을 이용하시오..\n",
        "\n",
        "L = []\n",
        "for i in range(1, 21):\n",
        "  if i%2 ==0:\n",
        "    L.append(i)"
      ]
    },
    {
      "cell_type": "code",
      "execution_count": null,
      "id": "ebed385a",
      "metadata": {
        "id": "ebed385a"
      },
      "outputs": [],
      "source": [
        "# 115.\n",
        "L1 = ['a','b','c','d','e']\n",
        "# # for문을 이용해서 L1의 값을 dict에 담으시오..\n",
        "# # d = {1:'a', 2:'b', 3:'c', 4:'d'}\n",
        "\n",
        "d = {}\n",
        "for i, j in enumerate(L1):\n",
        "  # print(i+1, j)\n",
        "  d[i+1] = j\n",
        "\n",
        "d"
      ]
    },
    {
      "cell_type": "code",
      "execution_count": null,
      "id": "20730028",
      "metadata": {
        "id": "20730028"
      },
      "outputs": [],
      "source": [
        "# 116.\n",
        "# # text = 'python programming'에서 모음만 list에 담으시오. 단, 모음은 'aeiou'\n",
        "\n",
        "text = 'python programming'\n",
        "L=[]\n",
        "for i in text:\n",
        "  if i in 'aeiou':\n",
        "    L.append(i)\n"
      ]
    },
    {
      "cell_type": "code",
      "execution_count": null,
      "id": "0513ab1d",
      "metadata": {
        "id": "0513ab1d"
      },
      "outputs": [],
      "source": [
        "# 117.\n",
        "# # L1 = ['a','b','c','d','e']\n",
        "# # L2 = ['가', '나', '다', '라', '마']\n",
        "# # 두 리스트의 모든 조합을 튜플로 묶어서 리스트에 담으시오..\n",
        "# # => [('a', '가'), ('a', '나'), ('a', '다'), ... , ('e', '라'), ('e', '마')]\n"
      ]
    },
    {
      "cell_type": "code",
      "execution_count": null,
      "id": "314c84ba",
      "metadata": {
        "id": "314c84ba"
      },
      "outputs": [],
      "source": [
        "# 117-1\n",
        "# # 일반  for문으로\n",
        "\n",
        "L = []\n",
        "for i in L1:\n",
        "  for j in L2:\n",
        "    L.append((i, j))\n",
        "L"
      ]
    },
    {
      "cell_type": "code",
      "execution_count": null,
      "id": "eae2e8d0",
      "metadata": {
        "id": "eae2e8d0"
      },
      "outputs": [],
      "source": [
        "# 117-2\n",
        "# # list comprehension으로\n",
        "\n",
        "[(i,j) for i in L1 for j in L2]"
      ]
    },
    {
      "cell_type": "code",
      "execution_count": null,
      "id": "65f7e6df",
      "metadata": {
        "id": "65f7e6df"
      },
      "outputs": [],
      "source": [
        "# 118.\n",
        "# #  1부터 10까지 짝수만 리스트에 담으시오... list comprehension으로\n",
        "\n",
        "L = []\n",
        "for i in range(1,11):\n",
        "  if i%2==0:\n",
        "    L.append(i)\n",
        "\n",
        "[i for i in range(1,11) if i%2==0]"
      ]
    },
    {
      "cell_type": "code",
      "execution_count": null,
      "id": "83732638",
      "metadata": {
        "id": "83732638"
      },
      "outputs": [],
      "source": [
        "# 119.\n",
        "\n",
        "# lst = ['apple', 'banana', 'cherry', 'durian', 'elderberry']\n",
        "# # 각 단어의 길이를 리스트에 담으시오.\n",
        "# # char_len = []\n",
        "# # 각각 일반 for문과 list comprehension으로 만드시오..\n",
        "\n",
        "lst = ['apple', 'banana', 'cherry', 'durian', 'elderberry']\n",
        "\n",
        "L = []\n",
        "for i in lst:\n",
        "  L.append(len(i))\n",
        "\n",
        "[len(i) for i in lst]"
      ]
    },
    {
      "cell_type": "code",
      "source": [],
      "metadata": {
        "id": "FNIcQq4USK8P"
      },
      "id": "FNIcQq4USK8P",
      "execution_count": null,
      "outputs": []
    },
    {
      "cell_type": "code",
      "execution_count": null,
      "id": "50ac6289",
      "metadata": {
        "id": "50ac6289"
      },
      "outputs": [],
      "source": [
        "# 120.\n",
        "# # 1 ~ 20까지 정수에서 3의 배수를 출력하시오.. while문으로..\n",
        "\n",
        "i = 1\n",
        "while i <= 20:\n",
        "  if i%3 == 0:\n",
        "    print(i)\n",
        "  i += 1"
      ]
    },
    {
      "cell_type": "code",
      "execution_count": null,
      "id": "00675b51",
      "metadata": {
        "id": "00675b51"
      },
      "outputs": [],
      "source": [
        "# 121\n",
        "# # while문으로 1부터 10까지 출력하면서 continue를 통해서 3의 배수를 제외하시오\n",
        "# 반복문에서 continue를 만나면 반복 처음으로 돌아간다..\n",
        "\n",
        "i = 0\n",
        "while i < 10:\n",
        "  i += 1\n",
        "  if i%3 == 0:\n",
        "    continue\n",
        "  print(i)\n"
      ]
    },
    {
      "cell_type": "code",
      "execution_count": null,
      "id": "21516f81",
      "metadata": {
        "id": "21516f81"
      },
      "outputs": [],
      "source": [
        "# 122.\n",
        "# # while문에서 1부터 10까지 출력하는 코드에서, break와 continue를 사용해서\n",
        "# 3 ~ 5까지만 출력하도록 하시오..\n",
        "\n",
        "i = 0\n",
        "while i<=10:\n",
        "\n",
        "  i += 1\n",
        "\n",
        "  if i < 3:\n",
        "    continue\n",
        "  if i > 5:\n",
        "    break\n",
        "\n",
        "  print(i)\n"
      ]
    },
    {
      "cell_type": "code",
      "execution_count": null,
      "id": "b6c4e521",
      "metadata": {
        "id": "b6c4e521"
      },
      "outputs": [],
      "source": [
        "# 123.\n",
        "# # while문을 이용해서 점수를 5회 입력받은 후, 점수의 평균을 출력하시오..\n",
        "\n",
        "count = 0\n",
        "total_sum = 0\n",
        "\n",
        "while count < 5:\n",
        "  score = int(input('점수를 입력하세요'))\n",
        "  total_sum += score\n",
        "  count += 1\n",
        "\n",
        "total_sum/count"
      ]
    },
    {
      "cell_type": "code",
      "execution_count": null,
      "id": "765084b3",
      "metadata": {
        "id": "765084b3"
      },
      "outputs": [],
      "source": []
    },
    {
      "cell_type": "code",
      "execution_count": null,
      "id": "be108f31",
      "metadata": {
        "id": "be108f31"
      },
      "outputs": [],
      "source": [
        "# 124 매개변수로 임의의 정수를 입력받은 후 절대값을 리턴하는 함수 \"abs()\"를 사용자정의함수로 만들고 실행\n",
        "\n",
        "def absf(num):\n",
        "  if num < 0:\n",
        "    return num*(-1)\n",
        "  else:\n",
        "    return num"
      ]
    },
    {
      "cell_type": "code",
      "execution_count": null,
      "id": "agll5VoXQRoe",
      "metadata": {
        "id": "agll5VoXQRoe"
      },
      "outputs": [],
      "source": [
        "\n",
        "#125\n",
        "# 임의의 정수를 받다서 짝수인지 홀수인지를 출력하는 함수..\n",
        "# 짝수면 1리턴, 홀수면 0을 리턴..\n",
        "\n",
        "def even_test(num):\n",
        "  if num%2 == 0:\n",
        "    return 1\n",
        "  else:\n",
        "    return 0"
      ]
    },
    {
      "cell_type": "code",
      "execution_count": null,
      "id": "zTthNu8FQRr8",
      "metadata": {
        "id": "zTthNu8FQRr8"
      },
      "outputs": [],
      "source": [
        "# 126\n",
        "# 매개변수로 임의의 두 수를 입력받은 후 사칙연산(덧셈, 뺄셈, 곱셈, 나눗셈)의 결과를 리턴하는 함수..\n",
        "\n",
        "def fourcal(a,b):\n",
        "  s = a+b\n",
        "  d = a-b\n",
        "  m = a*b\n",
        "  di = a/b\n",
        "  return s, d, m, di"
      ]
    },
    {
      "cell_type": "code",
      "execution_count": null,
      "id": "rLAx-jfjR3ec",
      "metadata": {
        "id": "rLAx-jfjR3ec"
      },
      "outputs": [],
      "source": [
        "# 127\n",
        "# 매개변수로 임의의 두 수를 입력받은 후 크기를 비교해서 출력하는 함수..\n",
        "\n",
        "def com_s(a,b):\n",
        "  if a<b:\n",
        "    return 1\n",
        "  elif a>b:\n",
        "    return -1\n",
        "  else:\n",
        "    return 0"
      ]
    },
    {
      "cell_type": "code",
      "execution_count": null,
      "id": "zd1ox0uBQRu_",
      "metadata": {
        "id": "zd1ox0uBQRu_"
      },
      "outputs": [],
      "source": [
        "# 128\n",
        "# 팩토리얼을 리턴하는 함수를 만드시오\n",
        "# 5! = 5*4*3*2*1\n",
        "\n",
        "def fact_f(n):\n",
        "  f = 1\n",
        "  for i in range(1, n+1):\n",
        "    f *= i\n",
        "  return f\n",
        "\n",
        "def fact_f(n):\n",
        "  if n == 1: return 1\n",
        "  return n*fact_f(n-1)\n",
        "\n",
        "# 5*4*3*2*fact_f(1)"
      ]
    },
    {
      "cell_type": "code",
      "execution_count": null,
      "id": "vGVFLlkUQRx3",
      "metadata": {
        "id": "vGVFLlkUQRx3"
      },
      "outputs": [],
      "source": [
        "# 129\n",
        "# 두 정수 a, b를 입력받은 후, a를 b로 나눈 몫과 나머지를 각각 리턴하는 함수를 만들고 실행하시오..\n",
        "\n",
        "def cal(a,b):\n",
        "  return a//b, a%b"
      ]
    },
    {
      "cell_type": "code",
      "execution_count": null,
      "id": "wCczqItbQR0f",
      "metadata": {
        "id": "wCczqItbQR0f"
      },
      "outputs": [],
      "source": [
        "# 130\n",
        "# 임의의 영문문자열을 입력받은 후 문자열 내에 자음의 수를 리턴하는 함수...\n",
        "# 모음 = 'aeiou'\n",
        "\n",
        "def cal_num(s):\n",
        "  num = 0\n",
        "  for i in s:\n",
        "    if i not in 'aeiou':\n",
        "      num += 1\n",
        "  return num"
      ]
    },
    {
      "cell_type": "code",
      "execution_count": null,
      "id": "AkWvEPHKQR5t",
      "metadata": {
        "id": "AkWvEPHKQR5t"
      },
      "outputs": [],
      "source": [
        "# 131\n",
        "# 임의의 수 세 개를 입력받은 후, 평균, 최대값, 최소값을 출력..\n",
        "# 단 입력값이 수가 아니면 수를 입력하도록 메시지와 입력창을 출력..\n",
        "\n",
        "def cal_three():\n",
        "\n",
        "  L = []\n",
        "\n",
        "  try:\n",
        "    num1 = int(input('임의의 정수를 입력하세요'))\n",
        "    num2= int(input('임의의 정수를 입력하세요'))\n",
        "    num3 = int(input('임의의 정수를 입력하세요'))\n",
        "  except:\n",
        "    print(\"숫자를 입력하세요\")\n",
        "    return\n",
        "\n",
        "  # for i in [num1, num2, num3]:\n",
        "  #   if isinstance(i, (int, float)):\n",
        "  #     L.append(i)\n",
        "  #   else:\n",
        "  #     print('숫자를 입력하세요')\n",
        "  #     return\n",
        "\n",
        "  return sum(L)/len(L), max(L), min(L)"
      ]
    },
    {
      "cell_type": "code",
      "execution_count": null,
      "id": "WFpxuDxsQR8R",
      "metadata": {
        "id": "WFpxuDxsQR8R"
      },
      "outputs": [],
      "source": [
        "# 132\n",
        "# 임의의 세 수 a,b,c 를 입력받은 후 a에서 b까지 c의 배수가 몇 개인지를 출력하는 함수..\n",
        "\n",
        "def cal_multi(a,b,c):\n",
        "  count = 0\n",
        "  for i in range(a, b+1):\n",
        "    if i%c == 0:\n",
        "      count += 1\n",
        "\n",
        "  return count\n"
      ]
    },
    {
      "cell_type": "code",
      "execution_count": null,
      "id": "ginCVBNnQ4O0",
      "metadata": {
        "id": "ginCVBNnQ4O0"
      },
      "outputs": [],
      "source": [
        "#133 lambda 함수와 list comprehension을 이용해서 1부터 20까지 정수의 제곱을 리스트에 담는 코드를 작성하시오.\n",
        "\n",
        "def temp(func):\n",
        "  return [func(i) for i in range(1, 21)]\n",
        "temp(lambda x: x**2)\n",
        "\n",
        "list(map(lambda x: x**2, range(1,21)))\n",
        "\n",
        "f = lambda x : x**2\n",
        "[f(i) for i in range(1, 21)]\n",
        "\n",
        "[(lambda x: x**2)(i) for i in range(1, 21)]\n",
        "\n",
        "[i**2 for i in range(1, 21)]"
      ]
    },
    {
      "cell_type": "code",
      "source": [],
      "metadata": {
        "id": "pnaaa6ZLjOBf"
      },
      "id": "pnaaa6ZLjOBf",
      "execution_count": null,
      "outputs": []
    },
    {
      "cell_type": "code",
      "execution_count": null,
      "id": "ndLqUIMVQ4Rb",
      "metadata": {
        "id": "ndLqUIMVQ4Rb",
        "colab": {
          "base_uri": "https://localhost:8080/"
        },
        "outputId": "4488f89a-a154-42bf-cd4c-aafd0569668d"
      },
      "outputs": [
        {
          "output_type": "execute_result",
          "data": {
            "text/plain": [
              "[(1, 'a'), (2, 'b'), (3, 'c'), (4, 'd'), (5, 'e')]"
            ]
          },
          "metadata": {},
          "execution_count": 73
        }
      ],
      "source": [
        "#134 두 리스트에서 각각 하나씩 원소를 받아서 튜플로 담아서 리스트에 담는 코드를 lambda 를 이용해서 작성하시오.\n",
        "L1 = [1,2,3,4,5]\n",
        "L2 = ['a','b','c','d','e']\n",
        "\n",
        "f = lambda x,y : (x, y)\n",
        "[f(x,y) for x, y in zip(L1, L2)]\n",
        "\n",
        "[(lambda x, y:(x,y))(i,j) for i, j in zip(L1, L2)]\n",
        "\n",
        "[x for x in zip(L1, L2)]"
      ]
    },
    {
      "cell_type": "code",
      "execution_count": null,
      "id": "rbL6UCNYa824",
      "metadata": {
        "id": "rbL6UCNYa824"
      },
      "outputs": [],
      "source": []
    },
    {
      "cell_type": "code",
      "execution_count": null,
      "id": "J74TbfWmcZIC",
      "metadata": {
        "id": "J74TbfWmcZIC"
      },
      "outputs": [],
      "source": [
        "# 135. 명함을 출력하는 class를 만들고, 객체를 생성하여 메소드를 호출하시오\n",
        "\n",
        "class BusinessCard:\n",
        "\n",
        "  def __init__(self, name, email, address):\n",
        "    self.name = name\n",
        "    self.email = email\n",
        "    self.address = address\n",
        "\n",
        "  def print_biz_card(self):\n",
        "    print(\"=================\")\n",
        "    print(\"Name :\", self.name)\n",
        "    print(\"Email :\", self.email)\n",
        "    print(\"Address :\", self.address)\n",
        "    print(\"=================\")\n",
        "\n",
        "bc = BusinessCard('Park', 'park@hanmail.net', 'Seoul')\n",
        "bc.print_biz_card()"
      ]
    },
    {
      "cell_type": "code",
      "execution_count": null,
      "id": "lH1B9AN_cZKw",
      "metadata": {
        "id": "lH1B9AN_cZKw",
        "colab": {
          "base_uri": "https://localhost:8080/"
        },
        "outputId": "9a2f7e46-6e98-4764-a91b-ab4ff572cd27"
      },
      "outputs": [
        {
          "output_type": "execute_result",
          "data": {
            "text/plain": [
              "12.56"
            ]
          },
          "metadata": {},
          "execution_count": 78
        }
      ],
      "source": [
        "# 136,\n",
        "# 원의 면적과 둘레길이를 출력하는 두 개의 메소드를 가진 클래스를 만들고, 객체를 생성하고, 메소드를 실행하시오..\n",
        "\n",
        "# 클래스 변수 : pi = 3.14\n",
        "# 반지름은 입력받는 인스턴스 변수 : r\n",
        "# 원의 면적 : pi*r**2\n",
        "# 원의 둘레 : pi*r*2\n",
        "\n",
        "class Circle:\n",
        "\n",
        "  pi = 3.14\n",
        "\n",
        "  def __init__(self, radius):\n",
        "    self.r = radius\n",
        "\n",
        "  def area(self):\n",
        "    return (self.r**2)*Circle.pi\n",
        "\n",
        "  def perimeter(self):\n",
        "    return (self.r*2)*Circle.pi\n",
        "\n",
        "cir = Circle(2)\n",
        "cir.area()\n",
        "cir.perimeter()"
      ]
    },
    {
      "cell_type": "code",
      "execution_count": null,
      "id": "XM5qsaqNQEH9",
      "metadata": {
        "id": "XM5qsaqNQEH9"
      },
      "outputs": [],
      "source": [
        "# 137.\n",
        "# print('can sing')을 출력하는 parent class를 만드고, 이를 상속하여 print('can dance')메소드를 갖는 child class를 만드시오\n",
        "\n",
        "class Parent:\n",
        "  def can_sing(self):\n",
        "    print('can sing')\n",
        "\n",
        "class Child(Parent):\n",
        "  def can_dance(self):\n",
        "    print('can dance')\n",
        "\n",
        "ch = Child()\n",
        "ch.can_dance()\n",
        "\n",
        "ch.can_sing()"
      ]
    },
    {
      "cell_type": "code",
      "execution_count": null,
      "id": "IcQa72ruQENK",
      "metadata": {
        "id": "IcQa72ruQENK"
      },
      "outputs": [],
      "source": [
        "# 138.\n",
        "# class : FourCal\n",
        "# 속성 : a, b\n",
        "# 메소드 : 덧셈, 뺄샘, 곱셈, 나눗셈 - 4개의 메소드\n",
        "\n",
        "# 위의 클래스의 객체를 생성하고 각각의 메소드를 호출하시오..\n",
        "\n",
        "class FourCal:\n",
        "\n",
        "  def __init__(self, a, b):\n",
        "    self.a = a\n",
        "    self.b = b\n",
        "\n",
        "  def sumf(self):\n",
        "    return self.a + self.b\n",
        "\n",
        "  def subf(self):\n",
        "    return self.a - self.b\n",
        "\n",
        "  def divf(self):\n",
        "    return self.a / self.b\n",
        "\n",
        "  def mulf(self):\n",
        "    return self.a * self.b\n"
      ]
    },
    {
      "cell_type": "code",
      "execution_count": null,
      "id": "KWhm-1gcWxOj",
      "metadata": {
        "id": "KWhm-1gcWxOj"
      },
      "outputs": [],
      "source": [
        "fc = FourCal(2,4)"
      ]
    },
    {
      "cell_type": "code",
      "execution_count": null,
      "id": "af6a21b2",
      "metadata": {
        "id": "af6a21b2"
      },
      "outputs": [],
      "source": [
        "fc.sumf()"
      ]
    },
    {
      "cell_type": "code",
      "source": [
        "fc.mulf()"
      ],
      "metadata": {
        "id": "iN4onjroqpDw"
      },
      "id": "iN4onjroqpDw",
      "execution_count": null,
      "outputs": []
    },
    {
      "cell_type": "code",
      "source": [],
      "metadata": {
        "id": "fQwXc37eqqwl"
      },
      "id": "fQwXc37eqqwl",
      "execution_count": null,
      "outputs": []
    }
  ],
  "metadata": {
    "colab": {
      "provenance": []
    },
    "kernelspec": {
      "display_name": "Python 3 (ipykernel)",
      "language": "python",
      "name": "python3"
    },
    "language_info": {
      "codemirror_mode": {
        "name": "ipython",
        "version": 3
      },
      "file_extension": ".py",
      "mimetype": "text/x-python",
      "name": "python",
      "nbconvert_exporter": "python",
      "pygments_lexer": "ipython3",
      "version": "3.10.9"
    }
  },
  "nbformat": 4,
  "nbformat_minor": 5
}