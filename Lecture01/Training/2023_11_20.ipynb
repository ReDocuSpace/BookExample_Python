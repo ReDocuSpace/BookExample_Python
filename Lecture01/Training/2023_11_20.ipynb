{
 "cells": [
  {
   "cell_type": "code",
   "execution_count": null,
   "id": "95a33499",
   "metadata": {},
   "outputs": [],
   "source": [
    "# ### file \n",
    "\n",
    "# 1. file 열기 \n",
    "# 1.1 f = open(\"파일 명\", 'r/w/a'), \n",
    "# 1.2 with open('filename', 'r/w/a') as f:\n",
    "\n",
    "# 2. file 읽기/쓰기/이어쓰기\n",
    "# 2-1 f.read()\n",
    "# 2-2 f.readline()\n",
    "# 2-3 f.readlines()\n",
    "# for line in f:\n",
    "\n",
    "# 쓰기\n",
    "\n",
    "# 3. file 닫기\n",
    "# f.close()"
   ]
  },
  {
   "cell_type": "code",
   "execution_count": null,
   "id": "5f7d0920",
   "metadata": {
    "scrolled": true
   },
   "outputs": [],
   "source": [
    "f = open('data_files/myfile.txt','r')\n",
    "\n",
    "text = f.read()\n",
    "\n",
    "print(text)\n",
    "\n",
    "f.close()"
   ]
  },
  {
   "cell_type": "code",
   "execution_count": null,
   "id": "20501f50",
   "metadata": {},
   "outputs": [],
   "source": [
    "f = open('data_files/myfile.txt','r')\n",
    "\n",
    "text = f.readline()\n",
    "\n",
    "print(text)\n",
    "f.close()"
   ]
  },
  {
   "cell_type": "code",
   "execution_count": null,
   "id": "e7aa4930",
   "metadata": {},
   "outputs": [],
   "source": [
    "f = open('data_files/myfile.txt','r')\n",
    "\n",
    "text = f.readlines()\n",
    "\n",
    "print(text)\n",
    "f.close()"
   ]
  },
  {
   "cell_type": "code",
   "execution_count": null,
   "id": "e89774d9",
   "metadata": {},
   "outputs": [],
   "source": [
    "f = open('data_files/myfile.txt','r')\n",
    "\n",
    "for line in f:\n",
    "    print(line)\n",
    "    \n",
    "f.close()"
   ]
  },
  {
   "cell_type": "code",
   "execution_count": null,
   "id": "ed4d4cdf",
   "metadata": {},
   "outputs": [],
   "source": [
    "# pwd - 나의 위치 확인\n",
    "# / 하위 폴더\n",
    "# / 상위 폴더\n",
    "# . 현재 나의 위치\n",
    "\n",
    "f = open('score.txt','w')\n",
    "\n",
    "f.write(\"1 88\\n\")\n",
    "f.write(\"2 75\\n\")\n",
    "f.write(\"3 88\\n\")\n",
    "f.write(\"4 98\\n\")\n",
    "\n",
    "f.close()"
   ]
  },
  {
   "cell_type": "code",
   "execution_count": null,
   "id": "07f66fcf",
   "metadata": {},
   "outputs": [],
   "source": [
    "with open('score.txt','r') as f:\n",
    "    print(f.readlines())"
   ]
  },
  {
   "cell_type": "code",
   "execution_count": null,
   "id": "9fe55476",
   "metadata": {},
   "outputs": [],
   "source": [
    "# windows = \\\n",
    "# python = /\n",
    "\n",
    "# 1번 : 84\n",
    "# 2번 : 75\n",
    "# 3번 : 88\n",
    "# 4번 : 98\n",
    "\n",
    "with open(\"score.txt\",'r') as f:\n",
    "    \n",
    "    msg = \"\"\n",
    "    for line in f:\n",
    "        num = line.split()[0]\n",
    "        score = line.split()[1]\n",
    "        \n",
    "        \n",
    "        print(f\"{num}번 {score}\")"
   ]
  },
  {
   "cell_type": "code",
   "execution_count": null,
   "id": "ecf01c07",
   "metadata": {},
   "outputs": [],
   "source": [
    "# web 에서 text를 복사해서 web_text.txt 파일에 쓰고,\n",
    "# 4가지 버전으로 전체 내용을 출력하시오\n",
    "\n",
    "with open('lyrics.txt','w') as f:\n",
    "    \n",
    "    f.write(\n",
    "\"\"\"나 보기가 역겨워 가실 때에는\n",
    "말없이 고이 보내 드리오리다\n",
    "나 보기가 역겨워 가실 때에는\n",
    "죽어도 아니 눈물 흘리오리다\n",
    "\n",
    "날 떠나 행복한지 이젠 그대 아닌지\n",
    "그댈 바라보며 살아온 내가\n",
    "그녀 뒤에 가렸는지\n",
    "\n",
    "사랑 그 아픔이 너무 커\n",
    "숨을 쉴 수가 없어\n",
    "그대 행복하게 빌어줄게요\n",
    "내 영혼으로 빌어줄게요\n",
    "\n",
    "나 보기가 역겨워 가실 때에는\n",
    "말없이 고이 보내 드리오리다\n",
    "영변에 약산 진달래꽃\n",
    "아름 따다 가실 길에 뿌리오리다\n",
    "\n",
    "가시는 걸음 놓인 그 꽃을\n",
    "사뿐히 즈려 밟고 가시옵소서\n",
    "나 보기가 역겨워 가실 때에는\n",
    "죽어도 아니 눈물 흘리오리다\n",
    "\n",
    "내가 떠나 바람 되어 그대를 맴돌아도\n",
    "그댄 그녈 사랑하겠지\n",
    "\n",
    "나 보기가 역겨워 가실 때에는\n",
    "말없이 고이 보내 드리오리다\n",
    "영변에 약산 진달래꽃\n",
    "아름 따다 가실 길에 뿌리오리다\n",
    "\n",
    "가시는 걸음 놓인 그 꽃을\n",
    "사뿐히 즈려 밟고 가시옵소서\n",
    "나 보기가 역겨워 가실 때에는\n",
    "죽어도 아니 눈물 흘리오리다\n",
    "\n",
    "나 보기가 역겨워 가실 때에는\n",
    "죽어도 아니 눈물 흘리오리다\"\"\")\n",
    "\n"
   ]
  },
  {
   "cell_type": "code",
   "execution_count": null,
   "id": "eba6e6ef",
   "metadata": {},
   "outputs": [],
   "source": [
    "# readlines()\n",
    "# readline()\n",
    "# for\n",
    "# read()\n",
    "\n",
    "with open('lyrics.txt','r') as f:\n",
    "    print(\"Pattern 1\")\n",
    "    text = f.readlines()\n",
    "    \n",
    "    for item in text:\n",
    "        print(item)\n",
    "    "
   ]
  },
  {
   "cell_type": "code",
   "execution_count": null,
   "id": "bcd37117",
   "metadata": {
    "scrolled": false
   },
   "outputs": [],
   "source": [
    "    # Pattern 2\n",
    "with open('lyrics.txt','r') as f:\n",
    "\n",
    "    while True:\n",
    "        line = f.readline()\n",
    "        if not line: # 파일 읽기가 종료된 경우\n",
    "            break\n",
    "        print(line.strip())\n",
    "   "
   ]
  },
  {
   "cell_type": "code",
   "execution_count": null,
   "id": "8a3f56cd",
   "metadata": {
    "scrolled": true
   },
   "outputs": [],
   "source": [
    "with open('lyrics.txt','r') as f:\n",
    "    print(\"Pattern 3\")\n",
    "    for item in f:\n",
    "        print(item)\n",
    "\n",
    "     "
   ]
  },
  {
   "cell_type": "code",
   "execution_count": null,
   "id": "c8a8578f",
   "metadata": {},
   "outputs": [],
   "source": []
  },
  {
   "cell_type": "code",
   "execution_count": null,
   "id": "f493e758",
   "metadata": {},
   "outputs": [],
   "source": [
    "f = open('lyrics.txt','r')\n",
    "\n",
    "contest = f.read()\n",
    "\n",
    "f.close()\n",
    "\n",
    "print(contest)"
   ]
  },
  {
   "cell_type": "code",
   "execution_count": null,
   "id": "240c18ac",
   "metadata": {},
   "outputs": [],
   "source": [
    "f = open('lyrics.txt','r')\n",
    "\n",
    "contest = f.readlines()\n",
    "\n",
    "f.close()\n",
    "\n",
    "for line in contest:\n",
    "    print(line)"
   ]
  },
  {
   "cell_type": "code",
   "execution_count": null,
   "id": "40fc8d43",
   "metadata": {},
   "outputs": [],
   "source": [
    "f = open('lyrics.txt','r')\n",
    "\n",
    "line = f.readline()\n",
    "\n",
    "while line:\n",
    "    print(line)\n",
    "    line = f.readline()\n",
    "    \n",
    "\n",
    "f.close()\n"
   ]
  },
  {
   "cell_type": "code",
   "execution_count": null,
   "id": "55d16f28",
   "metadata": {},
   "outputs": [],
   "source": [
    "f = open(\"data_files/stockcode.txt\",\"r\")\n",
    "\n",
    "while True:\n",
    "    msg = f.readline()\n",
    "    \n",
    "    print(msg)\n",
    "    if not msg: # 파일 읽기가 종료된 경우\n",
    "            break\n",
    "\n",
    "f.close()"
   ]
  },
  {
   "cell_type": "code",
   "execution_count": null,
   "id": "d60ca53a",
   "metadata": {},
   "outputs": [],
   "source": [
    "with open(\"data_files/stockcode.txt\",\"r\",encoding='euckr') as f:\n",
    "    for item in f:\n",
    "        print(item)"
   ]
  },
  {
   "cell_type": "code",
   "execution_count": null,
   "id": "84589db8",
   "metadata": {},
   "outputs": [],
   "source": [
    "# UTF-8 / EUC-KR ' CP949' encoding='euckr'"
   ]
  },
  {
   "cell_type": "code",
   "execution_count": null,
   "id": "0b21810f",
   "metadata": {},
   "outputs": [],
   "source": [
    "# '삼성전자'의 종목코드를 출력하시오\n",
    "\n",
    "with open(\"data_files/stockcode.txt\",\"r\",encoding='euckr') as f:\n",
    "    \n",
    "    while True:\n",
    "        msg = f.readline()\n",
    "    \n",
    "        a = msg.split()[0]\n",
    "        b = msg.split()[1]\n",
    "        \n",
    "        if b == '삼성전자':\n",
    "            print(a)\n",
    "            break\n",
    "        \n",
    "        if not msg: # 파일 읽기가 종료된 경우\n",
    "            break\n",
    "    "
   ]
  },
  {
   "cell_type": "code",
   "execution_count": null,
   "id": "9bcbec7a",
   "metadata": {},
   "outputs": [],
   "source": [
    "with open(\"data_files/stockcode.txt\",\"r\",encoding='euckr') as f:\n",
    "    for line in f:\n",
    "        code = line.split()[0]\n",
    "        name = line.split()[1]\n",
    "        \n",
    "        if name == '삼성전자':\n",
    "            print(code)"
   ]
  },
  {
   "cell_type": "code",
   "execution_count": null,
   "id": "1abea31a",
   "metadata": {},
   "outputs": [],
   "source": [
    "# 종목명을 받아서 종목명을 출력하는 코드를 구현하시오\n",
    "\n",
    "subject = input()\n",
    "\n",
    "with open(\"data_files/stockcode.txt\",\"r\",encoding='euckr') as f:\n",
    "    \n",
    "    check = False\n",
    "    for line in f:\n",
    "        code = line.split()[0]\n",
    "        name = line.split()[1]\n",
    "        \n",
    "        if name == subject:\n",
    "            print(code)\n",
    "            check = True\n",
    "            break\n",
    "        \n",
    "    if check == False:\n",
    "        print(\"종목이 없습니다\")"
   ]
  },
  {
   "cell_type": "code",
   "execution_count": null,
   "id": "5223b28d",
   "metadata": {},
   "outputs": [],
   "source": [
    "# stockcode.txt 파일의 내용을 dictionary로 저장하십시오\n",
    "# 단 key는 '종목명'으로 하시오\n",
    "\n",
    "stockDict = {}\n",
    "\n",
    "with open(\"data_files/stockcode.txt\",\"r\",encoding='euckr') as f:\n",
    "    while True:\n",
    "        msg = f.readline()\n",
    "        \n",
    "        if not msg: # 파일 읽기가 종료된 경우\n",
    "            break\n",
    "    \n",
    "        subject_id = msg.split()[0]\n",
    "        subject_name = msg.split()[1]\n",
    "        \n",
    "        stockDict[subject_name] = subject_id\n",
    "        \n",
    "\n",
    "for key, item in stockDict.items():\n",
    "    print(f\"key : {key} , / value : {item}\")\n"
   ]
  },
  {
   "cell_type": "code",
   "execution_count": null,
   "id": "7e5676ee",
   "metadata": {},
   "outputs": [],
   "source": [
    "# 'stockcode.txt'를 복사해서 'stockcode_cpoy.txt\"를 만드시오\n",
    "\n",
    "stockDict = {}\n",
    "\n",
    "with open(\"data_files/stockcode.txt\",\"r\",encoding='euckr') as f:\n",
    "    while True:\n",
    "        msg = f.readline()\n",
    "        \n",
    "        if not msg: # 파일 읽기가 종료된 경우\n",
    "            break\n",
    "    \n",
    "        subject_id = msg.split()[0]\n",
    "        subject_name = msg.split()[1]\n",
    "        \n",
    "        stockDict[subject_name] = subject_id\n",
    "        \n",
    "with open(\"data_files/stockcode_copy.txt\",\"w\",encoding='euckr') as f:\n",
    "    for key, item in stockDict.items():\n",
    "        f.write(f\"{key} {item}\\n\")\n",
    "    "
   ]
  },
  {
   "cell_type": "code",
   "execution_count": null,
   "id": "64c8ff79",
   "metadata": {},
   "outputs": [],
   "source": [
    "import os\n",
    "\n",
    "os.listdir(\"/\")"
   ]
  },
  {
   "cell_type": "code",
   "execution_count": null,
   "id": "78655b0b",
   "metadata": {},
   "outputs": [],
   "source": [
    "from IPython.display import Image\n",
    "\n",
    "Image(\"data_files/bird.jpg\")\n",
    "\n"
   ]
  },
  {
   "cell_type": "code",
   "execution_count": null,
   "id": "5ec7d1e6",
   "metadata": {},
   "outputs": [],
   "source": [
    "f = open(\"data_files/bird.jpg\", 'rb')\n",
    "g = open(\"data_files/bird_copy.jpg\", 'wb')\n",
    "\n",
    "contents = f.read()\n",
    "g.write(contents)\n",
    "\n",
    "f.close()\n",
    "g.close()"
   ]
  },
  {
   "cell_type": "code",
   "execution_count": null,
   "id": "5c9683f8",
   "metadata": {},
   "outputs": [],
   "source": [
    "from IPython.display import Image\n",
    "\n",
    "Image(\"data_files/bird_copy.jpg\")\n",
    "\n"
   ]
  },
  {
   "cell_type": "code",
   "execution_count": null,
   "id": "4cd69fa3",
   "metadata": {},
   "outputs": [],
   "source": [
    "# .메모장\n",
    "\n",
    "use = input(\"메모장을 쓰려면 1. 메모장를 읽으려면 0을 입력하세요\")\n",
    "\n",
    "if use == '1':\n",
    "    msg = input('기록할 내용을 입력하세요')\n",
    "    \n",
    "    f = open(\"memo.txt\", 'a')\n",
    "    \n",
    "    f.write(msg + '\\n')\n",
    "    \n",
    "    print(\"메모장에 저장하였습니다.\")\n",
    "    \n",
    "    f.close()\n",
    "\n",
    "else:\n",
    "    f = open(\"memo.txt\",'r')\n",
    "    \n",
    "    text = f.read()\n",
    "    print(text)\n",
    "    \n",
    "    f.close()"
   ]
  },
  {
   "cell_type": "code",
   "execution_count": null,
   "id": "983da283",
   "metadata": {},
   "outputs": [],
   "source": []
  },
  {
   "cell_type": "code",
   "execution_count": null,
   "id": "977d1019",
   "metadata": {},
   "outputs": [],
   "source": [
    "# 함수 \n",
    "# 1. 코드의 모듈화 - 코드가 간결하다\n",
    "# 2. 코드의 재사용성 - 코드의 생산성이 높아진다\n",
    "\n",
    "# 함수의 종류\n",
    "# 1. 내장함수 - 파이썬에서 기본적으로 제공하는 함수..\n",
    "# 2. 사용자 정의 함수 - 사용자가 함수를 직접 만들어서 사용하는 함수\n",
    "# 3. 외부함수 - 외부에서 만든 함수를 import 해서 만든 경우\n",
    "\n",
    "### 파이썬 내장함수"
   ]
  },
  {
   "cell_type": "code",
   "execution_count": null,
   "id": "889d5c08",
   "metadata": {},
   "outputs": [],
   "source": [
    "abs(-5)"
   ]
  },
  {
   "cell_type": "code",
   "execution_count": null,
   "id": "d6145981",
   "metadata": {},
   "outputs": [],
   "source": [
    "all([True, False, True])"
   ]
  },
  {
   "cell_type": "code",
   "execution_count": null,
   "id": "222cf778",
   "metadata": {},
   "outputs": [],
   "source": [
    "any([True, False, True])"
   ]
  },
  {
   "cell_type": "code",
   "execution_count": null,
   "id": "1efeb3bf",
   "metadata": {},
   "outputs": [],
   "source": [
    "f = 5.3\n",
    "int(f)\n",
    "float(f)\n",
    "type(f)\n",
    "\n",
    "# len(), max(), min(), sum(),"
   ]
  },
  {
   "cell_type": "code",
   "execution_count": 2,
   "id": "ddf582b1",
   "metadata": {},
   "outputs": [
    {
     "data": {
      "text/plain": [
       "(1, 2, 3)"
      ]
     },
     "execution_count": 2,
     "metadata": {},
     "output_type": "execute_result"
    }
   ],
   "source": [
    "L = [1,2,3]\n",
    "T = (1,2,5)\n",
    "S = {5,6,7}\n",
    "D = {1:\"one\", 2:\"two\"}\n",
    "s = 'hello python'\n",
    "\n",
    "str(L)\n",
    "list(s)\n",
    "set(T)\n",
    "tuple(L)"
   ]
  },
  {
   "cell_type": "code",
   "execution_count": 3,
   "id": "092fbe76",
   "metadata": {},
   "outputs": [
    {
     "name": "stdout",
     "output_type": "stream",
     "text": [
      "0 1\n",
      "1 2\n",
      "2 3\n"
     ]
    }
   ],
   "source": [
    "for i, x in enumerate(L):\n",
    "    print(i,x)"
   ]
  },
  {
   "cell_type": "code",
   "execution_count": 4,
   "id": "10c91269",
   "metadata": {},
   "outputs": [
    {
     "data": {
      "text/plain": [
       "1876459569728"
      ]
     },
     "execution_count": 4,
     "metadata": {},
     "output_type": "execute_result"
    }
   ],
   "source": [
    "id(L)"
   ]
  },
  {
   "cell_type": "code",
   "execution_count": 8,
   "id": "0a3f4ba3",
   "metadata": {},
   "outputs": [
    {
     "data": {
      "text/plain": [
       "1"
      ]
     },
     "execution_count": 8,
     "metadata": {},
     "output_type": "execute_result"
    }
   ],
   "source": [
    "max(L)\n",
    "len(L)\n",
    "min(L)\n",
    "sum(L)"
   ]
  },
  {
   "cell_type": "code",
   "execution_count": 9,
   "id": "ab170ebd",
   "metadata": {},
   "outputs": [
    {
     "data": {
      "text/plain": [
       "True"
      ]
     },
     "execution_count": 9,
     "metadata": {},
     "output_type": "execute_result"
    }
   ],
   "source": [
    "isinstance(L, list)"
   ]
  },
  {
   "cell_type": "code",
   "execution_count": 10,
   "id": "5535bf64",
   "metadata": {},
   "outputs": [
    {
     "data": {
      "text/plain": [
       "False"
      ]
     },
     "execution_count": 10,
     "metadata": {},
     "output_type": "execute_result"
    }
   ],
   "source": [
    "isinstance(L, tuple)"
   ]
  },
  {
   "cell_type": "code",
   "execution_count": 11,
   "id": "525c04ae",
   "metadata": {},
   "outputs": [],
   "source": [
    "# zip : sequence data를 복수로 받아서 동일한 index요소 끼리 묶는다"
   ]
  },
  {
   "cell_type": "code",
   "execution_count": 13,
   "id": "67600185",
   "metadata": {},
   "outputs": [
    {
     "data": {
      "text/plain": [
       "[(1, 2, 'a'), (3, 3, 'b'), (5, 5, 'c')]"
      ]
     },
     "execution_count": 13,
     "metadata": {},
     "output_type": "execute_result"
    }
   ],
   "source": [
    "list(zip([1,3,5],[2,3,5],'abc'))"
   ]
  },
  {
   "cell_type": "code",
   "execution_count": 14,
   "id": "19c1417e",
   "metadata": {},
   "outputs": [
    {
     "name": "stdout",
     "output_type": "stream",
     "text": [
      "('a', 1)\n",
      "('b', 2)\n",
      "('c', 3)\n"
     ]
    }
   ],
   "source": [
    "x = ['a', 'b', 'c']\n",
    "y = [1,2,3]\n",
    "\n",
    "for i in zip(x,y):\n",
    "    print(i)"
   ]
  },
  {
   "cell_type": "code",
   "execution_count": null,
   "id": "a9e873fd",
   "metadata": {},
   "outputs": [],
   "source": [
    "# 사용자 정의 함수..."
   ]
  }
 ],
 "metadata": {
  "kernelspec": {
   "display_name": "Python 3 (ipykernel)",
   "language": "python",
   "name": "python3"
  },
  "language_info": {
   "codemirror_mode": {
    "name": "ipython",
    "version": 3
   },
   "file_extension": ".py",
   "mimetype": "text/x-python",
   "name": "python",
   "nbconvert_exporter": "python",
   "pygments_lexer": "ipython3",
   "version": "3.11.5"
  }
 },
 "nbformat": 4,
 "nbformat_minor": 5
}
