{
 "cells": [
  {
   "cell_type": "code",
   "execution_count": null,
   "id": "1d870a64",
   "metadata": {},
   "outputs": [],
   "source": [
    "# # 사용자 정의\n",
    "# def 함수명(매개변수, 매개변수...):\n",
    "#     실행코드\n",
    "#     실행코드\n",
    "#     실행코드\n",
    "\n",
    "# # 함수호출실행\n",
    "# 함수명(매개변수인자값, ...)"
   ]
  },
  {
   "cell_type": "code",
   "execution_count": null,
   "id": "054b2097",
   "metadata": {},
   "outputs": [],
   "source": [
    "# 1. 매개변수가 없는 함수...\n",
    "\n",
    "def hello():\n",
    "    print(\"hello python...\")\n",
    "    \n",
    "# 함수 실행\n",
    "hello()"
   ]
  },
  {
   "cell_type": "code",
   "execution_count": null,
   "id": "79d5b7e4",
   "metadata": {},
   "outputs": [],
   "source": [
    "# 2. 매개변수가 있는 함수\n",
    "def hello(a):\n",
    "    print(\"hello {}..!!\".format(a))\n",
    "\n",
    "hello(\"world\")"
   ]
  },
  {
   "cell_type": "code",
   "execution_count": null,
   "id": "b7ba7094",
   "metadata": {},
   "outputs": [],
   "source": [
    "# 3. 매개변수가 있는 함수\n",
    "def hello(a, b):\n",
    "    result = a + b\n",
    "    print(result)  # 화면에 보여준다.\n",
    "\n",
    "hello(14,15)"
   ]
  },
  {
   "cell_type": "code",
   "execution_count": null,
   "id": "1be589ca",
   "metadata": {},
   "outputs": [],
   "source": [
    "# 4. return : 함수를 호출한 곳에 값을 전달...\n",
    "def calcul(a,b):\n",
    "    return a+ b    # 값을 되돌린다.\n",
    "\n",
    "print(calcul(5,6))"
   ]
  },
  {
   "cell_type": "code",
   "execution_count": null,
   "id": "6b906787",
   "metadata": {},
   "outputs": [],
   "source": [
    "result = calcul(2,4)\n",
    "print(result)"
   ]
  },
  {
   "cell_type": "code",
   "execution_count": null,
   "id": "50cf1308",
   "metadata": {},
   "outputs": [],
   "source": [
    "# 1부터 10까지 정수의 합을 리턴하는 함수\n",
    "def sum1to10():\n",
    "    result = 0\n",
    "    for i in range(0,11):\n",
    "        result += i\n",
    "    \n",
    "    return result\n",
    "\n",
    "result = sum([ i for i in range(1,11)])\n",
    "result = sum([ i for i in range(a, b + 1)])\n",
    "\n",
    "\n",
    "print(sum1to10())"
   ]
  },
  {
   "cell_type": "code",
   "execution_count": null,
   "id": "ded0736f",
   "metadata": {},
   "outputs": [],
   "source": [
    "# 임의의 정수를 입력받은 후 1부터 임의의 값까지 합을 리턴하는 함수..\n",
    "\n",
    "def sum1toX(x):\n",
    "    result = 0\n",
    "    for i in range(0,x + 1):\n",
    "        result += i\n",
    "    \n",
    "    return result\n",
    "\n",
    "number = int(input(\"값을 입력해주세요 : \"))\n",
    "print(sum1toX(number))"
   ]
  },
  {
   "cell_type": "code",
   "execution_count": null,
   "id": "ab47e343",
   "metadata": {},
   "outputs": [],
   "source": [
    "# 임의의 정수를 a,b,를 입력받은 후 a부터 b까지의 합을 리턴하는 함수..\n",
    "def sumXtoY(x,y):\n",
    "    result = 0\n",
    "    for i in range(x,y + 1):\n",
    "        result += i\n",
    "    \n",
    "    return result\n",
    "\n",
    "numberX = int(input(\"X 값을 입력해주세요 : \"))\n",
    "numberY = int(input(\"Y 값을 입력해주세요 : \"))\n",
    "print(sumXtoY(numberX,numberY))"
   ]
  },
  {
   "cell_type": "code",
   "execution_count": null,
   "id": "3f150938",
   "metadata": {},
   "outputs": [],
   "source": [
    "# 절대값을 리턴하는 함수를 생성하고, 실행하시오\n",
    "def ABS(num):    \n",
    "    if num < 0:\n",
    "        num *= -1\n",
    "    return num\n",
    "\n",
    "print(ABS(-4))\n",
    "\n",
    "def A\n"
   ]
  },
  {
   "cell_type": "code",
   "execution_count": null,
   "id": "5f2cfd8a",
   "metadata": {},
   "outputs": [],
   "source": [
    "def test(*args):\n",
    "    print(type(args))\n",
    "    for arg in args:   \n",
    "        print(arg)\n",
    "    \n",
    "test(5,6,7)\n",
    "\n"
   ]
  },
  {
   "cell_type": "code",
   "execution_count": null,
   "id": "1040367f",
   "metadata": {},
   "outputs": [],
   "source": [
    "# 매개변수를 임의의 정수 a, b, 두 개를 입력 받은 후,\n",
    "# 사칙연산 결과값을 리턴하는 함수를 만들고 실행하시오...\n",
    "# (덧셈, 곱셈, 나눗셈, 뺄셈)\n",
    "\n",
    "\n",
    "def calSum(x,y):\n",
    "    return x + y\n",
    "\n",
    "def calMinus(x,y):\n",
    "    return x - y\n",
    "\n",
    "def calMix(x,y):\n",
    "    return x * y\n",
    "\n",
    "def calDiv(x,y):\n",
    "    return x / y\n",
    "\n",
    "def allCalcul(x,y):\n",
    "    # 여러개의 값을 return 하는 경우 ','로 구분\n",
    "    return ([x + y], [x - y], [x * y], \n",
    "            [0] if x == 0 or y == 0 else [x / y])\n",
    "\n",
    "\n",
    "a,b,c,d = allCalcul(5,0)\n",
    "print(a,b,c,d)\n",
    "\n"
   ]
  },
  {
   "cell_type": "code",
   "execution_count": null,
   "id": "705ff3bd",
   "metadata": {},
   "outputs": [],
   "source": [
    "import datetime\n",
    "\n",
    "# today_f() 를 만들어서 함수를 호출하면 '<>님 오늘은 <>년도 <>월 <>입니다..'\n",
    "\n",
    "def today_f(name):\n",
    "    day = datetime.datetime.now().strftime('%Y-%m-%d-%H-%M').split('-')\n",
    "    print(f\"{name}님!!, 오늘은 {day[0]}년도 {day[1]}월 {day[2]}일 {day[3]}시 {day[4]}분 입니다..\")\n",
    "    return day\n",
    "\n",
    "\n",
    "today_f(\"우와앙\")"
   ]
  },
  {
   "cell_type": "code",
   "execution_count": null,
   "id": "47d27500",
   "metadata": {},
   "outputs": [],
   "source": [
    "import datetime\n",
    "def today_(name):\n",
    "    now = datetime.datetime.now()\n",
    "    formatted_date = now.strftime('%Y년 %m월 %d일 %H시%M분')\n",
    "    message = f\"{name}님! 오늘은 {formatted_date}입니다.\"\n",
    "    return message\n",
    "# 예제 사용\n",
    "name = input(\"이름을 입력하세요: \")\n",
    "result = today_(name)\n",
    "print(result)"
   ]
  },
  {
   "cell_type": "code",
   "execution_count": null,
   "id": "f0f51427",
   "metadata": {},
   "outputs": [],
   "source": []
  },
  {
   "cell_type": "code",
   "execution_count": null,
   "id": "9cc58ecf",
   "metadata": {},
   "outputs": [],
   "source": [
    "!pip install requests"
   ]
  },
  {
   "cell_type": "code",
   "execution_count": null,
   "id": "5fda54a6",
   "metadata": {},
   "outputs": [],
   "source": [
    "!pip install BeautifulSoup4"
   ]
  },
  {
   "cell_type": "code",
   "execution_count": null,
   "id": "846696d0",
   "metadata": {},
   "outputs": [],
   "source": [
    "# 내 PC의 ip address를 출력하는 함수\n",
    "import requests\n",
    "from bs4 import BeautifulSoup\n",
    "\n",
    "# 크롤링\n",
    "def my_ip():\n",
    "    url = 'https://ip.pe.kr/'\n",
    "    path = 'body > div.cover-container.d-flex.p-3.flex-column > div.inner.cover.text-center > h1'\n",
    "\n",
    "    html = requests.get(url)\n",
    "    res = html.text\n",
    "\n",
    "    soup = BeautifulSoup(res, 'html.parser')\n",
    "\n",
    "    ip_address = soup.select(path)[0].text\n",
    "\n",
    "    print (f\"아이피 주소는 {ip_address}입니다\")\n",
    "    \n",
    "    return ip_address\n",
    "\n",
    "print(my_ip())"
   ]
  },
  {
   "cell_type": "code",
   "execution_count": null,
   "id": "02c1aabb",
   "metadata": {},
   "outputs": [],
   "source": [
    "# text file 과 '수정할 단어', '새로운 단어'를 입력받은 후 text에서 수정할 단어를 새로운 단어로 수정해서\n",
    "# 새로운 text를 리턴하는 함수를 만들고 실행하시오...\n",
    "\n",
    "\n",
    "\n",
    "def file_word_cng(file, old_word, new_word):\n",
    "    f = open(file,'r')\n",
    "    \n",
    "    text = f.read()\n",
    "    text = text.replace(old_word, new_word)\n",
    "    f.close()\n",
    "    \n",
    "    return text\n",
    "    \n",
    "text = file_word_cng(\"data_files/stockcode_copy_test.txt\",\"동화약품\",\"그거약품\")\n",
    "\n",
    "text.find(\"그거약품\")\n"
   ]
  },
  {
   "cell_type": "code",
   "execution_count": null,
   "id": "96082ec2",
   "metadata": {},
   "outputs": [],
   "source": [
    "def add_multiply(x,y):\n",
    "    suma = x + y\n",
    "    mult = x * y\n",
    "    return suma, mult  # 튜플로 반환한다.\n",
    "\n",
    "\n",
    "# import 될 때 실행이 되지 않기 위해서\n",
    "if __name__ == \"__main__\":      # main임을 이렇게 표현하기도 한다.\n",
    "    a = int(input('Enter a : '))\n",
    "    b = int(input('Enter b : '))\n",
    "    \n",
    "    m, n = add_multiply(a,b)\n",
    "    print(m,n)\n",
    "    \n",
    "    \n",
    "# __name__ : 현재 코딩하는 위치, 현재 코딩을 작성하는 위치값은 '__main__'\n",
    "# import를 통해 모듈을 가져와서 작업하는 경우 위치값은 '모듈의 이름'\n"
   ]
  },
  {
   "cell_type": "code",
   "execution_count": null,
   "id": "1fce982c",
   "metadata": {},
   "outputs": [],
   "source": [
    "__name__"
   ]
  },
  {
   "cell_type": "code",
   "execution_count": null,
   "id": "45f1a0bc",
   "metadata": {},
   "outputs": [],
   "source": [
    "from bs4 import BeautifulSoup as bs\n",
    "\n",
    "bs.__name__"
   ]
  },
  {
   "cell_type": "code",
   "execution_count": null,
   "id": "0fe3c636",
   "metadata": {},
   "outputs": [],
   "source": [
    "import test_moudle # 모듈을 Impoty하는 것은 python file Import"
   ]
  },
  {
   "cell_type": "code",
   "execution_count": null,
   "id": "e2082b69",
   "metadata": {},
   "outputs": [],
   "source": [
    "import test_moudle_copy"
   ]
  },
  {
   "cell_type": "code",
   "execution_count": null,
   "id": "c1050f26",
   "metadata": {},
   "outputs": [],
   "source": [
    "# __name__ 모듈 이름이 저장이 되어서 실행 제어"
   ]
  },
  {
   "cell_type": "code",
   "execution_count": null,
   "id": "42b3238f",
   "metadata": {},
   "outputs": [],
   "source": [
    "import test_moudle as tm\n",
    "\n",
    "tm.add_multiply(3,3)"
   ]
  },
  {
   "cell_type": "code",
   "execution_count": null,
   "id": "52fdabca",
   "metadata": {},
   "outputs": [],
   "source": [
    "def sumf(a, b = 10):   # 기본값을 가진 매개변수\n",
    "    return a + b\n",
    "\n",
    "# 기본값을 가진 매개변수\n",
    "# 값이 드러오면 입력된 값을 변수에 할당하고\n",
    "# 값이 들어오지 않으면 기본값을 변수에 할당해서 함수를 실행..\n",
    "# 기본값을 가진 매개변수는 일반매개변수 보다 뒤에 위치해야 한다\n",
    "\n",
    "sumf(1,2)\n",
    "sumf(1)"
   ]
  },
  {
   "cell_type": "code",
   "execution_count": null,
   "id": "c7225388",
   "metadata": {},
   "outputs": [],
   "source": [
    "def area(x,y):\n",
    "    return x * y ** 2\n",
    "\n",
    "area(2,5)\n",
    "area(x=2, y = 5)\n",
    "area(2,y = 10)\n",
    "# area(x = 2, 10) 할당에 오류가 있음\n",
    "# area(10,x = 2) 오류"
   ]
  },
  {
   "cell_type": "code",
   "execution_count": null,
   "id": "cec761ed",
   "metadata": {},
   "outputs": [],
   "source": [
    "def volume(x,y,z):\n",
    "    return x * y * z\n",
    "\n",
    "volume(1,3,5)\n",
    "volume(y = 7, z = 5, x = 2)\n",
    "volume(z = 7, z = 5, y = 2)\n",
    "volume(7, z = 5, y = 2)\n",
    "#volume(7, y = 5, x = 2) # x가 들어가므로 에러"
   ]
  },
  {
   "cell_type": "code",
   "execution_count": null,
   "id": "fb7453ec",
   "metadata": {},
   "outputs": [],
   "source": [
    "def sum_f(a, *b):\n",
    "    print(\"일반매개변수 값 : \", a)\n",
    "    print(\"가변매개변수 값 : \", b)\n",
    "    \n",
    "sum_f(4,5)"
   ]
  },
  {
   "cell_type": "code",
   "execution_count": null,
   "id": "466f6232",
   "metadata": {},
   "outputs": [],
   "source": [
    "def sum_f(a, *b):\n",
    "    result = a + sum(b)\n",
    "    return result"
   ]
  },
  {
   "cell_type": "code",
   "execution_count": null,
   "id": "64c722c8",
   "metadata": {},
   "outputs": [],
   "source": [
    "sum_f(4,5)"
   ]
  },
  {
   "cell_type": "code",
   "execution_count": null,
   "id": "97517312",
   "metadata": {},
   "outputs": [],
   "source": [
    "def count_f(a, *b):\n",
    "    c = b.count(a)\n",
    "    return c\n",
    "    \n",
    "count_f(15,34,34,5,15,26,13,15)"
   ]
  },
  {
   "cell_type": "code",
   "execution_count": null,
   "id": "a527843e",
   "metadata": {},
   "outputs": [],
   "source": [
    "def foo(x,y, **z):\n",
    "    print(x)\n",
    "    print(y)\n",
    "    print(z)\n",
    "    \n",
    "foo(2,4, a= 1, b = 2, c = 3)"
   ]
  },
  {
   "cell_type": "code",
   "execution_count": null,
   "id": "d323269c",
   "metadata": {
    "scrolled": false
   },
   "outputs": [],
   "source": [
    "# 일반매개변수 a,b 가변매개변수 *c 키워드 매개변수, **b 를 가진 함수에서 입력받은 값의 모든 평균을 구하시오\n",
    "\n",
    "def avg_all_range(a,b,*c,**d):\n",
    "    suma = 0\n",
    "    \n",
    "    length_size = 2 + len(c) + len(d)\n",
    "    \n",
    "    suma = a + b\n",
    "    \n",
    "    \n",
    "    for i in c:\n",
    "        suma += i\n",
    "    \n",
    "    for i in d.values():\n",
    "        suma += i\n",
    "        \n",
    "    return suma, suma/length_size\n",
    "    \n",
    "    \n",
    "avg_all_range(5,6,8,9,10,12,x = 10, y = 14, z = 23)    "
   ]
  },
  {
   "cell_type": "code",
   "execution_count": null,
   "id": "96d018bc",
   "metadata": {},
   "outputs": [],
   "source": [
    "import math.PI\n",
    "\n",
    "print(PI)"
   ]
  },
  {
   "cell_type": "code",
   "execution_count": null,
   "id": "312c6dd6",
   "metadata": {},
   "outputs": [],
   "source": [
    "from math import pi\n",
    "pi"
   ]
  },
  {
   "cell_type": "code",
   "execution_count": null,
   "id": "3aa87fc8",
   "metadata": {},
   "outputs": [],
   "source": [
    "# 전역변수, 지역변수\n",
    "# 메모리 상에 전역변수를 저장하는 공간\n",
    "# 지역변수를 저장하는 공간\n",
    "# 함수 내에서 먼저 지역변수 공간에서 변수를 찾고 없으면 \n",
    "# 전역변수 공간에서 변수를 찾아서 사용한다."
   ]
  },
  {
   "cell_type": "code",
   "execution_count": null,
   "id": "e7e4f88d",
   "metadata": {},
   "outputs": [],
   "source": [
    "a = 100\n",
    "def foo():\n",
    "    print(a) \n",
    "    # 함수 내에서 변수를 사용 시, 먼저 함수 내에서 정외된 a를 찾는다.\n",
    "    # 함수 내에 정의된 a가 없으면, 전역변수 공간에서 a를 찾는다.\n",
    "    \n",
    "foo()"
   ]
  },
  {
   "cell_type": "code",
   "execution_count": null,
   "id": "71df47c2",
   "metadata": {},
   "outputs": [],
   "source": [
    "\n",
    "def foo():\n",
    "    a = 100\n",
    "    print(a)\n",
    "    \n",
    "print(a)"
   ]
  },
  {
   "cell_type": "code",
   "execution_count": null,
   "id": "351e0941",
   "metadata": {},
   "outputs": [],
   "source": [
    "k = 100\n",
    "def foo():\n",
    "    k = 200\n",
    "    print(k)\n",
    "\n",
    "foo()\n",
    "print(k)"
   ]
  },
  {
   "cell_type": "code",
   "execution_count": null,
   "id": "ce59ef1b",
   "metadata": {},
   "outputs": [],
   "source": [
    "s = 100\n",
    "\n",
    "def foo():\n",
    "    global s # 전역변수 사용 선언\n",
    "    print(s)\n",
    "    s = 200\n",
    "    \n",
    "foo()\n",
    "print(s)"
   ]
  },
  {
   "cell_type": "code",
   "execution_count": null,
   "id": "cd2952bd",
   "metadata": {},
   "outputs": [],
   "source": [
    "def foo():\n",
    "    global t\n",
    "    t = 50\n",
    "    print(t)\n",
    "    \n",
    "    \n",
    "try:\n",
    "    print(t)\n",
    "except:\n",
    "    print('error : ',발생)\n",
    "    foo()\n",
    "    print(t)"
   ]
  },
  {
   "cell_type": "code",
   "execution_count": 2,
   "id": "311fd2c1",
   "metadata": {},
   "outputs": [
    {
     "name": "stdout",
     "output_type": "stream",
     "text": [
      "10 20 200 100\n",
      "10 22 33 44\n"
     ]
    }
   ],
   "source": [
    "def foo(x,y):\n",
    "    global a         # 전역변수 사용\n",
    "    a = 10            # 전역변수 a 수정\n",
    "    x,y, = y,x        # x,y,값 바꿈\n",
    "    b = 20            # 지역변수 b,c 선언\n",
    "    c = 30\n",
    "    print(a,b,x,y)\n",
    "    \n",
    "a,b,x,y = 11,22,33,44\n",
    "\n",
    "foo(100,200)    # 전역변수 a의 값을 10으로 수정\n",
    "print(a,b,x,y)  # 함수 내에서 수정한 전역변수 값이 반영됨"
   ]
  },
  {
   "cell_type": "code",
   "execution_count": 3,
   "id": "ae77b499",
   "metadata": {},
   "outputs": [],
   "source": [
    "# 특수 함수 : lambda, map, filter"
   ]
  },
  {
   "cell_type": "code",
   "execution_count": 4,
   "id": "ce6ee722",
   "metadata": {},
   "outputs": [],
   "source": [
    "# def 함수이름(매개변수):\n",
    "#     실행코드\n",
    "\n",
    "# def 함수를 만드는 이유는 반복적으로 사용하는 코드를 함수로 만들어 놓고,\n",
    "# 함수명()으로 코드를 실행 => 코드의 블록화, 재사용\n",
    "# 함수를 사용할 필요가 있지만 계속 사용할 필요가 없고, 임시적으로 함수를 사용해야 되는 경우\n",
    "# => lambda함수() : 익명함수"
   ]
  },
  {
   "cell_type": "code",
   "execution_count": 5,
   "id": "0fef6ffc",
   "metadata": {},
   "outputs": [
    {
     "data": {
      "text/plain": [
       "6"
      ]
     },
     "execution_count": 5,
     "metadata": {},
     "output_type": "execute_result"
    }
   ],
   "source": [
    "def test_f(a,b):\n",
    "    return a + b\n",
    "\n",
    "test_f(2,4)"
   ]
  },
  {
   "cell_type": "code",
   "execution_count": 8,
   "id": "c267aec0",
   "metadata": {},
   "outputs": [
    {
     "data": {
      "text/plain": [
       "6"
      ]
     },
     "execution_count": 8,
     "metadata": {},
     "output_type": "execute_result"
    }
   ],
   "source": [
    "f = lambda a,b : a + b\n",
    "\n",
    "f(2,4)"
   ]
  },
  {
   "cell_type": "code",
   "execution_count": 9,
   "id": "d69a56fb",
   "metadata": {},
   "outputs": [
    {
     "data": {
      "text/plain": [
       "[1, 4, 9, 16, 25, 36, 49, 64, 81]"
      ]
     },
     "execution_count": 9,
     "metadata": {},
     "output_type": "execute_result"
    }
   ],
   "source": [
    "def f1(x):\n",
    "    return x**2\n",
    "\n",
    "def f2(x):\n",
    "    return x + 2\n",
    "\n",
    "def g(func):\n",
    "    return [func(x) for x in range(1,10)]\n",
    "\n",
    "g(f1)"
   ]
  },
  {
   "cell_type": "code",
   "execution_count": 14,
   "id": "2894b5f2",
   "metadata": {},
   "outputs": [
    {
     "name": "stdout",
     "output_type": "stream",
     "text": [
      "[2, 4, 6, 8, 10, 12, 14, 16, 18]\n"
     ]
    }
   ],
   "source": [
    "print(g(lambda x : x * 2)) \n",
    "# 함수가 들어갈 자리에 def가 아닌 임시함수를 만들어서 사용"
   ]
  },
  {
   "cell_type": "code",
   "execution_count": null,
   "id": "58b0e049",
   "metadata": {},
   "outputs": [],
   "source": [
    "# # map(함수, sequence)\n",
    "# # sequence\n",
    "\n",
    "# L = []\n",
    "\n",
    "# filter(func, sequence)\n",
    "# for i in sequence:\n",
    "#     L.append(func(i))\n",
    "# L.append(i)"
   ]
  },
  {
   "cell_type": "code",
   "execution_count": 15,
   "id": "0c89aef3",
   "metadata": {},
   "outputs": [
    {
     "name": "stdout",
     "output_type": "stream",
     "text": [
      "[-1, -2, -3]\n"
     ]
    }
   ],
   "source": [
    "print(list(map(lambda x: x * (-1), [1,2,3])))"
   ]
  },
  {
   "cell_type": "code",
   "execution_count": 16,
   "id": "9abedbd9",
   "metadata": {},
   "outputs": [
    {
     "name": "stdout",
     "output_type": "stream",
     "text": [
      "[1, 2]\n"
     ]
    }
   ],
   "source": [
    "print(list(filter(lambda x : x > 0 , [ -1,1,-2,2])))"
   ]
  },
  {
   "cell_type": "code",
   "execution_count": null,
   "id": "a82070c0",
   "metadata": {},
   "outputs": [],
   "source": [
    "map"
   ]
  }
 ],
 "metadata": {
  "kernelspec": {
   "display_name": "Python 3 (ipykernel)",
   "language": "python",
   "name": "python3"
  },
  "language_info": {
   "codemirror_mode": {
    "name": "ipython",
    "version": 3
   },
   "file_extension": ".py",
   "mimetype": "text/x-python",
   "name": "python",
   "nbconvert_exporter": "python",
   "pygments_lexer": "ipython3",
   "version": "3.11.5"
  }
 },
 "nbformat": 4,
 "nbformat_minor": 5
}
