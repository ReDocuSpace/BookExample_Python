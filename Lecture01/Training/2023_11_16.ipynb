{
 "cells": [
  {
   "cell_type": "code",
   "execution_count": null,
   "id": "1b4e23a4",
   "metadata": {
    "scrolled": false
   },
   "outputs": [],
   "source": [
    "L = ['a','b','c','d']\n",
    "\n",
    "for i in L:\n",
    "    print(i)\n",
    "    \n",
    "for i in range(4):\n",
    "    print(L[i])\n",
    "    \n",
    "name = ['Hello','World','war']\n",
    "for i, name in enumerate(name):\n",
    "    print(name[i])"
   ]
  },
  {
   "cell_type": "code",
   "execution_count": null,
   "id": "94cccdb4",
   "metadata": {},
   "outputs": [],
   "source": [
    "A = [x**2 for x in range(10)]"
   ]
  },
  {
   "cell_type": "code",
   "execution_count": null,
   "id": "87ae68b7",
   "metadata": {},
   "outputs": [],
   "source": [
    "phrase = 'Be as proud of Sogang as Sogang is proud of you'\n",
    "ph = phrase.split()\n",
    "print(ph)\n"
   ]
  },
  {
   "cell_type": "code",
   "execution_count": null,
   "id": "cd114768",
   "metadata": {},
   "outputs": [],
   "source": [
    "L = [[p.upper(),p.lower(),len(p)] for p in ph]\n",
    "\n",
    "print(L)"
   ]
  },
  {
   "cell_type": "code",
   "execution_count": null,
   "id": "4b263cd5",
   "metadata": {},
   "outputs": [],
   "source": [
    "for i in range(5):\n",
    "    print(i, end=', ')"
   ]
  },
  {
   "cell_type": "code",
   "execution_count": null,
   "id": "15b40736",
   "metadata": {},
   "outputs": [],
   "source": [
    "names = ['철수', '영희', '바둑이', '귀도']\n",
    "\n",
    "for i in range(len(names)):\n",
    "    print(f\"{i + 1}번 : {names[i]}\")"
   ]
  },
  {
   "cell_type": "code",
   "execution_count": null,
   "id": "75882136",
   "metadata": {},
   "outputs": [],
   "source": [
    "for i, name in enumerate(names):\n",
    "    print(i + 1,\"번 :\", name)"
   ]
  },
  {
   "cell_type": "code",
   "execution_count": null,
   "id": "d056ff8c",
   "metadata": {},
   "outputs": [],
   "source": [
    "for letter in \"PYTHON\":\n",
    "    print(letter)"
   ]
  },
  {
   "cell_type": "code",
   "execution_count": null,
   "id": "fe45b668",
   "metadata": {},
   "outputs": [],
   "source": [
    "for letter in ['a','b','c']:\n",
    "    print(letter, end=' ')\n",
    "    \n",
    "for letter in {'a' : 1,'b' : 2,'c' : 3}:\n",
    "    print(letter, end=' ')\n",
    "    \n",
    "for letter in ('a','b','c'):\n",
    "    print(letter, end=' ')\n",
    "    \n",
    "x = ['a','b','c','d']\n",
    "y = ['가','나','다']\n",
    "\n",
    "print()\n",
    "\n",
    "for i in x:\n",
    "    for j in y:\n",
    "        print((i,j), end=' ')\n",
    "\n",
    "print()\n"
   ]
  },
  {
   "cell_type": "code",
   "execution_count": null,
   "id": "55c5770c",
   "metadata": {
    "scrolled": false
   },
   "outputs": [],
   "source": [
    "        \n",
    "L = [(i,j) for i in x for j in y]\n",
    "\n",
    "print(L)\n",
    "\n",
    "list = [(x,y,z) for x in range(1,30) for y in range(x,30) for z in range(y ,30) if x**2 + y**2 == z**2]\n",
    "\n",
    "print(list)\n"
   ]
  },
  {
   "cell_type": "code",
   "execution_count": null,
   "id": "ef252ddf",
   "metadata": {},
   "outputs": [],
   "source": [
    "s = 'pythonprogramming'\n",
    "\n",
    "# for문을 통해서 모두대문자로 출력하시오\n",
    "\n",
    "msg = \"\"\n",
    "for i in s:\n",
    "    msg += i.upper()\n",
    "print(msg)\n",
    "\n",
    "msg = s.upper()\n",
    "\n",
    "print(msg)"
   ]
  },
  {
   "cell_type": "code",
   "execution_count": null,
   "id": "aaf54f98",
   "metadata": {
    "scrolled": true
   },
   "outputs": [],
   "source": [
    "s = 'python is fun and easy'\n",
    "\n",
    "# python 6.\n",
    "\n",
    "s_l = s.split(\" \")\n",
    "\n",
    "for i, item in enumerate(s_l):\n",
    "    print(i + 1, item , len(item))\n",
    "    \n"
   ]
  },
  {
   "cell_type": "code",
   "execution_count": null,
   "id": "107cfa63",
   "metadata": {},
   "outputs": [],
   "source": [
    "s = \"pythonprogramming\"\n",
    "\n",
    "#짝수 인덱스 문자만 출력하시오\n",
    "for i, msg in enumerate(s[2:]):\n",
    "    if i % 2 == 0:\n",
    "        print(msg, end=\"\")\n",
    "\n",
    "print()\n",
    "        \n",
    "for i in range(2,len(s)):\n",
    "    if i % 2 == 0:\n",
    "        print(s[i], end=\"\")\n",
    "\n",
    "print()\n",
    "for i in range(2, len(s), 2):\n",
    "    print(s[i], end = \"\")"
   ]
  },
  {
   "cell_type": "code",
   "execution_count": null,
   "id": "998d440c",
   "metadata": {},
   "outputs": [],
   "source": [
    "s = 'python is interesting computer language'\n",
    "\n",
    "# 위의 문자열에서 모음만 리스트에 담으시오 aeiou\n",
    "\n",
    "#L = []\n",
    "#for i in s:\n",
    "#    if i in 'aeiou':\n",
    "#        L.append(i)        \n",
    "\n",
    "L = [i for i in s if i in 'aeiou']\n",
    "\n",
    "print(L)\n",
    "\n",
    "\n",
    "#(for i in 'aeiou') == msg]"
   ]
  },
  {
   "cell_type": "code",
   "execution_count": null,
   "id": "d4b1b198",
   "metadata": {},
   "outputs": [],
   "source": []
  },
  {
   "cell_type": "code",
   "execution_count": null,
   "id": "cbd573c9",
   "metadata": {},
   "outputs": [],
   "source": [
    "#for 문을 통해서 원소들을 각각 출력을 하고 \n",
    "#\n",
    "\n",
    "list_msg = [\"일\",\"이\",\"삼\",\"사\",\"오\",\"육\"]\n",
    "str_msg = \"one two three four five six\"\n",
    "set_msg = {1,2,3,4,5,6}\n",
    "tuple_msg = (1,2,3,4,5,6)\n",
    "dict_msg = {\"1\" : 100, \"2\" : 200, \"3\" : 300, \"4\" : 400}\n",
    "\n",
    "for msg in list_msg:\n",
    "    print(msg, end = ' ')\n",
    "    \n",
    "print()\n",
    "\n",
    "for msg in str_msg:\n",
    "    print(msg, end = ' ')\n",
    "    \n",
    "print()\n",
    "\n",
    "for msg in set_msg:\n",
    "    print(msg, end = ' ')\n",
    "    \n",
    "print()\n",
    "\n",
    "for msg in tuple_msg:\n",
    "    print(msg, end = ' ')\n",
    "    \n",
    "print()\n",
    "\n",
    "for msg in dict_msg.items():\n",
    "    print(msg, end = ' ')\n",
    "    \n",
    "print()\n",
    "\n",
    "#for 문을 통해서 원소들을 각각 출력(세로/가로)하고, 리스트에 담는 연습"
   ]
  },
  {
   "cell_type": "code",
   "execution_count": null,
   "id": "6367f142",
   "metadata": {},
   "outputs": [],
   "source": [
    "player = 'HelloWorld\"\n",
    "\n"
   ]
  },
  {
   "cell_type": "code",
   "execution_count": null,
   "id": "6fe7604e",
   "metadata": {},
   "outputs": [],
   "source": [
    "for i in range(1,101):\n",
    "    if i%3==0:\n",
    "        print(i,end=', ')"
   ]
  },
  {
   "cell_type": "code",
   "execution_count": 1,
   "id": "32f66567",
   "metadata": {},
   "outputs": [
    {
     "data": {
      "text/plain": [
       "1683"
      ]
     },
     "execution_count": 1,
     "metadata": {},
     "output_type": "execute_result"
    }
   ],
   "source": [
    "\n",
    "L = [x for x in range(1,101) if (x % 3 == 0)]        \n",
    "\n",
    "sum(L)"
   ]
  },
  {
   "cell_type": "code",
   "execution_count": null,
   "id": "2209e80a",
   "metadata": {},
   "outputs": [],
   "source": []
  }
 ],
 "metadata": {
  "kernelspec": {
   "display_name": "Python 3 (ipykernel)",
   "language": "python",
   "name": "python3"
  },
  "language_info": {
   "codemirror_mode": {
    "name": "ipython",
    "version": 3
   },
   "file_extension": ".py",
   "mimetype": "text/x-python",
   "name": "python",
   "nbconvert_exporter": "python",
   "pygments_lexer": "ipython3",
   "version": "3.11.5"
  }
 },
 "nbformat": 4,
 "nbformat_minor": 5
}
