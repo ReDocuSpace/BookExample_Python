{
 "cells": [
  {
   "cell_type": "code",
   "execution_count": null,
   "id": "1ceba546",
   "metadata": {},
   "outputs": [],
   "source": [
    "# 1부터 20까지 정수에서 짝수만 출력하시오..\n",
    "\n",
    "for i in range(21):\n",
    "    if i % 2 == 0:\n",
    "        print(i)"
   ]
  },
  {
   "cell_type": "code",
   "execution_count": null,
   "id": "cae1589f",
   "metadata": {},
   "outputs": [],
   "source": [
    "# 1부터 20까지 정수에서 짝수만 리스트에 담으시오\n",
    "even_list = []\n",
    "for i in range(0,21,2):\n",
    "    even_list.append(i)\n",
    "\n",
    "\n",
    "# 0 부터 20까지 정수에서 짝수만 리스트에 담으시오 list comprehension\n",
    "L = [x for x in range(21) if (x % 2 == 0)]\n",
    "\n",
    "print(L)\n",
    "\n",
    "\n",
    "# 0 부터 20까지의 정수의 합을 구하시오\n",
    "\n",
    "result_sum1 = 0\n",
    "for i in range(0,21):\n",
    "    result_sum1 += i\n",
    "    \n",
    "print(result_sum1)\n",
    "\n",
    "result_sum2 = sum(L)"
   ]
  },
  {
   "cell_type": "code",
   "execution_count": null,
   "id": "ad8d82c0",
   "metadata": {},
   "outputs": [],
   "source": [
    "sum1 = sum([i for i in range(0,20)])\n",
    "print(sum1)"
   ]
  },
  {
   "cell_type": "code",
   "execution_count": null,
   "id": "6f9d09b2",
   "metadata": {},
   "outputs": [],
   "source": [
    "type(x for x in range(21))"
   ]
  },
  {
   "cell_type": "code",
   "execution_count": null,
   "id": "bfbf4ca7",
   "metadata": {},
   "outputs": [],
   "source": [
    "for i, j in enumerate(list(range(21))):\n",
    "    if i%2 == 0:\n",
    "        print(j)"
   ]
  },
  {
   "cell_type": "code",
   "execution_count": null,
   "id": "90900a0e",
   "metadata": {},
   "outputs": [],
   "source": [
    "# 0 부터 20까지 3의 배수의 합을 구하시오...\n",
    "sum_result = 0\n",
    "for i in range(20):\n",
    "    if i % 3 == 0:\n",
    "        sum_result += i\n",
    "        \n",
    "print(sum_result)"
   ]
  },
  {
   "cell_type": "code",
   "execution_count": null,
   "id": "32b1ada8",
   "metadata": {},
   "outputs": [],
   "source": [
    "L = [x for x in range(20) if (x % 3 == 0)]\n",
    "print(L)"
   ]
  },
  {
   "cell_type": "code",
   "execution_count": 6,
   "id": "addf93a1",
   "metadata": {},
   "outputs": [
    {
     "name": "stdout",
     "output_type": "stream",
     "text": [
      "{'a': '가', 'b': '나', 'c': '다', 'd': '라', 'o': '오'}\n",
      "가\n",
      "오\n",
      "a 가\n",
      "b 나\n",
      "c 다\n",
      "d 라\n",
      "o 오\n"
     ]
    }
   ],
   "source": [
    "alpha = ['a','b','c','d','o']\n",
    "han = ['가','나','다','라','오']\n",
    "\n",
    "# for문을 이용해서 위의 dict를 만드시오.\n",
    "\n",
    "new_dict ={}\n",
    "for i in range(len(alpha)):\n",
    "    new_dict[alpha[i]] = han[i]\n",
    "    \n",
    "print(new_dict)\n",
    "\n",
    "\n",
    "#{i for i in alpha : j for j in han}\n",
    "\n",
    "# 영문에서 모음은 'aeiou' 위 dictionary d에서 key가 모음인 원소의 값을 출력하시오...\n",
    "\n",
    "\n",
    "for item in new_dict.items():\n",
    "    if str(item[0]) in 'aeiou':\n",
    "        print(item[1])\n",
    "        \n",
    "for key, value in new_dict.items():\n",
    "    print(key, value)"
   ]
  },
  {
   "cell_type": "code",
   "execution_count": 10,
   "id": "0f1c6462",
   "metadata": {},
   "outputs": [
    {
     "name": "stdout",
     "output_type": "stream",
     "text": [
      "{'가': 'a', '나': 'b', '다': 'c', '라': 'd', '오': 'o'}\n"
     ]
    }
   ],
   "source": [
    "# dict d에서 key와 value의 값을 바꾸시오\n",
    "\n",
    "second_dict = {}\n",
    "for key, value in new_dict.items():\n",
    "    second_dict[value] = key\n",
    "    \n",
    "print(second_dict)"
   ]
  },
  {
   "cell_type": "code",
   "execution_count": 18,
   "id": "d9d02676",
   "metadata": {},
   "outputs": [
    {
     "name": "stdout",
     "output_type": "stream",
     "text": [
      "A 1\n",
      "A 2\n",
      "A 3\n",
      "B 1\n",
      "B 2\n",
      "B 3\n",
      "C 1\n",
      "C 2\n",
      "C 3\n",
      "[('A', 1), ('A', 2), ('A', 3), ('B', 1), ('B', 2), ('B', 3), ('C', 1), ('C', 2), ('C', 3)]\n"
     ]
    }
   ],
   "source": [
    "# \n",
    "L1 = ['A', 'B','C']\n",
    "L2 = [1,2,3]\n",
    "\n",
    "# 모든 조합을 만들어서 출력하시오\n",
    "# A1, A2, A3, ... C2, C3\n",
    "\n",
    "for x in L1:\n",
    "    for y in L2:\n",
    "        print(x,y)\n",
    "\n",
    "#\n",
    "TEST_L = [(x,y) for x in L1 for y in L2]\n",
    "\n",
    "print(TEST_L)"
   ]
  },
  {
   "cell_type": "code",
   "execution_count": 27,
   "id": "1abc2a1a",
   "metadata": {},
   "outputs": [
    {
     "name": "stdout",
     "output_type": "stream",
     "text": [
      "B 1\n",
      "B 2\n",
      "B 3\n"
     ]
    }
   ],
   "source": [
    "# 위의 리스트 L3에서 첫 글자가 'B'인 원소만 출력하시오...\n",
    "for new_list in TEST_L:\n",
    "    if new_list[0] == 'B':\n",
    "        print(new_list[0],str(new_list[1]) )\n"
   ]
  },
  {
   "cell_type": "code",
   "execution_count": 29,
   "id": "72c4c432",
   "metadata": {},
   "outputs": [
    {
     "name": "stdout",
     "output_type": "stream",
     "text": [
      "*\n",
      "**\n",
      "***\n",
      "****\n",
      "*****\n"
     ]
    }
   ],
   "source": [
    "# *\n",
    "# **\n",
    "# ***\n",
    "# ****\n",
    "# *****\n",
    "\n",
    "for i in range(5):\n",
    "    print(\"*\" * (i + 1))"
   ]
  },
  {
   "cell_type": "code",
   "execution_count": 37,
   "id": "b3fe88a5",
   "metadata": {},
   "outputs": [
    {
     "data": {
      "text/plain": [
       "['mountains', 'sea', 'sky', 'river', 'cloud']"
      ]
     },
     "execution_count": 37,
     "metadata": {},
     "output_type": "execute_result"
    }
   ],
   "source": [
    "words = ['mountains', 'sea', 'sky', 'river', 'cloud', 'sea', 'sky', 'sea', 'mountains']\n",
    "\n",
    "# 위의 단어 중에서 unique한 단어만 리스트에 담으시오. 단 set은 사용하지 마시오\n",
    "\n",
    "temp_list = []\n",
    "\n",
    "for word in words:\n",
    "    if word not in temp_list:\n",
    "        temp_list.append(word)\n",
    "        \n",
    "temp_list"
   ]
  },
  {
   "cell_type": "code",
   "execution_count": 39,
   "id": "9d14b639",
   "metadata": {},
   "outputs": [
    {
     "name": "stdout",
     "output_type": "stream",
     "text": [
      "650\n",
      "625\n"
     ]
    }
   ],
   "source": [
    "# 1 ~ 50 까지 정수에서 홀 수 의 합과 , 짝수의 하을 구하시오\n",
    "odd_sum = 0\n",
    "even_sum = 0\n",
    "for i in range(1,51):\n",
    "    if i % 2 == 0:\n",
    "        even_sum += i\n",
    "    else:\n",
    "        odd_sum += i\n",
    "        \n",
    "print(even_sum)\n",
    "print(odd_sum)"
   ]
  },
  {
   "cell_type": "code",
   "execution_count": 42,
   "id": "7c3efcfc",
   "metadata": {},
   "outputs": [
    {
     "name": "stdout",
     "output_type": "stream",
     "text": [
      "[0, 2, 4, 6, 8, 10, 12, 14, 16, 18, 20, 22, 24, 26, 28, 30, 32, 34, 36, 38, 40, 42, 44, 46, 48, 50]\n",
      "[1, 3, 5, 7, 9, 11, 13, 15, 17, 19, 21, 23, 25, 27, 29, 31, 33, 35, 37, 39, 41, 43, 45, 47, 49]\n"
     ]
    },
    {
     "data": {
      "text/plain": [
       "625"
      ]
     },
     "execution_count": 42,
     "metadata": {},
     "output_type": "execute_result"
    }
   ],
   "source": [
    "# 1 ~ 50까지의 정수에서 홀수의 합과 짝수의 합을 각각 구하시오..\n",
    "l_even = [x for x in range(0,51) if (x % 2 == 0)]\n",
    "l_odd = [x for x in range(0,51) if (x % 2 == 1)]\n",
    "\n",
    "print(l_even)\n",
    "print(l_odd)\n",
    "\n",
    "sum(l_even)\n",
    "sum(l_odd)"
   ]
  },
  {
   "cell_type": "code",
   "execution_count": 51,
   "id": "a8a34d80",
   "metadata": {},
   "outputs": [
    {
     "name": "stdout",
     "output_type": "stream",
     "text": [
      "['mountains', 'river', 'cloud']\n"
     ]
    },
    {
     "data": {
      "text/plain": [
       "list"
      ]
     },
     "execution_count": 51,
     "metadata": {},
     "output_type": "execute_result"
    }
   ],
   "source": [
    "words = ['mountains', 'sea', 'sky', 'river', 'cloud', 'sea', 'sky', 'sea', 'mountains']\n",
    "\n",
    "# 위의 단어에서 단어의 길이가 4 이상인 단어만 중복없이 저장하시오.\n",
    "\n",
    "word_list = []\n",
    "for word in words:\n",
    "    if len(word) >= 4:\n",
    "        if word not in word_list:\n",
    "            word_list.append(word)\n",
    "\n",
    "print(word_list)\n"
   ]
  },
  {
   "cell_type": "code",
   "execution_count": null,
   "id": "4f9a0c44",
   "metadata": {},
   "outputs": [],
   "source": [
    "words = ['mountains', 'sea', 'sky', 'river', 'cloud', 'sea', 'sky', 'sea', 'mountains']\n",
    "filtered_words = set()  # 중복 없이 저장하기 위해 set을 사용\n",
    "for word in words:\n",
    "    if len(word) >= 4:\n",
    "        filtered_words.add(word)\n",
    "filtered_words_list = list(filtered_words)\n",
    "print(filtered_words_list)"
   ]
  },
  {
   "cell_type": "code",
   "execution_count": null,
   "id": "3181d479",
   "metadata": {},
   "outputs": [],
   "source": [
    "### while 조건식 :\n",
    "### 실행코드\n",
    "\n",
    "## 조건식이 True이면 실행 코드를 반복을 지속한다.\n",
    "## 조건식이 False가 되면 반복을 멈춤\n",
    "\n",
    "## 조건식이 계속 True 이면 실행코드가 무한 반복 - 무한 루프\n",
    "## while 문을 사용 시 조건식이 False가 되어서 반복을 멈추는 장치를 만들어야 한다.\n",
    "\n",
    "#import time\n",
    "\n",
    "#while(True):\n",
    "#    print('python', end =' ')\n",
    "#    time.sleep(1)"
   ]
  },
  {
   "cell_type": "code",
   "execution_count": 54,
   "id": "56250b97",
   "metadata": {},
   "outputs": [
    {
     "data": {
      "text/plain": [
       "30"
      ]
     },
     "execution_count": 54,
     "metadata": {},
     "output_type": "execute_result"
    }
   ],
   "source": [
    "a = 1\n",
    "suma = 0\n",
    "\n",
    "while a <= 10:\n",
    "    if a%2 == 0:\n",
    "        suma += a\n",
    "    a += 1\n",
    "    \n",
    "# 무한 반복을 방지하는 장치\n",
    "suma"
   ]
  },
  {
   "cell_type": "code",
   "execution_count": 55,
   "id": "035d1296",
   "metadata": {
    "scrolled": true
   },
   "outputs": [
    {
     "data": {
      "text/plain": [
       "6"
      ]
     },
     "execution_count": 55,
     "metadata": {},
     "output_type": "execute_result"
    }
   ],
   "source": [
    "# break 반복문에서 break문을 만나면 반복문을 강제적으로 빠져나가는 장치\n",
    "\n",
    "a = 1\n",
    "suma = 0\n",
    "\n",
    "while a <= 10:\n",
    "    if a > 5: break\n",
    "    \n",
    "    if a%2 == 0:\n",
    "        suma += a\n",
    "    a += 1\n",
    "    \n",
    "# 무한 반복을 방지하는 장치\n",
    "suma"
   ]
  },
  {
   "cell_type": "code",
   "execution_count": 58,
   "id": "3eb30ab0",
   "metadata": {},
   "outputs": [
    {
     "name": "stdout",
     "output_type": "stream",
     "text": [
      "p\n",
      "y\n",
      "t\n",
      "h\n",
      "o\n",
      "n\n"
     ]
    }
   ],
   "source": [
    "text = \"python is fun!!\"\n",
    "\n",
    "## text에서 \n",
    "## 문자열을 하나씩 출력하다가 space를 만나면 반복문을 빠져나가도록 하시오\n",
    "count = 0\n",
    "\n",
    "while(True):\n",
    "    if text[count] == ' ':\n",
    "        break\n",
    "        \n",
    "    print(text[count])\n",
    "    count+=1\n",
    "    "
   ]
  },
  {
   "cell_type": "code",
   "execution_count": null,
   "id": "d497ca38",
   "metadata": {},
   "outputs": [],
   "source": [
    "a = 0\n",
    "while a <= 10:\n",
    "    a += 1\n",
    "    if a%3 == 0:\n",
    "        continue\n",
    "    print(a)\n",
    "    \n",
    "    "
   ]
  },
  {
   "cell_type": "code",
   "execution_count": 4,
   "id": "46c48c3d",
   "metadata": {},
   "outputs": [
    {
     "name": "stdout",
     "output_type": "stream",
     "text": [
      "\n",
      "55\n",
      "55\n"
     ]
    }
   ],
   "source": [
    "# for : 반복의 횟수가 정해진 경우\n",
    "# while : 상황에 따라 반복여부가 결정\n",
    "\n",
    "# 1 ~ 10 까지 정수의 합을 구하시오 ~ for , while문으로 각각 작성하시오..\n",
    "\n",
    "sum_for = 0\n",
    "for i in range(1,11):\n",
    "    sum_for += i\n",
    "    \n",
    "count = 1\n",
    "sum_while = 0\n",
    "while count < 11:\n",
    "    sum_while += count\n",
    "    count+=1\n",
    "\n",
    "print()\n",
    "print(sum_for)\n",
    "print(sum_while)"
   ]
  },
  {
   "cell_type": "code",
   "execution_count": 6,
   "id": "4cefcdf7",
   "metadata": {},
   "outputs": [
    {
     "name": "stdout",
     "output_type": "stream",
     "text": [
      "0 1 2 3 4 5 "
     ]
    }
   ],
   "source": [
    "# 0 ~ 10 까지 정수를 반복하는 반복문에서 0 ~ 5까지만 출력되도록 하시오.\n",
    "# while문과 break문을 사용하시오\n",
    "\n",
    "num = 0\n",
    "while True:\n",
    "    if num > 5: \n",
    "        break\n",
    "        \n",
    "    print(num, end =\" \")\n",
    "    num+=1"
   ]
  },
  {
   "cell_type": "code",
   "execution_count": 2,
   "id": "8dac9b6c",
   "metadata": {},
   "outputs": [
    {
     "name": "stdout",
     "output_type": "stream",
     "text": [
      "5\n",
      "6\n",
      "7\n",
      "8\n",
      "9\n",
      "10\n"
     ]
    }
   ],
   "source": [
    "# 0 ~ 10 까지 정수를 반복하는 반복문에서 5이상만 출력되도록 하시오, while문과 continue를 사용하시오\n",
    "\n",
    "num = 0\n",
    "while num < 10:\n",
    "    num += 1\n",
    "    if num < 5:\n",
    "        continue\n",
    "    print(num)"
   ]
  },
  {
   "cell_type": "code",
   "execution_count": 3,
   "id": "d06bb8f2",
   "metadata": {},
   "outputs": [
    {
     "name": "stdout",
     "output_type": "stream",
     "text": [
      "3\n",
      "4\n",
      "5\n",
      "6\n"
     ]
    }
   ],
   "source": [
    "# 0 ~ 10 까지 정수를 반복하는 반복문에서 3,4,5,6이상만 출력되도록 하시오, while문과 continue를 사용하시오\n",
    "\n",
    "num = 0\n",
    "while num < 10:\n",
    "    num += 1\n",
    "    if num < 3:\n",
    "        continue\n",
    "    if num > 6:\n",
    "        break\n",
    "    print(num)"
   ]
  },
  {
   "cell_type": "code",
   "execution_count": 4,
   "id": "31ace361",
   "metadata": {},
   "outputs": [
    {
     "name": "stdout",
     "output_type": "stream",
     "text": [
      "50\n",
      "50\n",
      "40\n",
      "40\n",
      "30\n",
      "30\n",
      "20\n",
      "20\n",
      "50\n",
      "50\n",
      "38.0\n",
      "190\n"
     ]
    }
   ],
   "source": [
    "# 점수를 5번 입력을 받은 후, 점수의 평균을 출력하시오\n",
    "# 단 while문을 사용하시오...\n",
    "\n",
    "num = 0\n",
    "\n",
    "sum_while = 0\n",
    "avg = 0\n",
    "while num < 5:\n",
    "    score = int(input())\n",
    "    \n",
    "    sum_while += score\n",
    "    avg = sum_while / (num + 1)\n",
    "    \n",
    "    num += 1\n",
    "\n",
    "print(avg)\n",
    "print(sum_while)"
   ]
  },
  {
   "cell_type": "code",
   "execution_count": 5,
   "id": "fbc012fe",
   "metadata": {},
   "outputs": [
    {
     "name": "stdout",
     "output_type": "stream",
     "text": [
      "점수를 입력하세요..95\n",
      "점수를 입력하세요..97\n",
      "점수를 입력하세요..93\n",
      "점수를 입력하세요..99\n",
      "점수를 입력하세요..40\n",
      "84.8\n"
     ]
    }
   ],
   "source": [
    "suma = 0\n",
    "count = 0\n",
    "\n",
    "while count < 5:\n",
    "    score = int(input('점수를 입력하세요..'))\n",
    "    suma += score\n",
    "    count += 1\n",
    "    \n",
    "total_sum = suma/count\n",
    "print(total_sum)"
   ]
  },
  {
   "cell_type": "code",
   "execution_count": 17,
   "id": "600ea8de",
   "metadata": {
    "scrolled": true
   },
   "outputs": [
    {
     "name": "stdout",
     "output_type": "stream",
     "text": [
      "2X1=2\t3X1=3\t4X1=4\t5X1=5\t6X1=6\t7X1=7\t8X1=8\t9X1=9\t\n",
      "2X2=4\t3X2=6\t4X2=8\t5X2=10\t6X2=12\t7X2=14\t8X2=16\t9X2=18\t\n",
      "2X3=6\t3X3=9\t4X3=12\t5X3=15\t6X3=18\t7X3=21\t8X3=24\t9X3=27\t\n",
      "2X4=8\t3X4=12\t4X4=16\t5X4=20\t6X4=24\t7X4=28\t8X4=32\t9X4=36\t\n",
      "2X5=10\t3X5=15\t4X5=20\t5X5=25\t6X5=30\t7X5=35\t8X5=40\t9X5=45\t\n",
      "2X6=12\t3X6=18\t4X6=24\t5X6=30\t6X6=36\t7X6=42\t8X6=48\t9X6=54\t\n",
      "2X7=14\t3X7=21\t4X7=28\t5X7=35\t6X7=42\t7X7=49\t8X7=56\t9X7=63\t\n",
      "2X8=16\t3X8=24\t4X8=32\t5X8=40\t6X8=48\t7X8=56\t8X8=64\t9X8=72\t\n",
      "2X9=18\t3X9=27\t4X9=36\t5X9=45\t6X9=54\t7X9=63\t8X9=72\t9X9=81\t\n"
     ]
    }
   ],
   "source": [
    "# 구구단 출력\n",
    "\n",
    "for i in range(1,10):\n",
    "    for j in range(2,10):\n",
    "        print(f\"{j}X{i}={i * j}\", end = \"\\t\")\n",
    "    \n",
    "    print()"
   ]
  },
  {
   "cell_type": "code",
   "execution_count": 21,
   "id": "d1df26a3",
   "metadata": {},
   "outputs": [
    {
     "name": "stdout",
     "output_type": "stream",
     "text": [
      "2*1= 2\t3*1= 3\t4*1= 4\t5*1= 5\t6*1= 6\t7*1= 7\t8*1= 8\t9*1= 9\t\n",
      "2*2= 4\t3*2= 6\t4*2= 8\t5*2=10\t6*2=12\t7*2=14\t8*2=16\t9*2=18\t\n",
      "2*3= 6\t3*3= 9\t4*3=12\t5*3=15\t6*3=18\t7*3=21\t8*3=24\t9*3=27\t\n",
      "2*4= 8\t3*4=12\t4*4=16\t5*4=20\t6*4=24\t7*4=28\t8*4=32\t9*4=36\t\n",
      "2*5=10\t3*5=15\t4*5=20\t5*5=25\t6*5=30\t7*5=35\t8*5=40\t9*5=45\t\n",
      "2*6=12\t3*6=18\t4*6=24\t5*6=30\t6*6=36\t7*6=42\t8*6=48\t9*6=54\t\n",
      "2*7=14\t3*7=21\t4*7=28\t5*7=35\t6*7=42\t7*7=49\t8*7=56\t9*7=63\t\n",
      "2*8=16\t3*8=24\t4*8=32\t5*8=40\t6*8=48\t7*8=56\t8*8=64\t9*8=72\t\n",
      "2*9=18\t3*9=27\t4*9=36\t5*9=45\t6*9=54\t7*9=63\t8*9=72\t9*9=81\t\n"
     ]
    }
   ],
   "source": [
    "for i in range(1,10):\n",
    "    for j in range(2,10):\n",
    "        print(\"{}*{}={:>2}\".format(j, i, i * j), end = '\\t')\n",
    "    print()"
   ]
  },
  {
   "cell_type": "code",
   "execution_count": null,
   "id": "5384e9ee",
   "metadata": {},
   "outputs": [],
   "source": []
  }
 ],
 "metadata": {
  "kernelspec": {
   "display_name": "Python 3 (ipykernel)",
   "language": "python",
   "name": "python3"
  },
  "language_info": {
   "codemirror_mode": {
    "name": "ipython",
    "version": 3
   },
   "file_extension": ".py",
   "mimetype": "text/x-python",
   "name": "python",
   "nbconvert_exporter": "python",
   "pygments_lexer": "ipython3",
   "version": "3.11.5"
  }
 },
 "nbformat": 4,
 "nbformat_minor": 5
}
