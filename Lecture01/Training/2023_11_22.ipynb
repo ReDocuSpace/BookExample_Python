{
 "cells": [
  {
   "cell_type": "code",
   "execution_count": null,
   "id": "da7f04d6",
   "metadata": {},
   "outputs": [],
   "source": [
    "def g(x):\n",
    "    return x*x\n",
    "\n",
    "X = [1,2,3,4,5]\n",
    "\n",
    "list(map(g,X))"
   ]
  },
  {
   "cell_type": "code",
   "execution_count": null,
   "id": "94aa8b1a",
   "metadata": {},
   "outputs": [],
   "source": [
    "names = ['Alice', 'Paul', 'Bob','Robert']\n",
    "\n",
    "list(map(len, names))"
   ]
  },
  {
   "cell_type": "code",
   "execution_count": null,
   "id": "4d7facf3",
   "metadata": {},
   "outputs": [],
   "source": [
    "X = [1,2,3,4,5]\n",
    "Y = [6,7,8,9,10]\n",
    "\n",
    "list(map(lambda x,y : x + y, X, Y))"
   ]
  },
  {
   "cell_type": "code",
   "execution_count": null,
   "id": "d52e42c1",
   "metadata": {},
   "outputs": [],
   "source": [
    "# func의 결과는 True, False\n",
    "# True인 경우의 원소만 리스트에 담아서 리턴\n",
    "\n",
    "list(filter(lambda x : x > 0, [-1,1,-2,2]))"
   ]
  },
  {
   "cell_type": "code",
   "execution_count": null,
   "id": "507752a0",
   "metadata": {},
   "outputs": [],
   "source": [
    "X = [1,3,5,7,9]\n",
    "\n",
    "L = []\n",
    "\n",
    "def odd_r(n):\n",
    "    return n > 5\n",
    "\n",
    "list(filter(odd_r, X))"
   ]
  },
  {
   "cell_type": "code",
   "execution_count": null,
   "id": "8ef5727b",
   "metadata": {},
   "outputs": [],
   "source": [
    "\n",
    "list(filter(lambda x : x > 5, X))\n"
   ]
  },
  {
   "cell_type": "code",
   "execution_count": null,
   "id": "fea173f1",
   "metadata": {},
   "outputs": [],
   "source": [
    "list(filter(lambda x : x < 'a' , 'abcABCdefDEF'))"
   ]
  },
  {
   "cell_type": "code",
   "execution_count": null,
   "id": "0f52ad98",
   "metadata": {},
   "outputs": [],
   "source": [
    "'-'.join(list(filter(lambda x : x < 'a' , 'abcABCdefDEF')))"
   ]
  },
  {
   "cell_type": "code",
   "execution_count": null,
   "id": "f7c817da",
   "metadata": {},
   "outputs": [],
   "source": [
    "#잭귀함수\n",
    "\n",
    "def cal_factorial(n):\n",
    "    f = 1\n",
    "    for i in range(1, n+1):\n",
    "        f *= i\n",
    "        \n",
    "    return f"
   ]
  },
  {
   "cell_type": "code",
   "execution_count": null,
   "id": "04d2928a",
   "metadata": {},
   "outputs": [],
   "source": [
    "cal_factorial(5)"
   ]
  },
  {
   "cell_type": "code",
   "execution_count": null,
   "id": "100a610c",
   "metadata": {},
   "outputs": [],
   "source": [
    "# ai = (n-1)i * n\n",
    "\n",
    "def factorial(n):\n",
    "    if n == 1: return 1\n",
    "    return n * factorial(n-1)\n",
    "\n",
    "factorial(5)\n",
    "5 * factorial(4)"
   ]
  },
  {
   "cell_type": "code",
   "execution_count": null,
   "id": "df168ed2",
   "metadata": {},
   "outputs": [],
   "source": [
    "def fibo(n):\n",
    "    if n == 2: return 1\n",
    "    if n == 1: return 1\n",
    "    return factorial(n-2) * factorial(n-1)\n",
    "\n",
    "# 함수 내에서 자신을 다시 호출\n",
    "\n",
    "fibo(5)"
   ]
  },
  {
   "cell_type": "code",
   "execution_count": null,
   "id": "6ade56f9",
   "metadata": {},
   "outputs": [],
   "source": [
    "def finonacci(n):\n",
    "    a,b, = 1,1\n",
    "    for i in range(3,n+1):\n",
    "        b, a + b\n",
    "        \n",
    "        return bl"
   ]
  },
  {
   "cell_type": "code",
   "execution_count": null,
   "id": "97806526",
   "metadata": {},
   "outputs": [],
   "source": [
    "def fibonacci(n):\n",
    "    if n== 1 or n ==2:\n",
    "        return 1\n",
    "    "
   ]
  },
  {
   "cell_type": "code",
   "execution_count": null,
   "id": "5bc07a24",
   "metadata": {},
   "outputs": [],
   "source": [
    "# 함수\n",
    "# 자주 사용하는 코드 덩어리를 함수 묶어놓고, 함수실행을 통해 반복적으로 사용 가능\n",
    "\n",
    "# Class\n",
    "# 자주 함께 사용되는 함수들과 변수들을 묶어놓고,  원본 클래스를 복사해서 반복사용하는 방식\n",
    "\n",
    "# 수학계산에 필요한 함수들 변수들\n",
    "# 시각화에 필요한 함수들 변수들\n",
    "# 크롤링에 필요한 함수.. 변수들\n",
    "\n",
    "# 클래스에 포함된 함수 : 메소드\n",
    "# 클래스에 표함된 변수 : 속성\n",
    "\n",
    "# 클래스는 원본이고, 클래스에 포함된 함수, 변수값을 사용하기 위해서는 클래스의 복사본을 만들어서 사용\n",
    "\n",
    "# 클래스 생성 : Class 클래스명 : \n",
    "# \n",
    "# 클래스의 복사본 : 인스턴스\n",
    "# 인스턴스 = 클래스()\n",
    "\n",
    "# 클래스 생성\n",
    "# Class 클래스 명:\n",
    "# 변수1\n",
    "# 변수2\n",
    "# 메소드1\n",
    "# 메소드2"
   ]
  },
  {
   "cell_type": "code",
   "execution_count": 2,
   "id": "64a9b2af",
   "metadata": {},
   "outputs": [
    {
     "name": "stdout",
     "output_type": "stream",
     "text": [
      "====================\n",
      "Name : 홍홍홍\n",
      "Email : hong@gmail.com\n",
      "Address : Seoul\n",
      "====================\n"
     ]
    }
   ],
   "source": [
    "# 명함을 출력하는 코드\n",
    "print(\"=\"*20)\n",
    "print(f\"Name : {'홍홍홍'}\")\n",
    "print(f\"Email : {'hong@gmail.com'}\")\n",
    "print(f\"Address : {'Seoul'}\")\n",
    "print(\"=\"*20)"
   ]
  },
  {
   "cell_type": "code",
   "execution_count": 3,
   "id": "93d46eac",
   "metadata": {},
   "outputs": [
    {
     "name": "stdout",
     "output_type": "stream",
     "text": [
      "====================\n",
      "Name : 홍홍홍\n",
      "Email : hong@gmail.com\n",
      "Address : Seoul\n",
      "====================\n"
     ]
    }
   ],
   "source": [
    "# 함수...\n",
    "\n",
    "def businessCard():\n",
    "    print(\"=\"*20)\n",
    "    print(f\"Name : {'홍홍홍'}\")\n",
    "    print(f\"Email : {'hong@gmail.com'}\")\n",
    "    print(f\"Address : {'Seoul'}\")\n",
    "    print(\"=\"*20)\n",
    "    \n",
    "businessCard()"
   ]
  },
  {
   "cell_type": "code",
   "execution_count": 5,
   "id": "58382f47",
   "metadata": {},
   "outputs": [
    {
     "name": "stdout",
     "output_type": "stream",
     "text": [
      "====================\n",
      "Name : 호호호\n",
      "Email : honghong@gmail.com\n",
      "Address : Busan\n",
      "====================\n"
     ]
    }
   ],
   "source": [
    "# 이름, 이메일, 주소를 다르게 입력해서 출력할 수 있는 함수를 만드시오\n",
    "def makeBusinessCard(name, email, address):\n",
    "    print(\"=\"*20)\n",
    "    print(f\"Name : {name}\")\n",
    "    print(f\"Email : {email}\")\n",
    "    print(f\"Address : {address}\")\n",
    "    print(\"=\"*20)\n",
    "    \n",
    "makeBusinessCard(\"호호호\",'honghong@gmail.com','Busan')"
   ]
  },
  {
   "cell_type": "code",
   "execution_count": 8,
   "id": "cd2ea765",
   "metadata": {},
   "outputs": [
    {
     "name": "stdout",
     "output_type": "stream",
     "text": [
      "====================\n",
      "Name : 그 남자\n",
      "Email : him@gmail.com\n",
      "Address : Seoul\n",
      "====================\n",
      "====================\n",
      "Name : 후루룽\n",
      "Email : dang@gmail.com\n",
      "Address : Busan\n",
      "====================\n"
     ]
    }
   ],
   "source": [
    "# 파이썬에서 메소드에는 self 매개변수를 하나 가진다.\n",
    "\n",
    "class businessCard:\n",
    "    name = '그 남자'\n",
    "    email = 'him@gmail.com'\n",
    "    address = 'Seoul'\n",
    "    \n",
    "    def __init__(self):\n",
    "        pass\n",
    "    \n",
    "    def set_info(self, name, email, address):\n",
    "        self.name = name\n",
    "        self.email = email\n",
    "        self.address = address\n",
    "        \n",
    "    \n",
    "    def makeCard(self):\n",
    "        print(\"=\"*20)\n",
    "        print(f\"Name : {self.name}\")\n",
    "        print(f\"Email : {self.email}\")\n",
    "        print(f\"Address : {self.address}\")\n",
    "        print(\"=\"*20)\n",
    "        \n",
    "human = businessCard()\n",
    "\n",
    "human.makeCard()\n",
    "\n",
    "human.set_info(\"후루룽\",\"dang@gmail.com\",\"Busan\")\n",
    "\n",
    "human.makeCard()"
   ]
  },
  {
   "cell_type": "code",
   "execution_count": 12,
   "id": "10d46f86",
   "metadata": {},
   "outputs": [
    {
     "name": "stdout",
     "output_type": "stream",
     "text": [
      "====================\n",
      "Name : 후루룽\n",
      "Email : dang@gmail.com\n",
      "Address : Busan\n",
      "====================\n"
     ]
    }
   ],
   "source": [
    "# 파이썬에서 메소드에는 self 매개변수를 하나 가진다.\n",
    "class businessCard2:\n",
    "    name = '그 남자'\n",
    "    email = 'him@gmail.com'\n",
    "    address = 'Seoul'\n",
    "\n",
    "    def __init__(self, name, email, address):\n",
    "        self.name = name\n",
    "        self.email = email\n",
    "        self.address = address\n",
    "        \n",
    "    \n",
    "    def makeCard(self):\n",
    "        print(\"=\"*20)\n",
    "        print(f\"Name : {self.name}\")\n",
    "        print(f\"Email : {self.email}\")\n",
    "        print(f\"Address : {self.address}\")\n",
    "        print(\"=\"*20)\n",
    "        \n",
    "human = businessCard2(\"후루룽\",\"dang@gmail.com\",\"Busan\")\n",
    "\n",
    "human.makeCard()"
   ]
  },
  {
   "cell_type": "code",
   "execution_count": 71,
   "id": "577d5e1c",
   "metadata": {},
   "outputs": [
    {
     "name": "stdout",
     "output_type": "stream",
     "text": [
      "====================\n",
      "Name : Kim\n",
      "Email : kim@hanmail.net\n",
      "Address : Seoul\n",
      "====================\n"
     ]
    }
   ],
   "source": [
    "# 클래스 변수\n",
    "# 클래스 변수 - 클래스에 소속된 모든 인스턴스에서 공유하는 변수\n",
    "\n",
    "# 인스턴스 변수\n",
    "# 인스턴스 마다 다른 값을 가지는 변수\n",
    "\n",
    "class BusinessCard5:\n",
    "    Name = 'Kim' # 클래스 변수\n",
    "    Email = 'kim@hanmail.net'\n",
    "    Address = 'Seoul'\n",
    "\n",
    "    def set_info(self, name, email, address):\n",
    "        self.name = name\n",
    "        self.email = email\n",
    "        self.address = address\n",
    "    \n",
    "    def businesscard(self):\n",
    "        print(\"=\"*20)\n",
    "        print(f\"Name : {self.Name}\")\n",
    "        print(f\"Email : {self.Email}\")\n",
    "        print(f\"Address : {self.Address}\")\n",
    "        print(\"=\"*20)\n",
    "\n",
    "bc = BusinessCard5()\n",
    "\n",
    "bc.set_info(\"후루룽\",\"dang@gmail.com\",\"Busan\")\n",
    "\n",
    "bc.businesscard()"
   ]
  },
  {
   "cell_type": "code",
   "execution_count": 22,
   "id": "ff845a69",
   "metadata": {},
   "outputs": [],
   "source": [
    "# 인스턴스 변수 - 인스턴스 변수는 인스턴스 마다, 다른 값을 받는다.\n",
    "# set_info()를 실행하지 않고 businesscard()을 실행하명 인스턴스 값이 할당되지 않아서 error\n",
    "\n",
    "# 인스턴스 생성 시 필요한 변수에 초기값을 할당\n",
    "# 생성자 함수는 인스턴스 생성시 자동실행 - 강제로 변수에 초기값을 설정하도록 할 수 있음\n",
    "\n",
    "# 생성자 함수의 매개변수를 전달해야 함\n",
    "\n",
    "# 원의 면적과 원 둘레를 계산하는 함수를 가진 클래스를 생성하시오\n",
    "\n",
    "class Circle:\n",
    "    pi = 3.14\n",
    "   \n",
    "    # 생성자 함수 자동실행\n",
    "    def __init__(self,radius):\n",
    "        self.radius = radius\n",
    "        \n",
    "    def area(self):\n",
    "        return (self.radius**2) * Circle.pi\n",
    "    \n",
    "    def perimeter(self):\n",
    "        return (self.radius * 2) * Circle.pi"
   ]
  },
  {
   "cell_type": "code",
   "execution_count": 24,
   "id": "8f29d1d5",
   "metadata": {},
   "outputs": [
    {
     "data": {
      "text/plain": [
       "78.5"
      ]
     },
     "execution_count": 24,
     "metadata": {},
     "output_type": "execute_result"
    }
   ],
   "source": [
    "cir = Circle(5)\n",
    "cir.area()"
   ]
  },
  {
   "cell_type": "code",
   "execution_count": 25,
   "id": "012456c0",
   "metadata": {},
   "outputs": [
    {
     "data": {
      "text/plain": [
       "31.400000000000002"
      ]
     },
     "execution_count": 25,
     "metadata": {},
     "output_type": "execute_result"
    }
   ],
   "source": [
    "cir.perimeter()"
   ]
  },
  {
   "cell_type": "code",
   "execution_count": 26,
   "id": "4f6bdcc0",
   "metadata": {},
   "outputs": [
    {
     "data": {
      "text/plain": [
       "5"
      ]
     },
     "execution_count": 26,
     "metadata": {},
     "output_type": "execute_result"
    }
   ],
   "source": [
    "cir.radius"
   ]
  },
  {
   "cell_type": "code",
   "execution_count": 27,
   "id": "09ac22a7",
   "metadata": {},
   "outputs": [
    {
     "data": {
      "text/plain": [
       "3.14"
      ]
     },
     "execution_count": 27,
     "metadata": {},
     "output_type": "execute_result"
    }
   ],
   "source": [
    "cir.pi"
   ]
  },
  {
   "cell_type": "code",
   "execution_count": 29,
   "id": "97b1c834",
   "metadata": {},
   "outputs": [
    {
     "data": {
      "text/plain": [
       "11"
      ]
     },
     "execution_count": 29,
     "metadata": {},
     "output_type": "execute_result"
    }
   ],
   "source": [
    "# 사칙연산 메소드를 가진 클래스를 정의하고\n",
    "# 인스턴스 변수 정수 a,b를 매개변수로 입력받은 후\n",
    "\n",
    "class FourCal:\n",
    "    def __init__(self,a,b):\n",
    "        self.a = a\n",
    "        self.b = b\n",
    "\n",
    "    def addf(self):\n",
    "        return self.a + self.b\n",
    "\n",
    "    def mulf(self):\n",
    "        return self.a - self.b\n",
    "\n",
    "    def divf(self):\n",
    "        return self.a/self.b\n",
    "\n",
    "    def subf(self):\n",
    "        return self.a * self.b\n",
    "\n",
    "    def powf(self):\n",
    "        return self.a**self.b\n",
    "    \n",
    "cal = FourCal(5,6)\n",
    "cal.addf()\n"
   ]
  },
  {
   "cell_type": "code",
   "execution_count": 31,
   "id": "100c8017",
   "metadata": {},
   "outputs": [
    {
     "data": {
      "text/plain": [
       "16"
      ]
     },
     "execution_count": 31,
     "metadata": {},
     "output_type": "execute_result"
    }
   ],
   "source": [
    "class FourCall(FourCal):\n",
    "    def powf(self):\n",
    "        result = self.a ** self.b\n",
    "        return result\n",
    "    \n",
    "fc = FourCall(2,4)\n",
    "\n",
    "fc.addf()\n",
    "fc.powf()"
   ]
  },
  {
   "cell_type": "code",
   "execution_count": 33,
   "id": "3922b22c",
   "metadata": {},
   "outputs": [
    {
     "data": {
      "text/plain": [
       "0"
      ]
     },
     "execution_count": 33,
     "metadata": {},
     "output_type": "execute_result"
    }
   ],
   "source": [
    "class FourCal2(FourCal):\n",
    "    def divf(self):\n",
    "        if self.b == 0:\n",
    "            return 0\n",
    "        return self.a/self.b\n",
    "    def powf(self):\n",
    "        return self.a ** self.b\n",
    "    \n",
    "fc = FourCal2(2,0)\n",
    "fc.divf()"
   ]
  },
  {
   "cell_type": "code",
   "execution_count": null,
   "id": "b17c589a",
   "metadata": {},
   "outputs": [],
   "source": [
    "class character:\n",
    "    skill = \"0\"\n",
    "    \n",
    "    def __init__(self,inherence_skill):\n",
    "        self.inherence_skill = inherence_skill\n",
    "        \n",
    "    def fireball(self):\n",
    "        self.inherence_skill * skill\n",
    "        \n",
    "        \n",
    "amazon = character(\"불덩이 스킬\")\n",
    "\n"
   ]
  },
  {
   "cell_type": "code",
   "execution_count": 35,
   "id": "2450df22",
   "metadata": {},
   "outputs": [
    {
     "name": "stdout",
     "output_type": "stream",
     "text": [
      "sing a song\n"
     ]
    }
   ],
   "source": [
    "class Parent:\n",
    "    def can_sing(self):\n",
    "        print('sing a song')\n",
    "        \n",
    "p = Parent()\n",
    "\n",
    "p.can_sing()"
   ]
  },
  {
   "cell_type": "code",
   "execution_count": 36,
   "id": "ce235970",
   "metadata": {},
   "outputs": [
    {
     "name": "stdout",
     "output_type": "stream",
     "text": [
      "sing a song\n",
      "do a dance\n"
     ]
    }
   ],
   "source": [
    "class LuckyChild(Parent):\n",
    "    def can_dance(self):\n",
    "        print('do a dance')\n",
    "        \n",
    "lc = LuckyChild()\n",
    "lc.can_sing()\n",
    "lc.can_dance()"
   ]
  },
  {
   "cell_type": "code",
   "execution_count": 44,
   "id": "60d89745",
   "metadata": {},
   "outputs": [
    {
     "name": "stdout",
     "output_type": "stream",
     "text": [
      "윤길수 269 90\n",
      "임철수 268 89\n",
      "박민호 267 89\n",
      "이수창 266 89\n",
      "강철수 265 88\n"
     ]
    }
   ],
   "source": [
    "# 학생리스트\n",
    "\n",
    "students = [\n",
    "    {'name' : '윤길수' , 'korean' : 87, 'english' : 95, 'science' : 87},\n",
    "    {'name' : '임철수' , 'korean' : 86, 'english' : 94, 'science' : 88},\n",
    "    {'name' : '박민호' , 'korean' : 85, 'english' : 93, 'science' : 89},\n",
    "    {'name' : '이수창' , 'korean' : 84, 'english' : 92, 'science' : 90},\n",
    "    {'name' : '강철수' , 'korean' : 83, 'english' : 91, 'science' : 91},\n",
    "]\n",
    "\n",
    "for s in students:\n",
    "    name = s['name']\n",
    "    kor = s['korean']\n",
    "    eng = s['english']\n",
    "    sci = s['science']\n",
    "    \n",
    "    suma = kor + eng + sci\n",
    "    avg = suma / 3\n",
    "    \n",
    "    print(name,suma, round(avg))"
   ]
  },
  {
   "cell_type": "code",
   "execution_count": 51,
   "id": "c8f5feb2",
   "metadata": {},
   "outputs": [
    {
     "name": "stdout",
     "output_type": "stream",
     "text": [
      "윤인성\t326\t81.5\t\n",
      "강인성\t326\t81.5\t\n",
      "최인성\t326\t81.5\t\n",
      "마인성\t326\t81.5\t\n",
      "이인성\t326\t81.5\t\n"
     ]
    }
   ],
   "source": [
    "class Students:\n",
    "    def __init__(self, name, kor, math, eng, sci):\n",
    "        self.name = name\n",
    "        self.kor = kor\n",
    "        self.math = math\n",
    "        self.eng = eng\n",
    "        self.sci = sci\n",
    "        \n",
    "    def get_sum(self):\n",
    "        return self.kor + self.math + self.eng + self.sci\n",
    "    \n",
    "    def get_avg(self):\n",
    "        return self.get_sum()/4\n",
    "    \n",
    "    def to_string(self):\n",
    "        return \"{}\\t{}\\t{}\\t\".format(self.name, self.get_sum(), self.get_avg())\n",
    "    \n",
    "    \n",
    "ins = [\n",
    "    Students(\"윤인성\", 80,78,70,98),\n",
    "    Students(\"강인성\", 80,78,70,98),\n",
    "    Students(\"최인성\", 80,78,70,98),\n",
    "    Students(\"마인성\", 80,78,70,98),\n",
    "    Students(\"이인성\", 80,78,70,98),\n",
    "]\n",
    "\n",
    "for s in ins:\n",
    "    print(s.to_string())"
   ]
  },
  {
   "cell_type": "code",
   "execution_count": 64,
   "id": "34207565",
   "metadata": {},
   "outputs": [
    {
     "data": {
      "text/plain": [
       "10"
      ]
     },
     "execution_count": 64,
     "metadata": {},
     "output_type": "execute_result"
    }
   ],
   "source": [
    "# 데이터 은닉화\n",
    "\n",
    "import math\n",
    "\n",
    "class Circle:\n",
    "    def __init__(self, r):\n",
    "        self.__radius = r\n",
    "        \n",
    "    def get_area(self):\n",
    "        return math.pi * self.__radius**2\n",
    "    def get_perimeter(self):\n",
    "        return math.pi * self.__radius*2\n",
    "    \n",
    "    # getter 와 setter\n",
    "    # getter : 은닉된 변수의 값을 리턴하는 메소드 \n",
    "    # @property\n",
    "    # setter : 은닉된 변수의 값을 수정하는 메소드\n",
    "    # @get_radius.setter\n",
    "    \n",
    "    @property\n",
    "    def get_radius(self):\n",
    "        return self.__radius\n",
    "\n",
    "    @get_radius.setter\n",
    "    def set_radius(self,value):\n",
    "        self.__radius = value\n",
    "    \n",
    "    \n",
    "cir = Circle(2)\n",
    "\n",
    "cir.get_area()\n",
    "cir.get_perimeter()\n",
    "\n",
    "# 변수에 __를 붙일경우 은닉화가 된다.\n",
    "cir.get_radius\n",
    "cir.set_radius = 10\n",
    "cir.get_radius\n",
    "\n"
   ]
  },
  {
   "cell_type": "code",
   "execution_count": 69,
   "id": "305dcfb4",
   "metadata": {},
   "outputs": [
    {
     "name": "stdout",
     "output_type": "stream",
     "text": [
      "list index out of range\n",
      "2.5\n"
     ]
    }
   ],
   "source": [
    "\n",
    "a = 5\n",
    "b = 1\n",
    "c = [1,2,3]\n",
    "x = 10\n",
    "\n",
    "try:\n",
    "    \n",
    "    c[5]\n",
    "except Exception as e:\n",
    "    print(e)\n",
    "    print(a / (b+1))"
   ]
  },
  {
   "cell_type": "code",
   "execution_count": 72,
   "id": "5de919d3",
   "metadata": {},
   "outputs": [
    {
     "name": "stdout",
     "output_type": "stream",
     "text": [
      "속도: 20\n",
      "속도: 60\n",
      "속도: 130\n"
     ]
    }
   ],
   "source": [
    "class SportCar(object):\n",
    "    def __init__(self):\n",
    "        self._speed = 0\n",
    "\n",
    "    def get_speed(self):\n",
    "        return self._speed\n",
    "\n",
    "    def start(self):\n",
    "        self._speed = 20\n",
    "\n",
    "    def accelerate(self):\n",
    "        self._speed = self._speed + 40\n",
    "\n",
    "    def turbocharge(self):\n",
    "        self._speed = self._speed + 70\n",
    "\n",
    "    def stop(self):\n",
    "        self._speed = 0\n",
    "\n",
    "if __name__ == \"__main__\":\n",
    "    my_sportcar = SportCar()\n",
    "    my_sportcar.start()\n",
    "    print(\"속도:\", my_sportcar.get_speed())\n",
    "    my_sportcar.accelerate()\n",
    "    print(\"속도:\", my_sportcar.get_speed())\n",
    "    my_sportcar.turbocharge()\n",
    "    print(\"속도:\", my_sportcar.get_speed())\n",
    "    my_sportcar.stop()"
   ]
  },
  {
   "cell_type": "code",
   "execution_count": null,
   "id": "ce31373b",
   "metadata": {},
   "outputs": [],
   "source": []
  }
 ],
 "metadata": {
  "kernelspec": {
   "display_name": "Python 3 (ipykernel)",
   "language": "python",
   "name": "python3"
  },
  "language_info": {
   "codemirror_mode": {
    "name": "ipython",
    "version": 3
   },
   "file_extension": ".py",
   "mimetype": "text/x-python",
   "name": "python",
   "nbconvert_exporter": "python",
   "pygments_lexer": "ipython3",
   "version": "3.11.5"
  }
 },
 "nbformat": 4,
 "nbformat_minor": 5
}
