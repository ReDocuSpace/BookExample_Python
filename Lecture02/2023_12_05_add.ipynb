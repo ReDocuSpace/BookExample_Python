{
 "cells": [
  {
   "cell_type": "code",
   "execution_count": null,
   "metadata": {},
   "outputs": [],
   "source": [
    "### Crawling 작업하기 3가지 방식\n",
    "# Requests\n",
    "# Selenium\n",
    "# Requests 심화"
   ]
  },
  {
   "cell_type": "code",
   "execution_count": 1,
   "metadata": {},
   "outputs": [],
   "source": [
    "import pandas as pd\n",
    "import numpy as np\n",
    "import matplotlib.pyplot as plt"
   ]
  },
  {
   "cell_type": "code",
   "execution_count": null,
   "metadata": {},
   "outputs": [],
   "source": [
    "import requests\n",
    "from bs4 import BeautifulSoup\n",
    "from selenium import webdriver\n",
    "from selenium.webdriver.common.keys import Keys\n",
    "from selenium.webdriver.common.by import By\n",
    "\n",
    "url = 'https://finance.naver.com/item/sise.naver?code=005930'\n",
    "\n"
   ]
  },
  {
   "cell_type": "code",
   "execution_count": null,
   "metadata": {},
   "outputs": [],
   "source": [
    "### 1. Request 방식\n",
    "res = requests.get(url)\n",
    "soup = BeautifulSoup(res.text, 'html.parser')\n",
    "\n",
    "path = 'body table'\n",
    "\n",
    "## tables\n",
    "tables = soup.select(path)\n",
    "\n",
    "## iframe setup\n",
    "main_url = 'https://finance.naver.com'\n",
    "iframe_url = '/item/sise_day.naver?code=005930'\n",
    "\n",
    "full_url = main_url + iframe_url\n",
    "\n",
    "# 네이버에서는 Requests를 막는 경우가 많다\n",
    "html = requests.get(url) \n",
    "\n",
    "# pandas로 읽기\n",
    "pd.read_html(html)\n"
   ]
  },
  {
   "cell_type": "code",
   "execution_count": null,
   "metadata": {},
   "outputs": [],
   "source": [
    "### 2. selenium 방식\n",
    "driver = webdriver.Chrome()\n",
    "\n",
    "html = driver.page_source\n",
    "\n",
    "df = pd.read_html(html)[0]\n",
    "df.dropna"
   ]
  },
  {
   "cell_type": "code",
   "execution_count": null,
   "metadata": {},
   "outputs": [],
   "source": [
    "### 3. requests adv : requests를 더 정확하게 사용\n",
    "\n",
    "# 삼성전자 여러 페이지 가져오기\n",
    "headers = {\n",
    "    'User-Agent' : 'Mozilla/5.0 (Windows NT 10.0; Win64; x64) AppleWebKit/537.36 (KHTML, like Gecko) Chrome/119.0.0.0 Safari/537.36',\n",
    "    'Upgrade-Insecure-Requests:' : '1'\n",
    "}\n",
    "\n",
    "# 확인 코드\n",
    "#pd.read_html(res.text)\n",
    "\n",
    "# 리스트에 값 넣기\n",
    "price_tr_list = []\n",
    "for p in range(1,11):\n",
    "    url = 'https://finance.naver.com/item/sise_day.naver?code=005930&page={}'.format(p)\n",
    "    res = requests.get(url,headers=headers)\n",
    "    price_tr = pd.read_html(res.text)[0].dropna()\n",
    "    price_tr_list.append(price_tr)\n",
    "\n",
    "\n",
    "pd.concat(price_tr_list)\n",
    "\n"
   ]
  },
  {
   "cell_type": "markdown",
   "metadata": {},
   "source": [
    "### 예제"
   ]
  },
  {
   "cell_type": "code",
   "execution_count": null,
   "metadata": {},
   "outputs": [],
   "source": [
    "#네이버 부동산\n",
    "\n",
    "url = 'https://new.land.naver.com/complexes/102623?ms=37.3913698,127.0849773,16&a=APT:ABYG:JGC&e=RETAIL'\n",
    "url = 'https://new.land.naver.com/complexes/27341?ms=37.3967569,127.1182581,16&a=APT:ABYG:JGC:PRE&e=RETAIL'\n",
    "\n",
    "### Requests 테스트\n",
    "#res = requests.get(url)\n",
    "#res.text\n",
    "\n",
    "### Selenuim\n",
    "driver = webdriver.Chrome()\n",
    "driver.get(url)\n",
    "\n",
    "html = driver.page_source\n",
    "\n",
    "soup = BeautifulSoup(html, 'html.parser')\n",
    "title_path = '#articleListArena > div > div > a.item_link > a'\n",
    "path = '#articleListArena > div'\n",
    "soup.select(path)\n",
    "\n",
    "### Requests Adv\n",
    "\n",
    "url = 'https://new.land.naver.com/api/complexes/overview/102623?complexNo=102623'\n",
    "\n",
    "headers = {\n",
    "    'User-Agent': 'Mozilla/5.0 (Windows NT 10.0; Win64; x64) AppleWebKit/537.36 (KHTML, like Gecko) Chrome/110.0.0.0 Safari/537.36',\n",
    "    'Referer':'https://new.land.naver.com/complexes/102623?ms=37.3913698,127.0806858,16&a=APT:ABYG:JGC&e=RETAIL'\n",
    "}\n",
    "\n",
    "# url = 'https://new.land.naver.com/api/complexes/overview/27341?complexNo=27341'\n",
    "\n",
    "# headers = {\n",
    "#     'User-Agent': 'Mozilla/5.0 (Windows NT 10.0; Win64; x64) AppleWebKit/537.36 (KHTML, like Gecko) Chrome/119.0.0.0 Safari/537.36',\n",
    "#     'Referer':'https://new.land.naver.com/complexes/27341?ms=37.3967569,127.1182581,16&a=APT:ABYG:JGC:PRE&e=RETAIL'\n",
    "# }\n",
    "\n",
    "res = requests.get(url, headers=headers)\n",
    "\n",
    "soup = BeautifulSoup(res.text, 'html.parser')\n",
    "soup.select(path)\n",
    "\n",
    "import json\n",
    "data = json.loads(res.text)\n"
   ]
  },
  {
   "cell_type": "code",
   "execution_count": null,
   "metadata": {},
   "outputs": [],
   "source": [
    "### Melon 사이트 \n",
    "\n",
    "url = 'https://www.melon.com/chart/week/index.htm'\n",
    "\n",
    "headers = {\n",
    "    'User-Agent':'Mozilla/5.0 (Windows NT 10.0; Win64; x64) AppleWebKit/537.36 (KHTML, like Gecko) Chrome/110.0.0.0 Safari/537.36',\n",
    "    'Referer':'https://www.melon.com/chart/day/index.htm',\n",
    "    'Host':'www.melon.com'\n",
    "}\n",
    "\n",
    "res = requests.get(url, headers=headers)\n",
    "\n",
    "pd.read_html(res.text)[0]"
   ]
  }
 ],
 "metadata": {
  "kernelspec": {
   "display_name": "base",
   "language": "python",
   "name": "python3"
  },
  "language_info": {
   "codemirror_mode": {
    "name": "ipython",
    "version": 3
   },
   "file_extension": ".py",
   "mimetype": "text/x-python",
   "name": "python",
   "nbconvert_exporter": "python",
   "pygments_lexer": "ipython3",
   "version": "3.11.5"
  }
 },
 "nbformat": 4,
 "nbformat_minor": 2
}
