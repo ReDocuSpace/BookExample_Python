{
 "cells": [
  {
   "cell_type": "code",
   "execution_count": 36,
   "metadata": {},
   "outputs": [
    {
     "name": "stdout",
     "output_type": "stream",
     "text": [
      "['항목', '2013', '2014']\n",
      "['매출액', '100', '200']\n",
      "100\n"
     ]
    }
   ],
   "source": [
    "from bs4 import BeautifulSoup\n",
    "\n",
    "html = \"\"\"\n",
    "    <body>\n",
    "      <table border=1>\n",
    "         <tr>\n",
    "            <td> 항목 </td>\n",
    "            <td> 2013 </td>\n",
    "            <td> 2014 </td>\n",
    "         </tr>\n",
    "         <tr>\n",
    "            <td> 매출액 </td>\n",
    "            <td> 100 </td>\n",
    "            <td> 200 </td>\n",
    "         </tr>\n",
    "      </table>\n",
    "\n",
    "    </body>\n",
    "\"\"\"\n",
    "\n",
    "soup = BeautifulSoup(html,'html.parser')\n",
    "test = path = 'table > tr'\n",
    "result_list = []\n",
    "\n",
    "for item in soup.select(path):\n",
    "    result_list.append([x.text.strip() for x in item.select('td')])\n",
    "\n",
    "for item in result_list:\n",
    "    print(item)\n"
   ]
  },
  {
   "cell_type": "code",
   "execution_count": 39,
   "metadata": {},
   "outputs": [
    {
     "data": {
      "text/plain": [
       "[<td> 2014 </td>, <td> 200 </td>]"
      ]
     },
     "execution_count": 39,
     "metadata": {},
     "output_type": "execute_result"
    }
   ],
   "source": [
    "# 2번째 칼럼을 출력\n",
    "path = 'tr > td:nth-child(3)'\n",
    "tds = soup.select(path)\n",
    "[td.text.strip() for td in tds]"
   ]
  },
  {
   "cell_type": "code",
   "execution_count": 43,
   "metadata": {},
   "outputs": [
    {
     "data": {
      "text/plain": [
       "[<td> 항목 </td>, <td> 2013 </td>, <td> 2014 </td>]"
      ]
     },
     "execution_count": 43,
     "metadata": {},
     "output_type": "execute_result"
    }
   ],
   "source": [
    "# 1번째 row를 출력\n",
    "path = 'tr:nth-child(1) > td'\n",
    "soup.select(path)"
   ]
  },
  {
   "cell_type": "code",
   "execution_count": 41,
   "metadata": {},
   "outputs": [
    {
     "data": {
      "text/plain": [
       "[<td> 항목 </td>, <td> 2013 </td>, <td> 2014 </td>]"
      ]
     },
     "execution_count": 41,
     "metadata": {},
     "output_type": "execute_result"
    }
   ],
   "source": [
    "# 2014년도 매출액 출력\n",
    "path = 'tr:nth-child(1) > td'\n",
    "soup.select(path)"
   ]
  },
  {
   "cell_type": "code",
   "execution_count": 35,
   "metadata": {},
   "outputs": [
    {
     "name": "stdout",
     "output_type": "stream",
     "text": [
      "[     0     1     2\n",
      "0   항목  2013  2014\n",
      "1  매출액   100   200]\n",
      "------------------\n",
      "매출액\n",
      "100\n",
      "------------------\n",
      "0    2013\n",
      "1     100\n",
      "Name: 1, dtype: int64\n",
      "------------------\n",
      "200\n",
      "------------------\n"
     ]
    }
   ],
   "source": [
    "\n",
    "# pandas\n",
    "import pandas as pd\n",
    "pd_table = pd.read_html(html)\n",
    "\n",
    "print(pd_table)\n",
    "\n",
    "print('------------------')\n",
    "# 2번째 칼럼을 출력\n",
    "for i in range(len(pd_table[0])):\n",
    "    print(pd_table[0][i][1])\n",
    "\n",
    "print('------------------')\n",
    "# 1번째 row를 출력\n",
    "print(pd_table[0][1])\n",
    "\n",
    "print('------------------')\n",
    "# 2014년도 매출액 출력\n",
    "print(pd_table[0][2][1])\n",
    "print('------------------')"
   ]
  },
  {
   "cell_type": "code",
   "execution_count": 62,
   "metadata": {},
   "outputs": [
    {
     "data": {
      "text/plain": [
       "50"
      ]
     },
     "execution_count": 62,
     "metadata": {},
     "output_type": "execute_result"
    }
   ],
   "source": [
    "# 아마존의 best seller 상품 출력\n",
    "# url = 'https://www.amazon.com/Best-Sellers-Appliances/zgbs/appliances/ref=zg_bs_nav_0'\n",
    "\n",
    "from bs4 import BeautifulSoup\n",
    "\n",
    "from selenium import webdriver\n",
    "from selenium.webdriver.common.by import By\n",
    "from selenium.webdriver.common.keys import Keys\n",
    "import time\n",
    "\n",
    "url = \"https://www.amazon.com/Best-Sellers/zgbs\"\n",
    "\n",
    "# 크롬드라이버 열기\n",
    "driver = webdriver.Chrome()\n",
    "# url 열기\n",
    "driver.get(url)\n",
    "\n",
    "# Appliances화면으로 넘어가기\n",
    "elem = driver.find_element(By.LINK_TEXT,'Appliances')\n",
    "elem.click()\n",
    "\n",
    "time.sleep(1)\n",
    "\n",
    "# 스크롤을 끝까지 내리는 코드\n",
    "SCROLL_PAUSE_TIME = 2\n",
    "\n",
    "last_height = driver.execute_script(\"return document.body.scrollHeight\")\n",
    "\n",
    "while True: \n",
    "    driver.execute_script('window.scrollTo(0, document.body.scrollHeight);')\n",
    "    time.sleep(SCROLL_PAUSE_TIME)\n",
    "    \n",
    "    new_height = driver.execute_script('return document.body.scrollHeight')\n",
    "    if new_height == last_height:\n",
    "        try:\n",
    "            time.sleep(SCROLL_PAUSE_TIME)\n",
    "            driver.find_element(By.CSS_SELECTOR, \"input.mye4qd\").click()\n",
    "        except:\n",
    "            break\n",
    "    last_height = new_height\n",
    "##\n",
    "\n",
    "elem = driver.find_elements(By.ID, 'gridItemRoot')\n",
    "len(elem)\n",
    "\n",
    "html = driver.page_source\n",
    "\n",
    "\n"
   ]
  },
  {
   "cell_type": "code",
   "execution_count": 64,
   "metadata": {},
   "outputs": [
    {
     "name": "stdout",
     "output_type": "stream",
     "text": [
      "Silonn Ice Maker Countertop, 9 Cubes Ready in 6 Mins, 26lbs in 24Hrs, Self-Cleaning Ice Machine with Ice Scoop and Basket, 2 Sizes of Bullet Ice for Home Kitchen Office Bar Party\n",
      "24,423\n",
      "$67.68\n",
      "\n",
      "Nugget Countertop Ice Maker with Soft Chewable Pellet Ice, Pebble Portable Ice Machine, 34lbs Per Day, Self-Cleaning, Sonic Ice, One-Click Operation, for Kitchen,Office Stainless Steel Black\n",
      "1,463\n",
      "$214.99\n",
      "\n",
      "ecozy Portable Countertop Ice Maker - 9 Ice Cubes in 6 Minutes, 26 lbs Daily Output, Self-Cleaning with Ice Bags, Scoop, and Basket for Kitchen, Office, Bar, Party - Black\n",
      "4,233\n",
      "$79.19\n",
      "\n",
      "Upstreman 3.2 Cu.Ft Mini Fridge with Freezer, Single Door, Adjustable Thermostat, Refrigerator for Dorm, Office, Bedroom, Black-BR321\n",
      "2,248\n",
      "$139.96\n",
      "\n",
      "EUHOMY Countertop Ice Maker Machine with Handle, 26lbs in 24Hrs, 9 Ice Cubes Ready in 6 Mins, Auto-Cleaning Portable Ice Maker with Basket and Scoop, for Home/Kitchen/Camping/RV. (Black)\n",
      "3,092\n",
      "$72.85\n",
      "\n",
      "Silonn Ice Maker Countertop, Portable Ice Machine with Carry Handle, Self-Cleaning Ice Makers with Basket and Scoop, 9 Cubes in 6 Mins, 26 lbs per Day, Ideal for Home, Kitchen, Camping, RV\n",
      "1,007\n",
      "$70.98\n",
      "\n",
      "Countertop Ice Maker 6 Mins 9 Bullet Ice, 26.5lbs/24Hrs, Portable Ice Maker Machine with Self-Cleaning, Bags, Ice Scoop, and Basket, for Home/Kitchen/Office/Party\n",
      "5,371\n",
      "$79.19\n",
      "\n",
      "Upstreman 1.7 Cu.ft Mini Fridge with Freezer, Adjustable Thermostat, Energy Saving, Low Noise, Single Door Compact Refrigerator for Dorm, Office, Bedroom, Black-FR17\n",
      "894\n",
      "$127.88\n",
      "\n",
      "Oraimo Nugget Ice Maker, Ice Makers Countertop, 26 Lbs/Day Tooth-Friendly Chewable Ice with Self-Cleaning & Auto Water Refill, Sonic Pebble Ice Maker Machine for Party, RV, Home and Kitchen, Black\n",
      "475\n",
      "$343.30\n",
      "\n",
      "Ice Makers Countertop with Self-Cleaning, 26.5Lbs/24Hrs, 9 Cubes Ice Ready in 6~9Mins, Portable Ice Maker with Ice Scoop/Basket for Home/Kitchen/Office/Bar, Black\n",
      "413\n",
      "$39.99\n",
      "\n",
      "BANGSON Compact Fridge with Freezer, 3.2 CU.FT. Small refrigerator with Freezer, 5 Adjustable Temperatures, 38 dB Low Noise, Reversible Door, Small Fridge For Dorm Bedroom or Office, Silver\n",
      "320\n",
      "$169.99\n",
      "\n",
      "Electactic Ice Maker, Commercial Ice Machine,100Lbs/Day, Stainless Steel Ice Machine with 48 Lbs Capacity, Ideal for Restaurant, Bars, Home and Offices, Includes Scoop\n",
      "2,124\n",
      "$94.99\n",
      "\n",
      "Countertop Ice Maker, Ice Maker Machine 6 Mins 9 Bullet Ice, 26.5lbs/24Hrs, Portable Ice Maker Machine with Self-Cleaning, Ice Scoop, and Basket, Ice Maker for Home/Office/Party (Black)\n",
      "1,121\n",
      "$69.29\n",
      "\n",
      "Ice Makers Countertop, Self-Cleaning Function, Portable Electric Ice Cube Maker Machine, 9 Pellet Ice Ready in 6 Mins, 26lbs 24Hrs with Ice Bags and Scoop Basket for Home Bar Camping RV(Black)\n",
      "1,808\n",
      "$109.99\n",
      "\n",
      "VIVOHOME Electric Portable Compact Countertop Automatic Ice Cube Maker Machine with Hand Scoop and Self Cleaning Function 26lbs/Day Silver\n",
      "10,293\n",
      "$69.99\n",
      "\n",
      "AGLUCKY Ice Makers Countertop with Self-Cleaning, 26.5lbs/24hrs, 9 Cubes Ready in 6~8Mins, Portable Ice Machine with 2 Sizes Bullet Ice/Ice Scoop/Basket for Home/Kitchen/Office/Bar/Party, Black\n",
      "23,359\n",
      "$72.65\n",
      "\n",
      "COWSAR Portable Countertop Ice Maker Machine with Self-Cleaning, 26.5lbs/24Hrs, 6 Mins/9 Pcs Bullet Ice, Ice Scoop and Basket, Handheld Ice Maker for Kitchen/Home/Office/Party\n",
      "2,082\n",
      "$72.38\n",
      "\n",
      "Nugget Countertop Ice Maker, Silonn Chewable Pellet Ice Machine with Self-Cleaning Function, 33lbs/24H for Home, Kitchen, Office, Black\n",
      "186\n",
      "$161.55\n",
      "\n",
      "Frigidaire 26 Lbs per day Portable Compact Maker, Ice Making Machine, Black Stainless\n",
      "5,956\n",
      "$66.04\n",
      "\n",
      "Silonn Ice Makers Countertop, 26Lbs/24H, Self-Cleaning Ice Machine, 9 Cubes Ready in 6 Mins, 2 Sizes of Bullet Ice for Home Kitchen Office Bar Party\n",
      "2,346\n",
      "$73.86\n",
      "\n",
      "ZAFRO Ice Maker Countertop with Self-Cleaning, 26Lbs/24Hrs, 9 Cubes Ready in 8 Mins, One-Click Operation, Compact Portable Ice Maker with Ice Scoop/Basket for Home/Kitchen/Office/Bar, Black\n",
      "2,799\n",
      "$79.99\n",
      "\n",
      "GoveeLife Smart Countertop Ice Makers, Self-Cleaning, Portable Ice Maker Works with Alexa, 9 Cubes Ready in 6min, 26lbs/24H, for Home Kitchen Party Camping, with Ice Scoop Ice Basket Stainless Silver\n",
      "726\n",
      "$152.88\n",
      "\n",
      "AGLUCKY Nugget Ice Maker Countertop, Portable Pebble Ice Maker Machine, 35lbs/Day Chewable Ice, Self-Cleaning, Stainless Steel, Pellet Ice Maker for Home/Kitchen/Office (Silver)\n",
      "1,483\n",
      "$239.99\n",
      "\n",
      "Giantex Portable Mini Compact Twin Tub Washing Machine 20lbs Washer Spain Spinner Portable Washing Machine, Blue+ White\n",
      "14,135\n",
      "$129.99\n",
      "\n",
      "KUMIO Ice Makers Countertop, 9 Bullets Ready in 9 Mins, 26.5 Lbs/24 Hrs, Ice Machine with Self-Cleaning, Removable Ice Basket & Scoop, 2 Sizes of Bullet Ice for Kitchen Office Bar Party, Black\n",
      "679\n",
      "$129.99\n",
      "\n",
      "Gevi Household V2.0 Countertop Nugget Ice Maker | Self-Cleaning Pellet Ice Machine | Open and Pour Water Refill | Stainless Steel Housing | Fit Under Wall Cabinet | White\n",
      "502\n",
      "$417.51\n",
      "\n",
      "Joy Pebble Nugget Stainless Steel Ice Maker, Countertop Chewable Nugget Ice Machine, One-Click Quick Ice Making 33Lbs/Day, Self-Cleaning, Portable Ice Machine for Home Kitchen Party, Silver\n",
      "632\n",
      "$199.99\n",
      "\n",
      "Kndko Nugget Ice Maker Countertop,34lbs/Day,Portable Crushed Ice Machine,Self Cleaning with One-Click Design & Removable Top Cover,Soft Chewable Pebble Ice Maker for Home Bar Camping RV,Black Basic\n",
      "549\n",
      "$229.99\n",
      "\n",
      "Ice Makers Countertop Portable Ice Machine Stainless Steel, 26.5lbs in 24 Hours, 9 Ice Cubes Ready in 8 Mins, Ice Scoop and Basket, L&S Bullet Sizes for Home Party Office Bar Camping\n",
      "97\n",
      "$99.99\n",
      "\n",
      "COWSAR Nugget Ice Maker Countertop, Chewable Nugget Ice Cubes Machine, Quick Ice Making 34Lbs/Day, Self-Cleaning, Portable Stainless Steel Ice Machine for Home Kitchen Office Party\n",
      "454\n",
      "$169.99\n",
      "\n",
      "Nugget Ice Makers Countertop with Pellet Soft Chewable Ice, Pebble Ice Maker Machine with Self-Cleaning, 35.5Lbs/24Hrs, One-Click Operation, Ice Basket/Ice Scoop for Home/Office/Bar/Party, Black\n",
      "266\n",
      "$89.99\n",
      "\n",
      "Igloo Automatic Ice Maker, Self- Cleaning, Countertop Size, 26 Pounds in 24 Hours, Cubes 7 Minutes, LED Control Panel, Scoop Included, Perfect for Water Bottles, Mixed Drinks, Stainless Steel\n",
      "128\n",
      "$91.19\n",
      "\n",
      "Upstreman 3.2 Cu.Ft Mini Fridge with Freezer, Double Door Mini Fridge, Adjustable Thermostat, Mini Refrigerator for Dorm, Office, Bedroom, Black\n",
      "427\n",
      "$199.95\n",
      "\n",
      "EUHOMY Nugget Ice Maker Countertop, 30lbs/Day, 2 Way Water Refill, Self-Cleaning Pebble Ice Maker Machine with 3Qt Reservoir, Ice Makers Countertop Ideal for Home, Office, Bar, and Party. (Silver)\n",
      "1,427\n",
      "$188.68\n",
      "\n",
      "HAILANG Portable Ice Maker Machine for Countertop, 2 Sizes Bullet Shaped Ice, 9 Ice Cubes Ready in 7 Minutes, with Ice Scoop and Basket for Home/Office/Bar\n",
      "212\n",
      "$99.99\n",
      "\n",
      "BANGSON Mini Fridge with Freezer, 2 Door Small Refrigerator with Freezer, Mini Fridge for Bedroom, 3.2 CU.FT, For Home, Office, Dorm, Garage or RV, (Black)\n",
      "204\n",
      "$199.90\n",
      "\n",
      "EUHOMY Ice Cube Maker Machine Countertop, 2 Ways to Add Water, 45Lbs/Day 24 Pcs Ready in 13 Mins, Self-Cleaning Portable Compact, with Ice Scoop & Basket, Perfect for Home/Kitchen/Office/Bar\n",
      "1,421\n",
      "$139.72\n",
      "\n",
      "EUHOMY 3.2 Cu.Ft Mini Fridge with Freezer, Single Door Compact Refrigerator, LED light, Adjustable Thermostat, Mini Refrigerator Energy Saving, Mini fridge for Bedroom, Dorm, Office, Black\n",
      "98\n",
      "$131.74\n",
      "\n"
     ]
    }
   ],
   "source": [
    "soup = BeautifulSoup(html, 'html.parser')\n",
    "divs = soup.select('#gridItemRoot')\n",
    "\n",
    "title = divs[0].select('#B08ZYJ8CRX > a:nth-child(2) > span > div')[0].text\n",
    "rate = divs[0].select('#B08ZYJ8CRX > div:nth-child(3) > div > a > i > span')[0].text\n",
    "price = divs[0].select('#B08ZYJ8CRX > div:nth-child(4) > a > span > span > span')[0].text\n",
    "\n",
    "print(title, rate, price)\n",
    "\n",
    "for div in divs:\n",
    "    try:\n",
    "        title = div.select('._cDEzb_p13n-sc-css-line-clamp-3_g3dy1')[0].text\n",
    "        rate = div.select('.a-size-small')[0].text\n",
    "        price = div.select('span.p13n-sc-price')[0].text\n",
    "\n",
    "        print(title, rate, price)\n",
    "    except:\n",
    "        pass"
   ]
  },
  {
   "cell_type": "code",
   "execution_count": 5,
   "metadata": {},
   "outputs": [
    {
     "ename": "NoSuchElementException",
     "evalue": "Message: no such element: Unable to locate element: {\"method\":\"css selector\",\"selector\":\".btn_user.btn_user--wish\"}\n  (Session info: chrome=119.0.6045.161); For documentation on this error, please visit: https://www.selenium.dev/documentation/webdriver/troubleshooting/errors#no-such-element-exception\nStacktrace:\n\tGetHandleVerifier [0x00007FF7A6AD82B2+55298]\n\t(No symbol) [0x00007FF7A6A45E02]\n\t(No symbol) [0x00007FF7A69005AB]\n\t(No symbol) [0x00007FF7A694175C]\n\t(No symbol) [0x00007FF7A69418DC]\n\t(No symbol) [0x00007FF7A697CBC7]\n\t(No symbol) [0x00007FF7A69620EF]\n\t(No symbol) [0x00007FF7A697AAA4]\n\t(No symbol) [0x00007FF7A6961E83]\n\t(No symbol) [0x00007FF7A693670A]\n\t(No symbol) [0x00007FF7A6937964]\n\tGetHandleVerifier [0x00007FF7A6E50AAB+3694587]\n\tGetHandleVerifier [0x00007FF7A6EA728E+4048862]\n\tGetHandleVerifier [0x00007FF7A6E9F173+4015811]\n\tGetHandleVerifier [0x00007FF7A6B747D6+695590]\n\t(No symbol) [0x00007FF7A6A50CE8]\n\t(No symbol) [0x00007FF7A6A4CF34]\n\t(No symbol) [0x00007FF7A6A4D062]\n\t(No symbol) [0x00007FF7A6A3D3A3]\n\tBaseThreadInitThunk [0x00007FF977EB7344+20]\n\tRtlUserThreadStart [0x00007FF978B226B1+33]\n",
     "output_type": "error",
     "traceback": [
      "\u001b[1;31m---------------------------------------------------------------------------\u001b[0m",
      "\u001b[1;31mNoSuchElementException\u001b[0m                    Traceback (most recent call last)",
      "\u001b[1;32md:\\BookExample_Python\\Lecture02\\Tranning\\2023_11_30_test.ipynb Cell 8\u001b[0m line \u001b[0;36m4\n\u001b[0;32m     <a href='vscode-notebook-cell:/d%3A/BookExample_Python/Lecture02/Tranning/2023_11_30_test.ipynb#X10sZmlsZQ%3D%3D?line=38'>39</a>\u001b[0m time\u001b[39m.\u001b[39msleep(\u001b[39m1\u001b[39m)\n\u001b[0;32m     <a href='vscode-notebook-cell:/d%3A/BookExample_Python/Lecture02/Tranning/2023_11_30_test.ipynb#X10sZmlsZQ%3D%3D?line=40'>41</a>\u001b[0m \u001b[39m### 관심 목록 들어가기\u001b[39;00m\n\u001b[1;32m---> <a href='vscode-notebook-cell:/d%3A/BookExample_Python/Lecture02/Tranning/2023_11_30_test.ipynb#X10sZmlsZQ%3D%3D?line=41'>42</a>\u001b[0m elem \u001b[39m=\u001b[39m driver\u001b[39m.\u001b[39;49mfind_element(By\u001b[39m.\u001b[39;49mCLASS_NAME,\u001b[39m'\u001b[39;49m\u001b[39mbtn_user.btn_user--wish\u001b[39;49m\u001b[39m'\u001b[39;49m)\n\u001b[0;32m     <a href='vscode-notebook-cell:/d%3A/BookExample_Python/Lecture02/Tranning/2023_11_30_test.ipynb#X10sZmlsZQ%3D%3D?line=42'>43</a>\u001b[0m elem\u001b[39m.\u001b[39mclick()\n\u001b[0;32m     <a href='vscode-notebook-cell:/d%3A/BookExample_Python/Lecture02/Tranning/2023_11_30_test.ipynb#X10sZmlsZQ%3D%3D?line=44'>45</a>\u001b[0m time\u001b[39m.\u001b[39msleep(\u001b[39m1\u001b[39m)\n",
      "File \u001b[1;32mc:\\Users\\GJ\\anaconda3\\Lib\\site-packages\\selenium\\webdriver\\remote\\webdriver.py:741\u001b[0m, in \u001b[0;36mWebDriver.find_element\u001b[1;34m(self, by, value)\u001b[0m\n\u001b[0;32m    738\u001b[0m     by \u001b[39m=\u001b[39m By\u001b[39m.\u001b[39mCSS_SELECTOR\n\u001b[0;32m    739\u001b[0m     value \u001b[39m=\u001b[39m \u001b[39mf\u001b[39m\u001b[39m'\u001b[39m\u001b[39m[name=\u001b[39m\u001b[39m\"\u001b[39m\u001b[39m{\u001b[39;00mvalue\u001b[39m}\u001b[39;00m\u001b[39m\"\u001b[39m\u001b[39m]\u001b[39m\u001b[39m'\u001b[39m\n\u001b[1;32m--> 741\u001b[0m \u001b[39mreturn\u001b[39;00m \u001b[39mself\u001b[39;49m\u001b[39m.\u001b[39;49mexecute(Command\u001b[39m.\u001b[39;49mFIND_ELEMENT, {\u001b[39m\"\u001b[39;49m\u001b[39musing\u001b[39;49m\u001b[39m\"\u001b[39;49m: by, \u001b[39m\"\u001b[39;49m\u001b[39mvalue\u001b[39;49m\u001b[39m\"\u001b[39;49m: value})[\u001b[39m\"\u001b[39m\u001b[39mvalue\u001b[39m\u001b[39m\"\u001b[39m]\n",
      "File \u001b[1;32mc:\\Users\\GJ\\anaconda3\\Lib\\site-packages\\selenium\\webdriver\\remote\\webdriver.py:347\u001b[0m, in \u001b[0;36mWebDriver.execute\u001b[1;34m(self, driver_command, params)\u001b[0m\n\u001b[0;32m    345\u001b[0m response \u001b[39m=\u001b[39m \u001b[39mself\u001b[39m\u001b[39m.\u001b[39mcommand_executor\u001b[39m.\u001b[39mexecute(driver_command, params)\n\u001b[0;32m    346\u001b[0m \u001b[39mif\u001b[39;00m response:\n\u001b[1;32m--> 347\u001b[0m     \u001b[39mself\u001b[39;49m\u001b[39m.\u001b[39;49merror_handler\u001b[39m.\u001b[39;49mcheck_response(response)\n\u001b[0;32m    348\u001b[0m     response[\u001b[39m\"\u001b[39m\u001b[39mvalue\u001b[39m\u001b[39m\"\u001b[39m] \u001b[39m=\u001b[39m \u001b[39mself\u001b[39m\u001b[39m.\u001b[39m_unwrap_value(response\u001b[39m.\u001b[39mget(\u001b[39m\"\u001b[39m\u001b[39mvalue\u001b[39m\u001b[39m\"\u001b[39m, \u001b[39mNone\u001b[39;00m))\n\u001b[0;32m    349\u001b[0m     \u001b[39mreturn\u001b[39;00m response\n",
      "File \u001b[1;32mc:\\Users\\GJ\\anaconda3\\Lib\\site-packages\\selenium\\webdriver\\remote\\errorhandler.py:229\u001b[0m, in \u001b[0;36mErrorHandler.check_response\u001b[1;34m(self, response)\u001b[0m\n\u001b[0;32m    227\u001b[0m         alert_text \u001b[39m=\u001b[39m value[\u001b[39m\"\u001b[39m\u001b[39malert\u001b[39m\u001b[39m\"\u001b[39m]\u001b[39m.\u001b[39mget(\u001b[39m\"\u001b[39m\u001b[39mtext\u001b[39m\u001b[39m\"\u001b[39m)\n\u001b[0;32m    228\u001b[0m     \u001b[39mraise\u001b[39;00m exception_class(message, screen, stacktrace, alert_text)  \u001b[39m# type: ignore[call-arg]  # mypy is not smart enough here\u001b[39;00m\n\u001b[1;32m--> 229\u001b[0m \u001b[39mraise\u001b[39;00m exception_class(message, screen, stacktrace)\n",
      "\u001b[1;31mNoSuchElementException\u001b[0m: Message: no such element: Unable to locate element: {\"method\":\"css selector\",\"selector\":\".btn_user.btn_user--wish\"}\n  (Session info: chrome=119.0.6045.161); For documentation on this error, please visit: https://www.selenium.dev/documentation/webdriver/troubleshooting/errors#no-such-element-exception\nStacktrace:\n\tGetHandleVerifier [0x00007FF7A6AD82B2+55298]\n\t(No symbol) [0x00007FF7A6A45E02]\n\t(No symbol) [0x00007FF7A69005AB]\n\t(No symbol) [0x00007FF7A694175C]\n\t(No symbol) [0x00007FF7A69418DC]\n\t(No symbol) [0x00007FF7A697CBC7]\n\t(No symbol) [0x00007FF7A69620EF]\n\t(No symbol) [0x00007FF7A697AAA4]\n\t(No symbol) [0x00007FF7A6961E83]\n\t(No symbol) [0x00007FF7A693670A]\n\t(No symbol) [0x00007FF7A6937964]\n\tGetHandleVerifier [0x00007FF7A6E50AAB+3694587]\n\tGetHandleVerifier [0x00007FF7A6EA728E+4048862]\n\tGetHandleVerifier [0x00007FF7A6E9F173+4015811]\n\tGetHandleVerifier [0x00007FF7A6B747D6+695590]\n\t(No symbol) [0x00007FF7A6A50CE8]\n\t(No symbol) [0x00007FF7A6A4CF34]\n\t(No symbol) [0x00007FF7A6A4D062]\n\t(No symbol) [0x00007FF7A6A3D3A3]\n\tBaseThreadInitThunk [0x00007FF977EB7344+20]\n\tRtlUserThreadStart [0x00007FF978B226B1+33]\n"
     ]
    }
   ],
   "source": [
    "# 다나와 관심상품\n",
    "from bs4 import BeautifulSoup\n",
    "\n",
    "from selenium import webdriver\n",
    "from selenium.webdriver.common.by import By\n",
    "from selenium.webdriver.common.keys import Keys\n",
    "import time\n",
    "\n",
    "import my_id\n",
    "\n",
    "url = \"https://www.danawa.com/\"\n",
    "\n",
    "# 크롬드라이버 열기\n",
    "driver = webdriver.Chrome()\n",
    "# url 열기\n",
    "driver.get(url)\n",
    "\n",
    "time.sleep(1)\n",
    "\n",
    "### 로그인 화면 접속\n",
    "elem = driver.find_element(By.CSS_SELECTOR, '#danawa_header > div > div > div.main-header__banner > div.main-header__user > div:nth-child(5) > a > span')\n",
    "elem.click()\n",
    "\n",
    "time.sleep(1)\n",
    "\n",
    "### 로그인 단계\n",
    "# id 입력\n",
    "elem = driver.find_element(By.ID,\"danawa-member-login-input-id\")\n",
    "elem.send_keys(my_id.private_id['id'])\n",
    "\n",
    "# pw 입력\n",
    "elem = driver.find_element(By.ID,\"danawa-member-login-input-pwd\")\n",
    "elem.send_keys(my_id.private_id['pw'])\n",
    "\n",
    "# 로그인 버튼 실행\n",
    "elem = driver.find_element(By.ID,\"danawa-member-login-loginButton\")\n",
    "elem.click()\n",
    "\n",
    "time.sleep(1)\n",
    "\n",
    "### 관심 목록 들어가기\n",
    "elem = driver.find_element(By.CLASS_NAME,'btn_user.btn_user--wish')\n",
    "elem.click()\n",
    "\n",
    "time.sleep(1)\n"
   ]
  },
  {
   "cell_type": "code",
   "execution_count": 3,
   "metadata": {},
   "outputs": [
    {
     "ename": "NameError",
     "evalue": "name 'driver' is not defined",
     "output_type": "error",
     "traceback": [
      "\u001b[1;31m---------------------------------------------------------------------------\u001b[0m",
      "\u001b[1;31mNameError\u001b[0m                                 Traceback (most recent call last)",
      "\u001b[1;32md:\\BookExample_Python\\Lecture02\\Tranning\\2023_11_30_test.ipynb Cell 9\u001b[0m line \u001b[0;36m2\n\u001b[0;32m      <a href='vscode-notebook-cell:/d%3A/BookExample_Python/Lecture02/Tranning/2023_11_30_test.ipynb#X11sZmlsZQ%3D%3D?line=0'>1</a>\u001b[0m \u001b[39m# 파싱\u001b[39;00m\n\u001b[1;32m----> <a href='vscode-notebook-cell:/d%3A/BookExample_Python/Lecture02/Tranning/2023_11_30_test.ipynb#X11sZmlsZQ%3D%3D?line=1'>2</a>\u001b[0m html \u001b[39m=\u001b[39m driver\u001b[39m.\u001b[39mpage_source\n\u001b[0;32m      <a href='vscode-notebook-cell:/d%3A/BookExample_Python/Lecture02/Tranning/2023_11_30_test.ipynb#X11sZmlsZQ%3D%3D?line=2'>3</a>\u001b[0m soup \u001b[39m=\u001b[39m BeautifulSoup(html, \u001b[39m\"\u001b[39m\u001b[39mhtml.parser\u001b[39m\u001b[39m\"\u001b[39m)\n\u001b[0;32m      <a href='vscode-notebook-cell:/d%3A/BookExample_Python/Lecture02/Tranning/2023_11_30_test.ipynb#X11sZmlsZQ%3D%3D?line=4'>5</a>\u001b[0m \u001b[39m#\u001b[39;00m\n",
      "\u001b[1;31mNameError\u001b[0m: name 'driver' is not defined"
     ]
    }
   ],
   "source": [
    "# 파싱\n",
    "html = driver.page_source\n",
    "soup = BeautifulSoup(html, \"html.parser\")\n",
    "#\n",
    "trs = soup.select('#wishProductListArea > table > tbody > tr')\n",
    "\n",
    "title = trs[0].select('#wishProductListArea > table > tbody > tr:nth-child(1) > td.info > div.tit > a')[0].text\n",
    "desc = trs[0].select('#wishProductListArea > table > tbody > tr:nth-child(1) > td.info > dl > dd')[0].text\n",
    "\n",
    "for tr in trs:\n",
    "    title = tr.select('td.info > div.tit > a')[0].text\n",
    "    desc = tr.select('td.info > dl > dd')[0].text\n",
    "    price = tr.select('td.lowest > div.cost > span > em')[0].text\n",
    "    \n",
    "    print(title)\n",
    "    print(desc)\n",
    "    print(price)\n",
    "    print()\n",
    "\n",
    "# 관심 목록 상품 목록\n",
    "#path = \"#wishProductListArea > table > tbody > tr\"\n",
    "\n",
    "# 값 가져와 출력하기\n",
    "#for item in soup.select(path):\n",
    "#    print(item.select('div.tit')[0].text.strip())\n",
    "#    print(item.select('em.num')[0].text.strip())\n",
    "#    print(item.select('div.sub_info.clear > dl > dd')[0].text.strip())\n",
    "#    print()\n"
   ]
  },
  {
   "cell_type": "code",
   "execution_count": null,
   "metadata": {},
   "outputs": [],
   "source": []
  }
 ],
 "metadata": {
  "kernelspec": {
   "display_name": "base",
   "language": "python",
   "name": "python3"
  },
  "language_info": {
   "codemirror_mode": {
    "name": "ipython",
    "version": 3
   },
   "file_extension": ".py",
   "mimetype": "text/x-python",
   "name": "python",
   "nbconvert_exporter": "python",
   "pygments_lexer": "ipython3",
   "version": "3.11.5"
  }
 },
 "nbformat": 4,
 "nbformat_minor": 2
}
