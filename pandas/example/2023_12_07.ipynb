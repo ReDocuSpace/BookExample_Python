{
 "cells": [
  {
   "cell_type": "code",
   "execution_count": null,
   "metadata": {},
   "outputs": [],
   "source": [
    "import pandas as pd\n",
    "import numpy as np\n",
    "\n",
    "ad_data = pd.read_csv(\"D:\\BookExample_Python\\Lecture03\\Tranning\\Backup\\eda_data_files\\\\naver_ad.csv\")\n",
    "ad_data\n",
    "\n",
    "#ad_data.drop([0,1,2], axis=0, inplace= True)\n",
    "#ad_data[ad_data['키워드'] == '-']\n",
    "ad_data = ad_data.loc[ad_data['키워드'] != '-']\n",
    "ad_data.reset_index(drop=True)"
   ]
  },
  {
   "cell_type": "code",
   "execution_count": null,
   "metadata": {},
   "outputs": [],
   "source": [
    "# 노출수 = 사람들에게 광고가 보여지는 횟수\n",
    "# 클릭률 = 노출수 대비 클릭한 숫자\n",
    "# 클릭비용(CPC) 클릭당 지출 비용...\n",
    "\n",
    "# 중점적으로 관리할 키워드를 추출 : 노출수가 높은 키워드, 클릭수가 높은 키워드, 클릭률이 높은 키워드, 클릭비용이 낮은 키워드\n",
    "# 상위 20%를 추출하시오\n",
    "\n",
    "# 노출수가 높은 키워드 \n",
    "express_keyword = ad_data.sort_values('노출수',ascending=False).head(int(len(ad_data) * 0.1))[['키워드', '노출수']]\n",
    "express_keyword.reset_index(drop=True)"
   ]
  },
  {
   "cell_type": "code",
   "execution_count": null,
   "metadata": {},
   "outputs": [],
   "source": [
    "# 클릭수가 높은 키워드 \n",
    "click_keyword = ad_data.sort_values('클릭수',ascending=False).head(int(ad_data['키워드'].count() * 0.1))[['키워드', '클릭수']]\n",
    "click_keyword.reset_index(drop=True)"
   ]
  },
  {
   "cell_type": "code",
   "execution_count": null,
   "metadata": {},
   "outputs": [],
   "source": [
    "# 클릭률이 높은 키워드 \n",
    "ad_data['클릭률'] = ad_data['클릭수'] / ad_data['노출수']\n",
    "click_rate_keyword = ad_data.sort_values('클릭률',ascending=False).head(int(ad_data['키워드'].count() * 0.1))[['키워드','클릭률']]\n",
    "click_rate_keyword.reset_index(drop=True)\n"
   ]
  },
  {
   "cell_type": "code",
   "execution_count": null,
   "metadata": {},
   "outputs": [],
   "source": [
    "# 클릭비용이 낮은 키워드\n",
    "ad_data['클릭비용(cpc)'] = ad_data['총비용(VAT포함,원)'] / ad_data['클릭수']\n",
    "click_cost_keyword = ad_data.sort_values('클릭비용(cpc)',ascending=False).head(int(ad_data['키워드'].count() * 0.1))[['키워드','클릭비용(cpc)']]\n",
    "click_cost_keyword.reset_index(drop=True)"
   ]
  },
  {
   "cell_type": "code",
   "execution_count": 2,
   "metadata": {},
   "outputs": [
    {
     "data": {
      "text/html": [
       "<div>\n",
       "<style scoped>\n",
       "    .dataframe tbody tr th:only-of-type {\n",
       "        vertical-align: middle;\n",
       "    }\n",
       "\n",
       "    .dataframe tbody tr th {\n",
       "        vertical-align: top;\n",
       "    }\n",
       "\n",
       "    .dataframe thead th {\n",
       "        text-align: right;\n",
       "    }\n",
       "</style>\n",
       "<table border=\"1\" class=\"dataframe\">\n",
       "  <thead>\n",
       "    <tr style=\"text-align: right;\">\n",
       "      <th></th>\n",
       "      <th>순번</th>\n",
       "      <th>영화명</th>\n",
       "      <th>감독</th>\n",
       "      <th>제작사</th>\n",
       "      <th>수입사</th>\n",
       "      <th>배급사</th>\n",
       "      <th>개봉일</th>\n",
       "      <th>영화유형</th>\n",
       "      <th>영화형태</th>\n",
       "      <th>국적</th>\n",
       "      <th>전국스크린수</th>\n",
       "      <th>매출액</th>\n",
       "      <th>관객수</th>\n",
       "      <th>서울매출액</th>\n",
       "      <th>서울관객수</th>\n",
       "      <th>장르</th>\n",
       "      <th>등급</th>\n",
       "      <th>영화구분</th>\n",
       "      <th>개봉년</th>\n",
       "      <th>개봉달</th>\n",
       "    </tr>\n",
       "  </thead>\n",
       "  <tbody>\n",
       "    <tr>\n",
       "      <th>1</th>\n",
       "      <td>1587</td>\n",
       "      <td>명량</td>\n",
       "      <td>김한민</td>\n",
       "      <td>(주)빅스톤픽쳐스</td>\n",
       "      <td>NaN</td>\n",
       "      <td>씨제이이앤엠(주)</td>\n",
       "      <td>2014-07-30</td>\n",
       "      <td>개봉영화</td>\n",
       "      <td>장편</td>\n",
       "      <td>한국</td>\n",
       "      <td>1587</td>\n",
       "      <td>135748398910.0</td>\n",
       "      <td>17613682</td>\n",
       "      <td>33121225810.0</td>\n",
       "      <td>4163666</td>\n",
       "      <td>사극</td>\n",
       "      <td>15세이상관람가</td>\n",
       "      <td>일반영화</td>\n",
       "      <td>2014.0</td>\n",
       "      <td>7.0</td>\n",
       "    </tr>\n",
       "    <tr>\n",
       "      <th>2</th>\n",
       "      <td>1978</td>\n",
       "      <td>극한직업</td>\n",
       "      <td>이병헌</td>\n",
       "      <td>(주)어바웃필름,영화사 해그림 주식회사,씨제이이앤엠(주)</td>\n",
       "      <td>NaN</td>\n",
       "      <td>씨제이이앤엠(주)</td>\n",
       "      <td>2019-01-23</td>\n",
       "      <td>개봉영화</td>\n",
       "      <td>장편</td>\n",
       "      <td>한국</td>\n",
       "      <td>1978</td>\n",
       "      <td>139647979516.0</td>\n",
       "      <td>16264944</td>\n",
       "      <td>31858660536.0</td>\n",
       "      <td>3638287</td>\n",
       "      <td>코미디</td>\n",
       "      <td>15세이상관람가</td>\n",
       "      <td>일반영화</td>\n",
       "      <td>2019.0</td>\n",
       "      <td>1.0</td>\n",
       "    </tr>\n",
       "    <tr>\n",
       "      <th>3</th>\n",
       "      <td>1912</td>\n",
       "      <td>신과함께-죄와 벌</td>\n",
       "      <td>김용화</td>\n",
       "      <td>리얼라이즈픽쳐스(주),(주)덱스터스튜디오</td>\n",
       "      <td>NaN</td>\n",
       "      <td>롯데쇼핑㈜롯데엔터테인먼트</td>\n",
       "      <td>2017-12-20</td>\n",
       "      <td>개봉영화</td>\n",
       "      <td>장편</td>\n",
       "      <td>한국</td>\n",
       "      <td>1912</td>\n",
       "      <td>115698654137.0</td>\n",
       "      <td>14410754</td>\n",
       "      <td>27530825087.0</td>\n",
       "      <td>3346172</td>\n",
       "      <td>판타지</td>\n",
       "      <td>12세이상관람가</td>\n",
       "      <td>일반영화</td>\n",
       "      <td>2017.0</td>\n",
       "      <td>12.0</td>\n",
       "    </tr>\n",
       "    <tr>\n",
       "      <th>4</th>\n",
       "      <td>966</td>\n",
       "      <td>국제시장</td>\n",
       "      <td>윤제균</td>\n",
       "      <td>(주)제이케이필름,씨제이이앤엠(주)</td>\n",
       "      <td>NaN</td>\n",
       "      <td>씨제이이앤엠(주)</td>\n",
       "      <td>2014-12-17</td>\n",
       "      <td>개봉영화</td>\n",
       "      <td>장편</td>\n",
       "      <td>한국</td>\n",
       "      <td>966</td>\n",
       "      <td>110828014630.0</td>\n",
       "      <td>14245998</td>\n",
       "      <td>25842519330.0</td>\n",
       "      <td>3233946</td>\n",
       "      <td>드라마</td>\n",
       "      <td>12세이상관람가</td>\n",
       "      <td>일반영화</td>\n",
       "      <td>2014.0</td>\n",
       "      <td>12.0</td>\n",
       "    </tr>\n",
       "    <tr>\n",
       "      <th>5</th>\n",
       "      <td>2835</td>\n",
       "      <td>어벤져스: 엔드게임</td>\n",
       "      <td>안소니 루소,조 루소</td>\n",
       "      <td>NaN</td>\n",
       "      <td>월트디즈니컴퍼니코리아 유한책임회사</td>\n",
       "      <td>월트디즈니컴퍼니코리아 유한책임회사</td>\n",
       "      <td>2019-04-24</td>\n",
       "      <td>개봉영화</td>\n",
       "      <td>장편</td>\n",
       "      <td>미국</td>\n",
       "      <td>2835</td>\n",
       "      <td>122182694160.0</td>\n",
       "      <td>13934592</td>\n",
       "      <td>33577136860.0</td>\n",
       "      <td>3597963</td>\n",
       "      <td>액션</td>\n",
       "      <td>12세이상관람가</td>\n",
       "      <td>일반영화</td>\n",
       "      <td>2019.0</td>\n",
       "      <td>4.0</td>\n",
       "    </tr>\n",
       "    <tr>\n",
       "      <th>...</th>\n",
       "      <td>...</td>\n",
       "      <td>...</td>\n",
       "      <td>...</td>\n",
       "      <td>...</td>\n",
       "      <td>...</td>\n",
       "      <td>...</td>\n",
       "      <td>...</td>\n",
       "      <td>...</td>\n",
       "      <td>...</td>\n",
       "      <td>...</td>\n",
       "      <td>...</td>\n",
       "      <td>...</td>\n",
       "      <td>...</td>\n",
       "      <td>...</td>\n",
       "      <td>...</td>\n",
       "      <td>...</td>\n",
       "      <td>...</td>\n",
       "      <td>...</td>\n",
       "      <td>...</td>\n",
       "      <td>...</td>\n",
       "    </tr>\n",
       "    <tr>\n",
       "      <th>19700</th>\n",
       "      <td>0</td>\n",
       "      <td>UFO를 타고 온 외계인 왕자</td>\n",
       "      <td>NaN</td>\n",
       "      <td>NaN</td>\n",
       "      <td>NaN</td>\n",
       "      <td>NaN</td>\n",
       "      <td>1984-01-01</td>\n",
       "      <td>개봉영화</td>\n",
       "      <td>장편</td>\n",
       "      <td>한국</td>\n",
       "      <td>0</td>\n",
       "      <td>0.0</td>\n",
       "      <td>0</td>\n",
       "      <td>0.0</td>\n",
       "      <td>47323</td>\n",
       "      <td>SF</td>\n",
       "      <td>연소자관람가</td>\n",
       "      <td>일반영화</td>\n",
       "      <td>1984.0</td>\n",
       "      <td>1.0</td>\n",
       "    </tr>\n",
       "    <tr>\n",
       "      <th>19701</th>\n",
       "      <td>0</td>\n",
       "      <td>W의 비극</td>\n",
       "      <td>김수형</td>\n",
       "      <td>한진흥업주식회사</td>\n",
       "      <td>NaN</td>\n",
       "      <td>NaN</td>\n",
       "      <td>1985-06-09</td>\n",
       "      <td>개봉영화</td>\n",
       "      <td>장편</td>\n",
       "      <td>한국</td>\n",
       "      <td>0</td>\n",
       "      <td>0.0</td>\n",
       "      <td>0</td>\n",
       "      <td>0.0</td>\n",
       "      <td>8624</td>\n",
       "      <td>드라마</td>\n",
       "      <td>연소자관람불가</td>\n",
       "      <td>일반영화</td>\n",
       "      <td>1985.0</td>\n",
       "      <td>6.0</td>\n",
       "    </tr>\n",
       "    <tr>\n",
       "      <th>19702</th>\n",
       "      <td>0</td>\n",
       "      <td>X게임</td>\n",
       "      <td>엠마뉴엘 그리센티</td>\n",
       "      <td>NaN</td>\n",
       "      <td>(주)한영필림</td>\n",
       "      <td>NaN</td>\n",
       "      <td>1997-07-05</td>\n",
       "      <td>개봉영화</td>\n",
       "      <td>장편</td>\n",
       "      <td>이탈리아</td>\n",
       "      <td>0</td>\n",
       "      <td>0.0</td>\n",
       "      <td>0</td>\n",
       "      <td>0.0</td>\n",
       "      <td>434</td>\n",
       "      <td>범죄</td>\n",
       "      <td>연소자관람불가</td>\n",
       "      <td>일반영화</td>\n",
       "      <td>1997.0</td>\n",
       "      <td>7.0</td>\n",
       "    </tr>\n",
       "    <tr>\n",
       "      <th>19703</th>\n",
       "      <td>0</td>\n",
       "      <td>Y의 체험</td>\n",
       "      <td>이장호</td>\n",
       "      <td>판영화사(주)</td>\n",
       "      <td>NaN</td>\n",
       "      <td>NaN</td>\n",
       "      <td>1987-10-03</td>\n",
       "      <td>개봉영화</td>\n",
       "      <td>장편</td>\n",
       "      <td>한국</td>\n",
       "      <td>0</td>\n",
       "      <td>0.0</td>\n",
       "      <td>0</td>\n",
       "      <td>0.0</td>\n",
       "      <td>37520</td>\n",
       "      <td>드라마</td>\n",
       "      <td>고등학생이상관람가</td>\n",
       "      <td>일반영화</td>\n",
       "      <td>1987.0</td>\n",
       "      <td>10.0</td>\n",
       "    </tr>\n",
       "    <tr>\n",
       "      <th>19704</th>\n",
       "      <td>0</td>\n",
       "      <td>YMCA야구단</td>\n",
       "      <td>김현석</td>\n",
       "      <td>(주)명필름,씨제이엔터테인먼트</td>\n",
       "      <td>NaN</td>\n",
       "      <td>NaN</td>\n",
       "      <td>2002-10-02</td>\n",
       "      <td>개봉영화</td>\n",
       "      <td>장편</td>\n",
       "      <td>한국</td>\n",
       "      <td>0</td>\n",
       "      <td>NaN</td>\n",
       "      <td>0</td>\n",
       "      <td>NaN</td>\n",
       "      <td>560000</td>\n",
       "      <td>드라마</td>\n",
       "      <td>전체관람가</td>\n",
       "      <td>일반영화</td>\n",
       "      <td>2002.0</td>\n",
       "      <td>10.0</td>\n",
       "    </tr>\n",
       "  </tbody>\n",
       "</table>\n",
       "<p>19704 rows × 20 columns</p>\n",
       "</div>"
      ],
      "text/plain": [
       "         순번               영화명           감독                              제작사  \\\n",
       "1      1587                명량          김한민                        (주)빅스톤픽쳐스   \n",
       "2      1978              극한직업          이병헌  (주)어바웃필름,영화사 해그림 주식회사,씨제이이앤엠(주)   \n",
       "3      1912         신과함께-죄와 벌          김용화           리얼라이즈픽쳐스(주),(주)덱스터스튜디오   \n",
       "4       966              국제시장          윤제균              (주)제이케이필름,씨제이이앤엠(주)   \n",
       "5      2835        어벤져스: 엔드게임  안소니 루소,조 루소                              NaN   \n",
       "...     ...               ...          ...                              ...   \n",
       "19700     0  UFO를 타고 온 외계인 왕자          NaN                              NaN   \n",
       "19701     0             W의 비극          김수형                         한진흥업주식회사   \n",
       "19702     0               X게임    엠마뉴엘 그리센티                              NaN   \n",
       "19703     0             Y의 체험          이장호                          판영화사(주)   \n",
       "19704     0           YMCA야구단          김현석                 (주)명필름,씨제이엔터테인먼트   \n",
       "\n",
       "                      수입사                 배급사        개봉일  영화유형 영화형태    국적  \\\n",
       "1                     NaN           씨제이이앤엠(주) 2014-07-30  개봉영화   장편    한국   \n",
       "2                     NaN           씨제이이앤엠(주) 2019-01-23  개봉영화   장편    한국   \n",
       "3                     NaN       롯데쇼핑㈜롯데엔터테인먼트 2017-12-20  개봉영화   장편    한국   \n",
       "4                     NaN           씨제이이앤엠(주) 2014-12-17  개봉영화   장편    한국   \n",
       "5      월트디즈니컴퍼니코리아 유한책임회사  월트디즈니컴퍼니코리아 유한책임회사 2019-04-24  개봉영화   장편    미국   \n",
       "...                   ...                 ...        ...   ...  ...   ...   \n",
       "19700                 NaN                 NaN 1984-01-01  개봉영화   장편    한국   \n",
       "19701                 NaN                 NaN 1985-06-09  개봉영화   장편    한국   \n",
       "19702             (주)한영필림                 NaN 1997-07-05  개봉영화   장편  이탈리아   \n",
       "19703                 NaN                 NaN 1987-10-03  개봉영화   장편    한국   \n",
       "19704                 NaN                 NaN 2002-10-02  개봉영화   장편    한국   \n",
       "\n",
       "       전국스크린수            매출액       관객수         서울매출액    서울관객수   장르         등급  \\\n",
       "1        1587 135748398910.0  17613682 33121225810.0  4163666   사극   15세이상관람가   \n",
       "2        1978 139647979516.0  16264944 31858660536.0  3638287  코미디   15세이상관람가   \n",
       "3        1912 115698654137.0  14410754 27530825087.0  3346172  판타지   12세이상관람가   \n",
       "4         966 110828014630.0  14245998 25842519330.0  3233946  드라마   12세이상관람가   \n",
       "5        2835 122182694160.0  13934592 33577136860.0  3597963   액션   12세이상관람가   \n",
       "...       ...            ...       ...           ...      ...  ...        ...   \n",
       "19700       0            0.0         0           0.0    47323   SF     연소자관람가   \n",
       "19701       0            0.0         0           0.0     8624  드라마    연소자관람불가   \n",
       "19702       0            0.0         0           0.0      434   범죄    연소자관람불가   \n",
       "19703       0            0.0         0           0.0    37520  드라마  고등학생이상관람가   \n",
       "19704       0            NaN         0           NaN   560000  드라마      전체관람가   \n",
       "\n",
       "       영화구분    개봉년  개봉달  \n",
       "1      일반영화 2014.0  7.0  \n",
       "2      일반영화 2019.0  1.0  \n",
       "3      일반영화 2017.0 12.0  \n",
       "4      일반영화 2014.0 12.0  \n",
       "5      일반영화 2019.0  4.0  \n",
       "...     ...    ...  ...  \n",
       "19700  일반영화 1984.0  1.0  \n",
       "19701  일반영화 1985.0  6.0  \n",
       "19702  일반영화 1997.0  7.0  \n",
       "19703  일반영화 1987.0 10.0  \n",
       "19704  일반영화 2002.0 10.0  \n",
       "\n",
       "[19704 rows x 20 columns]"
      ]
     },
     "execution_count": 2,
     "metadata": {},
     "output_type": "execute_result"
    }
   ],
   "source": [
    "import pandas as pd\n",
    "import numpy as np \n",
    "\n",
    "pd.options.display.float_format = '{:.1f}'.format\n",
    "\n",
    "# \n",
    "kobis = pd.read_csv('D:\\BookExample_Python\\Lecture03\\Tranning\\Backup\\eda_data_files\\KOBIS_개봉일람_2019-10-26.csv',skiprows=5)\n",
    "kobis.columns = ['순번','영화명','감독','제작사','수입사','배급사','개봉일','영화유형','영화형태','국적','전국스크린수','매출액','관객수','서울매출액','서울관객수','장르','등급','영화구분']\n",
    "kobis.drop([0], inplace=True)\n",
    "\n",
    "kobis['개봉일'] = pd.to_datetime(kobis['개봉일'])\n",
    "kobis['개봉년'] = kobis['개봉일'].dt.year\n",
    "kobis['개봉달'] = kobis['개봉일'].dt.month\n",
    "\n",
    "#kobis['전국스크린수'] = kobis['전국스크린수'].apply(lambda x : x.replace(',','')).astype('int32')\n",
    "kobis['순번'] = kobis['전국스크린수'].str.replace(',','').astype('int32')\n",
    "kobis['전국스크린수'] = kobis['전국스크린수'].str.replace(',','').astype('int32')\n",
    "kobis['매출액'] = kobis['매출액'].dropna().str.replace(',','').astype('int64')\n",
    "kobis['관객수'] = kobis['관객수'].dropna().str.replace(',','').astype('int64')\n",
    "kobis['서울매출액'] = kobis['서울매출액'].dropna().str.replace(',','').astype('int64')\n",
    "kobis['서울관객수'] = kobis['서울관객수'].dropna().str.replace(',','').astype('int64')\n",
    "\n",
    "kobis"
   ]
  },
  {
   "cell_type": "code",
   "execution_count": null,
   "metadata": {},
   "outputs": [],
   "source": []
  },
  {
   "cell_type": "code",
   "execution_count": 3,
   "metadata": {},
   "outputs": [
    {
     "data": {
      "text/plain": [
       "2    극한직업\n",
       "Name: 영화명, dtype: object"
      ]
     },
     "execution_count": 3,
     "metadata": {},
     "output_type": "execute_result"
    }
   ],
   "source": [
    "# http://www.kobis.or.kr\n",
    "\n",
    "# 매출액이 사상 최대인 영화는?\n",
    "kobis[kobis['매출액'].max() == kobis['매출액']]['영화명']\n",
    "kobis.sort_values('매출액',ascending=False).iloc[0]"
   ]
  },
  {
   "cell_type": "code",
   "execution_count": 7,
   "metadata": {},
   "outputs": [
    {
     "data": {
      "text/plain": [
       "국적\n",
       "한국         1668195115.1\n",
       "미국         1330608497.6\n",
       "벨기에         961789756.9\n",
       "남아프리카공화국    771217380.0\n",
       "아이슬란드       404282210.7\n",
       "               ...     \n",
       "서독                  0.0\n",
       "룩셈부르크               0.0\n",
       "잉글랜드                0.0\n",
       "유고슬라비아              0.0\n",
       "아프카니스탄              0.0\n",
       "Name: 매출액, Length: 74, dtype: float64"
      ]
     },
     "execution_count": 7,
     "metadata": {},
     "output_type": "execute_result"
    }
   ],
   "source": [
    "# 국가별 영화 매출액 순위..?\n",
    "\n",
    "kobis_ranking = kobis.groupby(['국적'])['매출액'].mean().sort_values(ascending=False)\n",
    "kobis_ranking.reset_index(drop=True)\n",
    "\n",
    "kobis_ranking.head(5)\n",
    "kobis.groupby('국적')['매출액'].mean().sort_values(ascending=False)\n"
   ]
  },
  {
   "cell_type": "code",
   "execution_count": 20,
   "metadata": {},
   "outputs": [
    {
     "data": {
      "text/plain": [
       "<Axes: xlabel='개봉년'>"
      ]
     },
     "execution_count": 20,
     "metadata": {},
     "output_type": "execute_result"
    },
    {
     "name": "stderr",
     "output_type": "stream",
     "text": [
      "C:\\Users\\GJ\\AppData\\Roaming\\Python\\Python311\\site-packages\\IPython\\core\\events.py:93: UserWarning: Glyph 44060 (\\N{HANGUL SYLLABLE GAE}) missing from current font.\n",
      "  func(*args, **kwargs)\n",
      "C:\\Users\\GJ\\AppData\\Roaming\\Python\\Python311\\site-packages\\IPython\\core\\events.py:93: UserWarning: Glyph 48393 (\\N{HANGUL SYLLABLE BONG}) missing from current font.\n",
      "  func(*args, **kwargs)\n",
      "C:\\Users\\GJ\\AppData\\Roaming\\Python\\Python311\\site-packages\\IPython\\core\\events.py:93: UserWarning: Glyph 45380 (\\N{HANGUL SYLLABLE NYEON}) missing from current font.\n",
      "  func(*args, **kwargs)\n",
      "C:\\Users\\GJ\\AppData\\Roaming\\Python\\Python311\\site-packages\\IPython\\core\\pylabtools.py:152: UserWarning: Glyph 44060 (\\N{HANGUL SYLLABLE GAE}) missing from current font.\n",
      "  fig.canvas.print_figure(bytes_io, **kw)\n",
      "C:\\Users\\GJ\\AppData\\Roaming\\Python\\Python311\\site-packages\\IPython\\core\\pylabtools.py:152: UserWarning: Glyph 48393 (\\N{HANGUL SYLLABLE BONG}) missing from current font.\n",
      "  fig.canvas.print_figure(bytes_io, **kw)\n",
      "C:\\Users\\GJ\\AppData\\Roaming\\Python\\Python311\\site-packages\\IPython\\core\\pylabtools.py:152: UserWarning: Glyph 45380 (\\N{HANGUL SYLLABLE NYEON}) missing from current font.\n",
      "  fig.canvas.print_figure(bytes_io, **kw)\n"
     ]
    },
    {
     "data": {
      "image/png": "[encoded data removed]",
      "text/plain": [
       "<Figure size 640x480 with 1 Axes>"
      ]
     },
     "metadata": {},
     "output_type": "display_data"
    }
   ],
   "source": [
    "\n",
    "# 연도별 영화 매출합..?\n",
    "temp = kobis.groupby(kobis['개봉년'])['매출액'].sum().sort_values(ascending=False)\n",
    "temp.plot(kind='bar')\n",
    "\n",
    "#string일때\n",
    "#kobis['개봉일'].apply(lambda x : x.split('-')[0])['매출액'].sum()\n",
    "\n",
    "\n"
   ]
  },
  {
   "cell_type": "code",
   "execution_count": 6,
   "metadata": {},
   "outputs": [
    {
     "data": {
      "text/plain": [
       "장르\n",
       "액션      5141905060149.0\n",
       "드라마     3003526529329.0\n",
       "애니메이션   1482094062301.0\n",
       "코미디     1375744972964.0\n",
       "범죄      1257002731569.0\n",
       "Name: 매출액, dtype: float64"
      ]
     },
     "execution_count": 6,
     "metadata": {},
     "output_type": "execute_result"
    }
   ],
   "source": [
    "# 장르별 매출액 합의 상위 5개 장르..?\n",
    "temp = kobis.groupby(kobis['장르'])['매출액'].sum().sort_values(ascending=False)\n",
    "temp.head(5)"
   ]
  },
  {
   "cell_type": "code",
   "execution_count": 21,
   "metadata": {},
   "outputs": [
    {
     "data": {
      "text/plain": [
       "장르\n",
       "사극     4171186612.7\n",
       "어드벤처   3840522330.6\n",
       "판타지    2907302307.0\n",
       "범죄     2560087029.7\n",
       "액션     2025169381.7\n",
       "Name: 매출액, dtype: float64"
      ]
     },
     "execution_count": 21,
     "metadata": {},
     "output_type": "execute_result"
    }
   ],
   "source": [
    "# 장르별 평균 매출액 상위 5개 장르..?\n",
    "temp = kobis.groupby(kobis['장르'])['매출액'].mean().sort_values(ascending=False)\n",
    "temp.iloc[:5]\n"
   ]
  },
  {
   "cell_type": "code",
   "execution_count": 22,
   "metadata": {},
   "outputs": [
    {
     "data": {
      "text/plain": [
       "장르\n",
       "성인물(에로)       54180.3\n",
       "공연         53092641.1\n",
       "기타         95385458.4\n",
       "멜로/로맨스    233396672.7\n",
       "다큐멘터리     235242959.7\n",
       "Name: 매출액, dtype: float64"
      ]
     },
     "execution_count": 22,
     "metadata": {},
     "output_type": "execute_result"
    }
   ],
   "source": [
    "# 장르별 평균 매출액 하위 5개 장르..?\n",
    "temp = kobis.groupby(kobis['장르'])['매출액'].mean().sort_values(ascending=True)\n",
    "temp.iloc[:5]"
   ]
  },
  {
   "cell_type": "code",
   "execution_count": 23,
   "metadata": {},
   "outputs": [
    {
     "data": {
      "text/plain": [
       "감독\n",
       "크리스 벅,제니퍼 리   82461504400.0\n",
       "이상근           79142136162.0\n",
       "이일형           77252755264.0\n",
       "Name: 매출액, dtype: float64"
      ]
     },
     "execution_count": 23,
     "metadata": {},
     "output_type": "execute_result"
    }
   ],
   "source": [
    "# 평균 매출액이 높은 감독, 낮은 감독..? 각각 상위 , 하위 3명\n",
    "temp = kobis.groupby(kobis['감독'])['매출액'].mean().sort_values(ascending=False)\n",
    "temp.iloc[:3]\n"
   ]
  },
  {
   "cell_type": "code",
   "execution_count": 26,
   "metadata": {},
   "outputs": [
    {
     "data": {
      "text/plain": [
       "감독\n",
       "현남섭   NaN\n",
       "홍성기   NaN\n",
       "홍종오   NaN\n",
       "Name: 매출액, dtype: float64"
      ]
     },
     "execution_count": 26,
     "metadata": {},
     "output_type": "execute_result"
    }
   ],
   "source": [
    "# 평균 매출액이 높은 감독, 낮은 감독..? 각각 상위 , 하위 3명\n",
    "temp = kobis.groupby('감독')['매출액'].mean().sort_values(ascending=False)\n",
    "temp.iloc[-3:]\n",
    "\n"
   ]
  },
  {
   "cell_type": "code",
   "execution_count": 28,
   "metadata": {},
   "outputs": [
    {
     "ename": "AttributeError",
     "evalue": "'Axes' object has no attribute 'iloc'",
     "output_type": "error",
     "traceback": [
      "\u001b[1;31m---------------------------------------------------------------------------\u001b[0m",
      "\u001b[1;31mAttributeError\u001b[0m                            Traceback (most recent call last)",
      "\u001b[1;32md:\\BookExample_Python\\Lecture03\\Tranning\\Backup\\2023_12_07.ipynb Cell 16\u001b[0m line \u001b[0;36m3\n\u001b[0;32m      <a href='vscode-notebook-cell:/d%3A/BookExample_Python/Lecture03/Tranning/Backup/2023_12_07.ipynb#X21sZmlsZQ%3D%3D?line=0'>1</a>\u001b[0m \u001b[39m# 평균 매출액이 가장 높은 달은?\u001b[39;00m\n\u001b[0;32m      <a href='vscode-notebook-cell:/d%3A/BookExample_Python/Lecture03/Tranning/Backup/2023_12_07.ipynb#X21sZmlsZQ%3D%3D?line=1'>2</a>\u001b[0m temp \u001b[39m=\u001b[39m kobis\u001b[39m.\u001b[39mgroupby(kobis[\u001b[39m'\u001b[39m\u001b[39m개봉달\u001b[39m\u001b[39m'\u001b[39m])[\u001b[39m'\u001b[39m\u001b[39m매출액\u001b[39m\u001b[39m'\u001b[39m]\u001b[39m.\u001b[39mmean()\u001b[39m.\u001b[39msort_values(ascending\u001b[39m=\u001b[39m\u001b[39mFalse\u001b[39;00m)\u001b[39m.\u001b[39mplot(kind\u001b[39m=\u001b[39m\u001b[39m'\u001b[39m\u001b[39mbar\u001b[39m\u001b[39m'\u001b[39m)\n\u001b[1;32m----> <a href='vscode-notebook-cell:/d%3A/BookExample_Python/Lecture03/Tranning/Backup/2023_12_07.ipynb#X21sZmlsZQ%3D%3D?line=2'>3</a>\u001b[0m temp\u001b[39m.\u001b[39;49miloc[:\u001b[39m1\u001b[39m]\n\u001b[0;32m      <a href='vscode-notebook-cell:/d%3A/BookExample_Python/Lecture03/Tranning/Backup/2023_12_07.ipynb#X21sZmlsZQ%3D%3D?line=4'>5</a>\u001b[0m \u001b[39m# 개봉일 dtype = str 일때\u001b[39;00m\n\u001b[0;32m      <a href='vscode-notebook-cell:/d%3A/BookExample_Python/Lecture03/Tranning/Backup/2023_12_07.ipynb#X21sZmlsZQ%3D%3D?line=5'>6</a>\u001b[0m \u001b[39m# kobis['개봉일'].apply(lambda x:x.split('-')[1])\u001b[39;00m\n",
      "\u001b[1;31mAttributeError\u001b[0m: 'Axes' object has no attribute 'iloc'"
     ]
    },
    {
     "name": "stderr",
     "output_type": "stream",
     "text": [
      "C:\\Users\\GJ\\AppData\\Roaming\\Python\\Python311\\site-packages\\IPython\\core\\events.py:93: UserWarning: Glyph 44060 (\\N{HANGUL SYLLABLE GAE}) missing from current font.\n",
      "  func(*args, **kwargs)\n",
      "C:\\Users\\GJ\\AppData\\Roaming\\Python\\Python311\\site-packages\\IPython\\core\\events.py:93: UserWarning: Glyph 48393 (\\N{HANGUL SYLLABLE BONG}) missing from current font.\n",
      "  func(*args, **kwargs)\n",
      "C:\\Users\\GJ\\AppData\\Roaming\\Python\\Python311\\site-packages\\IPython\\core\\events.py:93: UserWarning: Glyph 45804 (\\N{HANGUL SYLLABLE DAL}) missing from current font.\n",
      "  func(*args, **kwargs)\n",
      "C:\\Users\\GJ\\AppData\\Roaming\\Python\\Python311\\site-packages\\IPython\\core\\pylabtools.py:152: UserWarning: Glyph 44060 (\\N{HANGUL SYLLABLE GAE}) missing from current font.\n",
      "  fig.canvas.print_figure(bytes_io, **kw)\n",
      "C:\\Users\\GJ\\AppData\\Roaming\\Python\\Python311\\site-packages\\IPython\\core\\pylabtools.py:152: UserWarning: Glyph 48393 (\\N{HANGUL SYLLABLE BONG}) missing from current font.\n",
      "  fig.canvas.print_figure(bytes_io, **kw)\n",
      "C:\\Users\\GJ\\AppData\\Roaming\\Python\\Python311\\site-packages\\IPython\\core\\pylabtools.py:152: UserWarning: Glyph 45804 (\\N{HANGUL SYLLABLE DAL}) missing from current font.\n",
      "  fig.canvas.print_figure(bytes_io, **kw)\n"
     ]
    },
    {
     "data": {
      "image/png": "[encoded data removed]",
      "text/plain": [
       "<Figure size 640x480 with 1 Axes>"
      ]
     },
     "metadata": {},
     "output_type": "display_data"
    }
   ],
   "source": [
    "# 평균 매출액이 가장 높은 달은?\n",
    "temp = kobis.groupby(kobis['개봉달'])['매출액'].mean().sort_values(ascending=False).plot(kind='bar')\n",
    "temp.iloc[:1]\n",
    "\n",
    "# 개봉일 dtype = str 일때\n",
    "# kobis['개봉일'].apply(lambda x:x.split('-')[1])"
   ]
  },
  {
   "cell_type": "code",
   "execution_count": null,
   "metadata": {},
   "outputs": [],
   "source": []
  },
  {
   "cell_type": "code",
   "execution_count": 50,
   "metadata": {},
   "outputs": [],
   "source": [
    "age_pd = pd.read_csv('D:\\BookExample_Python\\Lecture03\\Tranning\\Backup\\eda_data_files\\\\age_pd.csv',encoding='euckr')\n",
    "\n",
    "age_pd = age_pd.rename(columns={'2019년02월_계_총인구수':'총인구수', '2019년02월_계_연령구간인구수':'연령구간'})\n",
    "\n",
    "for age in range(101):\n",
    "    age_pd = age_pd.rename(columns={'2019년02월_계_{}세'.format(age) : '{}세'.format(age)})\n",
    "\n",
    "age_pd = age_pd.rename(columns={'2019년02월_계_100세 이상' : '100세 이상'})\n",
    "\n",
    "all_seoul = age_pd.iloc[0]\n",
    "age_pd['행정구역'].drop([0], axis=0, inplace= True)\n",
    "\n",
    "#age_pd['행정구역'].apply(lambda x : x.split())\n",
    "\n"
   ]
  },
  {
   "cell_type": "code",
   "execution_count": null,
   "metadata": {},
   "outputs": [],
   "source": [
    "# 구를 입력받은 후, 해당 구의 연령대별 인구분포를 출력하시오..\n",
    "borough = input()\n",
    "\n",
    "\n"
   ]
  },
  {
   "cell_type": "code",
   "execution_count": null,
   "metadata": {},
   "outputs": [],
   "source": [
    "\n",
    "\n",
    "# 구와 연령을 입력받은 후, 해당 구의 해당 연령의 인구수를 출력하시오..\n",
    "# 연령을 입력받은 후 해당 연령의 인구가 가장 많은 구를 출력하시오..\n",
    "# 인구수가 가장 많은 구는...?\n",
    "# 연령대(10대,20대,..50대..100세이상)를 입력받은 후 해당 연령대 인구수가 가장 많은 구를 출력..\n",
    "# 구를 입력받은 후 해당 구와 연령대별 인구분포가 가장 유사한 구를 출력하시오..\n",
    "# 서울시에서 인구수가 가장 많은 연령은..?\n",
    "# 서울시에서 인구수가 가장 많은 연령대(10대,20대,..50대..100세이상)는..?\n"
   ]
  },
  {
   "cell_type": "code",
   "execution_count": null,
   "metadata": {},
   "outputs": [],
   "source": []
  }
 ],
 "metadata": {
  "kernelspec": {
   "display_name": "base",
   "language": "python",
   "name": "python3"
  },
  "language_info": {
   "codemirror_mode": {
    "name": "ipython",
    "version": 3
   },
   "file_extension": ".py",
   "mimetype": "text/x-python",
   "name": "python",
   "nbconvert_exporter": "python",
   "pygments_lexer": "ipython3",
   "version": "3.11.5"
  }
 },
 "nbformat": 4,
 "nbformat_minor": 2
}
