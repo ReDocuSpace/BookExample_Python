{
 "cells": [
  {
   "cell_type": "code",
   "execution_count": 11,
   "metadata": {},
   "outputs": [
    {
     "data": {
      "text/plain": [
       "array([0, 1, 2, 3, 4, 5])"
      ]
     },
     "execution_count": 11,
     "metadata": {},
     "output_type": "execute_result"
    }
   ],
   "source": [
    "#1. 넘파이 모듈을 np라는 이름으로 임포트해보세요.\n",
    "import numpy as np\n",
    "\n",
    "#2. 리스트를 넘파이의 ndarray 객체로 변환해보세요.\n",
    "data = [1,2,3]\n",
    "np.array(data)\n",
    "\n",
    "#3 0부터 99까지의 정수가 저장된 ndarray 객체를 만들어 보세요.\n",
    "arr = np.arange(100)\n",
    "\n",
    "#4. 구구단 3단의 결과가 저장된 ndarray 객체를 만들어 보세요.\n",
    "arr = np.arange(1,10) * 3\n",
    "\n",
    "#5. 1000보다 작은 짝수가 저장된 ndarray 객체를 만들어 보세요.\n",
    "arr = np.arange(2,1000,2)\n",
    "\n",
    "#6. 0부터 1까지 0.1 간격으로 구성된 ndarray를 생성해보세요. 1은 포함되지 않습니다.\n",
    "arr = np.arange(0,1,0.1)\n",
    "\n",
    "#7. 리스트에는 6개의 데이터가 저장돼 있습니다. 다음과 같이 2행 3열의 ndarray로 변환하세요.\n",
    "data = [0, 1, 2, 3, 4, 5]\n",
    "arr = np.array(data)\n",
    "arr.reshape(2,3)\n",
    "\n",
    "#8. 다음의 2차원 ndarray 1차원 ndarray로 변환하세요.\n",
    "arr = np.array([\n",
    "    [0,1,2],\n",
    "    [3,4,5]\n",
    "])\n",
    "\n",
    "arr.reshape(6)\n",
    "arr.flatten()\n",
    "\n",
    "#9. 주어진 ndarray를 다음과 같이 변경해 보세요.\n",
    "arr = np.arange(3)\n",
    "arr.reshape(3,1)\n",
    "\n",
    "#10. 에러의 원인을 설명하세요.\n",
    "\n",
    "np.arange(6).reshape(2, 4)\n",
    "# 6개의 데이터를 (2 X 4) 데이터에 넣는 도중 데이터의 양이 부족해서 오류가 난다.\n"
   ]
  },
  {
   "cell_type": "code",
   "execution_count": null,
   "metadata": {},
   "outputs": [],
   "source": [
    "\n"
   ]
  },
  {
   "cell_type": "code",
   "execution_count": null,
   "metadata": {},
   "outputs": [],
   "source": []
  }
 ],
 "metadata": {
  "kernelspec": {
   "display_name": "base",
   "language": "python",
   "name": "python3"
  },
  "language_info": {
   "codemirror_mode": {
    "name": "ipython",
    "version": 3
   },
   "file_extension": ".py",
   "mimetype": "text/x-python",
   "name": "python",
   "nbconvert_exporter": "python",
   "pygments_lexer": "ipython3",
   "version": "3.11.5"
  }
 },
 "nbformat": 4,
 "nbformat_minor": 2
}
