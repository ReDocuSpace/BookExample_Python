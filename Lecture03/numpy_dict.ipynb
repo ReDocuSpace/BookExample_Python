{
 "cells": [
  {
   "cell_type": "markdown",
   "metadata": {},
   "source": [
    "## Numpy 함수 모음집"
   ]
  },
  {
   "cell_type": "code",
   "execution_count": 2,
   "metadata": {},
   "outputs": [],
   "source": [
    "import numpy as np"
   ]
  },
  {
   "cell_type": "code",
   "execution_count": 6,
   "metadata": {},
   "outputs": [
    {
     "ename": "TypeError",
     "evalue": "array() takes from 1 to 2 positional arguments but 3 were given",
     "output_type": "error",
     "traceback": [
      "\u001b[1;31m---------------------------------------------------------------------------\u001b[0m",
      "\u001b[1;31mTypeError\u001b[0m                                 Traceback (most recent call last)",
      "\u001b[1;32md:\\BookExample_Python\\Lecture03\\numpy_dict.ipynb Cell 3\u001b[0m line \u001b[0;36m1\n\u001b[0;32m      <a href='vscode-notebook-cell:/d%3A/BookExample_Python/Lecture03/numpy_dict.ipynb#W4sZmlsZQ%3D%3D?line=7'>8</a>\u001b[0m vec_arr \u001b[39m=\u001b[39m np\u001b[39m.\u001b[39marray([\u001b[39m1\u001b[39m,\u001b[39m2\u001b[39m,\u001b[39m3\u001b[39m,\u001b[39m4\u001b[39m,\u001b[39m5\u001b[39m,\u001b[39m6\u001b[39m])\n\u001b[0;32m      <a href='vscode-notebook-cell:/d%3A/BookExample_Python/Lecture03/numpy_dict.ipynb#W4sZmlsZQ%3D%3D?line=8'>9</a>\u001b[0m \u001b[39m# 2차원 : Matrix\u001b[39;00m\n\u001b[1;32m---> <a href='vscode-notebook-cell:/d%3A/BookExample_Python/Lecture03/numpy_dict.ipynb#W4sZmlsZQ%3D%3D?line=9'>10</a>\u001b[0m mat_arr \u001b[39m=\u001b[39m np\u001b[39m.\u001b[39;49marray([\u001b[39m1\u001b[39;49m,\u001b[39m2\u001b[39;49m,\u001b[39m5\u001b[39;49m,\u001b[39m8\u001b[39;49m],[\u001b[39m1\u001b[39;49m,\u001b[39m2\u001b[39;49m,\u001b[39m5\u001b[39;49m,\u001b[39m9\u001b[39;49m],[\u001b[39m1\u001b[39;49m,\u001b[39m2\u001b[39;49m,\u001b[39m5\u001b[39;49m,\u001b[39m8\u001b[39;49m])\n\u001b[0;32m     <a href='vscode-notebook-cell:/d%3A/BookExample_Python/Lecture03/numpy_dict.ipynb#W4sZmlsZQ%3D%3D?line=10'>11</a>\u001b[0m \u001b[39m# 3차원 : Tensor\u001b[39;00m\n\u001b[0;32m     <a href='vscode-notebook-cell:/d%3A/BookExample_Python/Lecture03/numpy_dict.ipynb#W4sZmlsZQ%3D%3D?line=11'>12</a>\u001b[0m ten_arr \u001b[39m=\u001b[39m [[[\u001b[39m1\u001b[39m,\u001b[39m2\u001b[39m,\u001b[39m5\u001b[39m,\u001b[39m8\u001b[39m],[\u001b[39m1\u001b[39m,\u001b[39m2\u001b[39m,\u001b[39m5\u001b[39m,\u001b[39m9\u001b[39m],[\u001b[39m1\u001b[39m,\u001b[39m2\u001b[39m,\u001b[39m5\u001b[39m,\u001b[39m8\u001b[39m]],\n\u001b[0;32m     <a href='vscode-notebook-cell:/d%3A/BookExample_Python/Lecture03/numpy_dict.ipynb#W4sZmlsZQ%3D%3D?line=12'>13</a>\u001b[0m            [[\u001b[39m1\u001b[39m,\u001b[39m2\u001b[39m,\u001b[39m5\u001b[39m,\u001b[39m8\u001b[39m],[\u001b[39m1\u001b[39m,\u001b[39m2\u001b[39m,\u001b[39m5\u001b[39m,\u001b[39m9\u001b[39m],[\u001b[39m1\u001b[39m,\u001b[39m2\u001b[39m,\u001b[39m5\u001b[39m,\u001b[39m8\u001b[39m]],\n\u001b[0;32m     <a href='vscode-notebook-cell:/d%3A/BookExample_Python/Lecture03/numpy_dict.ipynb#W4sZmlsZQ%3D%3D?line=13'>14</a>\u001b[0m            [[\u001b[39m1\u001b[39m,\u001b[39m2\u001b[39m,\u001b[39m5\u001b[39m,\u001b[39m8\u001b[39m],[\u001b[39m1\u001b[39m,\u001b[39m2\u001b[39m,\u001b[39m5\u001b[39m,\u001b[39m9\u001b[39m],[\u001b[39m1\u001b[39m,\u001b[39m2\u001b[39m,\u001b[39m5\u001b[39m,\u001b[39m8\u001b[39m]]]\n",
      "\u001b[1;31mTypeError\u001b[0m: array() takes from 1 to 2 positional arguments but 3 were given"
     ]
    }
   ],
   "source": [
    "int_array = np.array([1,2,3,4,5,6],int)\n",
    "float_array = np.array([1,2,3,4,5,6],float)\n",
    "\n",
    "# 특이사항\n",
    "custom_array_01 = np.array([1,2,3,'4',5.0,6],float)     # 뒤에 적은 타입으로 값이 변한다.\n",
    "\n",
    "# 1차원 : Vector\n",
    "vec_arr = np.array([1,2,3,4,5,6])\n",
    "# 2차원 : Matrix\n",
    "mat_arr = np.array([1,2,5,8],[1,2,5,9],[1,2,5,8])\n",
    "# 3차원 : Tensor\n",
    "ten_arr = np.array( [[[1,2,5,8],[1,2,5,9],[1,2,5,8]],\n",
    "                     [[1,2,5,8],[1,2,5,9],[1,2,5,8]],\n",
    "                     [[1,2,5,8],[1,2,5,9],[1,2,5,8]]])\n",
    "\n",
    "### 2차원 Matrix\n",
    "mat_arr.shape           # 모양 가져오기\n",
    "mat_arr.reshape(4,3)    # 모양 변경하기\n",
    "mat_arr.reshape(-1,3)   # -1 자동으로 잡아주기\n",
    "mat_arr.reshape(8,)    #"
   ]
  },
  {
   "cell_type": "code",
   "execution_count": null,
   "metadata": {},
   "outputs": [],
   "source": []
  },
  {
   "cell_type": "code",
   "execution_count": null,
   "metadata": {},
   "outputs": [],
   "source": []
  }
 ],
 "metadata": {
  "kernelspec": {
   "display_name": "base",
   "language": "python",
   "name": "python3"
  },
  "language_info": {
   "codemirror_mode": {
    "name": "ipython",
    "version": 3
   },
   "file_extension": ".py",
   "mimetype": "text/x-python",
   "name": "python",
   "nbconvert_exporter": "python",
   "pygments_lexer": "ipython3",
   "version": "3.11.5"
  }
 },
 "nbformat": 4,
 "nbformat_minor": 2
}
