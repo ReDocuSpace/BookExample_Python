{
 "cells": [
  {
   "cell_type": "code",
   "execution_count": null,
   "metadata": {},
   "outputs": [],
   "source": [
    "# Numpy 모듈 설치 \n",
    "# !pip install numpy\n",
    "\n",
    "### Numpy란\n",
    "\n",
    "# 공학 선형대수 연산 패키지\n",
    "# 선형대수, 수치계산에서 뛰어난 성능\n",
    "# 파이썬 보다 연산 속도가 빠름\n",
    "# datatype : np.array"
   ]
  },
  {
   "cell_type": "code",
   "execution_count": 2,
   "metadata": {},
   "outputs": [
    {
     "data": {
      "text/plain": [
       "array([[1.92601069, 0.49299356],\n",
       "       [4.88643471, 3.90025104],\n",
       "       [1.82944121, 2.8707642 ],\n",
       "       [3.05606211, 0.72429771],\n",
       "       [0.50500269, 2.36820706]])"
      ]
     },
     "execution_count": 2,
     "metadata": {},
     "output_type": "execute_result"
    }
   ],
   "source": [
    "### numpy 요약본\n",
    "import numpy as np\n",
    "\n",
    "test_array = np.array([1,4,5,8],float)  # 배열 생성하기\n",
    "test_array.dtype                        # 배열 타입 확인하기\n",
    "test_array.shape                        # 배열 모양 확인하기\n",
    "\n",
    "# 2차원 3차원의 경우 리스트를 만든 뒤 np.array로 생성\n",
    "test_matrix = [[1,2,3,4],[1,2,3,4]]\n",
    "\n",
    "np.array(test_matrix,int)\n",
    "np.array(test_matrix,int).reshape(8,)   # 다차원 array 1차원으로 변경하기\n",
    "np.array(test_matrix,int).flatten()     # 다차원 array 1차원으로 변경하기\n",
    "\n",
    "### indexing\n",
    "# list와 달리 [x,y] 표현 방식으로 접근한다.\n",
    "# list방식처럼 사용 가능하다.\n",
    "\n",
    "### slicing\n",
    "# list와 달리 행과 열 부분을 나누어서 slicing이 가능하다\n",
    "# 리스트의 slicing에서 행과 열을 아래와 같이 사용가능\n",
    "# test_example[(::),(::)]\n",
    "# 앞은 row / 뒤는 column\n",
    "\n",
    "test_example_num = [[1,2,3,4],[1,2,5,8],[1,2,5,8],[1,2,5,8]]\n",
    "test_example = np.array(test_example_num, int)\n",
    "test_example[1:3,1:4:2]\n",
    "\n",
    "### arange\n",
    "# array의 범위를 지정하여, 값의 list를 지정하는 명령어\n",
    "np.arange(30).reshape(5,6)\n",
    "\n",
    "### ones 1로 초기화\n",
    "### zero 0으로 초기화\n",
    "### 빈공간 ost 임의의 값으로 초기화\n",
    "np.zeros(shape=(10,),dtype=np.int8)\n",
    "np.ones(shape=(10,),dtype=np.int8)\n",
    "np.empty(shape=(10,),dtype=np.int8)\n",
    "\n",
    "### something_like 값을 전부 특정 숫자로 채우기\n",
    "test_matrix = np.arange(30).reshape(5,6)\n",
    "np.zeros_like(test_matrix)\n",
    "np.ones_like(test_matrix)\n",
    "np.empty_like(test_matrix)\n",
    "np.full_like(test_matrix,5)\n",
    "\n",
    "### identify 단위 행렬로 값 채우기\n",
    "np.identity(n=3, dtype=np.int8)\n",
    "np.identity(5,dtype=np.int8)\n",
    "\n",
    "### 대각선이 1인 행렬 값 만들기\n",
    "np.eye(N=3, M=5, dtype=np.int8)\n",
    "np.eye(3)\n",
    "np.eye(3,5,k=2)\n",
    "\n",
    "###diag 대각 행렬의 값을 추출함\n",
    "matrix = np.arange(9).reshape(3,3)\n",
    "np.diag(matrix)\n",
    "np.diag(matrix,k=1)\n",
    "\n",
    "### random sampling : 랜덤으로 값 뿌려주기\n",
    "np.random.uniform(0,1,10).reshape(2,5)\n",
    "np.random.uniform(0,5,10).reshape(5,2)"
   ]
  },
  {
   "cell_type": "code",
   "execution_count": null,
   "metadata": {},
   "outputs": [],
   "source": []
  }
 ],
 "metadata": {
  "kernelspec": {
   "display_name": "base",
   "language": "python",
   "name": "python3"
  },
  "language_info": {
   "codemirror_mode": {
    "name": "ipython",
    "version": 3
   },
   "file_extension": ".py",
   "mimetype": "text/x-python",
   "name": "python",
   "nbconvert_exporter": "python",
   "pygments_lexer": "ipython3",
   "version": "3.11.5"
  }
 },
 "nbformat": 4,
 "nbformat_minor": 2
}
