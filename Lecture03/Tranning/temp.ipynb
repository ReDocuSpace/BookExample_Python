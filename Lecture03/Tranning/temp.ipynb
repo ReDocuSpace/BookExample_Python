{
 "cells": [
  {
   "cell_type": "code",
   "execution_count": 67,
   "metadata": {},
   "outputs": [
    {
     "name": "stdout",
     "output_type": "stream",
     "text": [
      "<class 'pandas.core.frame.DataFrame'>\n",
      "Index: 99 entries, 삼성전자 to 대신증권\n",
      "Data columns (total 4 columns):\n",
      " #   Column  Non-Null Count  Dtype\n",
      "---  ------  --------------  -----\n",
      " 0   TV      99 non-null     int64\n",
      " 1   라디오     99 non-null     int64\n",
      " 2   신문      99 non-null     int64\n",
      " 3   잡지      99 non-null     int64\n",
      "dtypes: int64(4)\n",
      "memory usage: 3.9+ KB\n"
     ]
    }
   ],
   "source": [
    "import pandas as pd\n",
    "import numpy as np\n",
    "import seaborn as sns\n",
    "import matplotlib.pyplot as plt\n",
    "\n",
    "\n",
    "ad15 = pd.read_csv(r'eda_data_files\\2015ad.csv', index_col=0,skiprows=1)\n",
    "ad15.head()\n",
    "# Unnamed: 0    인덱스인데 컬럼으로 가지고오는것 그래서 index_col=0을 써주면 Unnamed: 0   이 인덱스로 적용함\n",
    "# 15년 기업들의 매체별 광고비 지출 데이터\n",
    "\n",
    "ad15 = pd.read_csv(r'eda_data_files\\2015ad.csv', index_col=0,skiprows=1)\n",
    "ad16 = pd.read_csv(r'eda_data_files\\2016ad.csv', index_col=0,skiprows=1)\n",
    "ad17 = pd.read_csv(r'eda_data_files\\2017ad.csv', index_col=0,skiprows=1)\n",
    "ad18 = pd.read_csv(r'eda_data_files\\2018ad.csv', index_col=0,skiprows=1)\n",
    "ad19 = pd.read_csv(r'eda_data_files\\2019ad.csv', index_col=0,skiprows=1)\n",
    "\n",
    "L = [ad15,ad16,ad17,ad18,ad19]\n",
    "num = 15\n",
    "\n",
    "for i,item in enumerate(L):\n",
    "    item.set_index('회사명', inplace=True)\n",
    "    item = item.astype(np.float32)\n",
    "    #item.info()\n",
    "\n",
    "ad15.set_index('회사명', inplace=True)\n",
    "temp = ad15.astype(np.float32)\n",
    "ad15.info()\n",
    "\n",
    "\n",
    "\n",
    "#print(\"###############\")\n",
    "#L[0].info()\n",
    "\n"
   ]
  },
  {
   "cell_type": "code",
   "execution_count": 54,
   "metadata": {},
   "outputs": [
    {
     "name": "stdout",
     "output_type": "stream",
     "text": [
      "<class 'pandas.core.frame.DataFrame'>\n",
      "Index: 99 entries, 삼성전자 to 대신증권\n",
      "Data columns (total 4 columns):\n",
      " #   Column  Non-Null Count  Dtype\n",
      "---  ------  --------------  -----\n",
      " 0   TV      99 non-null     int64\n",
      " 1   라디오     99 non-null     int64\n",
      " 2   신문      99 non-null     int64\n",
      " 3   잡지      99 non-null     int64\n",
      "dtypes: int64(4)\n",
      "memory usage: 3.9+ KB\n"
     ]
    }
   ],
   "source": [
    "ad15.info()"
   ]
  },
  {
   "cell_type": "code",
   "execution_count": null,
   "metadata": {},
   "outputs": [],
   "source": []
  }
 ],
 "metadata": {
  "kernelspec": {
   "display_name": "base",
   "language": "python",
   "name": "python3"
  },
  "language_info": {
   "codemirror_mode": {
    "name": "ipython",
    "version": 3
   },
   "file_extension": ".py",
   "mimetype": "text/x-python",
   "name": "python",
   "nbconvert_exporter": "python",
   "pygments_lexer": "ipython3",
   "version": "3.11.5"
  }
 },
 "nbformat": 4,
 "nbformat_minor": 2
}
