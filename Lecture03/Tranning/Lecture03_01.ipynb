{
 "cells": [
  {
   "cell_type": "markdown",
   "metadata": {},
   "source": [
    "# NUMPY LECTURE\n",
    "\n",
    "- Numerical Python\n",
    "- 파이썬의 고성능 과학 계산용 패키지\n",
    "- Matrix와 Vector와 같은 Array연산의 사실상의 표준\n",
    "- 한글로 넘파이로 주로 통칭 / 넘피/늄파라고 부르기도 함\n",
    "\n"
   ]
  },
  {
   "cell_type": "code",
   "execution_count": null,
   "metadata": {},
   "outputs": [],
   "source": [
    "import numpy as np\n",
    "# 하나의 데이터 타입으로만 넣을 수 있음\n",
    "# List와 가장 큰 타이핑 Dynamin\n",
    "test_array = np.array([1,4,5,9],float)\n",
    "\n",
    "# float 9가 float으로 바퀸다.\n",
    "test_array = np.array([1,4,5,'8'],float)\n",
    "\n",
    "print(test_array)\n",
    "print(type(test_array[3]))\n",
    "print(test_array)\n",
    "print(np.test_shape)\n",
    "\n",
    "# 2차원\n",
    "matrix = [[1,2,5,8],[1,2,5,8],[1,2,5,8]]\n",
    "np.array(matrix, int).shape()"
   ]
  }
 ],
 "metadata": {
  "kernelspec": {
   "display_name": "base",
   "language": "python",
   "name": "python3"
  },
  "language_info": {
   "codemirror_mode": {
    "name": "ipython",
    "version": 3
   },
   "file_extension": ".py",
   "mimetype": "text/x-python",
   "name": "python",
   "nbconvert_exporter": "python",
   "pygments_lexer": "ipython3",
   "version": "3.11.5"
  }
 },
 "nbformat": 4,
 "nbformat_minor": 2
}
