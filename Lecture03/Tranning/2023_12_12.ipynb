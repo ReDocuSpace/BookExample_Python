{
 "cells": [
  {
   "cell_type": "code",
   "execution_count": null,
   "metadata": {},
   "outputs": [],
   "source": [
    "# 정규화\n",
    "# 텍스트기반 데이터 처리\n",
    "# 시각화\n",
    "\n",
    "# 프로젝트 시작"
   ]
  },
  {
   "cell_type": "code",
   "execution_count": null,
   "metadata": {},
   "outputs": [],
   "source": [
    "# sub() : 문자열 속에서 패턴과 일치하는 문자열을 찾아서 다른 문자열로 교체...\n",
    "# [python의 replace와 유사하지만, sub()은 보다 광범위한 패턴의 문자열을 찾을 수 있다.]\n",
    "import re\n",
    "\n",
    "# 비인식 처리 - 개인정보 등\n",
    "reg = re.compile(r'Agent \\w+')\n",
    "reg.sub('Censored', 'Agent Alice gave the secret documents to Agent Bob.')\n",
    "\n",
    "# 그룹을 만드는 방식 (\\w) - \\1*** 처리방법 \n",
    "# (\\w{2}) 2개의 문자열 구성\n",
    "reg = re.compile(r'Agent (\\w{2})\\w+')\n",
    "reg.sub(r'Censored \\1***', 'Agent Alice gave the secret documents to Agent Bob.')\n",
    "\n",
    "# 전화번호를 추출\n",
    "text = '문의사항 02-3545-7381으로 연락해주세요. 집 전화번호는 031-7840-8541입니다.'\n",
    "reg = re.compile('\\d{2,3}-\\d{4}-\\d{4}')\n",
    "reg.findall(text)\n",
    "\n",
    "# 숫자만 추출\n",
    "text = '문자열 10 중간에 234 숫자가 8개 있습니다.'\n",
    "reg = re.compile('\\d+') # re.compile('[0-9]+')\n",
    "reg.findall(text)\n",
    "\n",
    "# 이메일  추출\n",
    "text = '저의 이메일은 pine@hanmail.net이고, 담당자 이메일은 fio@gmail.com 입니다'\n",
    "reg = re.compile('[a-zA-Z0-9]+@[a-zA-Z0-9]+.[a-z]+')\n",
    "reg.findall(text)\n",
    "\n",
    "# 금액만 추출\n",
    "text = '총 금액은 122330.6원 입니다. 세금은 5214.233원입니다...'\n",
    "reg = re.compile('\\d+.?\\d*원')\n",
    "reg.findall(text)\n",
    "\n",
    "# 날짜를 추출\n",
    "text = '계약날짜는 2015년 2월 15일, 계약 종료일은 2017년 06월 22일입니다.'\n",
    "reg = re.compile('\\d+년 \\d+월 \\d+일')\n",
    "reg.findall(text)\n",
    "\n",
    "# url을 비인식\n",
    "text = ''' 저의 홈페이지 주소는 http://www.homapage.com 입니다. 당신의 홈페이지 주소는 http://www.yourhomapge.com입니다'''\n",
    "reg = re.compile(r'http[s]?://w{3}.[a-zA-Z0-9_-]+.[a-z]+')\n",
    "#reg.findall(text)\n",
    "reg.sub('****',text)\n",
    "\n",
    "# 이메일 비인식\n",
    "text = '저의 이메일은 pine@hanmail.net이고, 담당자 이메일은 fio@gamil.com입니다'\n",
    "reg = re.compile('[a-zA-Z0-9]+(@[a-zA-Z0-9]+.[a-z]+)')\n",
    "reg.sub(r'***\\1', text)\n",
    "\n",
    "re.findall(r\"[0-9]+ [0-9]+\", '10 925')\n",
    "# () 묶어서 그룹행\n",
    "m = re.match(r\"([0-9]+) ([0-9]+)\", '10 925')\n",
    "m.group()\n",
    "m.group(1)\n",
    "m.group(2)\n",
    "\n",
    "# \\d - 숫자\n",
    "# \\w - 문자, 숫자, 밑줄 문자\n",
    "# \\s = 빈칸, 탭, 줄바꿈\n",
    "\n",
    "# \\D = 숫자를 제외한 모든 문자\n",
    "# \\W = 문자 ,숫자, 밑줄 문자('_')를 제외한 모든 문자\n",
    "# \\S - 빈칸, 탭, 줄바꿈을 제외한 모든 문자\n",
    "\n",
    "# 문자열에서 숫자만을 제외하고 싶다.\n",
    "text = '서울 부동산 가격이 올해 평균 30% 증가했습니다.'\n",
    "reg = re.compile('\\D+')\n",
    "reg.findall(text)\n",
    "\n",
    "# 문자열에서 숫자만을 제외하고 싶다.\n",
    "# sub메소드 버전\n",
    "text = '서울 부동산 가격이 올해 평균 30% 증가했습니다.'\n",
    "reg = re.compile('\\d+')\n",
    "reg.sub('',text)\n",
    "\n",
    "# 한글만 찾고싶다\n",
    "text = '서울 부동산 가격이 올해 평균 30% 증가했습니다.'\n",
    "reg = re.compile('[가-힣]+')\n",
    "reg.findall(text)\n",
    "\n",
    "# 스페이스 포함되게 힣 뒤에 스페이스\n",
    "text = '서울 부동산 가격이 올해 평균 30% 상승했습니다'\n",
    "reg = re.compile('[가-힣 ]+')\n",
    "reg.findall(text)\n",
    "\n",
    " # 서브 메소드 버전\n",
    "text = '서울 부동산 apt가격이 올해 평균 30% 상승했습니다'\n",
    "reg = re.compile('[^가-힣 ]+')\n",
    "reg.sub('', text)\n",
    "\n",
    "re.sub('apple|orange', 'fruits', 'apple box arange tree')\n",
    "def temp(m):                # m : 찾은 패턴의 match()의 객체\n",
    "    n = int(m.group())      # match.group() : match()로 찾은 문자열 리턴\n",
    "    return str(n*10)\n",
    "\n",
    "re.sub('[0-9]+', temp, 'apple 34 box2 orange 5 tree')\n",
    "text = 'hello 1234'\n",
    "re.sub('([a-z]+) ([0-9]+)', r'\\2 \\1', text)"
   ]
  },
  {
   "cell_type": "code",
   "execution_count": null,
   "metadata": {},
   "outputs": [],
   "source": [
    "# match() : 문자열의 처음부터 정규식과 매치되는지 조사\n",
    "\n",
    "reg = re.compile('[a-z]+')\n",
    "m = reg.match('python') # match method의 객체를 리턴\n",
    "\n",
    "reg.match('3 python')\n",
    "m.group()\n",
    "\n",
    "text = '123abc'\n",
    "reg = re.compile(r'\\d+')\n",
    "m = reg.match(text)\n",
    "\n",
    "if m:\n",
    "    print(m.group())\n",
    "else:\n",
    "    print('No Match')"
   ]
  },
  {
   "cell_type": "code",
   "execution_count": null,
   "metadata": {},
   "outputs": [],
   "source": [
    "#!pip install wordcloud\n",
    "#!pip install pandas-profiling"
   ]
  },
  {
   "cell_type": "code",
   "execution_count": null,
   "metadata": {},
   "outputs": [],
   "source": [
    "import pandas as pd\n",
    "import numpy as np\n",
    "import seaborn as sns\n",
    "import matplotlib.pyplot as plt\n",
    "\n",
    "df = pd.read_csv('eda_data_files\\전국도시공원표준데이터.csv', encoding='euckr')\n",
    "df.head(3)\n",
    "\n",
    "import matplotlib as mpl\n",
    "import matplotlib.font_manager as fm\n",
    "\n",
    "mpl.rcParams['axes.unicode_minus']= False\n",
    "\n",
    "path = 'C:/Windows/Fonts/malgun.ttf'\n",
    "font_name = fm.FontProperties(fname = path, size = 50).get_name()\n",
    "plt.rc('font', family=font_name)\n",
    "\n",
    "# 전국의 공원데이터에 설치된 시설의 종류, 종류별 설치 댓수를 파악...\n",
    "df.info()\n",
    "df.head(5)"
   ]
  },
  {
   "cell_type": "code",
   "execution_count": null,
   "metadata": {},
   "outputs": [],
   "source": [
    "import missingno\n",
    "missingno.matrix(df)"
   ]
  },
  {
   "cell_type": "code",
   "execution_count": null,
   "metadata": {},
   "outputs": [],
   "source": [
    "df[['소재지도로명주소','소재지지번주소']].isnull().sum()\n",
    "df[['소재지도로명주소','소재지지번주소']].isnull().sum(axis=1).max() # 둘 중 하나는 값이 있다.\n",
    "\n",
    "# 도로명 주소의 nan값을 지번주소로 채우기...\n",
    "df['소재지도로명주소'] = df['소재지도로명주소'].fillna(df['소재지지번주소'])\n",
    "df['소재지도로명주소']\n",
    "\n",
    "df['소재지도로명주소'].apply(lambda x:x.split()[0])\n",
    "df['시도'] = df['소재지도로명주소'].str.split(expand=True)[0]"
   ]
  },
  {
   "cell_type": "code",
   "execution_count": null,
   "metadata": {},
   "outputs": [],
   "source": [
    "# 시도별 공원의 수를 파악...\n",
    "df.groupby('시도').count()['관리번호']\n",
    "df.groupby('시도').count()['관리번호'].plot(kind='bar')\n",
    "\n",
    "\n"
   ]
  },
  {
   "cell_type": "code",
   "execution_count": null,
   "metadata": {},
   "outputs": [],
   "source": [
    "# out liner 제거\n",
    "df1 = df[(df['경도'] < 132) & (df['위도'] > 32)]\n",
    "sns.scatterplot(data=df1, x='경도', y='위도')"
   ]
  },
  {
   "cell_type": "code",
   "execution_count": null,
   "metadata": {},
   "outputs": [],
   "source": [
    "import datetime as dt\n",
    "\n",
    "# 공원의 설립 시기...\n",
    "df['지정고시일'] = pd.to_datetime(df['지정고시일'])\n",
    "\n",
    "df['year'] = df['지정고시일'].dt.year\n",
    "df['month'] = df['지정고시일'].dt.month"
   ]
  },
  {
   "cell_type": "code",
   "execution_count": null,
   "metadata": {},
   "outputs": [],
   "source": [
    "df[['year','month']].isnull().sum()"
   ]
  },
  {
   "cell_type": "code",
   "execution_count": null,
   "metadata": {},
   "outputs": [],
   "source": [
    "df[['year', 'month']].notnull()"
   ]
  },
  {
   "cell_type": "code",
   "execution_count": null,
   "metadata": {},
   "outputs": [],
   "source": [
    "# nan값이 아닌 날짜 데이터를 출력...\n",
    "df.loc[df['year'].notnull()]['year']\n",
    "df.loc[df['year'].notnull(), 'year']\n",
    "df.loc[df['year'].notnull(), 'year'].value_counts().sort_index()\n",
    "df.loc[df['year'].notnull(), 'year'].value_counts().sort_index().plot()"
   ]
  },
  {
   "cell_type": "code",
   "execution_count": null,
   "metadata": {},
   "outputs": [],
   "source": [
    "# 공원고시 년도, 월별로 파악..\n",
    "\n",
    "df.groupby(['year', 'month']).count().관리번호  # multi groupby => 세분화된 group => mulit index, heirachical index\n",
    "df.groupby(['year', 'month']).count().관리번호.unstack()\n",
    "ym_df = sns.heatmap(df.groupby(['year', 'month']).count().관리번호.unstack())"
   ]
  },
  {
   "cell_type": "code",
   "execution_count": null,
   "metadata": {},
   "outputs": [],
   "source": [
    "# 색감으로 \n",
    "df.groupby(['year', 'month']).count().관리번호.unstack().style.background_gradient()"
   ]
  },
  {
   "cell_type": "code",
   "execution_count": null,
   "metadata": {},
   "outputs": [],
   "source": [
    "# 공원에 설치된 시설\n",
    "\n",
    "import re\n",
    "pd.options.display.max_columns = 100\n",
    "\n",
    "df.columns\n",
    "\n",
    "df['공원보유시설(운동시설)'].unique()\n",
    "df['공원보유시설(운동시설)'].value_counts()[100:]\n",
    "\n",
    "gym = str(df['공원보유시설(운동시설)'].unique().tolist())\n",
    "gym[:100]\n",
    "\n",
    "gym = gym.replace('+', ',').replace(\"'\", ',').replace('/', ',').replace('(',',').replace(')',',')\n",
    "gym[:1000]\n",
    "\n",
    "gym = re.sub('\\d', '', gym)\n",
    "gym[:1000]\n",
    "\n",
    "gym = re.sub('[\\[\\]\\d\\-nan\\.]', '', gym)\n",
    "gym[:1000]\n",
    "\n",
    "gym = re.sub(',+', ',', gym)\n",
    "gym[:1000]\n",
    "\n",
    "gym = re.sub(',{2,}', ',', gym)\n",
    "gym[:1000]\n",
    "\n",
    "gym = re.sub(', ,', ',', gym)\n",
    "gym[:1000]\n",
    "\n",
    "gym = re.sub('(, ,)+', ',', gym)\n",
    "gym[:1000]\n",
    "\n",
    "gym = re.sub(' ', ',', gym)\n",
    "gym[:1000]\n",
    "\n",
    "gym = re.sub(',+', ',', gym)\n",
    "gym[:1000]\n",
    "\n",
    "gym_list = gym.split(',')\n",
    "gym_list\n",
    "\n",
    "# 불용어 : 문자열에서 의미를 가지지 않는 문자열...\n",
    "# 불용어 사전... \n",
    "# 것, 그, 개, ㅋㅋ, ^^,\n",
    "\n",
    "\n",
    "stopwords = ['개소', '개', '운동시설', '등', '외종']\n",
    "gym_list = [gym for gym in gym_list if gym not in stopwords]\n",
    "gym_list = [gym for gym in gym_list if len(gym) > 1]\n",
    "\n",
    "gym_series = pd.Series(gym_list)\n",
    "gym_series.value_counts()\n",
    "gym_series.value_counts()[:50].plot(kind='bar', figsize=(8,4))"
   ]
  },
  {
   "cell_type": "code",
   "execution_count": null,
   "metadata": {},
   "outputs": [],
   "source": []
  },
  {
   "cell_type": "code",
   "execution_count": null,
   "metadata": {},
   "outputs": [],
   "source": [
    "\n",
    "# 워드 표현해서 나타내기\n",
    "from wordcloud import WordCloud\n",
    "\n",
    "word_draw = WordCloud(\n",
    "    font_path= r'C:\\Users\\GJ\\AppData\\Local\\Microsoft\\Windows\\Fonts\\KNPSKkomi.otf',\n",
    "    width = 4000,\n",
    "    height = 2000,\n",
    "    stopwords = ['운동기구','개소','외종'],\n",
    "    background_color = 'white',\n",
    "    )\n",
    "\n",
    "\n",
    "word_draw.generate(gym)\n",
    "word_draw\n",
    "\n",
    "plt.figure(figsize=(10,10))\n",
    "plt.imshow(word_draw)\n",
    "plt.axis('off')\n",
    "plt.show()"
   ]
  },
  {
   "cell_type": "code",
   "execution_count": null,
   "metadata": {},
   "outputs": [],
   "source": [
    "import pandas as pd\n",
    "import numpy as np\n",
    "import seaborn as sns\n",
    "import matplotlib.pyplot as plt\n",
    "\n",
    "df = pd.read_csv('D:\\BookExample_Python\\Lecture03\\Tranning\\eda_data_files\\상가업소정보_201912_01.csv', sep='|')\n",
    "df.head(3)\n",
    "\n",
    "df.info()\n",
    "\n",
    "df.isnull().sum()/len(df)\n",
    "(df.isnull().sum()/len(df)).plot(kind='bar')\n",
    "(df.isnull().sum()/len(df)).sort_values(ascending=False).head(7)\n",
    "df.columns\n",
    "\n"
   ]
  },
  {
   "cell_type": "code",
   "execution_count": null,
   "metadata": {},
   "outputs": [],
   "source": [
    "\n",
    "\n",
    "df1 = df[['상호명', '상권업종대분류명', '상권업종중분류명', '상권업종소분류명',\n",
    "       '시도명', '시군구명', '행정동명', '법정동명',\n",
    "       '도로명주소', '경도', '위도']].copy()\n",
    "\n",
    "df1.head()\n",
    "df1.isnull().sum()\n",
    "df1.dropna(axis=0, inplace=True)\n",
    "df1.head(3)\n",
    "\n",
    "# 베스킨라빈스, 던킨도너츠의 서울시 구별 매장수를 비교...\n",
    "\n",
    "df2 = df1[df1.시도명 == '서울특별시']\n",
    "df2.head(3)\n",
    "\n",
    "# 베스킨 라벤스 관련내용 전부 작성\n",
    "df2[df2.상호명 == '배스킨라빈스']\n",
    "df2[df2.상호명 == '베스킨라빈스']\n",
    "df2[df2.상호명 == 'baskinrobbins']\n",
    "df2[df2.상호명 == 'BASKINROBBINS']\n",
    "df2[df2.상호명.str.lower().str.contains('(배|베)스킨라빈스|baskinrobbins')]\n",
    "\n",
    "# 던킨 도너츠 내용 전부 작성\n",
    "df2[df2.상호명 == '던킨']\n",
    "df2[df2.상호명 == '던킨도너츠']\n",
    "df2[df2.상호명.str.lower() == 'dunkindoonuts']\n",
    "df2[df2.상호명.str.lower().str.contains('던킨|dunkin')]\n",
    "\n",
    "df3 = df2[df2.상호명.str.lower().str.contains('(배|베)스킨라빈스|baskinrobbins|던킨|dunkin')]\n",
    "df3.head()"
   ]
  },
  {
   "cell_type": "code",
   "execution_count": null,
   "metadata": {},
   "outputs": [],
   "source": []
  },
  {
   "cell_type": "code",
   "execution_count": null,
   "metadata": {},
   "outputs": [],
   "source": [
    "df3[df3.상호명.str.lower().str.contains('(배|베)스킨라빈스|baskinrobbins')].상호명\n",
    "df3.loc[df3.상호명.str.lower().str.contains('(배|베)스킨라빈스|baskinrobbins', '상호명')]\n",
    "#df3['브랜드명'] = [i for i in df3['상호명'] if i in ['배스킨라빈스', '베스킨라빈스' ,'baskinrobbins'] else np.nan]\n",
    "df3.loc[df3.상호명.str.lower().str.contains('(배|베)스킨라빈스|baskinrobbins', '상호명'), '브랜드명'] = '배스킨라빈스'\n",
    "\n",
    "df3.head(5)\n"
   ]
  },
  {
   "cell_type": "code",
   "execution_count": null,
   "metadata": {},
   "outputs": [],
   "source": [
    "df3['브랜드명'] = df3['브랜드명'].fillna('던킨도너츠')\n",
    "df3.head()"
   ]
  },
  {
   "cell_type": "code",
   "execution_count": null,
   "metadata": {},
   "outputs": [],
   "source": [
    "df3['상권업종대분류명'].value_counts()\n"
   ]
  },
  {
   "cell_type": "code",
   "execution_count": null,
   "metadata": {},
   "outputs": [],
   "source": [
    "df3[df3['상권업종대분류명'].isin(['생활서비스','소매'])]            # 해당하는 목록\n",
    "df4 = df3[~df3['상권업종대분류명'].isin(['생활서비스','소매'])]           # ~ 해당하지 않는 목록"
   ]
  },
  {
   "cell_type": "code",
   "execution_count": null,
   "metadata": {},
   "outputs": [],
   "source": [
    "df4['브랜드명'].value_counts()\n",
    "df4['브랜드명'].value_counts()/len(df4)\n",
    "df4['브랜드명'].value_counts(normalize=True)\n",
    "df4.head()"
   ]
  },
  {
   "cell_type": "code",
   "execution_count": null,
   "metadata": {},
   "outputs": [],
   "source": [
    "df4.groupby(['브랜드명','시군구명']).count()['경도']    # multi groupby > 세부적으로 그룹 생성 > multi index\n",
    "df4.groupby(['브랜드명','시군구명']).count()['경도'].unstack()"
   ]
  },
  {
   "cell_type": "code",
   "execution_count": null,
   "metadata": {},
   "outputs": [],
   "source": [
    "plt.figure(figsize=(15,4))\n",
    "sns.countplot(data=df4, x='시군구명', hue='브랜드명')\n",
    "plt.show()"
   ]
  },
  {
   "cell_type": "code",
   "execution_count": null,
   "metadata": {},
   "outputs": [],
   "source": [
    "df4.pivot_table(index='시군구명', columns = '브랜드명', values='상호명', aggfunc='count')\n",
    "\n",
    "sns.scatterplot(data=df4, x='경도', y ='위도', hue='브랜드명')\n",
    "plt.show()"
   ]
  },
  {
   "cell_type": "code",
   "execution_count": null,
   "metadata": {},
   "outputs": [],
   "source": [
    "import folium\n",
    "\n",
    "lat = df4['위도'].mean()\n",
    "long = df4['경도'].mean()\n",
    "\n",
    "# map 객체 생성\n",
    "m = folium.Map([lat, long], zoom_start=12)\n",
    "\n",
    "# map에 marker를 추가\n",
    "df4_sample = df4.sample(100)\n",
    "\n",
    "for i in df4_sample.index:\n",
    "    sub_lat = df4_sample.loc[i, '위도']\n",
    "    sub_long = df4_sample.loc[i, '경도']\n",
    "    title = df4_sample.loc[i, '상호명'] + '-' + df.loc[i, '도로명주소']\n",
    "    \n",
    "    icon_color = 'blue'\n",
    "    if df4_sample.loc[i, '브랜드명'] == '던킨도너츠':\n",
    "        icon_color = 'red'\n",
    "\n",
    "    # map에 marker를 추가\n",
    "    folium.Marker([sub_lat,sub_long], icon=folium.Icon(color=icon_color), popup=f'<i>{title}</i>', tooltip=title).add_to(m)\n",
    "\n",
    "m\n"
   ]
  },
  {
   "cell_type": "code",
   "execution_count": null,
   "metadata": {},
   "outputs": [],
   "source": [
    "# icon=folium.Icon(color=icon_color) 로 아이콘 컬러를 변경합니다.\n",
    "\n",
    "from folium.plugins import MarkerCluster  # 수정 : markercluster import\n",
    "\n",
    "m = folium.Map([lat, long], zoom_start=12)\n",
    "marker_cluster = MarkerCluster().add_to(m)   # 수정 : markercluster를 m에 추가, 변수에 저장\n",
    "\n",
    "for i in df4_sample.index:\n",
    "\n",
    "    sub_lat = df4_sample.loc[i, \"위도\"]\n",
    "    sub_long = df4_sample.loc[i, \"경도\"]\n",
    "    title = df4_sample.loc[i, \"상호명\"] + \" - \" + df4_sample.loc[i, \"도로명주소\"]\n",
    "\n",
    "    icon_color = \"blue\"\n",
    "    if df4_sample.loc[i, \"브랜드명\"] == \"던킨도너츠\":\n",
    "        icon_color = \"red\"\n",
    "\n",
    "    folium.Marker(\n",
    "        [sub_lat, sub_long],\n",
    "        icon=folium.Icon(color=icon_color),\n",
    "        popup=f'<i>{title}</i>',\n",
    "        tooltip=title).add_to(marker_cluster)   # 수정 : markercluster에 추가..\n",
    "\n",
    "m.save('index.html')\n",
    "m\n",
    "\n",
    "# marker의 수에 따라 cluster의 색이 달라짐.."
   ]
  },
  {
   "cell_type": "code",
   "execution_count": null,
   "metadata": {},
   "outputs": [],
   "source": [
    "# icon=folium.Icon(color=icon_color) 로 아이콘 컬러를 변경합니다.\n",
    "\n",
    "from folium.plugins import MarkerCluster  # 수정 : markercluster import\n",
    "\n",
    "m = folium.Map([lat, long], zoom_start=12)\n",
    "marker_cluster = MarkerCluster().add_to(m)   # 수정 : markercluster를 m에 추가, 변수에 저장\n",
    "\n",
    "for i in df4_sample.index:\n",
    "\n",
    "    sub_lat = df4_sample.loc[i, \"위도\"]\n",
    "    sub_long = df4_sample.loc[i, \"경도\"]\n",
    "    title = df4_sample.loc[i, \"상호명\"] + \" - \" + df4_sample.loc[i, \"도로명주소\"]\n",
    "\n",
    "    icon_color = \"blue\"\n",
    "    if df4_sample.loc[i, \"브랜드명\"] == \"던킨도너츠\":\n",
    "        icon_color = \"red\"\n",
    "\n",
    "    folium.Marker(\n",
    "        [sub_lat, sub_long],\n",
    "        icon=folium.Icon(color=icon_color),\n",
    "        popup=f'<i>{title}</i>',\n",
    "        tooltip=title).add_to(marker_cluster)   # 수정 : markercluster에 추가..\n",
    "\n",
    "m.save('index.html')\n",
    "m\n",
    "\n",
    "# marker의 수에 따라 cluster의 색이 달라짐.."
   ]
  },
  {
   "cell_type": "code",
   "execution_count": null,
   "metadata": {},
   "outputs": [],
   "source": [
    "\n",
    "# import folium\n",
    "\n",
    "# # Folium 지도 생성\n",
    "m = folium.Map(location=[45.5236, -122.6750], zoom_start=13)\n",
    "\n",
    "# # 사용자 지정 아이콘 생성\n",
    "icon = folium.CustomIcon(icon_image='tree.png', icon_size=(30, 30))\n",
    "\n",
    "# # 마커 생성\n",
    "folium.Marker([45.5236, -122.6750], icon=icon).add_to(m)\n",
    "\n",
    "# # 지도 표시\n",
    "m\n"
   ]
  },
  {
   "cell_type": "code",
   "execution_count": null,
   "metadata": {},
   "outputs": [],
   "source": []
  }
 ],
 "metadata": {
  "kernelspec": {
   "display_name": "base",
   "language": "python",
   "name": "python3"
  },
  "language_info": {
   "codemirror_mode": {
    "name": "ipython",
    "version": 3
   },
   "file_extension": ".py",
   "mimetype": "text/x-python",
   "name": "python",
   "nbconvert_exporter": "python",
   "pygments_lexer": "ipython3",
   "version": "3.11.5"
  }
 },
 "nbformat": 4,
 "nbformat_minor": 2
}
