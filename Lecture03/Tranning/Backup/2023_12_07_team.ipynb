{
 "cells": [
  {
   "cell_type": "code",
   "execution_count": null,
   "metadata": {},
   "outputs": [],
   "source": []
  },
  {
   "cell_type": "code",
   "execution_count": 264,
   "metadata": {},
   "outputs": [
    {
     "name": "stderr",
     "output_type": "stream",
     "text": [
      "C:\\Users\\GJ\\AppData\\Local\\Temp\\ipykernel_1464\\133956090.py:28: PerformanceWarning: DataFrame is highly fragmented.  This is usually the result of calling `frame.insert` many times, which has poor performance.  Consider joining all columns at once using pd.concat(axis=1) instead. To get a de-fragmented frame, use `newframe = frame.copy()`\n",
      "  age_pd['{}대합산'.format(age)] = age_pd[age_li].sum(axis='columns')\n",
      "C:\\Users\\GJ\\AppData\\Local\\Temp\\ipykernel_1464\\133956090.py:28: PerformanceWarning: DataFrame is highly fragmented.  This is usually the result of calling `frame.insert` many times, which has poor performance.  Consider joining all columns at once using pd.concat(axis=1) instead. To get a de-fragmented frame, use `newframe = frame.copy()`\n",
      "  age_pd['{}대합산'.format(age)] = age_pd[age_li].sum(axis='columns')\n",
      "C:\\Users\\GJ\\AppData\\Local\\Temp\\ipykernel_1464\\133956090.py:28: PerformanceWarning: DataFrame is highly fragmented.  This is usually the result of calling `frame.insert` many times, which has poor performance.  Consider joining all columns at once using pd.concat(axis=1) instead. To get a de-fragmented frame, use `newframe = frame.copy()`\n",
      "  age_pd['{}대합산'.format(age)] = age_pd[age_li].sum(axis='columns')\n",
      "C:\\Users\\GJ\\AppData\\Local\\Temp\\ipykernel_1464\\133956090.py:28: PerformanceWarning: DataFrame is highly fragmented.  This is usually the result of calling `frame.insert` many times, which has poor performance.  Consider joining all columns at once using pd.concat(axis=1) instead. To get a de-fragmented frame, use `newframe = frame.copy()`\n",
      "  age_pd['{}대합산'.format(age)] = age_pd[age_li].sum(axis='columns')\n",
      "C:\\Users\\GJ\\AppData\\Local\\Temp\\ipykernel_1464\\133956090.py:28: PerformanceWarning: DataFrame is highly fragmented.  This is usually the result of calling `frame.insert` many times, which has poor performance.  Consider joining all columns at once using pd.concat(axis=1) instead. To get a de-fragmented frame, use `newframe = frame.copy()`\n",
      "  age_pd['{}대합산'.format(age)] = age_pd[age_li].sum(axis='columns')\n",
      "C:\\Users\\GJ\\AppData\\Local\\Temp\\ipykernel_1464\\133956090.py:28: PerformanceWarning: DataFrame is highly fragmented.  This is usually the result of calling `frame.insert` many times, which has poor performance.  Consider joining all columns at once using pd.concat(axis=1) instead. To get a de-fragmented frame, use `newframe = frame.copy()`\n",
      "  age_pd['{}대합산'.format(age)] = age_pd[age_li].sum(axis='columns')\n",
      "C:\\Users\\GJ\\AppData\\Local\\Temp\\ipykernel_1464\\133956090.py:28: PerformanceWarning: DataFrame is highly fragmented.  This is usually the result of calling `frame.insert` many times, which has poor performance.  Consider joining all columns at once using pd.concat(axis=1) instead. To get a de-fragmented frame, use `newframe = frame.copy()`\n",
      "  age_pd['{}대합산'.format(age)] = age_pd[age_li].sum(axis='columns')\n",
      "C:\\Users\\GJ\\AppData\\Local\\Temp\\ipykernel_1464\\133956090.py:28: PerformanceWarning: DataFrame is highly fragmented.  This is usually the result of calling `frame.insert` many times, which has poor performance.  Consider joining all columns at once using pd.concat(axis=1) instead. To get a de-fragmented frame, use `newframe = frame.copy()`\n",
      "  age_pd['{}대합산'.format(age)] = age_pd[age_li].sum(axis='columns')\n",
      "C:\\Users\\GJ\\AppData\\Local\\Temp\\ipykernel_1464\\133956090.py:28: PerformanceWarning: DataFrame is highly fragmented.  This is usually the result of calling `frame.insert` many times, which has poor performance.  Consider joining all columns at once using pd.concat(axis=1) instead. To get a de-fragmented frame, use `newframe = frame.copy()`\n",
      "  age_pd['{}대합산'.format(age)] = age_pd[age_li].sum(axis='columns')\n",
      "C:\\Users\\GJ\\AppData\\Local\\Temp\\ipykernel_1464\\133956090.py:28: PerformanceWarning: DataFrame is highly fragmented.  This is usually the result of calling `frame.insert` many times, which has poor performance.  Consider joining all columns at once using pd.concat(axis=1) instead. To get a de-fragmented frame, use `newframe = frame.copy()`\n",
      "  age_pd['{}대합산'.format(age)] = age_pd[age_li].sum(axis='columns')\n",
      "C:\\Users\\GJ\\AppData\\Local\\Temp\\ipykernel_1464\\133956090.py:32: PerformanceWarning: DataFrame is highly fragmented.  This is usually the result of calling `frame.insert` many times, which has poor performance.  Consider joining all columns at once using pd.concat(axis=1) instead. To get a de-fragmented frame, use `newframe = frame.copy()`\n",
      "  age_pd['100대합산'.format(age)] = age_pd[age_li].sum(axis='columns')\n",
      "C:\\Users\\GJ\\AppData\\Local\\Temp\\ipykernel_1464\\133956090.py:37: PerformanceWarning: DataFrame is highly fragmented.  This is usually the result of calling `frame.insert` many times, which has poor performance.  Consider joining all columns at once using pd.concat(axis=1) instead. To get a de-fragmented frame, use `newframe = frame.copy()`\n",
      "  age_pd['자치구'] = age_pd['행정구역'].apply(lambda x : x.split()[1])\n"
     ]
    },
    {
     "data": {
      "text/html": [
       "<div>\n",
       "<style scoped>\n",
       "    .dataframe tbody tr th:only-of-type {\n",
       "        vertical-align: middle;\n",
       "    }\n",
       "\n",
       "    .dataframe tbody tr th {\n",
       "        vertical-align: top;\n",
       "    }\n",
       "\n",
       "    .dataframe thead th {\n",
       "        text-align: right;\n",
       "    }\n",
       "</style>\n",
       "<table border=\"1\" class=\"dataframe\">\n",
       "  <thead>\n",
       "    <tr style=\"text-align: right;\">\n",
       "      <th></th>\n",
       "      <th>행정구역</th>\n",
       "      <th>총인구수</th>\n",
       "      <th>연령구간</th>\n",
       "      <th>0세</th>\n",
       "      <th>1세</th>\n",
       "      <th>2세</th>\n",
       "      <th>3세</th>\n",
       "      <th>4세</th>\n",
       "      <th>5세</th>\n",
       "      <th>6세</th>\n",
       "      <th>...</th>\n",
       "      <th>10대합산</th>\n",
       "      <th>20대합산</th>\n",
       "      <th>30대합산</th>\n",
       "      <th>40대합산</th>\n",
       "      <th>50대합산</th>\n",
       "      <th>60대합산</th>\n",
       "      <th>70대합산</th>\n",
       "      <th>80대합산</th>\n",
       "      <th>90대합산</th>\n",
       "      <th>100대합산</th>\n",
       "    </tr>\n",
       "  </thead>\n",
       "  <tbody>\n",
       "    <tr>\n",
       "      <th>1</th>\n",
       "      <td>종로구</td>\n",
       "      <td>152880</td>\n",
       "      <td>152880</td>\n",
       "      <td>593</td>\n",
       "      <td>683</td>\n",
       "      <td>775</td>\n",
       "      <td>874</td>\n",
       "      <td>852</td>\n",
       "      <td>863</td>\n",
       "      <td>1023</td>\n",
       "      <td>...</td>\n",
       "      <td>12327</td>\n",
       "      <td>23638</td>\n",
       "      <td>21128</td>\n",
       "      <td>23761</td>\n",
       "      <td>25773</td>\n",
       "      <td>18708</td>\n",
       "      <td>12549</td>\n",
       "      <td>5291</td>\n",
       "      <td>967</td>\n",
       "      <td>236</td>\n",
       "    </tr>\n",
       "    <tr>\n",
       "      <th>2</th>\n",
       "      <td>중구</td>\n",
       "      <td>125995</td>\n",
       "      <td>125995</td>\n",
       "      <td>693</td>\n",
       "      <td>753</td>\n",
       "      <td>826</td>\n",
       "      <td>826</td>\n",
       "      <td>775</td>\n",
       "      <td>789</td>\n",
       "      <td>776</td>\n",
       "      <td>...</td>\n",
       "      <td>7690</td>\n",
       "      <td>18290</td>\n",
       "      <td>20736</td>\n",
       "      <td>18925</td>\n",
       "      <td>21033</td>\n",
       "      <td>16444</td>\n",
       "      <td>10140</td>\n",
       "      <td>4260</td>\n",
       "      <td>739</td>\n",
       "      <td>181</td>\n",
       "    </tr>\n",
       "    <tr>\n",
       "      <th>3</th>\n",
       "      <td>용산구</td>\n",
       "      <td>229279</td>\n",
       "      <td>229279</td>\n",
       "      <td>1249</td>\n",
       "      <td>1333</td>\n",
       "      <td>1451</td>\n",
       "      <td>1533</td>\n",
       "      <td>1518</td>\n",
       "      <td>1442</td>\n",
       "      <td>1606</td>\n",
       "      <td>...</td>\n",
       "      <td>17084</td>\n",
       "      <td>32645</td>\n",
       "      <td>38246</td>\n",
       "      <td>37049</td>\n",
       "      <td>36349</td>\n",
       "      <td>26745</td>\n",
       "      <td>17018</td>\n",
       "      <td>7860</td>\n",
       "      <td>1417</td>\n",
       "      <td>338</td>\n",
       "    </tr>\n",
       "    <tr>\n",
       "      <th>4</th>\n",
       "      <td>성동구</td>\n",
       "      <td>307064</td>\n",
       "      <td>307064</td>\n",
       "      <td>2169</td>\n",
       "      <td>2318</td>\n",
       "      <td>2527</td>\n",
       "      <td>2463</td>\n",
       "      <td>2441</td>\n",
       "      <td>2319</td>\n",
       "      <td>2305</td>\n",
       "      <td>...</td>\n",
       "      <td>22900</td>\n",
       "      <td>46702</td>\n",
       "      <td>52803</td>\n",
       "      <td>48936</td>\n",
       "      <td>49385</td>\n",
       "      <td>34539</td>\n",
       "      <td>20156</td>\n",
       "      <td>7654</td>\n",
       "      <td>1049</td>\n",
       "      <td>229</td>\n",
       "    </tr>\n",
       "    <tr>\n",
       "      <th>5</th>\n",
       "      <td>광진구</td>\n",
       "      <td>355387</td>\n",
       "      <td>355387</td>\n",
       "      <td>2010</td>\n",
       "      <td>2003</td>\n",
       "      <td>2253</td>\n",
       "      <td>2349</td>\n",
       "      <td>2311</td>\n",
       "      <td>2284</td>\n",
       "      <td>2543</td>\n",
       "      <td>...</td>\n",
       "      <td>28952</td>\n",
       "      <td>61370</td>\n",
       "      <td>60199</td>\n",
       "      <td>56028</td>\n",
       "      <td>56449</td>\n",
       "      <td>38961</td>\n",
       "      <td>21454</td>\n",
       "      <td>7731</td>\n",
       "      <td>1122</td>\n",
       "      <td>191</td>\n",
       "    </tr>\n",
       "  </tbody>\n",
       "</table>\n",
       "<p>5 rows × 115 columns</p>\n",
       "</div>"
      ],
      "text/plain": [
       "  행정구역    총인구수    연령구간    0세    1세    2세    3세    4세    5세    6세  ...  10대합산  \\\n",
       "1  종로구  152880  152880   593   683   775   874   852   863  1023  ...  12327   \n",
       "2   중구  125995  125995   693   753   826   826   775   789   776  ...   7690   \n",
       "3  용산구  229279  229279  1249  1333  1451  1533  1518  1442  1606  ...  17084   \n",
       "4  성동구  307064  307064  2169  2318  2527  2463  2441  2319  2305  ...  22900   \n",
       "5  광진구  355387  355387  2010  2003  2253  2349  2311  2284  2543  ...  28952   \n",
       "\n",
       "   20대합산  30대합산  40대합산  50대합산  60대합산  70대합산  80대합산  90대합산  100대합산  \n",
       "1  23638  21128  23761  25773  18708  12549   5291    967     236  \n",
       "2  18290  20736  18925  21033  16444  10140   4260    739     181  \n",
       "3  32645  38246  37049  36349  26745  17018   7860   1417     338  \n",
       "4  46702  52803  48936  49385  34539  20156   7654   1049     229  \n",
       "5  61370  60199  56028  56449  38961  21454   7731   1122     191  \n",
       "\n",
       "[5 rows x 115 columns]"
      ]
     },
     "execution_count": 264,
     "metadata": {},
     "output_type": "execute_result"
    }
   ],
   "source": [
    "import numpy as np\n",
    "import pandas as pd\n",
    "\n",
    "age_pd = pd.read_csv('D:\\BookExample_Python\\Lecture03\\Tranning\\Backup\\eda_data_files\\\\age_pd.csv',encoding='euckr')\n",
    "\n",
    "age_pd = age_pd.rename(columns={'2019년02월_계_총인구수':'총인구수', '2019년02월_계_연령구간인구수':'연령구간'})\n",
    "\n",
    "# columns 이름 바꾸기\n",
    "for age in range(101):\n",
    "    age_pd = age_pd.rename(columns={'2019년02월_계_{}세'.format(age) : '{}세'.format(age)})\n",
    "\n",
    "age_pd = age_pd.rename(columns={'2019년02월_계_100세 이상' : '100세 이상'})\n",
    "\n",
    "\n",
    "for col in age_pd.columns[1:]:\n",
    "    try:\n",
    "        age_pd[col] = age_pd[col].str.replace(',','').astype('int64')\n",
    "    except:\n",
    "        pass\n",
    "    \n",
    "\n",
    "for age in range(0,99,10):\n",
    "    age_li = []\n",
    "    \n",
    "    for i in range(age , age+10):\n",
    "        age_li.append('{}세'.format(i))\n",
    "        \n",
    "    age_pd['{}대합산'.format(age)] = age_pd[age_li].sum(axis='columns')\n",
    "    age_li.clear()\n",
    "    \n",
    "age_li.append('100세 이상')\n",
    "age_pd['100대합산'.format(age)] = age_pd[age_li].sum(axis='columns')\n",
    "age_li.clear()\n",
    "\n",
    "all_seoul = age_pd.iloc[0]\n",
    "age_pd.drop([0], axis=0, inplace= True)\n",
    "age_pd['자치구'] = age_pd['행정구역'].apply(lambda x : x.split()[1])\n",
    "\n",
    "age_pd['행정구역'] = age_pd['자치구']\n",
    "age_pd = age_pd.drop('자치구',axis=1)\n",
    "\n",
    "\n",
    "age_pd.head(5)\n"
   ]
  },
  {
   "cell_type": "code",
   "execution_count": 212,
   "metadata": {},
   "outputs": [
    {
     "data": {
      "text/html": [
       "<div>\n",
       "<style scoped>\n",
       "    .dataframe tbody tr th:only-of-type {\n",
       "        vertical-align: middle;\n",
       "    }\n",
       "\n",
       "    .dataframe tbody tr th {\n",
       "        vertical-align: top;\n",
       "    }\n",
       "\n",
       "    .dataframe thead th {\n",
       "        text-align: right;\n",
       "    }\n",
       "</style>\n",
       "<table border=\"1\" class=\"dataframe\">\n",
       "  <thead>\n",
       "    <tr style=\"text-align: right;\">\n",
       "      <th></th>\n",
       "      <th>행정구역</th>\n",
       "      <th>총인구수</th>\n",
       "      <th>연령구간</th>\n",
       "      <th>0세</th>\n",
       "      <th>1세</th>\n",
       "      <th>2세</th>\n",
       "      <th>3세</th>\n",
       "      <th>4세</th>\n",
       "      <th>5세</th>\n",
       "      <th>6세</th>\n",
       "      <th>...</th>\n",
       "      <th>10대합산</th>\n",
       "      <th>20대합산</th>\n",
       "      <th>30대합산</th>\n",
       "      <th>40대합산</th>\n",
       "      <th>50대합산</th>\n",
       "      <th>60대합산</th>\n",
       "      <th>70대합산</th>\n",
       "      <th>80대합산</th>\n",
       "      <th>90대합산</th>\n",
       "      <th>100대합산</th>\n",
       "    </tr>\n",
       "  </thead>\n",
       "  <tbody>\n",
       "    <tr>\n",
       "      <th>25</th>\n",
       "      <td>서울특별시 강동구 (1174000000)</td>\n",
       "      <td>426178</td>\n",
       "      <td>426178</td>\n",
       "      <td>2407</td>\n",
       "      <td>2664</td>\n",
       "      <td>2977</td>\n",
       "      <td>3151</td>\n",
       "      <td>3282</td>\n",
       "      <td>3167</td>\n",
       "      <td>3480</td>\n",
       "      <td>...</td>\n",
       "      <td>38914</td>\n",
       "      <td>57674</td>\n",
       "      <td>66526</td>\n",
       "      <td>68884</td>\n",
       "      <td>70909</td>\n",
       "      <td>54491</td>\n",
       "      <td>26574</td>\n",
       "      <td>9017</td>\n",
       "      <td>1592</td>\n",
       "      <td>209</td>\n",
       "    </tr>\n",
       "  </tbody>\n",
       "</table>\n",
       "<p>1 rows × 116 columns</p>\n",
       "</div>"
      ],
      "text/plain": [
       "                      행정구역    총인구수    연령구간    0세    1세    2세    3세    4세  \\\n",
       "25  서울특별시 강동구 (1174000000)  426178  426178  2407  2664  2977  3151  3282   \n",
       "\n",
       "      5세    6세  ...  10대합산  20대합산  30대합산  40대합산  50대합산  60대합산  70대합산  80대합산  \\\n",
       "25  3167  3480  ...  38914  57674  66526  68884  70909  54491  26574   9017   \n",
       "\n",
       "    90대합산  100대합산  \n",
       "25   1592     209  \n",
       "\n",
       "[1 rows x 116 columns]"
      ]
     },
     "execution_count": 212,
     "metadata": {},
     "output_type": "execute_result"
    }
   ],
   "source": [
    "# 1. 구를 입력받은 후, 해당 구의 연령대별 인구분포를 출력하시오..\n",
    "borough = input()\n",
    "\n",
    "age_pd[age_pd['자치구'] == borough]\n"
   ]
  },
  {
   "cell_type": "code",
   "execution_count": 213,
   "metadata": {},
   "outputs": [
    {
     "data": {
      "text/html": [
       "<div>\n",
       "<style scoped>\n",
       "    .dataframe tbody tr th:only-of-type {\n",
       "        vertical-align: middle;\n",
       "    }\n",
       "\n",
       "    .dataframe tbody tr th {\n",
       "        vertical-align: top;\n",
       "    }\n",
       "\n",
       "    .dataframe thead th {\n",
       "        text-align: right;\n",
       "    }\n",
       "</style>\n",
       "<table border=\"1\" class=\"dataframe\">\n",
       "  <thead>\n",
       "    <tr style=\"text-align: right;\">\n",
       "      <th></th>\n",
       "      <th>자치구</th>\n",
       "      <th>23세</th>\n",
       "    </tr>\n",
       "  </thead>\n",
       "  <tbody>\n",
       "    <tr>\n",
       "      <th>25</th>\n",
       "      <td>강동구</td>\n",
       "      <td>5679</td>\n",
       "    </tr>\n",
       "  </tbody>\n",
       "</table>\n",
       "</div>"
      ],
      "text/plain": [
       "    자치구   23세\n",
       "25  강동구  5679"
      ]
     },
     "execution_count": 213,
     "metadata": {},
     "output_type": "execute_result"
    }
   ],
   "source": [
    "#2. 구와 연령을 입력받은 후, 해당 구의 해당 연령의 인구수를 출력하시오..\n",
    "borough = input()\n",
    "age = input()\n",
    "\n",
    "age_pd[age_pd['자치구'] == borough][['자치구','{}세'.format(age)]]"
   ]
  },
  {
   "cell_type": "code",
   "execution_count": 235,
   "metadata": {},
   "outputs": [
    {
     "data": {
      "text/plain": [
       "21    관악구\n",
       "24    송파구\n",
       "11    노원구\n",
       "16    강서구\n",
       "23    강남구\n",
       "Name: 자치구, dtype: object"
      ]
     },
     "execution_count": 235,
     "metadata": {},
     "output_type": "execute_result"
    }
   ],
   "source": [
    "#3. 연령을 입력받은 후 해당 연령의 인구가 가장 많은 구를 출력하시오..\n",
    "age = 23\n",
    "\n",
    "age_pd.sort_values('{}세'.format(age),ascending=False)['자치구'].iloc[:5]\n",
    "\n",
    "#age_pd[age_pd['{}세'.format(age)].max() == age_pd['{}세'.format(age)]]"
   ]
  },
  {
   "cell_type": "code",
   "execution_count": 236,
   "metadata": {},
   "outputs": [
    {
     "data": {
      "text/plain": [
       "24    송파구\n",
       "Name: 자치구, dtype: object"
      ]
     },
     "execution_count": 236,
     "metadata": {},
     "output_type": "execute_result"
    }
   ],
   "source": [
    "#4. 인구수가 가장 많은 구는...?\n",
    "age_pd.sort_values('총인구수',ascending=False)['자치구'].iloc[:1]"
   ]
  },
  {
   "cell_type": "code",
   "execution_count": 216,
   "metadata": {},
   "outputs": [
    {
     "data": {
      "text/html": [
       "<div>\n",
       "<style scoped>\n",
       "    .dataframe tbody tr th:only-of-type {\n",
       "        vertical-align: middle;\n",
       "    }\n",
       "\n",
       "    .dataframe tbody tr th {\n",
       "        vertical-align: top;\n",
       "    }\n",
       "\n",
       "    .dataframe thead th {\n",
       "        text-align: right;\n",
       "    }\n",
       "</style>\n",
       "<table border=\"1\" class=\"dataframe\">\n",
       "  <thead>\n",
       "    <tr style=\"text-align: right;\">\n",
       "      <th></th>\n",
       "      <th>자치구</th>\n",
       "      <th>10대합산</th>\n",
       "    </tr>\n",
       "  </thead>\n",
       "  <tbody>\n",
       "    <tr>\n",
       "      <th>24</th>\n",
       "      <td>송파구</td>\n",
       "      <td>63800</td>\n",
       "    </tr>\n",
       "  </tbody>\n",
       "</table>\n",
       "</div>"
      ],
      "text/plain": [
       "    자치구  10대합산\n",
       "24  송파구  63800"
      ]
     },
     "execution_count": 216,
     "metadata": {},
     "output_type": "execute_result"
    }
   ],
   "source": [
    "#5. 연령대(10대,20대,..50대..100세이상)를 입력받은 후 해당 연령대 인구수가 가장 많은 구를 출력..\n",
    "age = 10\n",
    "age_pd[age_pd['{}대합산'.format(age)].max() == age_pd['{}대합산'.format(age)]][['자치구','{}대합산'.format(age)]]"
   ]
  },
  {
   "cell_type": "code",
   "execution_count": 286,
   "metadata": {},
   "outputs": [
    {
     "data": {
      "text/plain": [
       "'구로구'"
      ]
     },
     "execution_count": 286,
     "metadata": {},
     "output_type": "execute_result"
    }
   ],
   "source": [
    "#6. 구를 입력받은 후 해당 구와 연령대별 인구분포가 가장 유사한 구를 출력하시오..\n",
    "borough = '강동구'\n",
    "\n",
    "new_pd = age_pd.T\n",
    "\n",
    "header = new_pd.iloc[0]\n",
    "new_pd = new_pd[3:]\n",
    "\n",
    "new_pd.rename(columns=header,inplace=True)\n",
    "new_pd.corr()[borough].sort_values(ascending=False).index[1]\n"
   ]
  },
  {
   "cell_type": "code",
   "execution_count": 217,
   "metadata": {},
   "outputs": [
    {
     "data": {
      "text/plain": [
       "47세    176426\n",
       "Name: 0, dtype: object"
      ]
     },
     "execution_count": 217,
     "metadata": {},
     "output_type": "execute_result"
    }
   ],
   "source": [
    "#7. 서울시에서 인구수가 가장 많은 연령은..?\n",
    "all_seoul[3:].sort_values(ascending=False)[:1]"
   ]
  },
  {
   "cell_type": "code",
   "execution_count": 218,
   "metadata": {},
   "outputs": [
    {
     "data": {
      "text/html": [
       "<div>\n",
       "<style scoped>\n",
       "    .dataframe tbody tr th:only-of-type {\n",
       "        vertical-align: middle;\n",
       "    }\n",
       "\n",
       "    .dataframe tbody tr th {\n",
       "        vertical-align: top;\n",
       "    }\n",
       "\n",
       "    .dataframe thead th {\n",
       "        text-align: right;\n",
       "    }\n",
       "</style>\n",
       "<table border=\"1\" class=\"dataframe\">\n",
       "  <thead>\n",
       "    <tr style=\"text-align: right;\">\n",
       "      <th></th>\n",
       "      <th>결과</th>\n",
       "    </tr>\n",
       "  </thead>\n",
       "  <tbody>\n",
       "    <tr>\n",
       "      <th>40대</th>\n",
       "      <td>1590205</td>\n",
       "    </tr>\n",
       "  </tbody>\n",
       "</table>\n",
       "</div>"
      ],
      "text/plain": [
       "          결과\n",
       "40대  1590205"
      ]
     },
     "execution_count": 218,
     "metadata": {},
     "output_type": "execute_result"
    }
   ],
   "source": [
    "#8. 서울시에서 인구수가 가장 많은 연령대(10대,20대,..50대..100세이상)는..?\n",
    "\n",
    "sum_li = ['10대합산','20대합산','30대합산','40대합산','50대합산','60대합산','70대합산','80대합산','90대합산','100대합산']\n",
    "\n",
    "temp_data = pd.DataFrame(age_pd[sum_li].sum())\n",
    "temp_data.columns = ['결과'] \n",
    "temp_data.index = ['10대','20대','30대','40대','50대','60대','70대','80대','90대','100대']\n",
    "temp_data\n",
    "temp_data.sort_values('결과',ascending=False).iloc[:1]"
   ]
  },
  {
   "cell_type": "code",
   "execution_count": null,
   "metadata": {},
   "outputs": [],
   "source": []
  },
  {
   "cell_type": "code",
   "execution_count": null,
   "metadata": {},
   "outputs": [],
   "source": []
  }
 ],
 "metadata": {
  "kernelspec": {
   "display_name": "base",
   "language": "python",
   "name": "python3"
  },
  "language_info": {
   "codemirror_mode": {
    "name": "ipython",
    "version": 3
   },
   "file_extension": ".py",
   "mimetype": "text/x-python",
   "name": "python",
   "nbconvert_exporter": "python",
   "pygments_lexer": "ipython3",
   "version": "3.11.5"
  }
 },
 "nbformat": 4,
 "nbformat_minor": 2
}
