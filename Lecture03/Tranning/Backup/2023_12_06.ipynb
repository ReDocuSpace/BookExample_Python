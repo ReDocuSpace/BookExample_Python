{
 "cells": [
  {
   "cell_type": "code",
   "execution_count": null,
   "metadata": {},
   "outputs": [],
   "source": [
    "import numpy as np\n",
    "import pandas as pd\n",
    "\n",
    "df = pd.read_csv('D:\\BookExample_Python\\Lecture03\\Tranning\\Backup\\eda_data_files\\phone_data.csv')\n",
    "df.head()\n"
   ]
  },
  {
   "cell_type": "code",
   "execution_count": null,
   "metadata": {},
   "outputs": [],
   "source": [
    "df.pivot_table(['duration'], index=df.month, columns= df.network_type, aggfunc='count', fill_value=0)"
   ]
  },
  {
   "cell_type": "code",
   "execution_count": null,
   "metadata": {},
   "outputs": [],
   "source": [
    "df.pivot_table(['duration'], index=df.date, columns= df.network, aggfunc='sum')"
   ]
  },
  {
   "cell_type": "code",
   "execution_count": null,
   "metadata": {},
   "outputs": [],
   "source": [
    "df.pivot_table(['duration'], index= [df.month, df.item], columns= df.network_type, aggfunc='mean', fill_value=0)"
   ]
  },
  {
   "cell_type": "code",
   "execution_count": null,
   "metadata": {},
   "outputs": [],
   "source": [
    "# cross_tab\n",
    "pd.crosstab(index=df.month, columns=df.network_type, values=df.duration, aggfunc = 'mean').fillna(0)"
   ]
  },
  {
   "cell_type": "code",
   "execution_count": null,
   "metadata": {},
   "outputs": [],
   "source": [
    "# merge 데이터 합치기\n",
    "# dataframe을 합하는 방법\n",
    "# 1. Merge - 특정 칼럼의 값을 기준으로 데이터 프레임을 병합...\n",
    "# 2. concat - 데이터 프레임을 붙인다.\n",
    "\n",
    "raw_data = {\n",
    "    'subject_id' : ['1','2','3','4','5','6','7','8','9','10','11'],\n",
    "    'test_score' : [15 ,45 ,78 ,21 ,45 ,86 ,18 ,95 ,88 ,52 ,87],\n",
    "}\n",
    "\n",
    "df_a = pd.DataFrame(raw_data)\n",
    "df_a"
   ]
  },
  {
   "cell_type": "code",
   "execution_count": null,
   "metadata": {},
   "outputs": [],
   "source": [
    "raw_data = {\n",
    "    'subject_id' : ['4','5','6','12','13'],\n",
    "    'first_name' : ['Billy','Brain','Bran','Bryce','Betty'],\n",
    "    'last_name' : ['Bonder', 'Black', 'Balwner', 'Brice', 'Btisan']\n",
    "}\n",
    "\n",
    "df_b = pd.DataFrame(raw_data)\n",
    "df_b"
   ]
  },
  {
   "cell_type": "code",
   "execution_count": null,
   "metadata": {},
   "outputs": [],
   "source": [
    "# merge\n",
    "\n",
    "from IPython.display import Image\n",
    "\n",
    "Image('mergej.png')"
   ]
  },
  {
   "cell_type": "code",
   "execution_count": null,
   "metadata": {},
   "outputs": [],
   "source": [
    "\n",
    "\n"
   ]
  },
  {
   "cell_type": "code",
   "execution_count": null,
   "metadata": {},
   "outputs": [],
   "source": [
    "# inner merge\n",
    "# how는 default는 'inner' \n",
    "# 칼럼 subject_id의 공통 데이터는 4,5,6만으로 병합\n",
    "# test_score는 df_a에서 가져온 칼럼(데이터)\n",
    "# first_name, last_name은 df_b에서 가져온 칼럼(데이터)\n",
    "pd.merge(df_a, df_b,on ='subject_id', how ='inner')\n",
    "\n",
    "# right merge\n",
    "# 오른쪽 df 의 데이터는 모두 포함, 왼쪽 df의 데이터는 공통 데이터만 포함\n",
    "# df_b의 모든 데이터 포함 4,5,6,12,13\n",
    "# df_a의 공통 데이터만 포함 4,5,6\n",
    "pd.merge(df_a, df_b,on ='subject_id', how ='right')\n",
    "\n",
    "# left merge\n",
    "# 왼쪽 df의 데이터는 모두 포함, 오른쪽 df의 데이터는 공통 데이터만 포함\n",
    "# df_a의 모든 데이터 포함 1,2,3,4,5,6,7,8,9,10,11\n",
    "# df_b의 공통 데이터만 포함 4,5,6\n",
    "pd.merge(df_a, df_b,on ='subject_id', how ='left')\n",
    "\n",
    "# full merger\n",
    "# 양 df 중 한 곳에만 있으면 그런 모든 데이터를 포함한다.\n",
    "\n",
    "pd.merge(df_a, df_b, on='subject_id',how='outer') "
   ]
  },
  {
   "cell_type": "code",
   "execution_count": null,
   "metadata": {},
   "outputs": [],
   "source": [
    "# concat\n",
    "# pd.concat([df_a,df_b] , axis=0)\n",
    "pd.concat([df_a,df_b] , join='outer')"
   ]
  },
  {
   "cell_type": "code",
   "execution_count": null,
   "metadata": {},
   "outputs": [],
   "source": [
    "mat = np.array([[1,2,3,4],[5,6,7,8],[9,10,11,12]])\n",
    "df1 = pd.DataFrame(mat)\n",
    "\n",
    "df1.columns = ['a','b','c','d']\n",
    "df1.index = ['가','나','다']\n",
    "df1\n",
    "\n",
    "mat = np.array([[10,20,30,40],[50,60,70,80],[90,100,110,120]])\n",
    "df2 = pd.DataFrame(mat)\n",
    "\n",
    "df2.columns = ['a','b','c','d']\n",
    "df2.index = ['가','나','다']\n",
    "df2"
   ]
  },
  {
   "cell_type": "code",
   "execution_count": null,
   "metadata": {},
   "outputs": [],
   "source": [
    "pd.concat([df1,df2])"
   ]
  },
  {
   "cell_type": "code",
   "execution_count": null,
   "metadata": {},
   "outputs": [],
   "source": [
    "# missing value \n",
    "# # NaN : 값이 없다...\n",
    "df = pd.DataFrame(np.random.randn(5,5), index = ['a','b','c','d','e'], columns= ['one','two','three','four','five'])"
   ]
  },
  {
   "cell_type": "code",
   "execution_count": null,
   "metadata": {},
   "outputs": [],
   "source": [
    "df.loc[['b','d'],'two'] = np.nan\n",
    "\n",
    "df"
   ]
  },
  {
   "cell_type": "code",
   "execution_count": null,
   "metadata": {},
   "outputs": [],
   "source": [
    "# # missing value 처리방법\n",
    "\n",
    "# 1. nan 값을 확인\n",
    "# 2-1 non값을 다른 값으로 채운다\n",
    "# 2-2 nan값을 포함한 row나 column을 삭제한다.\n",
    "\n",
    "# 1. nan값을 확인... -> isnull(), isnan() -> nan값이면 True, 아니면 False\n",
    "df.isnull().sum()   # column별 non값을 확인할 수 있다.\n",
    "# row별 nan값의 개수\n",
    "df.isnull().sum(axis=1)\n",
    "df.fillna(0)\n"
   ]
  },
  {
   "cell_type": "code",
   "execution_count": null,
   "metadata": {},
   "outputs": [],
   "source": [
    "\n",
    "# \n",
    "df.fillna()\n",
    "# 위의 값으로 채운다\n",
    "df.ffill()\n",
    "# 아래의 값으로 채운다\n",
    "df.bfill()\n",
    "# 칼럼의 평균값으로 채운다\n",
    "df.fillna(df.mean())\n",
    "\n",
    "# 데이터 표준화 # 보간\n",
    "df.interpolate()\n"
   ]
  },
  {
   "cell_type": "code",
   "execution_count": null,
   "metadata": {},
   "outputs": [],
   "source": [
    "# NaN값을 이용한 처리환경\n",
    "\n",
    "df.dropna(axis=0)"
   ]
  },
  {
   "cell_type": "code",
   "execution_count": null,
   "metadata": {},
   "outputs": [],
   "source": [
    "df.dropna(thres=4,axis=1)"
   ]
  },
  {
   "cell_type": "code",
   "execution_count": null,
   "metadata": {},
   "outputs": [],
   "source": [
    "df.drop('one',axis=1)"
   ]
  },
  {
   "cell_type": "code",
   "execution_count": null,
   "metadata": {},
   "outputs": [],
   "source": [
    "df"
   ]
  },
  {
   "cell_type": "code",
   "execution_count": null,
   "metadata": {},
   "outputs": [],
   "source": [
    "#datatype"
   ]
  },
  {
   "cell_type": "code",
   "execution_count": 20,
   "metadata": {},
   "outputs": [
    {
     "data": {
      "text/html": [
       "<div>\n",
       "<style scoped>\n",
       "    .dataframe tbody tr th:only-of-type {\n",
       "        vertical-align: middle;\n",
       "    }\n",
       "\n",
       "    .dataframe tbody tr th {\n",
       "        vertical-align: top;\n",
       "    }\n",
       "\n",
       "    .dataframe thead th {\n",
       "        text-align: right;\n",
       "    }\n",
       "</style>\n",
       "<table border=\"1\" class=\"dataframe\">\n",
       "  <thead>\n",
       "    <tr style=\"text-align: right;\">\n",
       "      <th></th>\n",
       "      <th>\\t\\t지점번호</th>\n",
       "      <th>지점명</th>\n",
       "      <th>일시</th>\n",
       "      <th>평균기온(℃)</th>\n",
       "      <th>최고기온(℃)</th>\n",
       "      <th>\\t최고기온시각</th>\n",
       "      <th>최저기온(℃)</th>\n",
       "      <th>최저기온시각</th>\n",
       "    </tr>\n",
       "  </thead>\n",
       "  <tbody>\n",
       "    <tr>\n",
       "      <th>0</th>\n",
       "      <td>108</td>\n",
       "      <td>서울</td>\n",
       "      <td>1907-10-01</td>\n",
       "      <td>13.5</td>\n",
       "      <td>20.7</td>\n",
       "      <td>NaN</td>\n",
       "      <td>7.9</td>\n",
       "      <td>NaN</td>\n",
       "    </tr>\n",
       "    <tr>\n",
       "      <th>1</th>\n",
       "      <td>108</td>\n",
       "      <td>서울</td>\n",
       "      <td>1907-10-02</td>\n",
       "      <td>16.2</td>\n",
       "      <td>22.0</td>\n",
       "      <td>NaN</td>\n",
       "      <td>7.9</td>\n",
       "      <td>NaN</td>\n",
       "    </tr>\n",
       "    <tr>\n",
       "      <th>2</th>\n",
       "      <td>108</td>\n",
       "      <td>서울</td>\n",
       "      <td>1907-10-03</td>\n",
       "      <td>16.2</td>\n",
       "      <td>21.3</td>\n",
       "      <td>NaN</td>\n",
       "      <td>13.1</td>\n",
       "      <td>NaN</td>\n",
       "    </tr>\n",
       "    <tr>\n",
       "      <th>3</th>\n",
       "      <td>108</td>\n",
       "      <td>서울</td>\n",
       "      <td>1907-10-04</td>\n",
       "      <td>16.5</td>\n",
       "      <td>22.0</td>\n",
       "      <td>NaN</td>\n",
       "      <td>11.2</td>\n",
       "      <td>NaN</td>\n",
       "    </tr>\n",
       "    <tr>\n",
       "      <th>4</th>\n",
       "      <td>108</td>\n",
       "      <td>서울</td>\n",
       "      <td>1907-10-05</td>\n",
       "      <td>17.6</td>\n",
       "      <td>25.4</td>\n",
       "      <td>NaN</td>\n",
       "      <td>10.9</td>\n",
       "      <td>NaN</td>\n",
       "    </tr>\n",
       "    <tr>\n",
       "      <th>...</th>\n",
       "      <td>...</td>\n",
       "      <td>...</td>\n",
       "      <td>...</td>\n",
       "      <td>...</td>\n",
       "      <td>...</td>\n",
       "      <td>...</td>\n",
       "      <td>...</td>\n",
       "      <td>...</td>\n",
       "    </tr>\n",
       "    <tr>\n",
       "      <th>40483</th>\n",
       "      <td>108</td>\n",
       "      <td>서울</td>\n",
       "      <td>2019-10-07</td>\n",
       "      <td>14.8</td>\n",
       "      <td>17.9</td>\n",
       "      <td>00:01</td>\n",
       "      <td>13.3</td>\n",
       "      <td>23:09</td>\n",
       "    </tr>\n",
       "    <tr>\n",
       "      <th>40484</th>\n",
       "      <td>108</td>\n",
       "      <td>서울</td>\n",
       "      <td>2019-10-08</td>\n",
       "      <td>14.7</td>\n",
       "      <td>19.8</td>\n",
       "      <td>14:42</td>\n",
       "      <td>10.6</td>\n",
       "      <td>23:31</td>\n",
       "    </tr>\n",
       "    <tr>\n",
       "      <th>40485</th>\n",
       "      <td>108</td>\n",
       "      <td>서울</td>\n",
       "      <td>2019-10-09</td>\n",
       "      <td>13.6</td>\n",
       "      <td>20.4</td>\n",
       "      <td>14:41</td>\n",
       "      <td>7.7</td>\n",
       "      <td>07:04</td>\n",
       "    </tr>\n",
       "    <tr>\n",
       "      <th>40486</th>\n",
       "      <td>108</td>\n",
       "      <td>서울</td>\n",
       "      <td>2019-10-10</td>\n",
       "      <td>15.2</td>\n",
       "      <td>19.8</td>\n",
       "      <td>15:08</td>\n",
       "      <td>10.7</td>\n",
       "      <td>02:15</td>\n",
       "    </tr>\n",
       "    <tr>\n",
       "      <th>40487</th>\n",
       "      <td>108</td>\n",
       "      <td>서울</td>\n",
       "      <td>2019-10-11</td>\n",
       "      <td>18.8</td>\n",
       "      <td>26.1</td>\n",
       "      <td>15:48</td>\n",
       "      <td>13.0</td>\n",
       "      <td>06:59</td>\n",
       "    </tr>\n",
       "  </tbody>\n",
       "</table>\n",
       "<p>40488 rows × 8 columns</p>\n",
       "</div>"
      ],
      "text/plain": [
       "       \\t\\t지점번호 지점명          일시  평균기온(℃)  최고기온(℃) \\t최고기온시각  최저기온(℃) 최저기온시각\n",
       "0           108  서울  1907-10-01     13.5     20.7      NaN      7.9    NaN\n",
       "1           108  서울  1907-10-02     16.2     22.0      NaN      7.9    NaN\n",
       "2           108  서울  1907-10-03     16.2     21.3      NaN     13.1    NaN\n",
       "3           108  서울  1907-10-04     16.5     22.0      NaN     11.2    NaN\n",
       "4           108  서울  1907-10-05     17.6     25.4      NaN     10.9    NaN\n",
       "...         ...  ..         ...      ...      ...      ...      ...    ...\n",
       "40483       108  서울  2019-10-07     14.8     17.9    00:01     13.3  23:09\n",
       "40484       108  서울  2019-10-08     14.7     19.8    14:42     10.6  23:31\n",
       "40485       108  서울  2019-10-09     13.6     20.4    14:41      7.7  07:04\n",
       "40486       108  서울  2019-10-10     15.2     19.8    15:08     10.7  02:15\n",
       "40487       108  서울  2019-10-11     18.8     26.1    15:48     13.0  06:59\n",
       "\n",
       "[40488 rows x 8 columns]"
      ]
     },
     "execution_count": 20,
     "metadata": {},
     "output_type": "execute_result"
    }
   ],
   "source": [
    "# datatype\n",
    "df = pd.read_csv('eda_data_files\\seoul_weather.csv', skiprows=8, encoding='euckr')\n",
    "\n",
    "df"
   ]
  },
  {
   "cell_type": "code",
   "execution_count": 21,
   "metadata": {},
   "outputs": [
    {
     "data": {
      "text/html": [
       "<div>\n",
       "<style scoped>\n",
       "    .dataframe tbody tr th:only-of-type {\n",
       "        vertical-align: middle;\n",
       "    }\n",
       "\n",
       "    .dataframe tbody tr th {\n",
       "        vertical-align: top;\n",
       "    }\n",
       "\n",
       "    .dataframe thead th {\n",
       "        text-align: right;\n",
       "    }\n",
       "</style>\n",
       "<table border=\"1\" class=\"dataframe\">\n",
       "  <thead>\n",
       "    <tr style=\"text-align: right;\">\n",
       "      <th></th>\n",
       "      <th>일시</th>\n",
       "      <th>평균기온(℃)</th>\n",
       "      <th>최고기온(℃)</th>\n",
       "      <th>최저기온(℃)</th>\n",
       "    </tr>\n",
       "  </thead>\n",
       "  <tbody>\n",
       "    <tr>\n",
       "      <th>0</th>\n",
       "      <td>1907-10-01</td>\n",
       "      <td>13.5</td>\n",
       "      <td>20.7</td>\n",
       "      <td>7.9</td>\n",
       "    </tr>\n",
       "    <tr>\n",
       "      <th>1</th>\n",
       "      <td>1907-10-02</td>\n",
       "      <td>16.2</td>\n",
       "      <td>22.0</td>\n",
       "      <td>7.9</td>\n",
       "    </tr>\n",
       "    <tr>\n",
       "      <th>2</th>\n",
       "      <td>1907-10-03</td>\n",
       "      <td>16.2</td>\n",
       "      <td>21.3</td>\n",
       "      <td>13.1</td>\n",
       "    </tr>\n",
       "    <tr>\n",
       "      <th>3</th>\n",
       "      <td>1907-10-04</td>\n",
       "      <td>16.5</td>\n",
       "      <td>22.0</td>\n",
       "      <td>11.2</td>\n",
       "    </tr>\n",
       "    <tr>\n",
       "      <th>4</th>\n",
       "      <td>1907-10-05</td>\n",
       "      <td>17.6</td>\n",
       "      <td>25.4</td>\n",
       "      <td>10.9</td>\n",
       "    </tr>\n",
       "    <tr>\n",
       "      <th>...</th>\n",
       "      <td>...</td>\n",
       "      <td>...</td>\n",
       "      <td>...</td>\n",
       "      <td>...</td>\n",
       "    </tr>\n",
       "    <tr>\n",
       "      <th>40483</th>\n",
       "      <td>2019-10-07</td>\n",
       "      <td>14.8</td>\n",
       "      <td>17.9</td>\n",
       "      <td>13.3</td>\n",
       "    </tr>\n",
       "    <tr>\n",
       "      <th>40484</th>\n",
       "      <td>2019-10-08</td>\n",
       "      <td>14.7</td>\n",
       "      <td>19.8</td>\n",
       "      <td>10.6</td>\n",
       "    </tr>\n",
       "    <tr>\n",
       "      <th>40485</th>\n",
       "      <td>2019-10-09</td>\n",
       "      <td>13.6</td>\n",
       "      <td>20.4</td>\n",
       "      <td>7.7</td>\n",
       "    </tr>\n",
       "    <tr>\n",
       "      <th>40486</th>\n",
       "      <td>2019-10-10</td>\n",
       "      <td>15.2</td>\n",
       "      <td>19.8</td>\n",
       "      <td>10.7</td>\n",
       "    </tr>\n",
       "    <tr>\n",
       "      <th>40487</th>\n",
       "      <td>2019-10-11</td>\n",
       "      <td>18.8</td>\n",
       "      <td>26.1</td>\n",
       "      <td>13.0</td>\n",
       "    </tr>\n",
       "  </tbody>\n",
       "</table>\n",
       "<p>40488 rows × 4 columns</p>\n",
       "</div>"
      ],
      "text/plain": [
       "               일시  평균기온(℃)  최고기온(℃)  최저기온(℃)\n",
       "0      1907-10-01     13.5     20.7      7.9\n",
       "1      1907-10-02     16.2     22.0      7.9\n",
       "2      1907-10-03     16.2     21.3     13.1\n",
       "3      1907-10-04     16.5     22.0     11.2\n",
       "4      1907-10-05     17.6     25.4     10.9\n",
       "...           ...      ...      ...      ...\n",
       "40483  2019-10-07     14.8     17.9     13.3\n",
       "40484  2019-10-08     14.7     19.8     10.6\n",
       "40485  2019-10-09     13.6     20.4      7.7\n",
       "40486  2019-10-10     15.2     19.8     10.7\n",
       "40487  2019-10-11     18.8     26.1     13.0\n",
       "\n",
       "[40488 rows x 4 columns]"
      ]
     },
     "execution_count": 21,
     "metadata": {},
     "output_type": "execute_result"
    }
   ],
   "source": [
    "df1 = df[['일시', '평균기온(℃)', '최고기온(℃)', '최저기온(℃)']]\n",
    "df1"
   ]
  },
  {
   "cell_type": "code",
   "execution_count": 22,
   "metadata": {},
   "outputs": [
    {
     "data": {
      "text/html": [
       "<div>\n",
       "<style scoped>\n",
       "    .dataframe tbody tr th:only-of-type {\n",
       "        vertical-align: middle;\n",
       "    }\n",
       "\n",
       "    .dataframe tbody tr th {\n",
       "        vertical-align: top;\n",
       "    }\n",
       "\n",
       "    .dataframe thead th {\n",
       "        text-align: right;\n",
       "    }\n",
       "</style>\n",
       "<table border=\"1\" class=\"dataframe\">\n",
       "  <thead>\n",
       "    <tr style=\"text-align: right;\">\n",
       "      <th></th>\n",
       "      <th>일시</th>\n",
       "      <th>평온</th>\n",
       "      <th>고온</th>\n",
       "      <th>저온</th>\n",
       "    </tr>\n",
       "  </thead>\n",
       "  <tbody>\n",
       "    <tr>\n",
       "      <th>0</th>\n",
       "      <td>1907-10-01</td>\n",
       "      <td>13.5</td>\n",
       "      <td>20.7</td>\n",
       "      <td>7.9</td>\n",
       "    </tr>\n",
       "    <tr>\n",
       "      <th>1</th>\n",
       "      <td>1907-10-02</td>\n",
       "      <td>16.2</td>\n",
       "      <td>22.0</td>\n",
       "      <td>7.9</td>\n",
       "    </tr>\n",
       "    <tr>\n",
       "      <th>2</th>\n",
       "      <td>1907-10-03</td>\n",
       "      <td>16.2</td>\n",
       "      <td>21.3</td>\n",
       "      <td>13.1</td>\n",
       "    </tr>\n",
       "    <tr>\n",
       "      <th>3</th>\n",
       "      <td>1907-10-04</td>\n",
       "      <td>16.5</td>\n",
       "      <td>22.0</td>\n",
       "      <td>11.2</td>\n",
       "    </tr>\n",
       "    <tr>\n",
       "      <th>4</th>\n",
       "      <td>1907-10-05</td>\n",
       "      <td>17.6</td>\n",
       "      <td>25.4</td>\n",
       "      <td>10.9</td>\n",
       "    </tr>\n",
       "    <tr>\n",
       "      <th>...</th>\n",
       "      <td>...</td>\n",
       "      <td>...</td>\n",
       "      <td>...</td>\n",
       "      <td>...</td>\n",
       "    </tr>\n",
       "    <tr>\n",
       "      <th>40483</th>\n",
       "      <td>2019-10-07</td>\n",
       "      <td>14.8</td>\n",
       "      <td>17.9</td>\n",
       "      <td>13.3</td>\n",
       "    </tr>\n",
       "    <tr>\n",
       "      <th>40484</th>\n",
       "      <td>2019-10-08</td>\n",
       "      <td>14.7</td>\n",
       "      <td>19.8</td>\n",
       "      <td>10.6</td>\n",
       "    </tr>\n",
       "    <tr>\n",
       "      <th>40485</th>\n",
       "      <td>2019-10-09</td>\n",
       "      <td>13.6</td>\n",
       "      <td>20.4</td>\n",
       "      <td>7.7</td>\n",
       "    </tr>\n",
       "    <tr>\n",
       "      <th>40486</th>\n",
       "      <td>2019-10-10</td>\n",
       "      <td>15.2</td>\n",
       "      <td>19.8</td>\n",
       "      <td>10.7</td>\n",
       "    </tr>\n",
       "    <tr>\n",
       "      <th>40487</th>\n",
       "      <td>2019-10-11</td>\n",
       "      <td>18.8</td>\n",
       "      <td>26.1</td>\n",
       "      <td>13.0</td>\n",
       "    </tr>\n",
       "  </tbody>\n",
       "</table>\n",
       "<p>40488 rows × 4 columns</p>\n",
       "</div>"
      ],
      "text/plain": [
       "               일시    평온    고온    저온\n",
       "0      1907-10-01  13.5  20.7   7.9\n",
       "1      1907-10-02  16.2  22.0   7.9\n",
       "2      1907-10-03  16.2  21.3  13.1\n",
       "3      1907-10-04  16.5  22.0  11.2\n",
       "4      1907-10-05  17.6  25.4  10.9\n",
       "...           ...   ...   ...   ...\n",
       "40483  2019-10-07  14.8  17.9  13.3\n",
       "40484  2019-10-08  14.7  19.8  10.6\n",
       "40485  2019-10-09  13.6  20.4   7.7\n",
       "40486  2019-10-10  15.2  19.8  10.7\n",
       "40487  2019-10-11  18.8  26.1  13.0\n",
       "\n",
       "[40488 rows x 4 columns]"
      ]
     },
     "execution_count": 22,
     "metadata": {},
     "output_type": "execute_result"
    }
   ],
   "source": [
    "df1.columns = ['일시','평온','고온','저온']\n",
    "df1"
   ]
  },
  {
   "cell_type": "code",
   "execution_count": 23,
   "metadata": {},
   "outputs": [
    {
     "name": "stderr",
     "output_type": "stream",
     "text": [
      "C:\\Users\\GJ\\AppData\\Local\\Temp\\ipykernel_10396\\4030359895.py:1: SettingWithCopyWarning: \n",
      "A value is trying to be set on a copy of a slice from a DataFrame.\n",
      "Try using .loc[row_indexer,col_indexer] = value instead\n",
      "\n",
      "See the caveats in the documentation: https://pandas.pydata.org/pandas-docs/stable/user_guide/indexing.html#returning-a-view-versus-a-copy\n",
      "  df1['평온'] = df1.평온.astype('str')\n"
     ]
    }
   ],
   "source": [
    "df1['평온'] = df1.평온.astype('str')"
   ]
  },
  {
   "cell_type": "code",
   "execution_count": 24,
   "metadata": {},
   "outputs": [
    {
     "name": "stdout",
     "output_type": "stream",
     "text": [
      "<class 'pandas.core.frame.DataFrame'>\n",
      "RangeIndex: 40488 entries, 0 to 40487\n",
      "Data columns (total 4 columns):\n",
      " #   Column  Non-Null Count  Dtype  \n",
      "---  ------  --------------  -----  \n",
      " 0   일시      40488 non-null  object \n",
      " 1   평온      40488 non-null  object \n",
      " 2   고온      39730 non-null  float64\n",
      " 3   저온      39731 non-null  float64\n",
      "dtypes: float64(2), object(2)\n",
      "memory usage: 1.2+ MB\n"
     ]
    }
   ],
   "source": [
    "df1.info()"
   ]
  },
  {
   "cell_type": "code",
   "execution_count": null,
   "metadata": {},
   "outputs": [],
   "source": [
    "# 칼럼의 datatype을 변경할 경우 : col.astype(바꿀 데이터 타입)\n",
    "# 문자열 칼럼 -> col.astype('int'), col.astype('float')\n",
    "\n",
    "# 문자열 칼럼 -> pd.to_numeric(col,error=option) 문자 칼럼이 숫자로 바뀜\n",
    "# option : ignore , raise, coerce\n",
    "# error -> ignore : 바꾸지 않음\n",
    "# error -> raise : 에러를 띄움\n",
    "# error -> coerce : 데이터를 숫자로 바꿈, error가 발행한 데이터는 NaN\n",
    "\n",
    "# 문자열 칼럼 -> pd.to_datetime(col)"
   ]
  },
  {
   "cell_type": "code",
   "execution_count": null,
   "metadata": {},
   "outputs": [],
   "source": [
    "df1['일시'] = pd.to_datetime(df1.일시)\n",
    "df1['평온'] = pd.to_numeric(df1.평온, errors='coerce')\n"
   ]
  },
  {
   "cell_type": "code",
   "execution_count": null,
   "metadata": {},
   "outputs": [],
   "source": [
    "df1.info()"
   ]
  },
  {
   "cell_type": "code",
   "execution_count": null,
   "metadata": {},
   "outputs": [],
   "source": []
  },
  {
   "cell_type": "code",
   "execution_count": null,
   "metadata": {},
   "outputs": [],
   "source": [
    "# 서울시 구별 cctv 데이터\n",
    "# 서울시 cctv 데이터, 서울시 인구 데이터\n",
    "\n",
    "# 퀴즈 :\n",
    "# 인구당 cctv수가 많은 구....\n",
    "# CCTV가 가장 많은 구?>\n",
    "# 2016년에 CCTV증가율이 가장 높은 구는?\n",
    "# 외국인 비율이 가장 높은 구는?\n",
    "# 고령자 비율이 가장 높은 구는?\n",
    "# 전체 인구수가 가장 많은 구는?\n",
    "# 서울시 인구당 CCTV수가 많은 구는?\n",
    "\n"
   ]
  },
  {
   "cell_type": "code",
   "execution_count": null,
   "metadata": {},
   "outputs": [],
   "source": []
  },
  {
   "cell_type": "code",
   "execution_count": null,
   "metadata": {},
   "outputs": [],
   "source": [
    "\n",
    "\n"
   ]
  },
  {
   "cell_type": "code",
   "execution_count": null,
   "metadata": {},
   "outputs": [],
   "source": []
  },
  {
   "cell_type": "code",
   "execution_count": null,
   "metadata": {},
   "outputs": [],
   "source": []
  },
  {
   "cell_type": "code",
   "execution_count": null,
   "metadata": {},
   "outputs": [],
   "source": []
  }
 ],
 "metadata": {
  "kernelspec": {
   "display_name": "base",
   "language": "python",
   "name": "python3"
  },
  "language_info": {
   "codemirror_mode": {
    "name": "ipython",
    "version": 3
   },
   "file_extension": ".py",
   "mimetype": "text/x-python",
   "name": "python",
   "nbconvert_exporter": "python",
   "pygments_lexer": "ipython3",
   "version": "3.11.5"
  }
 },
 "nbformat": 4,
 "nbformat_minor": 2
}
