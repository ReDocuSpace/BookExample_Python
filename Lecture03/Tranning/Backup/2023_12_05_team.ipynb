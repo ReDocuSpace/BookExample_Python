{
 "cells": [
  {
   "cell_type": "code",
   "execution_count": 35,
   "metadata": {},
   "outputs": [
    {
     "name": "stdout",
     "output_type": "stream",
     "text": [
      "BasePay 평균 :  75601.1371462\n",
      "OvertimePay의 평균 :  245131.88\n",
      "직업 :  CAPTAIN, FIRE SUPPRESSION\n",
      "최고 금액 수령 인물 :  NATHANIEL FORD\n",
      "2011 년도 :  63595.95651677314\n",
      "2012 년도 :  106964.14028032655\n"
     ]
    }
   ],
   "source": [
    "# Salaries1.csv 파일에서\n",
    "import pandas as pd\n",
    "import numpy as np\n",
    "\n",
    "df = pd.read_csv('D:\\BookExample_Python\\Lecture03\\Tranning\\Backup\\eda_data_files\\Salaries1.csv')\n",
    "\n",
    "# 1. BasePay 평균은?\n",
    "print('BasePay 평균 : ', df['BasePay'].mean())\n",
    "\n",
    "# 2. OvertimePay의 최대값은?\n",
    "print('OvertimePay의 평균 : ', df['OvertimePay'].max())\n",
    "\n",
    "# 3. 'JOSEPH DRISCOLL'의 직업은?\n",
    "print('직업 : ', list(df[df.EmployeeName == 'JOSEPH DRISCOLL'].JobTitle)[0])\n",
    "\n",
    "# 4. 'TotalPayBenefits' 최고금액을 수령하는 사람의 이름은?\n",
    "print('최고 금액 수령 인물 : ', list(df[df.TotalPayBenefits.max() == df.TotalPayBenefits].EmployeeName)[0])\n",
    "\n",
    "# 5. 연도별 BasePay의 평균 TotalPay는?\n",
    "\n",
    "for i in range(len(list(df.Year.unique()))):\n",
    "    print(list(df.Year.unique())[i], '년도 : ' ,  list(df.groupby('Year')['BasePay'].mean())[i])\n",
    "    \n"
   ]
  },
  {
   "cell_type": "code",
   "execution_count": 42,
   "metadata": {},
   "outputs": [
    {
     "data": {
      "text/plain": [
       "1697"
      ]
     },
     "execution_count": 42,
     "metadata": {},
     "output_type": "execute_result"
    }
   ],
   "source": [
    "# 6. 'JobTitle'의 종류는?\n",
    "list(df.JobTitle.unique())\n",
    "\n",
    "df['JobTitle'].unique()\n",
    "\n"
   ]
  },
  {
   "cell_type": "code",
   "execution_count": null,
   "metadata": {},
   "outputs": [],
   "source": [
    "\n",
    "# 7. 'JobTitle'의 종류 중 가장 많은 jobTitle 상위 5개는 무엇인가?\n",
    "df.groupby('JobTitle').count().head(5)\n",
    "\n",
    "# 8. 2011년도에 오직 한 사람만 종사하고 있는 jobTitle은?\n",
    "# 9. 'Chief'라는 직업을 가진 사람의 수는?\n",
    "# 10. 'TotalPay'의 10%가 세금이라고 할 때, 세금을 계산한 'Tax' 칼럼을 추가하시오\n",
    "# 11. Agency 별로 몇 개의 데이터가 존재하는가.\n",
    "\n"
   ]
  },
  {
   "cell_type": "markdown",
   "metadata": {},
   "source": []
  },
  {
   "cell_type": "code",
   "execution_count": null,
   "metadata": {},
   "outputs": [],
   "source": []
  }
 ],
 "metadata": {
  "kernelspec": {
   "display_name": "base",
   "language": "python",
   "name": "python3"
  },
  "language_info": {
   "codemirror_mode": {
    "name": "ipython",
    "version": 3
   },
   "file_extension": ".py",
   "mimetype": "text/x-python",
   "name": "python",
   "nbconvert_exporter": "python",
   "pygments_lexer": "ipython3",
   "version": "3.11.5"
  }
 },
 "nbformat": 4,
 "nbformat_minor": 2
}
