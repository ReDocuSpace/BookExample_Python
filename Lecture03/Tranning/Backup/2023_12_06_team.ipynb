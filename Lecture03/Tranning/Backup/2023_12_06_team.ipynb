{
 "cells": [
  {
   "cell_type": "code",
   "execution_count": 27,
   "metadata": {},
   "outputs": [
    {
     "name": "stdout",
     "output_type": "stream",
     "text": [
      "<class 'pandas.core.frame.DataFrame'>\n",
      "RangeIndex: 27 entries, 2 to 28\n",
      "Data columns (total 19 columns):\n",
      " #   Column    Non-Null Count  Dtype  \n",
      "---  ------    --------------  -----  \n",
      " 0   기간        26 non-null     object \n",
      " 1   자치구       26 non-null     object \n",
      " 2   세대        26 non-null     object \n",
      " 3   총인구       26 non-null     float64\n",
      " 4   총남자수      26 non-null     float64\n",
      " 5   총여자수      26 non-null     float64\n",
      " 6   한국인인구     26 non-null     float64\n",
      " 7   한국인남자     26 non-null     float64\n",
      " 8   한국인여자     26 non-null     float64\n",
      " 9   외국인인구     26 non-null     float64\n",
      " 10  외국인남자     26 non-null     float64\n",
      " 11  외국인여자     26 non-null     float64\n",
      " 12  세대당인구     26 non-null     float64\n",
      " 13  65세고령자    26 non-null     float64\n",
      " 14  CCTV개수    25 non-null     float64\n",
      " 15  2013년도이전  25 non-null     float64\n",
      " 16  2014년     25 non-null     float64\n",
      " 17  2015년     25 non-null     float64\n",
      " 18  2016년     25 non-null     float64\n",
      "dtypes: float64(16), object(3)\n",
      "memory usage: 4.1+ KB\n"
     ]
    }
   ],
   "source": [
    "# CSV 파일\n",
    "import numpy as np\n",
    "import pandas as pd\n",
    "\n",
    "cctv = pd.read_csv('D:\\BookExample_Python\\Lecture03\\Tranning\\Backup\\eda_data_files\\CCTV_in_Seoul.csv')\n",
    "people = pd.read_excel('D:\\BookExample_Python\\Lecture03\\Tranning\\Backup\\eda_data_files\\population_in_Seoul.xls')\n",
    "\n",
    "\n",
    "people.columns = ['기간','자치구','세대','총인구','총남자수','총여자수','한국인인구','한국인남자','한국인여자','외국인인구','외국인남자','외국인여자','세대당인구','65세고령자']\n",
    "cctv.columns = ['자치구','CCTV개수','2013년도이전','2014년','2015년','2016년']\n",
    "\n",
    "people.columns = {'기간' : '날짜'}\n",
    "\n",
    "peopleCCTV = pd.merge(people, cctv, on='자치구', how='outer')\n",
    "peopleCCTV.drop([0,1],inplace=True)\n",
    "\n",
    "peopleCCTV['총인구'] = pd.to_numeric(peopleCCTV['총인구'], errors='coerce')\n",
    "peopleCCTV['총남자수'] = pd.to_numeric(peopleCCTV['총남자수'], errors='coerce')\n",
    "peopleCCTV['총여자수'] = pd.to_numeric(peopleCCTV['총여자수'], errors='coerce')\n",
    "peopleCCTV['한국인인구'] = pd.to_numeric(peopleCCTV['한국인인구'], errors='coerce')\n",
    "peopleCCTV['한국인남자'] = pd.to_numeric(peopleCCTV['한국인남자'], errors='coerce')\n",
    "peopleCCTV['한국인여자'] = pd.to_numeric(peopleCCTV['한국인여자'], errors='coerce')\n",
    "peopleCCTV['외국인인구'] = pd.to_numeric(peopleCCTV['외국인인구'], errors='coerce')\n",
    "peopleCCTV['외국인남자'] = pd.to_numeric(peopleCCTV['외국인남자'], errors='coerce')\n",
    "peopleCCTV['외국인여자'] = pd.to_numeric(peopleCCTV['외국인여자'], errors='coerce')\n",
    "peopleCCTV['세대당인구'] = pd.to_numeric(peopleCCTV['세대당인구'], errors='coerce')\n",
    "peopleCCTV['65세고령자'] = pd.to_numeric(peopleCCTV['65세고령자'], errors='coerce')\n",
    "peopleCCTV['한국인남자'] = pd.to_numeric(peopleCCTV['한국인남자'], errors='coerce')\n",
    "peopleCCTV['65세고령자'] = pd.to_numeric(peopleCCTV['65세고령자'], errors='coerce')\n",
    "\n",
    "peopleCCTV.info()\n"
   ]
  },
  {
   "cell_type": "code",
   "execution_count": 24,
   "metadata": {},
   "outputs": [
    {
     "name": "stdout",
     "output_type": "stream",
     "text": [
      "<class 'pandas.core.frame.DataFrame'>\n",
      "RangeIndex: 27 entries, 2 to 28\n",
      "Data columns (total 19 columns):\n",
      " #   Column    Non-Null Count  Dtype  \n",
      "---  ------    --------------  -----  \n",
      " 0   기간        26 non-null     object \n",
      " 1   자치구       26 non-null     object \n",
      " 2   세대        26 non-null     object \n",
      " 3   총인구       26 non-null     object \n",
      " 4   총남자수      26 non-null     object \n",
      " 5   총여자수      26 non-null     object \n",
      " 6   한국인인구     26 non-null     object \n",
      " 7   한국인남자     26 non-null     object \n",
      " 8   한국인여자     26 non-null     object \n",
      " 9   외국인인구     26 non-null     object \n",
      " 10  외국인남자     26 non-null     object \n",
      " 11  외국인여자     26 non-null     object \n",
      " 12  세대당인구     26 non-null     object \n",
      " 13  65세고령자    26 non-null     object \n",
      " 14  CCTV개수    25 non-null     float64\n",
      " 15  2013년도이전  25 non-null     float64\n",
      " 16  2014년     25 non-null     float64\n",
      " 17  2015년     25 non-null     float64\n",
      " 18  2016년     25 non-null     float64\n",
      "dtypes: float64(5), object(14)\n",
      "memory usage: 4.1+ KB\n"
     ]
    }
   ],
   "source": [
    "# 인구당 cctv수가 많은 구....\n",
    "\n",
    "\n",
    "#peopleCCTV['총인구']\n",
    "\n",
    "#people['CCTV개수']\n",
    "\n",
    "\n",
    "# CCTV가 가장 많은 구?>\n",
    "# 2016년에 CCTV증가율이 가장 높은 구는?\n",
    "# 외국인 비율이 가장 높은 구는?\n",
    "# 고령자 비율이 가장 높은 구는?\n",
    "# 전체 인구수가 가장 많은 구는?\n",
    "# 서울시 인구당 CCTV수가 많은 구는?"
   ]
  },
  {
   "cell_type": "code",
   "execution_count": null,
   "metadata": {},
   "outputs": [],
   "source": []
  }
 ],
 "metadata": {
  "kernelspec": {
   "display_name": "base",
   "language": "python",
   "name": "python3"
  },
  "language_info": {
   "codemirror_mode": {
    "name": "ipython",
    "version": 3
   },
   "file_extension": ".py",
   "mimetype": "text/x-python",
   "name": "python",
   "nbconvert_exporter": "python",
   "pygments_lexer": "ipython3",
   "version": "3.11.5"
  }
 },
 "nbformat": 4,
 "nbformat_minor": 2
}
