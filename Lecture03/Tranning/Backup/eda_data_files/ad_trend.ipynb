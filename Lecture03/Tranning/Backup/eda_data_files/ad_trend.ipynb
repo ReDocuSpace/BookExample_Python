{
 "cells": [
  {
   "cell_type": "code",
   "execution_count": 1,
   "id": "bf134e7d",
   "metadata": {},
   "outputs": [],
   "source": [
    "# http://www.ad.co.kr"
   ]
  },
  {
   "cell_type": "code",
   "execution_count": null,
   "id": "3351616d",
   "metadata": {},
   "outputs": [],
   "source": [
    "# 2015ad.csv ~ 2019ad.csv"
   ]
  },
  {
   "cell_type": "code",
   "execution_count": null,
   "id": "8deed0b3",
   "metadata": {},
   "outputs": [],
   "source": []
  },
  {
   "cell_type": "code",
   "execution_count": null,
   "id": "0ebfe19b",
   "metadata": {},
   "outputs": [],
   "source": [
    "# 광고비 지출 상위기업의 광고비용 변화율 분석...\n",
    "# 연도별 광고비 지출 추이 분석.. 기업의 사업성과를 예측..."
   ]
  },
  {
   "cell_type": "code",
   "execution_count": null,
   "id": "86b0204a",
   "metadata": {},
   "outputs": [],
   "source": []
  },
  {
   "cell_type": "code",
   "execution_count": 2,
   "id": "ab31f578",
   "metadata": {},
   "outputs": [],
   "source": [
    "import pandas as  pd\n",
    "import numpy as np\n",
    "import matplotlib.pyplot as plt\n",
    "import seaborn as sns"
   ]
  },
  {
   "cell_type": "code",
   "execution_count": 4,
   "id": "eb57e342",
   "metadata": {},
   "outputs": [
    {
     "data": {
      "text/plain": [
       "'D:\\\\bd\\\\eda'"
      ]
     },
     "execution_count": 4,
     "metadata": {},
     "output_type": "execute_result"
    }
   ],
   "source": [
    "pwd"
   ]
  },
  {
   "cell_type": "code",
   "execution_count": 6,
   "id": "a9305c35",
   "metadata": {
    "collapsed": true
   },
   "outputs": [
    {
     "data": {
      "text/plain": [
       "['01. CCTV_in_Seoul.csv',\n",
       " '01. CCTV_result.csv',\n",
       " '01. population_in_Seoul.xls',\n",
       " '2015ad.csv',\n",
       " '2016ad.csv',\n",
       " '2017ad.csv',\n",
       " '2018ad.csv',\n",
       " '2019ad.csv',\n",
       " '911.csv',\n",
       " 'Ecommerce Purchases',\n",
       " 'movies.xlsx',\n",
       " 'naver_ad.csv',\n",
       " 'phone_data.csv',\n",
       " 'Salaries1.csv',\n",
       " 'seoul_weather.csv',\n",
       " 'titanic_data.csv',\n",
       " 'wages.csv',\n",
       " '상가업소정보_201912_01.csv',\n",
       " '전국 평균 분양가격(2013년 9월부터 2015년 8월까지).csv',\n",
       " '전국도시공원표준데이터.csv',\n",
       " '주택도시보증공사_전국 평균 분양가격(2019년 12월).csv']"
      ]
     },
     "execution_count": 6,
     "metadata": {},
     "output_type": "execute_result"
    }
   ],
   "source": [
    "import os \n",
    "os.listdir('./eda_data_files')"
   ]
  },
  {
   "cell_type": "code",
   "execution_count": 9,
   "id": "583d84c1",
   "metadata": {},
   "outputs": [],
   "source": [
    "df2015 = pd.read_csv('./eda_data_files/2015ad.csv', index_col=0)"
   ]
  },
  {
   "cell_type": "code",
   "execution_count": 14,
   "id": "e721976f",
   "metadata": {},
   "outputs": [
    {
     "data": {
      "text/html": [
       "<div>\n",
       "<style scoped>\n",
       "    .dataframe tbody tr th:only-of-type {\n",
       "        vertical-align: middle;\n",
       "    }\n",
       "\n",
       "    .dataframe tbody tr th {\n",
       "        vertical-align: top;\n",
       "    }\n",
       "\n",
       "    .dataframe thead th {\n",
       "        text-align: right;\n",
       "    }\n",
       "</style>\n",
       "<table border=\"1\" class=\"dataframe\">\n",
       "  <thead>\n",
       "    <tr style=\"text-align: right;\">\n",
       "      <th></th>\n",
       "      <th>firm</th>\n",
       "      <th>tv</th>\n",
       "      <th>radio</th>\n",
       "      <th>newpaper</th>\n",
       "      <th>magazine</th>\n",
       "    </tr>\n",
       "  </thead>\n",
       "  <tbody>\n",
       "    <tr>\n",
       "      <th>0</th>\n",
       "      <td>회사명</td>\n",
       "      <td>TV</td>\n",
       "      <td>라디오</td>\n",
       "      <td>신문</td>\n",
       "      <td>잡지</td>\n",
       "    </tr>\n",
       "    <tr>\n",
       "      <th>1</th>\n",
       "      <td>삼성전자</td>\n",
       "      <td>11479225</td>\n",
       "      <td>423815</td>\n",
       "      <td>6203885</td>\n",
       "      <td>242300</td>\n",
       "    </tr>\n",
       "    <tr>\n",
       "      <th>2</th>\n",
       "      <td>KT</td>\n",
       "      <td>8380633</td>\n",
       "      <td>368017</td>\n",
       "      <td>905887</td>\n",
       "      <td>25100</td>\n",
       "    </tr>\n",
       "    <tr>\n",
       "      <th>3</th>\n",
       "      <td>LG전자</td>\n",
       "      <td>6748621</td>\n",
       "      <td>342048</td>\n",
       "      <td>1969787</td>\n",
       "      <td>114800</td>\n",
       "    </tr>\n",
       "    <tr>\n",
       "      <th>4</th>\n",
       "      <td>한국지엠</td>\n",
       "      <td>6791838</td>\n",
       "      <td>596281</td>\n",
       "      <td>662799</td>\n",
       "      <td>35200</td>\n",
       "    </tr>\n",
       "  </tbody>\n",
       "</table>\n",
       "</div>"
      ],
      "text/plain": [
       "   firm        tv   radio newpaper magazine\n",
       "0   회사명        TV     라디오       신문       잡지\n",
       "1  삼성전자  11479225  423815  6203885   242300\n",
       "2    KT   8380633  368017   905887    25100\n",
       "3  LG전자   6748621  342048  1969787   114800\n",
       "4  한국지엠   6791838  596281   662799    35200"
      ]
     },
     "execution_count": 14,
     "metadata": {},
     "output_type": "execute_result"
    }
   ],
   "source": [
    "df2015.head()"
   ]
  },
  {
   "cell_type": "code",
   "execution_count": 11,
   "id": "f10c4181",
   "metadata": {
    "collapsed": true
   },
   "outputs": [
    {
     "name": "stdout",
     "output_type": "stream",
     "text": [
      "<class 'pandas.core.frame.DataFrame'>\n",
      "Int64Index: 100 entries, 0 to 99\n",
      "Data columns (total 5 columns):\n",
      " #   Column    Non-Null Count  Dtype \n",
      "---  ------    --------------  ----- \n",
      " 0   firm      100 non-null    object\n",
      " 1   tv        100 non-null    object\n",
      " 2   radio     100 non-null    object\n",
      " 3   newpaper  100 non-null    object\n",
      " 4   magazine  100 non-null    object\n",
      "dtypes: object(5)\n",
      "memory usage: 4.7+ KB\n"
     ]
    }
   ],
   "source": [
    "df2015.info()"
   ]
  },
  {
   "cell_type": "code",
   "execution_count": 16,
   "id": "bec58126",
   "metadata": {},
   "outputs": [
    {
     "data": {
      "text/html": [
       "<div>\n",
       "<style scoped>\n",
       "    .dataframe tbody tr th:only-of-type {\n",
       "        vertical-align: middle;\n",
       "    }\n",
       "\n",
       "    .dataframe tbody tr th {\n",
       "        vertical-align: top;\n",
       "    }\n",
       "\n",
       "    .dataframe thead th {\n",
       "        text-align: right;\n",
       "    }\n",
       "</style>\n",
       "<table border=\"1\" class=\"dataframe\">\n",
       "  <thead>\n",
       "    <tr style=\"text-align: right;\">\n",
       "      <th></th>\n",
       "      <th>firm</th>\n",
       "      <th>tv</th>\n",
       "      <th>radio</th>\n",
       "      <th>newpaper</th>\n",
       "      <th>magazine</th>\n",
       "    </tr>\n",
       "  </thead>\n",
       "  <tbody>\n",
       "    <tr>\n",
       "      <th>1</th>\n",
       "      <td>삼성전자</td>\n",
       "      <td>11479225</td>\n",
       "      <td>423815</td>\n",
       "      <td>6203885</td>\n",
       "      <td>242300</td>\n",
       "    </tr>\n",
       "    <tr>\n",
       "      <th>2</th>\n",
       "      <td>KT</td>\n",
       "      <td>8380633</td>\n",
       "      <td>368017</td>\n",
       "      <td>905887</td>\n",
       "      <td>25100</td>\n",
       "    </tr>\n",
       "    <tr>\n",
       "      <th>3</th>\n",
       "      <td>LG전자</td>\n",
       "      <td>6748621</td>\n",
       "      <td>342048</td>\n",
       "      <td>1969787</td>\n",
       "      <td>114800</td>\n",
       "    </tr>\n",
       "    <tr>\n",
       "      <th>4</th>\n",
       "      <td>한국지엠</td>\n",
       "      <td>6791838</td>\n",
       "      <td>596281</td>\n",
       "      <td>662799</td>\n",
       "      <td>35200</td>\n",
       "    </tr>\n",
       "    <tr>\n",
       "      <th>5</th>\n",
       "      <td>현대자동차</td>\n",
       "      <td>4453752</td>\n",
       "      <td>414230</td>\n",
       "      <td>2817550</td>\n",
       "      <td>108300</td>\n",
       "    </tr>\n",
       "  </tbody>\n",
       "</table>\n",
       "</div>"
      ],
      "text/plain": [
       "    firm        tv   radio newpaper magazine\n",
       "1   삼성전자  11479225  423815  6203885   242300\n",
       "2     KT   8380633  368017   905887    25100\n",
       "3   LG전자   6748621  342048  1969787   114800\n",
       "4   한국지엠   6791838  596281   662799    35200\n",
       "5  현대자동차   4453752  414230  2817550   108300"
      ]
     },
     "execution_count": 16,
     "metadata": {},
     "output_type": "execute_result"
    }
   ],
   "source": [
    "df2015.drop(0, inplace=True)\n",
    "df2015.head()"
   ]
  },
  {
   "cell_type": "code",
   "execution_count": 18,
   "id": "57186574",
   "metadata": {},
   "outputs": [],
   "source": [
    "df2015.set_index('firm', inplace=True)"
   ]
  },
  {
   "cell_type": "code",
   "execution_count": 19,
   "id": "242560dc",
   "metadata": {},
   "outputs": [
    {
     "data": {
      "text/html": [
       "<div>\n",
       "<style scoped>\n",
       "    .dataframe tbody tr th:only-of-type {\n",
       "        vertical-align: middle;\n",
       "    }\n",
       "\n",
       "    .dataframe tbody tr th {\n",
       "        vertical-align: top;\n",
       "    }\n",
       "\n",
       "    .dataframe thead th {\n",
       "        text-align: right;\n",
       "    }\n",
       "</style>\n",
       "<table border=\"1\" class=\"dataframe\">\n",
       "  <thead>\n",
       "    <tr style=\"text-align: right;\">\n",
       "      <th></th>\n",
       "      <th>tv</th>\n",
       "      <th>radio</th>\n",
       "      <th>newpaper</th>\n",
       "      <th>magazine</th>\n",
       "    </tr>\n",
       "    <tr>\n",
       "      <th>firm</th>\n",
       "      <th></th>\n",
       "      <th></th>\n",
       "      <th></th>\n",
       "      <th></th>\n",
       "    </tr>\n",
       "  </thead>\n",
       "  <tbody>\n",
       "    <tr>\n",
       "      <th>삼성전자</th>\n",
       "      <td>11479225</td>\n",
       "      <td>423815</td>\n",
       "      <td>6203885</td>\n",
       "      <td>242300</td>\n",
       "    </tr>\n",
       "    <tr>\n",
       "      <th>KT</th>\n",
       "      <td>8380633</td>\n",
       "      <td>368017</td>\n",
       "      <td>905887</td>\n",
       "      <td>25100</td>\n",
       "    </tr>\n",
       "    <tr>\n",
       "      <th>LG전자</th>\n",
       "      <td>6748621</td>\n",
       "      <td>342048</td>\n",
       "      <td>1969787</td>\n",
       "      <td>114800</td>\n",
       "    </tr>\n",
       "    <tr>\n",
       "      <th>한국지엠</th>\n",
       "      <td>6791838</td>\n",
       "      <td>596281</td>\n",
       "      <td>662799</td>\n",
       "      <td>35200</td>\n",
       "    </tr>\n",
       "    <tr>\n",
       "      <th>현대자동차</th>\n",
       "      <td>4453752</td>\n",
       "      <td>414230</td>\n",
       "      <td>2817550</td>\n",
       "      <td>108300</td>\n",
       "    </tr>\n",
       "  </tbody>\n",
       "</table>\n",
       "</div>"
      ],
      "text/plain": [
       "             tv   radio newpaper magazine\n",
       "firm                                     \n",
       "삼성전자   11479225  423815  6203885   242300\n",
       "KT      8380633  368017   905887    25100\n",
       "LG전자    6748621  342048  1969787   114800\n",
       "한국지엠    6791838  596281   662799    35200\n",
       "현대자동차   4453752  414230  2817550   108300"
      ]
     },
     "execution_count": 19,
     "metadata": {},
     "output_type": "execute_result"
    }
   ],
   "source": [
    "df2015.head()"
   ]
  },
  {
   "cell_type": "code",
   "execution_count": 20,
   "id": "2d359ebe",
   "metadata": {},
   "outputs": [],
   "source": [
    "for c in df2015.columns:\n",
    "    df2015[c] = pd.to_numeric(df2015[c])"
   ]
  },
  {
   "cell_type": "code",
   "execution_count": 21,
   "id": "e88e442d",
   "metadata": {},
   "outputs": [
    {
     "name": "stdout",
     "output_type": "stream",
     "text": [
      "<class 'pandas.core.frame.DataFrame'>\n",
      "Index: 99 entries, 삼성전자 to 대신증권\n",
      "Data columns (total 4 columns):\n",
      " #   Column    Non-Null Count  Dtype\n",
      "---  ------    --------------  -----\n",
      " 0   tv        99 non-null     int64\n",
      " 1   radio     99 non-null     int64\n",
      " 2   newpaper  99 non-null     int64\n",
      " 3   magazine  99 non-null     int64\n",
      "dtypes: int64(4)\n",
      "memory usage: 3.9+ KB\n"
     ]
    }
   ],
   "source": [
    "df2015.info()"
   ]
  },
  {
   "cell_type": "code",
   "execution_count": null,
   "id": "e44c22ce",
   "metadata": {},
   "outputs": [],
   "source": []
  },
  {
   "cell_type": "code",
   "execution_count": 22,
   "id": "07994774",
   "metadata": {
    "collapsed": true
   },
   "outputs": [
    {
     "data": {
      "text/html": [
       "<div>\n",
       "<style scoped>\n",
       "    .dataframe tbody tr th:only-of-type {\n",
       "        vertical-align: middle;\n",
       "    }\n",
       "\n",
       "    .dataframe tbody tr th {\n",
       "        vertical-align: top;\n",
       "    }\n",
       "\n",
       "    .dataframe thead th {\n",
       "        text-align: right;\n",
       "    }\n",
       "</style>\n",
       "<table border=\"1\" class=\"dataframe\">\n",
       "  <thead>\n",
       "    <tr style=\"text-align: right;\">\n",
       "      <th></th>\n",
       "      <th>tv</th>\n",
       "      <th>radio</th>\n",
       "      <th>newpaper</th>\n",
       "      <th>magazine</th>\n",
       "      <th>time</th>\n",
       "    </tr>\n",
       "    <tr>\n",
       "      <th>firm</th>\n",
       "      <th></th>\n",
       "      <th></th>\n",
       "      <th></th>\n",
       "      <th></th>\n",
       "      <th></th>\n",
       "    </tr>\n",
       "  </thead>\n",
       "  <tbody>\n",
       "    <tr>\n",
       "      <th>삼성전자</th>\n",
       "      <td>11479225</td>\n",
       "      <td>423815</td>\n",
       "      <td>6203885</td>\n",
       "      <td>242300</td>\n",
       "      <td>2015.09</td>\n",
       "    </tr>\n",
       "    <tr>\n",
       "      <th>KT</th>\n",
       "      <td>8380633</td>\n",
       "      <td>368017</td>\n",
       "      <td>905887</td>\n",
       "      <td>25100</td>\n",
       "      <td>2015.09</td>\n",
       "    </tr>\n",
       "    <tr>\n",
       "      <th>LG전자</th>\n",
       "      <td>6748621</td>\n",
       "      <td>342048</td>\n",
       "      <td>1969787</td>\n",
       "      <td>114800</td>\n",
       "      <td>2015.09</td>\n",
       "    </tr>\n",
       "    <tr>\n",
       "      <th>한국지엠</th>\n",
       "      <td>6791838</td>\n",
       "      <td>596281</td>\n",
       "      <td>662799</td>\n",
       "      <td>35200</td>\n",
       "      <td>2015.09</td>\n",
       "    </tr>\n",
       "    <tr>\n",
       "      <th>현대자동차</th>\n",
       "      <td>4453752</td>\n",
       "      <td>414230</td>\n",
       "      <td>2817550</td>\n",
       "      <td>108300</td>\n",
       "      <td>2015.09</td>\n",
       "    </tr>\n",
       "  </tbody>\n",
       "</table>\n",
       "</div>"
      ],
      "text/plain": [
       "             tv   radio  newpaper  magazine     time\n",
       "firm                                                \n",
       "삼성전자   11479225  423815   6203885    242300  2015.09\n",
       "KT      8380633  368017    905887     25100  2015.09\n",
       "LG전자    6748621  342048   1969787    114800  2015.09\n",
       "한국지엠    6791838  596281    662799     35200  2015.09\n",
       "현대자동차   4453752  414230   2817550    108300  2015.09"
      ]
     },
     "execution_count": 22,
     "metadata": {},
     "output_type": "execute_result"
    }
   ],
   "source": [
    "df2015['time'] = '2015.09'\n",
    "df2015.head()"
   ]
  },
  {
   "cell_type": "code",
   "execution_count": null,
   "id": "4b5052ef",
   "metadata": {},
   "outputs": [],
   "source": []
  },
  {
   "cell_type": "code",
   "execution_count": null,
   "id": "f68ec446",
   "metadata": {},
   "outputs": [],
   "source": [
    "# 2015ad.csv ~ 2019ad.csv"
   ]
  },
  {
   "cell_type": "code",
   "execution_count": 27,
   "id": "eaf94bb9",
   "metadata": {},
   "outputs": [
    {
     "data": {
      "text/plain": [
       "['2015ad.csv', '2016ad.csv', '2017ad.csv', '2018ad.csv', '2019ad.csv']"
      ]
     },
     "execution_count": 27,
     "metadata": {},
     "output_type": "execute_result"
    }
   ],
   "source": [
    "files = [f for f in os.listdir('./eda_data_files') if 'ad.csv' in f][:-1]\n",
    "files"
   ]
  },
  {
   "cell_type": "code",
   "execution_count": null,
   "id": "00c2b52d",
   "metadata": {},
   "outputs": [],
   "source": []
  }
 ],
 "metadata": {
  "kernelspec": {
   "display_name": "Python 3 (ipykernel)",
   "language": "python",
   "name": "python3"
  },
  "language_info": {
   "codemirror_mode": {
    "name": "ipython",
    "version": 3
   },
   "file_extension": ".py",
   "mimetype": "text/x-python",
   "name": "python",
   "nbconvert_exporter": "python",
   "pygments_lexer": "ipython3",
   "version": "3.9.13"
  }
 },
 "nbformat": 4,
 "nbformat_minor": 5
}
