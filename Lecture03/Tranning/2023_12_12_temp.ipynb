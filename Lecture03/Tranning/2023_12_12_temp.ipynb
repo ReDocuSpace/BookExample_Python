{
 "cells": [
  {
   "cell_type": "code",
   "execution_count": 3,
   "metadata": {},
   "outputs": [],
   "source": [
    "import pandas as pd\n",
    "import numpy as np\n",
    "import seaborn as sns\n",
    "import matplotlib.pyplot as plt"
   ]
  },
  {
   "cell_type": "code",
   "execution_count": 16,
   "metadata": {},
   "outputs": [
    {
     "name": "stdout",
     "output_type": "stream",
     "text": [
      "<class 'pandas.core.frame.DataFrame'>\n",
      "RangeIndex: 573680 entries, 0 to 573679\n",
      "Data columns (total 39 columns):\n",
      " #   Column     Non-Null Count   Dtype  \n",
      "---  ------     --------------   -----  \n",
      " 0   상가업소번호     573680 non-null  int64  \n",
      " 1   상호명        573679 non-null  object \n",
      " 2   지점명        76674 non-null   object \n",
      " 3   상권업종대분류코드  573680 non-null  object \n",
      " 4   상권업종대분류명   573680 non-null  object \n",
      " 5   상권업종중분류코드  573680 non-null  object \n",
      " 6   상권업종중분류명   573680 non-null  object \n",
      " 7   상권업종소분류코드  573680 non-null  object \n",
      " 8   상권업종소분류명   573680 non-null  object \n",
      " 9   표준산업분류코드   539290 non-null  object \n",
      " 10  표준산업분류명    539290 non-null  object \n",
      " 11  시도코드       573680 non-null  int64  \n",
      " 12  시도명        573680 non-null  object \n",
      " 13  시군구코드      573680 non-null  int64  \n",
      " 14  시군구명       573680 non-null  object \n",
      " 15  행정동코드      573680 non-null  int64  \n",
      " 16  행정동명       573680 non-null  object \n",
      " 17  법정동코드      573680 non-null  int64  \n",
      " 18  법정동명       573680 non-null  object \n",
      " 19  지번코드       573680 non-null  int64  \n",
      " 20  대지구분코드     573680 non-null  int64  \n",
      " 21  대지구분명      573680 non-null  object \n",
      " 22  지번본번지      573680 non-null  int64  \n",
      " 23  지번부번지      474924 non-null  float64\n",
      " 24  지번주소       573680 non-null  object \n",
      " 25  도로명코드      573680 non-null  int64  \n",
      " 26  도로명        573680 non-null  object \n",
      " 27  건물본번지      573680 non-null  int64  \n",
      " 28  건물부번지      71988 non-null   float64\n",
      " 29  건물관리번호     573680 non-null  object \n",
      " 30  건물명        265608 non-null  object \n",
      " 31  도로명주소      573680 non-null  object \n",
      " 32  구우편번호      573680 non-null  int64  \n",
      " 33  신우편번호      573671 non-null  float64\n",
      " 34  동정보        50856 non-null   object \n",
      " 35  층정보        347127 non-null  object \n",
      " 36  호정보        85266 non-null   object \n",
      " 37  경도         573680 non-null  float64\n",
      " 38  위도         573680 non-null  float64\n",
      "dtypes: float64(5), int64(11), object(23)\n",
      "memory usage: 170.7+ MB\n"
     ]
    },
    {
     "name": "stderr",
     "output_type": "stream",
     "text": [
      "C:\\Users\\GJ\\AppData\\Local\\Temp\\ipykernel_10260\\51366758.py:36: UserWarning: This pattern is interpreted as a regular expression, and has match groups. To actually get the groups, use str.extract.\n",
      "  df2[df2.상호명.str.contains('(배|베)스킨라빈스|baskinrobbins')]\n",
      "C:\\Users\\GJ\\AppData\\Local\\Temp\\ipykernel_10260\\51366758.py:45: UserWarning: This pattern is interpreted as a regular expression, and has match groups. To actually get the groups, use str.extract.\n",
      "  df3 = df2[df2['상호명'].str.lower().str.contains('(배|베)스킨라빈스|baskinrobbins|던킨|dunkin')]\n",
      "C:\\Users\\GJ\\AppData\\Local\\Temp\\ipykernel_10260\\51366758.py:49: UserWarning: This pattern is interpreted as a regular expression, and has match groups. To actually get the groups, use str.extract.\n",
      "  df3[df3.상호명.str.lower().str.contains('(배|베)스킨라빈스|baskinrobbins')].상호명\n",
      "C:\\Users\\GJ\\AppData\\Local\\Temp\\ipykernel_10260\\51366758.py:50: UserWarning: This pattern is interpreted as a regular expression, and has match groups. To actually get the groups, use str.extract.\n",
      "  df3.loc[df3.상호명.str.lower().str.contains('(배|베)스킨라빈스|baskinrobbins'),'상호명']\n",
      "C:\\Users\\GJ\\AppData\\Local\\Temp\\ipykernel_10260\\51366758.py:59: UserWarning: This pattern is interpreted as a regular expression, and has match groups. To actually get the groups, use str.extract.\n",
      "  df3.loc[df3.상호명.str.lower().str.contains('(배|베)스킨라빈스|baskinrobbins'), '브랜드명'] = '배스킨라빈스'\n",
      "C:\\Users\\GJ\\AppData\\Local\\Temp\\ipykernel_10260\\51366758.py:59: SettingWithCopyWarning: \n",
      "A value is trying to be set on a copy of a slice from a DataFrame.\n",
      "Try using .loc[row_indexer,col_indexer] = value instead\n",
      "\n",
      "See the caveats in the documentation: https://pandas.pydata.org/pandas-docs/stable/user_guide/indexing.html#returning-a-view-versus-a-copy\n",
      "  df3.loc[df3.상호명.str.lower().str.contains('(배|베)스킨라빈스|baskinrobbins'), '브랜드명'] = '배스킨라빈스'\n",
      "C:\\Users\\GJ\\AppData\\Roaming\\Python\\Python311\\site-packages\\IPython\\core\\events.py:93: UserWarning: Glyph 49345 (\\N{HANGUL SYLLABLE SANG}) missing from current font.\n",
      "  func(*args, **kwargs)\n",
      "C:\\Users\\GJ\\AppData\\Roaming\\Python\\Python311\\site-packages\\IPython\\core\\events.py:93: UserWarning: Glyph 44032 (\\N{HANGUL SYLLABLE GA}) missing from current font.\n",
      "  func(*args, **kwargs)\n",
      "C:\\Users\\GJ\\AppData\\Roaming\\Python\\Python311\\site-packages\\IPython\\core\\events.py:93: UserWarning: Glyph 50629 (\\N{HANGUL SYLLABLE EOB}) missing from current font.\n",
      "  func(*args, **kwargs)\n",
      "C:\\Users\\GJ\\AppData\\Roaming\\Python\\Python311\\site-packages\\IPython\\core\\events.py:93: UserWarning: Glyph 49548 (\\N{HANGUL SYLLABLE SO}) missing from current font.\n",
      "  func(*args, **kwargs)\n",
      "C:\\Users\\GJ\\AppData\\Roaming\\Python\\Python311\\site-packages\\IPython\\core\\events.py:93: UserWarning: Glyph 48264 (\\N{HANGUL SYLLABLE BEON}) missing from current font.\n",
      "  func(*args, **kwargs)\n",
      "C:\\Users\\GJ\\AppData\\Roaming\\Python\\Python311\\site-packages\\IPython\\core\\events.py:93: UserWarning: Glyph 54840 (\\N{HANGUL SYLLABLE HO}) missing from current font.\n",
      "  func(*args, **kwargs)\n",
      "C:\\Users\\GJ\\AppData\\Roaming\\Python\\Python311\\site-packages\\IPython\\core\\events.py:93: UserWarning: Glyph 47749 (\\N{HANGUL SYLLABLE MYEONG}) missing from current font.\n",
      "  func(*args, **kwargs)\n",
      "C:\\Users\\GJ\\AppData\\Roaming\\Python\\Python311\\site-packages\\IPython\\core\\events.py:93: UserWarning: Glyph 51648 (\\N{HANGUL SYLLABLE JI}) missing from current font.\n",
      "  func(*args, **kwargs)\n",
      "C:\\Users\\GJ\\AppData\\Roaming\\Python\\Python311\\site-packages\\IPython\\core\\events.py:93: UserWarning: Glyph 51216 (\\N{HANGUL SYLLABLE JEOM}) missing from current font.\n",
      "  func(*args, **kwargs)\n",
      "C:\\Users\\GJ\\AppData\\Roaming\\Python\\Python311\\site-packages\\IPython\\core\\events.py:93: UserWarning: Glyph 44428 (\\N{HANGUL SYLLABLE GWEON}) missing from current font.\n",
      "  func(*args, **kwargs)\n",
      "C:\\Users\\GJ\\AppData\\Roaming\\Python\\Python311\\site-packages\\IPython\\core\\events.py:93: UserWarning: Glyph 51333 (\\N{HANGUL SYLLABLE JONG}) missing from current font.\n",
      "  func(*args, **kwargs)\n",
      "C:\\Users\\GJ\\AppData\\Roaming\\Python\\Python311\\site-packages\\IPython\\core\\events.py:93: UserWarning: Glyph 45824 (\\N{HANGUL SYLLABLE DAE}) missing from current font.\n",
      "  func(*args, **kwargs)\n",
      "C:\\Users\\GJ\\AppData\\Roaming\\Python\\Python311\\site-packages\\IPython\\core\\events.py:93: UserWarning: Glyph 48516 (\\N{HANGUL SYLLABLE BUN}) missing from current font.\n",
      "  func(*args, **kwargs)\n",
      "C:\\Users\\GJ\\AppData\\Roaming\\Python\\Python311\\site-packages\\IPython\\core\\events.py:93: UserWarning: Glyph 47448 (\\N{HANGUL SYLLABLE RYU}) missing from current font.\n",
      "  func(*args, **kwargs)\n",
      "C:\\Users\\GJ\\AppData\\Roaming\\Python\\Python311\\site-packages\\IPython\\core\\events.py:93: UserWarning: Glyph 53076 (\\N{HANGUL SYLLABLE KO}) missing from current font.\n",
      "  func(*args, **kwargs)\n",
      "C:\\Users\\GJ\\AppData\\Roaming\\Python\\Python311\\site-packages\\IPython\\core\\events.py:93: UserWarning: Glyph 46300 (\\N{HANGUL SYLLABLE DEU}) missing from current font.\n",
      "  func(*args, **kwargs)\n",
      "C:\\Users\\GJ\\AppData\\Roaming\\Python\\Python311\\site-packages\\IPython\\core\\events.py:93: UserWarning: Glyph 51473 (\\N{HANGUL SYLLABLE JUNG}) missing from current font.\n",
      "  func(*args, **kwargs)\n",
      "C:\\Users\\GJ\\AppData\\Roaming\\Python\\Python311\\site-packages\\IPython\\core\\events.py:93: UserWarning: Glyph 54364 (\\N{HANGUL SYLLABLE PYO}) missing from current font.\n",
      "  func(*args, **kwargs)\n",
      "C:\\Users\\GJ\\AppData\\Roaming\\Python\\Python311\\site-packages\\IPython\\core\\events.py:93: UserWarning: Glyph 51456 (\\N{HANGUL SYLLABLE JUN}) missing from current font.\n",
      "  func(*args, **kwargs)\n",
      "C:\\Users\\GJ\\AppData\\Roaming\\Python\\Python311\\site-packages\\IPython\\core\\events.py:93: UserWarning: Glyph 49328 (\\N{HANGUL SYLLABLE SAN}) missing from current font.\n",
      "  func(*args, **kwargs)\n",
      "C:\\Users\\GJ\\AppData\\Roaming\\Python\\Python311\\site-packages\\IPython\\core\\events.py:93: UserWarning: Glyph 49884 (\\N{HANGUL SYLLABLE SI}) missing from current font.\n",
      "  func(*args, **kwargs)\n",
      "C:\\Users\\GJ\\AppData\\Roaming\\Python\\Python311\\site-packages\\IPython\\core\\events.py:93: UserWarning: Glyph 46020 (\\N{HANGUL SYLLABLE DO}) missing from current font.\n",
      "  func(*args, **kwargs)\n",
      "C:\\Users\\GJ\\AppData\\Roaming\\Python\\Python311\\site-packages\\IPython\\core\\events.py:93: UserWarning: Glyph 44400 (\\N{HANGUL SYLLABLE GUN}) missing from current font.\n",
      "  func(*args, **kwargs)\n",
      "C:\\Users\\GJ\\AppData\\Roaming\\Python\\Python311\\site-packages\\IPython\\core\\events.py:93: UserWarning: Glyph 44396 (\\N{HANGUL SYLLABLE GU}) missing from current font.\n",
      "  func(*args, **kwargs)\n",
      "C:\\Users\\GJ\\AppData\\Roaming\\Python\\Python311\\site-packages\\IPython\\core\\events.py:93: UserWarning: Glyph 54665 (\\N{HANGUL SYLLABLE HAENG}) missing from current font.\n",
      "  func(*args, **kwargs)\n",
      "C:\\Users\\GJ\\AppData\\Roaming\\Python\\Python311\\site-packages\\IPython\\core\\events.py:93: UserWarning: Glyph 51221 (\\N{HANGUL SYLLABLE JEONG}) missing from current font.\n",
      "  func(*args, **kwargs)\n",
      "C:\\Users\\GJ\\AppData\\Roaming\\Python\\Python311\\site-packages\\IPython\\core\\events.py:93: UserWarning: Glyph 46041 (\\N{HANGUL SYLLABLE DONG}) missing from current font.\n",
      "  func(*args, **kwargs)\n",
      "C:\\Users\\GJ\\AppData\\Roaming\\Python\\Python311\\site-packages\\IPython\\core\\events.py:93: UserWarning: Glyph 48277 (\\N{HANGUL SYLLABLE BEOB}) missing from current font.\n",
      "  func(*args, **kwargs)\n",
      "C:\\Users\\GJ\\AppData\\Roaming\\Python\\Python311\\site-packages\\IPython\\core\\events.py:93: UserWarning: Glyph 48376 (\\N{HANGUL SYLLABLE BON}) missing from current font.\n",
      "  func(*args, **kwargs)\n",
      "C:\\Users\\GJ\\AppData\\Roaming\\Python\\Python311\\site-packages\\IPython\\core\\events.py:93: UserWarning: Glyph 48512 (\\N{HANGUL SYLLABLE BU}) missing from current font.\n",
      "  func(*args, **kwargs)\n",
      "C:\\Users\\GJ\\AppData\\Roaming\\Python\\Python311\\site-packages\\IPython\\core\\events.py:93: UserWarning: Glyph 51452 (\\N{HANGUL SYLLABLE JU}) missing from current font.\n",
      "  func(*args, **kwargs)\n",
      "C:\\Users\\GJ\\AppData\\Roaming\\Python\\Python311\\site-packages\\IPython\\core\\events.py:93: UserWarning: Glyph 47196 (\\N{HANGUL SYLLABLE RO}) missing from current font.\n",
      "  func(*args, **kwargs)\n",
      "C:\\Users\\GJ\\AppData\\Roaming\\Python\\Python311\\site-packages\\IPython\\core\\events.py:93: UserWarning: Glyph 44148 (\\N{HANGUL SYLLABLE GEON}) missing from current font.\n",
      "  func(*args, **kwargs)\n",
      "C:\\Users\\GJ\\AppData\\Roaming\\Python\\Python311\\site-packages\\IPython\\core\\events.py:93: UserWarning: Glyph 47932 (\\N{HANGUL SYLLABLE MUL}) missing from current font.\n",
      "  func(*args, **kwargs)\n",
      "C:\\Users\\GJ\\AppData\\Roaming\\Python\\Python311\\site-packages\\IPython\\core\\events.py:93: UserWarning: Glyph 44288 (\\N{HANGUL SYLLABLE GWAN}) missing from current font.\n",
      "  func(*args, **kwargs)\n",
      "C:\\Users\\GJ\\AppData\\Roaming\\Python\\Python311\\site-packages\\IPython\\core\\events.py:93: UserWarning: Glyph 47532 (\\N{HANGUL SYLLABLE RI}) missing from current font.\n",
      "  func(*args, **kwargs)\n",
      "C:\\Users\\GJ\\AppData\\Roaming\\Python\\Python311\\site-packages\\IPython\\core\\events.py:93: UserWarning: Glyph 50864 (\\N{HANGUL SYLLABLE U}) missing from current font.\n",
      "  func(*args, **kwargs)\n",
      "C:\\Users\\GJ\\AppData\\Roaming\\Python\\Python311\\site-packages\\IPython\\core\\events.py:93: UserWarning: Glyph 54200 (\\N{HANGUL SYLLABLE PYEON}) missing from current font.\n",
      "  func(*args, **kwargs)\n",
      "C:\\Users\\GJ\\AppData\\Roaming\\Python\\Python311\\site-packages\\IPython\\core\\events.py:93: UserWarning: Glyph 49888 (\\N{HANGUL SYLLABLE SIN}) missing from current font.\n",
      "  func(*args, **kwargs)\n",
      "C:\\Users\\GJ\\AppData\\Roaming\\Python\\Python311\\site-packages\\IPython\\core\\events.py:93: UserWarning: Glyph 48372 (\\N{HANGUL SYLLABLE BO}) missing from current font.\n",
      "  func(*args, **kwargs)\n",
      "C:\\Users\\GJ\\AppData\\Roaming\\Python\\Python311\\site-packages\\IPython\\core\\events.py:93: UserWarning: Glyph 52789 (\\N{HANGUL SYLLABLE CEUNG}) missing from current font.\n",
      "  func(*args, **kwargs)\n",
      "C:\\Users\\GJ\\AppData\\Roaming\\Python\\Python311\\site-packages\\IPython\\core\\events.py:93: UserWarning: Glyph 44221 (\\N{HANGUL SYLLABLE GYEONG}) missing from current font.\n",
      "  func(*args, **kwargs)\n",
      "C:\\Users\\GJ\\AppData\\Roaming\\Python\\Python311\\site-packages\\IPython\\core\\events.py:93: UserWarning: Glyph 50948 (\\N{HANGUL SYLLABLE WI}) missing from current font.\n",
      "  func(*args, **kwargs)\n",
      "C:\\Users\\GJ\\AppData\\Roaming\\Python\\Python311\\site-packages\\IPython\\core\\pylabtools.py:152: UserWarning: Glyph 49345 (\\N{HANGUL SYLLABLE SANG}) missing from current font.\n",
      "  fig.canvas.print_figure(bytes_io, **kw)\n",
      "C:\\Users\\GJ\\AppData\\Roaming\\Python\\Python311\\site-packages\\IPython\\core\\pylabtools.py:152: UserWarning: Glyph 44032 (\\N{HANGUL SYLLABLE GA}) missing from current font.\n",
      "  fig.canvas.print_figure(bytes_io, **kw)\n",
      "C:\\Users\\GJ\\AppData\\Roaming\\Python\\Python311\\site-packages\\IPython\\core\\pylabtools.py:152: UserWarning: Glyph 50629 (\\N{HANGUL SYLLABLE EOB}) missing from current font.\n",
      "  fig.canvas.print_figure(bytes_io, **kw)\n",
      "C:\\Users\\GJ\\AppData\\Roaming\\Python\\Python311\\site-packages\\IPython\\core\\pylabtools.py:152: UserWarning: Glyph 49548 (\\N{HANGUL SYLLABLE SO}) missing from current font.\n",
      "  fig.canvas.print_figure(bytes_io, **kw)\n",
      "C:\\Users\\GJ\\AppData\\Roaming\\Python\\Python311\\site-packages\\IPython\\core\\pylabtools.py:152: UserWarning: Glyph 48264 (\\N{HANGUL SYLLABLE BEON}) missing from current font.\n",
      "  fig.canvas.print_figure(bytes_io, **kw)\n",
      "C:\\Users\\GJ\\AppData\\Roaming\\Python\\Python311\\site-packages\\IPython\\core\\pylabtools.py:152: UserWarning: Glyph 54840 (\\N{HANGUL SYLLABLE HO}) missing from current font.\n",
      "  fig.canvas.print_figure(bytes_io, **kw)\n",
      "C:\\Users\\GJ\\AppData\\Roaming\\Python\\Python311\\site-packages\\IPython\\core\\pylabtools.py:152: UserWarning: Glyph 47749 (\\N{HANGUL SYLLABLE MYEONG}) missing from current font.\n",
      "  fig.canvas.print_figure(bytes_io, **kw)\n",
      "C:\\Users\\GJ\\AppData\\Roaming\\Python\\Python311\\site-packages\\IPython\\core\\pylabtools.py:152: UserWarning: Glyph 51648 (\\N{HANGUL SYLLABLE JI}) missing from current font.\n",
      "  fig.canvas.print_figure(bytes_io, **kw)\n",
      "C:\\Users\\GJ\\AppData\\Roaming\\Python\\Python311\\site-packages\\IPython\\core\\pylabtools.py:152: UserWarning: Glyph 51216 (\\N{HANGUL SYLLABLE JEOM}) missing from current font.\n",
      "  fig.canvas.print_figure(bytes_io, **kw)\n",
      "C:\\Users\\GJ\\AppData\\Roaming\\Python\\Python311\\site-packages\\IPython\\core\\pylabtools.py:152: UserWarning: Glyph 44428 (\\N{HANGUL SYLLABLE GWEON}) missing from current font.\n",
      "  fig.canvas.print_figure(bytes_io, **kw)\n",
      "C:\\Users\\GJ\\AppData\\Roaming\\Python\\Python311\\site-packages\\IPython\\core\\pylabtools.py:152: UserWarning: Glyph 51333 (\\N{HANGUL SYLLABLE JONG}) missing from current font.\n",
      "  fig.canvas.print_figure(bytes_io, **kw)\n",
      "C:\\Users\\GJ\\AppData\\Roaming\\Python\\Python311\\site-packages\\IPython\\core\\pylabtools.py:152: UserWarning: Glyph 45824 (\\N{HANGUL SYLLABLE DAE}) missing from current font.\n",
      "  fig.canvas.print_figure(bytes_io, **kw)\n",
      "C:\\Users\\GJ\\AppData\\Roaming\\Python\\Python311\\site-packages\\IPython\\core\\pylabtools.py:152: UserWarning: Glyph 48516 (\\N{HANGUL SYLLABLE BUN}) missing from current font.\n",
      "  fig.canvas.print_figure(bytes_io, **kw)\n",
      "C:\\Users\\GJ\\AppData\\Roaming\\Python\\Python311\\site-packages\\IPython\\core\\pylabtools.py:152: UserWarning: Glyph 47448 (\\N{HANGUL SYLLABLE RYU}) missing from current font.\n",
      "  fig.canvas.print_figure(bytes_io, **kw)\n",
      "C:\\Users\\GJ\\AppData\\Roaming\\Python\\Python311\\site-packages\\IPython\\core\\pylabtools.py:152: UserWarning: Glyph 53076 (\\N{HANGUL SYLLABLE KO}) missing from current font.\n",
      "  fig.canvas.print_figure(bytes_io, **kw)\n",
      "C:\\Users\\GJ\\AppData\\Roaming\\Python\\Python311\\site-packages\\IPython\\core\\pylabtools.py:152: UserWarning: Glyph 46300 (\\N{HANGUL SYLLABLE DEU}) missing from current font.\n",
      "  fig.canvas.print_figure(bytes_io, **kw)\n",
      "C:\\Users\\GJ\\AppData\\Roaming\\Python\\Python311\\site-packages\\IPython\\core\\pylabtools.py:152: UserWarning: Glyph 51473 (\\N{HANGUL SYLLABLE JUNG}) missing from current font.\n",
      "  fig.canvas.print_figure(bytes_io, **kw)\n",
      "C:\\Users\\GJ\\AppData\\Roaming\\Python\\Python311\\site-packages\\IPython\\core\\pylabtools.py:152: UserWarning: Glyph 54364 (\\N{HANGUL SYLLABLE PYO}) missing from current font.\n",
      "  fig.canvas.print_figure(bytes_io, **kw)\n",
      "C:\\Users\\GJ\\AppData\\Roaming\\Python\\Python311\\site-packages\\IPython\\core\\pylabtools.py:152: UserWarning: Glyph 51456 (\\N{HANGUL SYLLABLE JUN}) missing from current font.\n",
      "  fig.canvas.print_figure(bytes_io, **kw)\n",
      "C:\\Users\\GJ\\AppData\\Roaming\\Python\\Python311\\site-packages\\IPython\\core\\pylabtools.py:152: UserWarning: Glyph 49328 (\\N{HANGUL SYLLABLE SAN}) missing from current font.\n",
      "  fig.canvas.print_figure(bytes_io, **kw)\n",
      "C:\\Users\\GJ\\AppData\\Roaming\\Python\\Python311\\site-packages\\IPython\\core\\pylabtools.py:152: UserWarning: Glyph 49884 (\\N{HANGUL SYLLABLE SI}) missing from current font.\n",
      "  fig.canvas.print_figure(bytes_io, **kw)\n",
      "C:\\Users\\GJ\\AppData\\Roaming\\Python\\Python311\\site-packages\\IPython\\core\\pylabtools.py:152: UserWarning: Glyph 46020 (\\N{HANGUL SYLLABLE DO}) missing from current font.\n",
      "  fig.canvas.print_figure(bytes_io, **kw)\n",
      "C:\\Users\\GJ\\AppData\\Roaming\\Python\\Python311\\site-packages\\IPython\\core\\pylabtools.py:152: UserWarning: Glyph 44400 (\\N{HANGUL SYLLABLE GUN}) missing from current font.\n",
      "  fig.canvas.print_figure(bytes_io, **kw)\n",
      "C:\\Users\\GJ\\AppData\\Roaming\\Python\\Python311\\site-packages\\IPython\\core\\pylabtools.py:152: UserWarning: Glyph 44396 (\\N{HANGUL SYLLABLE GU}) missing from current font.\n",
      "  fig.canvas.print_figure(bytes_io, **kw)\n",
      "C:\\Users\\GJ\\AppData\\Roaming\\Python\\Python311\\site-packages\\IPython\\core\\pylabtools.py:152: UserWarning: Glyph 54665 (\\N{HANGUL SYLLABLE HAENG}) missing from current font.\n",
      "  fig.canvas.print_figure(bytes_io, **kw)\n",
      "C:\\Users\\GJ\\AppData\\Roaming\\Python\\Python311\\site-packages\\IPython\\core\\pylabtools.py:152: UserWarning: Glyph 51221 (\\N{HANGUL SYLLABLE JEONG}) missing from current font.\n",
      "  fig.canvas.print_figure(bytes_io, **kw)\n",
      "C:\\Users\\GJ\\AppData\\Roaming\\Python\\Python311\\site-packages\\IPython\\core\\pylabtools.py:152: UserWarning: Glyph 46041 (\\N{HANGUL SYLLABLE DONG}) missing from current font.\n",
      "  fig.canvas.print_figure(bytes_io, **kw)\n",
      "C:\\Users\\GJ\\AppData\\Roaming\\Python\\Python311\\site-packages\\IPython\\core\\pylabtools.py:152: UserWarning: Glyph 48277 (\\N{HANGUL SYLLABLE BEOB}) missing from current font.\n",
      "  fig.canvas.print_figure(bytes_io, **kw)\n",
      "C:\\Users\\GJ\\AppData\\Roaming\\Python\\Python311\\site-packages\\IPython\\core\\pylabtools.py:152: UserWarning: Glyph 48376 (\\N{HANGUL SYLLABLE BON}) missing from current font.\n",
      "  fig.canvas.print_figure(bytes_io, **kw)\n",
      "C:\\Users\\GJ\\AppData\\Roaming\\Python\\Python311\\site-packages\\IPython\\core\\pylabtools.py:152: UserWarning: Glyph 48512 (\\N{HANGUL SYLLABLE BU}) missing from current font.\n",
      "  fig.canvas.print_figure(bytes_io, **kw)\n",
      "C:\\Users\\GJ\\AppData\\Roaming\\Python\\Python311\\site-packages\\IPython\\core\\pylabtools.py:152: UserWarning: Glyph 51452 (\\N{HANGUL SYLLABLE JU}) missing from current font.\n",
      "  fig.canvas.print_figure(bytes_io, **kw)\n",
      "C:\\Users\\GJ\\AppData\\Roaming\\Python\\Python311\\site-packages\\IPython\\core\\pylabtools.py:152: UserWarning: Glyph 47196 (\\N{HANGUL SYLLABLE RO}) missing from current font.\n",
      "  fig.canvas.print_figure(bytes_io, **kw)\n",
      "C:\\Users\\GJ\\AppData\\Roaming\\Python\\Python311\\site-packages\\IPython\\core\\pylabtools.py:152: UserWarning: Glyph 44148 (\\N{HANGUL SYLLABLE GEON}) missing from current font.\n",
      "  fig.canvas.print_figure(bytes_io, **kw)\n",
      "C:\\Users\\GJ\\AppData\\Roaming\\Python\\Python311\\site-packages\\IPython\\core\\pylabtools.py:152: UserWarning: Glyph 47932 (\\N{HANGUL SYLLABLE MUL}) missing from current font.\n",
      "  fig.canvas.print_figure(bytes_io, **kw)\n",
      "C:\\Users\\GJ\\AppData\\Roaming\\Python\\Python311\\site-packages\\IPython\\core\\pylabtools.py:152: UserWarning: Glyph 44288 (\\N{HANGUL SYLLABLE GWAN}) missing from current font.\n",
      "  fig.canvas.print_figure(bytes_io, **kw)\n",
      "C:\\Users\\GJ\\AppData\\Roaming\\Python\\Python311\\site-packages\\IPython\\core\\pylabtools.py:152: UserWarning: Glyph 47532 (\\N{HANGUL SYLLABLE RI}) missing from current font.\n",
      "  fig.canvas.print_figure(bytes_io, **kw)\n",
      "C:\\Users\\GJ\\AppData\\Roaming\\Python\\Python311\\site-packages\\IPython\\core\\pylabtools.py:152: UserWarning: Glyph 50864 (\\N{HANGUL SYLLABLE U}) missing from current font.\n",
      "  fig.canvas.print_figure(bytes_io, **kw)\n",
      "C:\\Users\\GJ\\AppData\\Roaming\\Python\\Python311\\site-packages\\IPython\\core\\pylabtools.py:152: UserWarning: Glyph 54200 (\\N{HANGUL SYLLABLE PYEON}) missing from current font.\n",
      "  fig.canvas.print_figure(bytes_io, **kw)\n",
      "C:\\Users\\GJ\\AppData\\Roaming\\Python\\Python311\\site-packages\\IPython\\core\\pylabtools.py:152: UserWarning: Glyph 49888 (\\N{HANGUL SYLLABLE SIN}) missing from current font.\n",
      "  fig.canvas.print_figure(bytes_io, **kw)\n",
      "C:\\Users\\GJ\\AppData\\Roaming\\Python\\Python311\\site-packages\\IPython\\core\\pylabtools.py:152: UserWarning: Glyph 48372 (\\N{HANGUL SYLLABLE BO}) missing from current font.\n",
      "  fig.canvas.print_figure(bytes_io, **kw)\n",
      "C:\\Users\\GJ\\AppData\\Roaming\\Python\\Python311\\site-packages\\IPython\\core\\pylabtools.py:152: UserWarning: Glyph 52789 (\\N{HANGUL SYLLABLE CEUNG}) missing from current font.\n",
      "  fig.canvas.print_figure(bytes_io, **kw)\n",
      "C:\\Users\\GJ\\AppData\\Roaming\\Python\\Python311\\site-packages\\IPython\\core\\pylabtools.py:152: UserWarning: Glyph 44221 (\\N{HANGUL SYLLABLE GYEONG}) missing from current font.\n",
      "  fig.canvas.print_figure(bytes_io, **kw)\n",
      "C:\\Users\\GJ\\AppData\\Roaming\\Python\\Python311\\site-packages\\IPython\\core\\pylabtools.py:152: UserWarning: Glyph 50948 (\\N{HANGUL SYLLABLE WI}) missing from current font.\n",
      "  fig.canvas.print_figure(bytes_io, **kw)\n"
     ]
    },
    {
     "data": {
      "image/png": "[encoded data removed]",
      "text/plain": [
       "<Figure size 640x480 with 1 Axes>"
      ]
     },
     "metadata": {},
     "output_type": "display_data"
    }
   ],
   "source": [
    "df = pd.read_csv('D:\\BookExample_Python\\Lecture03\\Tranning\\eda_data_files\\상가업소정보_201912_01.csv', sep='|')\n",
    "\n",
    "df.head(3)\n",
    "df.info()\n",
    "df.isnull().sum()\n",
    "df.isnull().sum()/len(df)\n",
    "#(df.isnull().sum()/len(df)).plot(kind='bar')\n",
    "\n",
    "# nan 비율높은 상위 6\n",
    "(df.isnull().sum()/len(df)).sort_values(ascending=False).head(6)\n",
    "\n",
    "\n",
    "df1 = df[['상호명', '상권업종대분류명', '상권업종중분류명', '상권업종소분류명',\n",
    "       '시도명', '시군구명', '행정동명', '법정동명',\n",
    "       '도로명주소', '경도', '위도']].copy()\n",
    "\n",
    "# 결측치 제거\n",
    "# .dropna(): 이 메서드는 결측치를 삭제하는데 사용됩니다. \n",
    "# 여기서는 행(row)을 기준으로 결측치를 삭제합니다.\n",
    "# 방향확인 잘하기 axis=0 은 행방향, 연산 수행\n",
    "df1.dropna(axis=0, inplace=True)\n",
    "\n",
    "df2 = df1[df1['시도명'] == '서울특별시']\n",
    "df2.head()\n",
    "\n",
    "# 배\n",
    "df2[df2.상호명 == '배스킨라빈스']\n",
    "\n",
    "# 베\n",
    "df2[df2.상호명 == '베스킨라빈스']\n",
    "\n",
    "# 영어\n",
    "df2[df2.상호명 == 'baskinrobbins']\n",
    "\n",
    "# contains 포함하고잇으면 찾아줌\n",
    "df2[df2.상호명.str.contains('(배|베)스킨라빈스|baskinrobbins')]\n",
    "\n",
    "df2[df2['상호명'] == '던킨']\n",
    "df2[df2['상호명'] == '던킨도넛']\n",
    "df2[df2['상호명'] == '던킨도너츠']\n",
    "df2[df2['상호명'] == 'dunkindoonuts']\n",
    "\n",
    "df2[df2['상호명'].str.lower() == 'dunkindoonuts']\n",
    "df2[df2['상호명'].str.lower().str.contains('던킨|dunkin')]\n",
    "df3 = df2[df2['상호명'].str.lower().str.contains('(배|베)스킨라빈스|baskinrobbins|던킨|dunkin')]\n",
    "df3.head()\n",
    "\n",
    "# 위랑 같은거\n",
    "df3[df3.상호명.str.lower().str.contains('(배|베)스킨라빈스|baskinrobbins')].상호명\n",
    "df3.loc[df3.상호명.str.lower().str.contains('(배|베)스킨라빈스|baskinrobbins'),'상호명']\n",
    "\n",
    "# 파이썬 용법으로 넣기  실행안됨\n",
    "#df3['브랜드명'] = [i for i in df3.상호명 if i in ['배스킨라빈스', '베스킨라빈스', 'baskinrobbins'] else np.nan]\n",
    "#df3['브랜드명'] = [i for i in df3.상호명 if i in ['배스킨라빈스', '베스킨라빈스', 'baskinrobbins'] else np.nan for i in df3.상호명]\n",
    "#df3['브랜드명'] = [i for i in df3.상호명 if i in ['배스킨라빈스', '베스킨라빈스', 'baskinrobbins'] else np.nan]\n",
    "\n",
    "#df3.drop('브랜드명', axis=1 ,inplace=True)\n",
    "\n",
    "df3.loc[df3.상호명.str.lower().str.contains('(배|베)스킨라빈스|baskinrobbins'), '브랜드명'] = '배스킨라빈스'\n",
    "\n"
   ]
  },
  {
   "cell_type": "code",
   "execution_count": 17,
   "metadata": {},
   "outputs": [
    {
     "data": {
      "text/html": [
       "<div>\n",
       "<style scoped>\n",
       "    .dataframe tbody tr th:only-of-type {\n",
       "        vertical-align: middle;\n",
       "    }\n",
       "\n",
       "    .dataframe tbody tr th {\n",
       "        vertical-align: top;\n",
       "    }\n",
       "\n",
       "    .dataframe thead th {\n",
       "        text-align: right;\n",
       "    }\n",
       "</style>\n",
       "<table border=\"1\" class=\"dataframe\">\n",
       "  <thead>\n",
       "    <tr style=\"text-align: right;\">\n",
       "      <th></th>\n",
       "      <th>상호명</th>\n",
       "      <th>상권업종대분류명</th>\n",
       "      <th>상권업종중분류명</th>\n",
       "      <th>상권업종소분류명</th>\n",
       "      <th>시도명</th>\n",
       "      <th>시군구명</th>\n",
       "      <th>행정동명</th>\n",
       "      <th>법정동명</th>\n",
       "      <th>도로명주소</th>\n",
       "      <th>경도</th>\n",
       "      <th>위도</th>\n",
       "      <th>브랜드명</th>\n",
       "    </tr>\n",
       "  </thead>\n",
       "  <tbody>\n",
       "    <tr>\n",
       "      <th>76</th>\n",
       "      <td>배스킨라빈스</td>\n",
       "      <td>음식</td>\n",
       "      <td>패스트푸드</td>\n",
       "      <td>아이스크림판매</td>\n",
       "      <td>서울특별시</td>\n",
       "      <td>관악구</td>\n",
       "      <td>청룡동</td>\n",
       "      <td>봉천동</td>\n",
       "      <td>서울특별시 관악구 관악로 161</td>\n",
       "      <td>126.952166</td>\n",
       "      <td>37.479599</td>\n",
       "      <td>배스킨라빈스</td>\n",
       "    </tr>\n",
       "    <tr>\n",
       "      <th>1167</th>\n",
       "      <td>던킨도너츠</td>\n",
       "      <td>음식</td>\n",
       "      <td>패스트푸드</td>\n",
       "      <td>도너츠전문</td>\n",
       "      <td>서울특별시</td>\n",
       "      <td>서대문구</td>\n",
       "      <td>신촌동</td>\n",
       "      <td>대현동</td>\n",
       "      <td>서울특별시 서대문구 이화여대길 56</td>\n",
       "      <td>126.945369</td>\n",
       "      <td>37.559263</td>\n",
       "      <td>NaN</td>\n",
       "    </tr>\n",
       "    <tr>\n",
       "      <th>1819</th>\n",
       "      <td>던킨도너츠테크노마트점</td>\n",
       "      <td>음식</td>\n",
       "      <td>패스트푸드</td>\n",
       "      <td>도너츠전문</td>\n",
       "      <td>서울특별시</td>\n",
       "      <td>광진구</td>\n",
       "      <td>구의3동</td>\n",
       "      <td>구의동</td>\n",
       "      <td>서울특별시 광진구 광나루로56길 85</td>\n",
       "      <td>127.095681</td>\n",
       "      <td>37.535713</td>\n",
       "      <td>NaN</td>\n",
       "    </tr>\n",
       "    <tr>\n",
       "      <th>2164</th>\n",
       "      <td>베스킨라빈스</td>\n",
       "      <td>음식</td>\n",
       "      <td>패스트푸드</td>\n",
       "      <td>아이스크림판매</td>\n",
       "      <td>서울특별시</td>\n",
       "      <td>마포구</td>\n",
       "      <td>서교동</td>\n",
       "      <td>서교동</td>\n",
       "      <td>서울특별시 마포구 와우산로 88</td>\n",
       "      <td>126.923809</td>\n",
       "      <td>37.552104</td>\n",
       "      <td>배스킨라빈스</td>\n",
       "    </tr>\n",
       "  </tbody>\n",
       "</table>\n",
       "</div>"
      ],
      "text/plain": [
       "              상호명 상권업종대분류명 상권업종중분류명 상권업종소분류명    시도명  시군구명  행정동명 법정동명  \\\n",
       "76         배스킨라빈스       음식    패스트푸드  아이스크림판매  서울특별시   관악구   청룡동  봉천동   \n",
       "1167        던킨도너츠       음식    패스트푸드    도너츠전문  서울특별시  서대문구   신촌동  대현동   \n",
       "1819  던킨도너츠테크노마트점       음식    패스트푸드    도너츠전문  서울특별시   광진구  구의3동  구의동   \n",
       "2164       베스킨라빈스       음식    패스트푸드  아이스크림판매  서울특별시   마포구   서교동  서교동   \n",
       "\n",
       "                     도로명주소          경도         위도    브랜드명  \n",
       "76       서울특별시 관악구 관악로 161  126.952166  37.479599  배스킨라빈스  \n",
       "1167   서울특별시 서대문구 이화여대길 56  126.945369  37.559263     NaN  \n",
       "1819  서울특별시 광진구 광나루로56길 85  127.095681  37.535713     NaN  \n",
       "2164     서울특별시 마포구 와우산로 88  126.923809  37.552104  배스킨라빈스  "
      ]
     },
     "execution_count": 17,
     "metadata": {},
     "output_type": "execute_result"
    }
   ],
   "source": [
    "df3.head(4)"
   ]
  },
  {
   "cell_type": "code",
   "execution_count": null,
   "metadata": {},
   "outputs": [],
   "source": [
    "# 베스킨라빈스, 던킨도너츠의 서울시 구별 매장수를 비교"
   ]
  },
  {
   "cell_type": "code",
   "execution_count": null,
   "metadata": {},
   "outputs": [],
   "source": [
    "# 서울특별시만 추출"
   ]
  },
  {
   "cell_type": "code",
   "execution_count": null,
   "metadata": {},
   "outputs": [],
   "source": []
  },
  {
   "cell_type": "code",
   "execution_count": null,
   "metadata": {},
   "outputs": [],
   "source": []
  },
  {
   "cell_type": "code",
   "execution_count": null,
   "metadata": {},
   "outputs": [],
   "source": [
    "\n"
   ]
  },
  {
   "cell_type": "code",
   "execution_count": null,
   "metadata": {},
   "outputs": [],
   "source": []
  },
  {
   "cell_type": "code",
   "execution_count": null,
   "metadata": {},
   "outputs": [],
   "source": [
    "hjj"
   ]
  },
  {
   "cell_type": "code",
   "execution_count": null,
   "metadata": {},
   "outputs": [],
   "source": []
  },
  {
   "cell_type": "code",
   "execution_count": null,
   "metadata": {},
   "outputs": [],
   "source": []
  },
  {
   "cell_type": "code",
   "execution_count": null,
   "metadata": {},
   "outputs": [],
   "source": []
  },
  {
   "cell_type": "code",
   "execution_count": null,
   "metadata": {},
   "outputs": [],
   "source": []
  },
  {
   "cell_type": "code",
   "execution_count": null,
   "metadata": {},
   "outputs": [],
   "source": []
  },
  {
   "cell_type": "code",
   "execution_count": null,
   "metadata": {},
   "outputs": [],
   "source": []
  },
  {
   "cell_type": "code",
   "execution_count": null,
   "metadata": {},
   "outputs": [],
   "source": []
  },
  {
   "cell_type": "code",
   "execution_count": null,
   "metadata": {},
   "outputs": [],
   "source": [
    "df3.info()"
   ]
  },
  {
   "cell_type": "code",
   "execution_count": null,
   "metadata": {},
   "outputs": [],
   "source": []
  },
  {
   "cell_type": "code",
   "execution_count": null,
   "metadata": {},
   "outputs": [],
   "source": []
  },
  {
   "cell_type": "code",
   "execution_count": null,
   "metadata": {},
   "outputs": [],
   "source": [
    "df3.head(2)"
   ]
  },
  {
   "cell_type": "code",
   "execution_count": null,
   "metadata": {},
   "outputs": [],
   "source": [
    "# 상호명 통합하기"
   ]
  },
  {
   "cell_type": "code",
   "execution_count": null,
   "metadata": {},
   "outputs": [],
   "source": [
    "# 이전 문제\n",
    "df3.head(19)"
   ]
  },
  {
   "cell_type": "code",
   "execution_count": null,
   "metadata": {},
   "outputs": [],
   "source": []
  },
  {
   "cell_type": "code",
   "execution_count": null,
   "metadata": {},
   "outputs": [],
   "source": []
  },
  {
   "cell_type": "code",
   "execution_count": null,
   "metadata": {},
   "outputs": [],
   "source": [
    "df3.info()"
   ]
  },
  {
   "cell_type": "code",
   "execution_count": null,
   "metadata": {},
   "outputs": [],
   "source": [
    "# 판다스로 구현하기\n",
    "\n",
    "#df3.loc[df3.상호명.str.lower().str.contains('(배|베)스킨라빈스|baskinrobbins'), '브랜드명'] = '배스킨라빈스'\n",
    "\n",
    "#df3['브랜드명'] = [i for i in df3.상호명 if i in ['배스킨라빈스', '베스킨라빈스', 'baskinrobbins'] else np.nan]"
   ]
  },
  {
   "cell_type": "code",
   "execution_count": null,
   "metadata": {},
   "outputs": [],
   "source": [
    "df3.head()"
   ]
  },
  {
   "cell_type": "code",
   "execution_count": null,
   "metadata": {},
   "outputs": [],
   "source": []
  },
  {
   "cell_type": "code",
   "execution_count": null,
   "metadata": {},
   "outputs": [],
   "source": [
    "df3.iloc[2]['브랜드명']\n",
    "df3['브랜드명'].isnull()"
   ]
  },
  {
   "cell_type": "code",
   "execution_count": null,
   "metadata": {},
   "outputs": [],
   "source": [
    "df3.브랜드명.isnull().sum()"
   ]
  },
  {
   "cell_type": "code",
   "execution_count": null,
   "metadata": {},
   "outputs": [],
   "source": [
    "df3.브랜드명.fillna('던킨도너츠', inplace=True)"
   ]
  },
  {
   "cell_type": "code",
   "execution_count": null,
   "metadata": {},
   "outputs": [],
   "source": [
    "df3['브랜드명'].replace(np.nan, '던킨도너츠', inplace=True)"
   ]
  },
  {
   "cell_type": "code",
   "execution_count": null,
   "metadata": {},
   "outputs": [],
   "source": [
    "df3.info"
   ]
  },
  {
   "cell_type": "code",
   "execution_count": null,
   "metadata": {},
   "outputs": [],
   "source": [
    "df3.info()"
   ]
  },
  {
   "cell_type": "code",
   "execution_count": null,
   "metadata": {},
   "outputs": [],
   "source": [
    "df3.브랜드명.value_counts()"
   ]
  },
  {
   "cell_type": "code",
   "execution_count": null,
   "metadata": {},
   "outputs": [],
   "source": [
    "# 목록 확인\n",
    "df3['상권업종대분류명'].value_counts()"
   ]
  },
  {
   "cell_type": "code",
   "execution_count": null,
   "metadata": {},
   "outputs": [],
   "source": [
    "df3['상권업종대분류명'].isin(['생활서비스', '소매'])"
   ]
  },
  {
   "cell_type": "code",
   "execution_count": null,
   "metadata": {},
   "outputs": [],
   "source": [
    "df3[df3['상권업종대분류명'].isin(['생활서비스', '소매'])]"
   ]
  },
  {
   "cell_type": "code",
   "execution_count": null,
   "metadata": {},
   "outputs": [],
   "source": [
    "# 전처리 된 데이터 df4 <-\n",
    "df4 = df3[~df3['상권업종대분류명'].isin(['생활서비스', '소매'])]"
   ]
  },
  {
   "cell_type": "code",
   "execution_count": null,
   "metadata": {},
   "outputs": [],
   "source": [
    "df4['상권업종대분류명'].value_counts"
   ]
  },
  {
   "cell_type": "code",
   "execution_count": null,
   "metadata": {},
   "outputs": [],
   "source": [
    "df4['상권업종대분류명'].value_counts()"
   ]
  },
  {
   "cell_type": "code",
   "execution_count": null,
   "metadata": {},
   "outputs": [],
   "source": [
    "df4['브랜드명'].value_counts()"
   ]
  },
  {
   "cell_type": "code",
   "execution_count": null,
   "metadata": {},
   "outputs": [],
   "source": [
    "df4.브랜드명.value_counts()/len(df4)"
   ]
  },
  {
   "cell_type": "code",
   "execution_count": null,
   "metadata": {},
   "outputs": [],
   "source": [
    "df4.브랜드명.value_counts(normalize=True)"
   ]
  },
  {
   "cell_type": "code",
   "execution_count": null,
   "metadata": {},
   "outputs": [],
   "source": [
    "df4.head(2)"
   ]
  },
  {
   "cell_type": "code",
   "execution_count": null,
   "metadata": {},
   "outputs": [],
   "source": [
    "df4.groupby(['브랜드명', '시군구명']).count()  # multi groupby > 세부적으로 그룹생성 > multi"
   ]
  },
  {
   "cell_type": "code",
   "execution_count": null,
   "metadata": {},
   "outputs": [],
   "source": [
    "# 왠지 모르겠는데 던킨이 nan으로됨\n"
   ]
  },
  {
   "cell_type": "code",
   "execution_count": null,
   "metadata": {},
   "outputs": [],
   "source": [
    "df4.groupby(['브랜드명', '시군구명']).count().경도     # multi groupby > 세부적으로 그룹생성 > multi index"
   ]
  },
  {
   "cell_type": "code",
   "execution_count": null,
   "metadata": {},
   "outputs": [],
   "source": [
    "# 왜안되지\n",
    "df4.loc[df.index == 'nan', '브랜드명'] = '던킨도너츠'"
   ]
  },
  {
   "cell_type": "code",
   "execution_count": null,
   "metadata": {},
   "outputs": [],
   "source": [
    "df4.groupby(['브랜드명', '시군구명']).count().경도.unstack()"
   ]
  },
  {
   "cell_type": "code",
   "execution_count": null,
   "metadata": {},
   "outputs": [],
   "source": [
    "plt.figure(figsize=(15,4))\n",
    "sns.countplot(data=df4, x='시군구명')\n",
    "plt.show()"
   ]
  },
  {
   "cell_type": "code",
   "execution_count": null,
   "metadata": {},
   "outputs": [],
   "source": [
    "plt.figure(figsize=(15,4))\n",
    "sns.countplot(data=df4, x='시군구명', hue='브랜드명')\n",
    "plt.show()"
   ]
  },
  {
   "cell_type": "code",
   "execution_count": null,
   "metadata": {},
   "outputs": [],
   "source": [
    "sns.scatterplot(data=df4, x='경도', y='위도', hue='브랜드명')"
   ]
  },
  {
   "cell_type": "code",
   "execution_count": null,
   "metadata": {},
   "outputs": [],
   "source": [
    "import folium"
   ]
  },
  {
   "cell_type": "code",
   "execution_count": null,
   "metadata": {},
   "outputs": [],
   "source": [
    "lat = df4.위도.mean()\n",
    "long = df4.경도.mean()\n",
    "\n",
    "folium.Map([lat,long])"
   ]
  },
  {
   "cell_type": "code",
   "execution_count": null,
   "metadata": {},
   "outputs": [],
   "source": [
    "# map 객체 생성\n",
    "m = folium.Map([lat,long])\n",
    "\n",
    "# popup\n",
    "# tooltip = 마우스가 올라갔을 때\n",
    "# 맵에 마커만들기\n",
    "folium.Marker([lat, long], \n",
    "              popup='<i>베스킨라빈스</i>',\n",
    "              tootip = '베스킨라빈스').add_to(m)\n",
    "m"
   ]
  },
  {
   "cell_type": "code",
   "execution_count": null,
   "metadata": {},
   "outputs": [],
   "source": [
    "# map 객체 생성\n",
    "m = folium.Map([lat,long], zoom_start=12)\n",
    "# 초기줌값\n",
    "df4_sample = df4.sample(30)\n",
    "\n",
    "# popup\n",
    "# tooltip = 마우스가 올라갔을 때\n",
    "# 맵에 마커만들기\n",
    "# 2탄\n",
    "for i in df4_sample.index:\n",
    "    sub_lat = df4_sample.loc[i,'위도']\n",
    "    sub_long = df4_sample.loc[i,'경도']\n",
    "    title = df4_sample.loc[i,'상호명'] + '-' + df4_sample.loc[i,'도로명주소']\n",
    "    \n",
    "    icon_color = 'blue'\n",
    "    if df4_sample.loc[i,'브랜드명'] == '던킨도너츠':\n",
    "        icon_color = 'red'\n",
    "    folium.Marker([sub_lat, sub_long],\n",
    "        icon=folium.Icon(color=icon_color),\n",
    "        popup=f'<i>{title}</i>',\n",
    "        tooltip=title).add_to(m)\n",
    "m"
   ]
  },
  {
   "cell_type": "code",
   "execution_count": null,
   "metadata": {},
   "outputs": [],
   "source": [
    "# 강사님 ver\n",
    "# map객체 생성\n",
    "m = folium.Map([lat, long], zoom_start=12)\n",
    "\n",
    "df4_sample = df4.sample(30)\n",
    "\n",
    "# map에 marker를 추가\n",
    "for i in df4_sample.index:\n",
    "  sub_lat = df4_sample.loc[i, '위도']\n",
    "  sub_long = df4_sample.loc[i, '경도']\n",
    "  title = df4_sample.loc[i, '상호명'] + '-' + df4_sample.loc[i, '도로명주소']\n",
    "\n",
    "  icon_color ='blue'\n",
    "  if df4_sample.loc[i, '브랜드명'] == '던킨도너츠':\n",
    "    icon_color='red'\n",
    "\n",
    "  folium.Marker([sub_lat, sub_long],\n",
    "                icon=folium.Icon(color=icon_color),\n",
    "                popup=f'<i>{title}</i>',\n",
    "                tooltip=title).add_to(m)\n",
    "m\n"
   ]
  },
  {
   "cell_type": "code",
   "execution_count": null,
   "metadata": {},
   "outputs": [],
   "source": [
    "# import folium\n",
    "\n",
    "# # Folium 지도 생성\n",
    "# m = folium.Map(location=[45.5236, -122.6750], zoom_start=13)\n",
    "\n",
    "# # 사용자 지정 아이콘 생성\n",
    "# icon = folium.CustomIcon(icon_image='path_to_image.png', icon_size=(30, 30))\n",
    "\n",
    "# # 마커 생성\n",
    "# folium.Marker([45.5236, -122.6750], icon=icon).add_to(m)\n",
    "\n",
    "# # 지도 표시\n",
    "# m"
   ]
  },
  {
   "cell_type": "code",
   "execution_count": null,
   "metadata": {},
   "outputs": [],
   "source": [
    "# icon=folium.Icon(color=icon_color) 로 아이콘 컬러를 변경합니다.\n",
    "\n",
    "from folium.plugins import MarkerCluster  # 수정 : markercluster import\n",
    "\n",
    "m = folium.Map([lat, long], zoom_start=12)\n",
    "marker_cluster = MarkerCluster().add_to(m)   # 수정 : markercluster를 m에 추가, 변수에 저장\n",
    "\n",
    "for i in df4_sample.index:\n",
    "\n",
    "    sub_lat = df4_sample.loc[i, \"위도\"]\n",
    "    sub_long = df4_sample.loc[i, \"경도\"]\n",
    "    title = df4_sample.loc[i, \"상호명\"] + \" - \" + df4_sample.loc[i, \"도로명주소\"]\n",
    "\n",
    "    icon_color = \"blue\"\n",
    "    if df4_sample.loc[i, \"브랜드명\"] == \"던킨도너츠\":\n",
    "        icon_color = \"red\"\n",
    "\n",
    "    folium.Marker(\n",
    "        [sub_lat, sub_long],\n",
    "        icon=folium.Icon(color=icon_color),\n",
    "        popup=f'<i>{title}</i>',\n",
    "        tooltip=title).add_to(marker_cluster)   # 수정 : markercluster에 추가..\n",
    "\n",
    "m.save('index.html')\n",
    "m\n",
    "\n",
    "# marker의 수에 따라 cluster의 색이 달라짐.."
   ]
  },
  {
   "cell_type": "code",
   "execution_count": null,
   "metadata": {},
   "outputs": [],
   "source": []
  }
 ],
 "metadata": {
  "kernelspec": {
   "display_name": "base",
   "language": "python",
   "name": "python3"
  },
  "language_info": {
   "codemirror_mode": {
    "name": "ipython",
    "version": 3
   },
   "file_extension": ".py",
   "mimetype": "text/x-python",
   "name": "python",
   "nbconvert_exporter": "python",
   "pygments_lexer": "ipython3",
   "version": "3.11.5"
  }
 },
 "nbformat": 4,
 "nbformat_minor": 2
}
